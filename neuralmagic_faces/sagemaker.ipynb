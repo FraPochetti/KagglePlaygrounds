{
 "cells": [
  {
   "cell_type": "code",
   "execution_count": 3,
   "id": "6edb3a75",
   "metadata": {},
   "outputs": [],
   "source": [
    "from sklearn import datasets\n",
    "iris = datasets.load_iris()\n",
    "digits = datasets.load_digits()"
   ]
  },
  {
   "cell_type": "code",
   "execution_count": 6,
   "id": "e02c2136",
   "metadata": {},
   "outputs": [
    {
     "data": {
      "text/plain": [
       "(1797, 64)"
      ]
     },
     "execution_count": 6,
     "metadata": {},
     "output_type": "execute_result"
    }
   ],
   "source": [
    "digits.data.shape"
   ]
  },
  {
   "cell_type": "code",
   "execution_count": 8,
   "id": "abd1b281",
   "metadata": {},
   "outputs": [
    {
     "data": {
      "text/plain": [
       "SVC(C=100.0, gamma=0.001)"
      ]
     },
     "execution_count": 8,
     "metadata": {},
     "output_type": "execute_result"
    }
   ],
   "source": [
    "from sklearn import svm\n",
    "clf = svm.SVC(gamma=0.001, C=100.)\n",
    "clf.fit(digits.data[:-1], digits.target[:-1])"
   ]
  },
  {
   "cell_type": "code",
   "execution_count": 16,
   "id": "d252cfe6",
   "metadata": {},
   "outputs": [
    {
     "data": {
      "text/plain": [
       "array([8])"
      ]
     },
     "execution_count": 16,
     "metadata": {},
     "output_type": "execute_result"
    }
   ],
   "source": [
    "clf.predict(digits.data[-1:])"
   ]
  },
  {
   "cell_type": "code",
   "execution_count": 20,
   "id": "031d5e1c",
   "metadata": {},
   "outputs": [
    {
     "data": {
      "text/plain": [
       "array([[ 0.,  0., 10., 14.,  8.,  1.,  0.,  0.,  0.,  2., 16., 14.,  6.,\n",
       "         1.,  0.,  0.,  0.,  0., 15., 15.,  8., 15.,  0.,  0.,  0.,  0.,\n",
       "         5., 16., 16., 10.,  0.,  0.,  0.,  0., 12., 15., 15., 12.,  0.,\n",
       "         0.,  0.,  4., 16.,  6.,  4., 16.,  6.,  0.,  0.,  8., 16., 10.,\n",
       "         8., 16.,  8.,  0.,  0.,  1.,  8., 12., 14., 12.,  1.,  0.]])"
      ]
     },
     "execution_count": 20,
     "metadata": {},
     "output_type": "execute_result"
    }
   ],
   "source": [
    "digits.data[-1:]"
   ]
  },
  {
   "cell_type": "code",
   "execution_count": 1,
   "id": "3f8382bf",
   "metadata": {},
   "outputs": [],
   "source": [
    "#import json\n",
    "#json.loads('{\"data\": [0, 0, 10, 14, 8, 1, 0, 0, 0, 2, 16, 14, 6, 1, 0, 0, 0, 0, 15, 15, 8, 15, 0, 0, 0, 0, 5, 16, 16, 10, 0, 0, 0, 0, 12, 15, 15, 12, 0, 0, 0, 4, 16, 6, 4, 16, 6, 0, 0, 8, 16, 10, 8, 16, 8, 0, 0, 1, 8, 12, 14, 12, 1, 0]}')"
   ]
  },
  {
   "cell_type": "code",
   "execution_count": 13,
   "id": "aea6e739",
   "metadata": {},
   "outputs": [
    {
     "data": {
      "text/plain": [
       "['smtest.joblib']"
      ]
     },
     "execution_count": 13,
     "metadata": {},
     "output_type": "execute_result"
    }
   ],
   "source": [
    "from joblib import dump, load\n",
    "dump(clf, 'smtest.joblib') "
   ]
  },
  {
   "cell_type": "code",
   "execution_count": 3,
   "id": "afd1c2c8",
   "metadata": {},
   "outputs": [],
   "source": [
    "#!pip install 'sagemaker[local]' --upgrade"
   ]
  },
  {
   "cell_type": "code",
   "execution_count": null,
   "id": "f44a99f5",
   "metadata": {},
   "outputs": [],
   "source": [
    "tar -cvpzf model.tar.gz model.joblib"
   ]
  },
  {
   "cell_type": "code",
   "execution_count": 4,
   "id": "9815dabc",
   "metadata": {},
   "outputs": [],
   "source": [
    "import sagemaker"
   ]
  },
  {
   "cell_type": "code",
   "execution_count": 5,
   "id": "1102c484",
   "metadata": {},
   "outputs": [],
   "source": [
    "container=\"257446244580.dkr.ecr.eu-west-1.amazonaws.com/custom-images:neuralmagic\""
   ]
  },
  {
   "cell_type": "code",
   "execution_count": 1,
   "id": "fa5fc91c",
   "metadata": {},
   "outputs": [],
   "source": [
    "import sagemaker \n",
    "import boto3\n",
    "from sagemaker import get_execution_role \n",
    "\n",
    "role = get_execution_role()"
   ]
  },
  {
   "cell_type": "code",
   "execution_count": 2,
   "id": "a10a8895",
   "metadata": {},
   "outputs": [],
   "source": [
    "from sagemaker.local import LocalSession\n",
    "\n",
    "session = sagemaker.Session() #LocalSession()\n",
    "#session.config = {'local': {'local_code': True}}"
   ]
  },
  {
   "cell_type": "code",
   "execution_count": 12,
   "id": "e3fe4ec8",
   "metadata": {},
   "outputs": [
    {
     "name": "stdout",
     "output_type": "stream",
     "text": [
      "sagemaker-eu-west-1-257446244580\n"
     ]
    }
   ],
   "source": [
    "default_bucket = session.default_bucket()\n",
    "print(default_bucket)"
   ]
  },
  {
   "cell_type": "code",
   "execution_count": 13,
   "id": "461b7b3f",
   "metadata": {},
   "outputs": [
    {
     "name": "stdout",
     "output_type": "stream",
     "text": [
      "s3://sagemaker-eu-west-1-257446244580/neural_magic/model.tar.gz\n"
     ]
    }
   ],
   "source": [
    "model_uri = session.upload_data(path=\"/home/ec2-user/SageMaker/SMTest/opt/ml/model/model.tar.gz\", key_prefix=\"neural_magic\")\n",
    "print(model_uri)"
   ]
  },
  {
   "cell_type": "code",
   "execution_count": 6,
   "id": "0e4eaeae",
   "metadata": {},
   "outputs": [],
   "source": [
    "model = sagemaker.model.Model(image_uri=\"257446244580.dkr.ecr.eu-west-1.amazonaws.com/custom-images:neuralmagic\",\n",
    "                              name=\"neural-magic\",\n",
    "                              model_data=\"s3://sagemaker-eu-west-1-257446244580/neural_magic/model.tar.gz\",\n",
    "                              role=role,\n",
    "                              sagemaker_session=session,\n",
    "                              predictor_cls=sagemaker.Predictor\n",
    "                             )"
   ]
  },
  {
   "cell_type": "code",
   "execution_count": 8,
   "id": "176f43c9",
   "metadata": {},
   "outputs": [
    {
     "name": "stderr",
     "output_type": "stream",
     "text": [
      "Using already existing model: neural-magic\n"
     ]
    },
    {
     "name": "stdout",
     "output_type": "stream",
     "text": [
      "---!"
     ]
    }
   ],
   "source": [
    "predictor = model.deploy(\n",
    "    initial_instance_count=1, \n",
    "    instance_type='ml.m5.xlarge', \n",
    "    endpoint_name=\"neural-magic\")"
   ]
  },
  {
   "cell_type": "code",
   "execution_count": 9,
   "id": "9720a175",
   "metadata": {},
   "outputs": [
    {
     "data": {
      "text/plain": [
       "<sagemaker.predictor.Predictor at 0x7f3c849f9320>"
      ]
     },
     "execution_count": 9,
     "metadata": {},
     "output_type": "execute_result"
    }
   ],
   "source": [
    "predictor"
   ]
  },
  {
   "cell_type": "code",
   "execution_count": 9,
   "id": "a3e6b986",
   "metadata": {},
   "outputs": [],
   "source": [
    "# from sagemaker import Predictor\n",
    "# predictor = Predictor(endpoint_name=model.endpoint_name, )\n",
    "# predictor"
   ]
  },
  {
   "cell_type": "code",
   "execution_count": 10,
   "id": "32670974",
   "metadata": {},
   "outputs": [
    {
     "data": {
      "text/plain": [
       "b'8'"
      ]
     },
     "execution_count": 10,
     "metadata": {},
     "output_type": "execute_result"
    }
   ],
   "source": [
    "predictor.predict('{\"data\": [0, 0, 10, 14, 8, 1, 0, 0, 0, 2, 16, 14, 6, 1, 0, 0, 0, 0, 15, 15, 8, 15, 0, 0, 0, 0, 5, 16, 16, 10, 0, 0, 0, 0, 12, 15, 15, 12, 0, 0, 0, 4, 16, 6, 4, 16, 6, 0, 0, 8, 16, 10, 8, 16, 8, 0, 0, 1, 8, 12, 14, 12, 1, 0]}')"
   ]
  },
  {
   "cell_type": "code",
   "execution_count": 12,
   "id": "c20249d5",
   "metadata": {},
   "outputs": [],
   "source": [
    "predictor.delete_endpoint()"
   ]
  }
 ],
 "metadata": {
  "kernelspec": {
   "display_name": "conda_python3",
   "language": "python",
   "name": "conda_python3"
  },
  "language_info": {
   "codemirror_mode": {
    "name": "ipython",
    "version": 3
   },
   "file_extension": ".py",
   "mimetype": "text/x-python",
   "name": "python",
   "nbconvert_exporter": "python",
   "pygments_lexer": "ipython3",
   "version": "3.6.13"
  }
 },
 "nbformat": 4,
 "nbformat_minor": 5
}
