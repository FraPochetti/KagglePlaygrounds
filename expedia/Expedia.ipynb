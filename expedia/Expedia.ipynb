{
 "cells": [
  {
   "cell_type": "markdown",
   "metadata": {},
   "source": [
    "# Bulding an Expedia recommender engine with Amazon Personalize"
   ]
  },
  {
   "cell_type": "markdown",
   "metadata": {},
   "source": [
    "### Imports"
   ]
  },
  {
   "cell_type": "code",
   "execution_count": 1,
   "metadata": {
    "ExecuteTime": {
     "end_time": "2019-12-05T06:28:11.768961Z",
     "start_time": "2019-12-05T06:28:10.488347Z"
    }
   },
   "outputs": [],
   "source": [
    "import pandas as pd\n",
    "from functools import reduce\n",
    "import random\n",
    "import boto3"
   ]
  },
  {
   "cell_type": "markdown",
   "metadata": {},
   "source": [
    "### Helper functions"
   ]
  },
  {
   "cell_type": "code",
   "execution_count": 2,
   "metadata": {},
   "outputs": [],
   "source": [
    "def extract_feature(d, idx, col):\n",
    "    a = d.groupby([idx, col])[idx].nunique().to_frame('col')\n",
    "    a = a.reset_index().drop('col', axis=1).pivot(index=idx, columns=col,values=col)\n",
    "    a = a.astype('str')\n",
    "    a['new'] = a.apply('|'.join, axis=1)\n",
    "    a[col] = a.new.apply(lambda x: x.replace('|nan', '').replace('nan|', '').replace('.0', ''))\n",
    "    return a.loc[:,[col]].reset_index()\n",
    "\n",
    "def aggregate_features(d, idx, l, new):\n",
    "    u = []\n",
    "    for el in zip([idx]*len(l), l):\n",
    "        print(*el)\n",
    "        u.append(extract_feature(d, *el))\n",
    "    \n",
    "    u = reduce(lambda x, y: pd.merge(x, y, on = idx), u)\n",
    "    u.rename(columns={idx: new}, inplace=True)\n",
    "    u.columns = [c.upper() for c in u.columns]\n",
    "    return u\n",
    "    \n",
    "def upload_to_s3(b, f): boto3.Session().resource('s3').Bucket(b).Object(f).upload_file(f)"
   ]
  },
  {
   "cell_type": "markdown",
   "metadata": {},
   "source": [
    "### Loading data sample and select only transactions ending up in a booking"
   ]
  },
  {
   "cell_type": "code",
   "execution_count": 3,
   "metadata": {
    "ExecuteTime": {
     "end_time": "2019-12-05T06:28:37.311923Z",
     "start_time": "2019-12-05T06:28:11.771730Z"
    }
   },
   "outputs": [],
   "source": [
    "p = 0.03  # 3% of the lines\n",
    "# keep the header, then take only 3% of lines\n",
    "# if random from [0,1] interval is greater than 0.03 the row will be skipped\n",
    "df = pd.read_csv(\n",
    "         '/home/ec2-user/SageMaker/data/train.csv',\n",
    "         header=0, \n",
    "         skiprows=lambda i: i>0 and random.random() > p\n",
    ")"
   ]
  },
  {
   "cell_type": "code",
   "execution_count": 4,
   "metadata": {
    "ExecuteTime": {
     "end_time": "2019-12-05T06:28:37.325886Z",
     "start_time": "2019-12-05T06:28:37.313950Z"
    }
   },
   "outputs": [
    {
     "data": {
      "text/plain": [
       "(1129142, 24)"
      ]
     },
     "execution_count": 4,
     "metadata": {},
     "output_type": "execute_result"
    }
   ],
   "source": [
    "df.shape"
   ]
  },
  {
   "cell_type": "code",
   "execution_count": 5,
   "metadata": {
    "ExecuteTime": {
     "end_time": "2019-12-05T06:28:37.356801Z",
     "start_time": "2019-12-05T06:28:37.328882Z"
    }
   },
   "outputs": [
    {
     "data": {
      "text/html": [
       "<div>\n",
       "<style scoped>\n",
       "    .dataframe tbody tr th:only-of-type {\n",
       "        vertical-align: middle;\n",
       "    }\n",
       "\n",
       "    .dataframe tbody tr th {\n",
       "        vertical-align: top;\n",
       "    }\n",
       "\n",
       "    .dataframe thead th {\n",
       "        text-align: right;\n",
       "    }\n",
       "</style>\n",
       "<table border=\"1\" class=\"dataframe\">\n",
       "  <thead>\n",
       "    <tr style=\"text-align: right;\">\n",
       "      <th></th>\n",
       "      <th>0</th>\n",
       "      <th>1</th>\n",
       "      <th>2</th>\n",
       "      <th>3</th>\n",
       "      <th>4</th>\n",
       "    </tr>\n",
       "  </thead>\n",
       "  <tbody>\n",
       "    <tr>\n",
       "      <th>date_time</th>\n",
       "      <td>2014-08-09 18:05:16</td>\n",
       "      <td>2014-11-23 16:42:42</td>\n",
       "      <td>2014-10-10 17:01:59</td>\n",
       "      <td>2013-01-10 18:30:27</td>\n",
       "      <td>2013-12-02 02:08:28</td>\n",
       "    </tr>\n",
       "    <tr>\n",
       "      <th>site_name</th>\n",
       "      <td>2</td>\n",
       "      <td>30</td>\n",
       "      <td>2</td>\n",
       "      <td>37</td>\n",
       "      <td>24</td>\n",
       "    </tr>\n",
       "    <tr>\n",
       "      <th>posa_continent</th>\n",
       "      <td>3</td>\n",
       "      <td>4</td>\n",
       "      <td>3</td>\n",
       "      <td>1</td>\n",
       "      <td>2</td>\n",
       "    </tr>\n",
       "    <tr>\n",
       "      <th>user_location_country</th>\n",
       "      <td>66</td>\n",
       "      <td>195</td>\n",
       "      <td>66</td>\n",
       "      <td>69</td>\n",
       "      <td>3</td>\n",
       "    </tr>\n",
       "    <tr>\n",
       "      <th>user_location_region</th>\n",
       "      <td>442</td>\n",
       "      <td>991</td>\n",
       "      <td>462</td>\n",
       "      <td>923</td>\n",
       "      <td>64</td>\n",
       "    </tr>\n",
       "    <tr>\n",
       "      <th>user_location_city</th>\n",
       "      <td>35390</td>\n",
       "      <td>47725</td>\n",
       "      <td>41898</td>\n",
       "      <td>23649</td>\n",
       "      <td>12576</td>\n",
       "    </tr>\n",
       "    <tr>\n",
       "      <th>orig_destination_distance</th>\n",
       "      <td>913.193</td>\n",
       "      <td>NaN</td>\n",
       "      <td>2671.96</td>\n",
       "      <td>NaN</td>\n",
       "      <td>NaN</td>\n",
       "    </tr>\n",
       "    <tr>\n",
       "      <th>user_id</th>\n",
       "      <td>93</td>\n",
       "      <td>1048</td>\n",
       "      <td>1482</td>\n",
       "      <td>2140</td>\n",
       "      <td>2451</td>\n",
       "    </tr>\n",
       "    <tr>\n",
       "      <th>is_mobile</th>\n",
       "      <td>0</td>\n",
       "      <td>0</td>\n",
       "      <td>0</td>\n",
       "      <td>1</td>\n",
       "      <td>0</td>\n",
       "    </tr>\n",
       "    <tr>\n",
       "      <th>is_package</th>\n",
       "      <td>0</td>\n",
       "      <td>0</td>\n",
       "      <td>1</td>\n",
       "      <td>0</td>\n",
       "      <td>0</td>\n",
       "    </tr>\n",
       "    <tr>\n",
       "      <th>channel</th>\n",
       "      <td>3</td>\n",
       "      <td>9</td>\n",
       "      <td>0</td>\n",
       "      <td>0</td>\n",
       "      <td>4</td>\n",
       "    </tr>\n",
       "    <tr>\n",
       "      <th>srch_ci</th>\n",
       "      <td>2014-11-23</td>\n",
       "      <td>2015-06-26</td>\n",
       "      <td>2015-03-31</td>\n",
       "      <td>2013-04-06</td>\n",
       "      <td>2014-03-03</td>\n",
       "    </tr>\n",
       "    <tr>\n",
       "      <th>srch_co</th>\n",
       "      <td>2014-11-28</td>\n",
       "      <td>2015-06-28</td>\n",
       "      <td>2015-04-07</td>\n",
       "      <td>2013-04-07</td>\n",
       "      <td>2014-03-04</td>\n",
       "    </tr>\n",
       "    <tr>\n",
       "      <th>srch_adults_cnt</th>\n",
       "      <td>2</td>\n",
       "      <td>2</td>\n",
       "      <td>2</td>\n",
       "      <td>2</td>\n",
       "      <td>2</td>\n",
       "    </tr>\n",
       "    <tr>\n",
       "      <th>srch_children_cnt</th>\n",
       "      <td>0</td>\n",
       "      <td>0</td>\n",
       "      <td>0</td>\n",
       "      <td>2</td>\n",
       "      <td>0</td>\n",
       "    </tr>\n",
       "    <tr>\n",
       "      <th>srch_rm_cnt</th>\n",
       "      <td>1</td>\n",
       "      <td>1</td>\n",
       "      <td>1</td>\n",
       "      <td>1</td>\n",
       "      <td>1</td>\n",
       "    </tr>\n",
       "    <tr>\n",
       "      <th>srch_destination_id</th>\n",
       "      <td>14984</td>\n",
       "      <td>8803</td>\n",
       "      <td>8855</td>\n",
       "      <td>22494</td>\n",
       "      <td>18488</td>\n",
       "    </tr>\n",
       "    <tr>\n",
       "      <th>srch_destination_type_id</th>\n",
       "      <td>1</td>\n",
       "      <td>1</td>\n",
       "      <td>1</td>\n",
       "      <td>6</td>\n",
       "      <td>6</td>\n",
       "    </tr>\n",
       "    <tr>\n",
       "      <th>is_booking</th>\n",
       "      <td>0</td>\n",
       "      <td>0</td>\n",
       "      <td>0</td>\n",
       "      <td>0</td>\n",
       "      <td>0</td>\n",
       "    </tr>\n",
       "    <tr>\n",
       "      <th>cnt</th>\n",
       "      <td>1</td>\n",
       "      <td>1</td>\n",
       "      <td>3</td>\n",
       "      <td>1</td>\n",
       "      <td>1</td>\n",
       "    </tr>\n",
       "    <tr>\n",
       "      <th>hotel_continent</th>\n",
       "      <td>2</td>\n",
       "      <td>3</td>\n",
       "      <td>2</td>\n",
       "      <td>6</td>\n",
       "      <td>6</td>\n",
       "    </tr>\n",
       "    <tr>\n",
       "      <th>hotel_country</th>\n",
       "      <td>50</td>\n",
       "      <td>151</td>\n",
       "      <td>50</td>\n",
       "      <td>204</td>\n",
       "      <td>105</td>\n",
       "    </tr>\n",
       "    <tr>\n",
       "      <th>hotel_market</th>\n",
       "      <td>1457</td>\n",
       "      <td>69</td>\n",
       "      <td>213</td>\n",
       "      <td>1776</td>\n",
       "      <td>29</td>\n",
       "    </tr>\n",
       "    <tr>\n",
       "      <th>hotel_cluster</th>\n",
       "      <td>80</td>\n",
       "      <td>59</td>\n",
       "      <td>55</td>\n",
       "      <td>43</td>\n",
       "      <td>78</td>\n",
       "    </tr>\n",
       "  </tbody>\n",
       "</table>\n",
       "</div>"
      ],
      "text/plain": [
       "                                             0                    1  \\\n",
       "date_time                  2014-08-09 18:05:16  2014-11-23 16:42:42   \n",
       "site_name                                    2                   30   \n",
       "posa_continent                               3                    4   \n",
       "user_location_country                       66                  195   \n",
       "user_location_region                       442                  991   \n",
       "user_location_city                       35390                47725   \n",
       "orig_destination_distance              913.193                  NaN   \n",
       "user_id                                     93                 1048   \n",
       "is_mobile                                    0                    0   \n",
       "is_package                                   0                    0   \n",
       "channel                                      3                    9   \n",
       "srch_ci                             2014-11-23           2015-06-26   \n",
       "srch_co                             2014-11-28           2015-06-28   \n",
       "srch_adults_cnt                              2                    2   \n",
       "srch_children_cnt                            0                    0   \n",
       "srch_rm_cnt                                  1                    1   \n",
       "srch_destination_id                      14984                 8803   \n",
       "srch_destination_type_id                     1                    1   \n",
       "is_booking                                   0                    0   \n",
       "cnt                                          1                    1   \n",
       "hotel_continent                              2                    3   \n",
       "hotel_country                               50                  151   \n",
       "hotel_market                              1457                   69   \n",
       "hotel_cluster                               80                   59   \n",
       "\n",
       "                                             2                    3  \\\n",
       "date_time                  2014-10-10 17:01:59  2013-01-10 18:30:27   \n",
       "site_name                                    2                   37   \n",
       "posa_continent                               3                    1   \n",
       "user_location_country                       66                   69   \n",
       "user_location_region                       462                  923   \n",
       "user_location_city                       41898                23649   \n",
       "orig_destination_distance              2671.96                  NaN   \n",
       "user_id                                   1482                 2140   \n",
       "is_mobile                                    0                    1   \n",
       "is_package                                   1                    0   \n",
       "channel                                      0                    0   \n",
       "srch_ci                             2015-03-31           2013-04-06   \n",
       "srch_co                             2015-04-07           2013-04-07   \n",
       "srch_adults_cnt                              2                    2   \n",
       "srch_children_cnt                            0                    2   \n",
       "srch_rm_cnt                                  1                    1   \n",
       "srch_destination_id                       8855                22494   \n",
       "srch_destination_type_id                     1                    6   \n",
       "is_booking                                   0                    0   \n",
       "cnt                                          3                    1   \n",
       "hotel_continent                              2                    6   \n",
       "hotel_country                               50                  204   \n",
       "hotel_market                               213                 1776   \n",
       "hotel_cluster                               55                   43   \n",
       "\n",
       "                                             4  \n",
       "date_time                  2013-12-02 02:08:28  \n",
       "site_name                                   24  \n",
       "posa_continent                               2  \n",
       "user_location_country                        3  \n",
       "user_location_region                        64  \n",
       "user_location_city                       12576  \n",
       "orig_destination_distance                  NaN  \n",
       "user_id                                   2451  \n",
       "is_mobile                                    0  \n",
       "is_package                                   0  \n",
       "channel                                      4  \n",
       "srch_ci                             2014-03-03  \n",
       "srch_co                             2014-03-04  \n",
       "srch_adults_cnt                              2  \n",
       "srch_children_cnt                            0  \n",
       "srch_rm_cnt                                  1  \n",
       "srch_destination_id                      18488  \n",
       "srch_destination_type_id                     6  \n",
       "is_booking                                   0  \n",
       "cnt                                          1  \n",
       "hotel_continent                              6  \n",
       "hotel_country                              105  \n",
       "hotel_market                                29  \n",
       "hotel_cluster                               78  "
      ]
     },
     "execution_count": 5,
     "metadata": {},
     "output_type": "execute_result"
    }
   ],
   "source": [
    "df.head().T"
   ]
  },
  {
   "cell_type": "code",
   "execution_count": 6,
   "metadata": {
    "ExecuteTime": {
     "end_time": "2019-12-05T06:28:37.409660Z",
     "start_time": "2019-12-05T06:28:37.358799Z"
    }
   },
   "outputs": [
    {
     "data": {
      "text/plain": [
       "(522553,)"
      ]
     },
     "execution_count": 6,
     "metadata": {},
     "output_type": "execute_result"
    }
   ],
   "source": [
    "df.user_id.unique().shape"
   ]
  },
  {
   "cell_type": "code",
   "execution_count": 7,
   "metadata": {
    "ExecuteTime": {
     "end_time": "2019-12-05T06:28:37.424622Z",
     "start_time": "2019-12-05T06:28:37.411655Z"
    }
   },
   "outputs": [
    {
     "data": {
      "text/plain": [
       "89913"
      ]
     },
     "execution_count": 7,
     "metadata": {},
     "output_type": "execute_result"
    }
   ],
   "source": [
    "df.is_booking.sum()"
   ]
  },
  {
   "cell_type": "code",
   "execution_count": 8,
   "metadata": {
    "ExecuteTime": {
     "end_time": "2019-12-05T06:28:37.439582Z",
     "start_time": "2019-12-05T06:28:37.426618Z"
    }
   },
   "outputs": [
    {
     "data": {
      "text/plain": [
       "0.0796294885851381"
      ]
     },
     "execution_count": 8,
     "metadata": {},
     "output_type": "execute_result"
    }
   ],
   "source": [
    "df.is_booking.sum()/len(df)"
   ]
  },
  {
   "cell_type": "code",
   "execution_count": 9,
   "metadata": {
    "ExecuteTime": {
     "end_time": "2019-12-05T06:28:37.514380Z",
     "start_time": "2019-12-05T06:28:37.442573Z"
    }
   },
   "outputs": [],
   "source": [
    "df = df.loc[df.is_booking==1,:]"
   ]
  },
  {
   "cell_type": "code",
   "execution_count": 10,
   "metadata": {
    "ExecuteTime": {
     "end_time": "2019-12-05T06:28:37.521362Z",
     "start_time": "2019-12-05T06:28:37.516375Z"
    }
   },
   "outputs": [
    {
     "data": {
      "text/plain": [
       "(89913, 24)"
      ]
     },
     "execution_count": 10,
     "metadata": {},
     "output_type": "execute_result"
    }
   ],
   "source": [
    "df.shape"
   ]
  },
  {
   "cell_type": "markdown",
   "metadata": {},
   "source": [
    "### Getting user features"
   ]
  },
  {
   "cell_type": "code",
   "execution_count": 11,
   "metadata": {
    "ExecuteTime": {
     "end_time": "2019-12-05T06:28:37.528343Z",
     "start_time": "2019-12-05T06:28:37.523357Z"
    }
   },
   "outputs": [],
   "source": [
    "user_feats = ['site_name',\n",
    "             'posa_continent',\n",
    "             'user_location_country',\n",
    "             'user_location_region']"
   ]
  },
  {
   "cell_type": "code",
   "execution_count": 12,
   "metadata": {},
   "outputs": [
    {
     "name": "stdout",
     "output_type": "stream",
     "text": [
      "user_id site_name\n",
      "user_id posa_continent\n",
      "user_id user_location_country\n",
      "user_id user_location_region\n"
     ]
    }
   ],
   "source": [
    "users = aggregate_features(df, 'user_id', user_feats, 'USER_ID')"
   ]
  },
  {
   "cell_type": "code",
   "execution_count": 13,
   "metadata": {
    "ExecuteTime": {
     "end_time": "2019-12-05T06:28:47.697113Z",
     "start_time": "2019-12-05T06:28:37.554281Z"
    }
   },
   "outputs": [
    {
     "data": {
      "text/plain": [
       "(78664, 5)"
      ]
     },
     "execution_count": 13,
     "metadata": {},
     "output_type": "execute_result"
    }
   ],
   "source": [
    "users.shape"
   ]
  },
  {
   "cell_type": "code",
   "execution_count": 14,
   "metadata": {},
   "outputs": [
    {
     "data": {
      "text/html": [
       "<div>\n",
       "<style scoped>\n",
       "    .dataframe tbody tr th:only-of-type {\n",
       "        vertical-align: middle;\n",
       "    }\n",
       "\n",
       "    .dataframe tbody tr th {\n",
       "        vertical-align: top;\n",
       "    }\n",
       "\n",
       "    .dataframe thead th {\n",
       "        text-align: right;\n",
       "    }\n",
       "</style>\n",
       "<table border=\"1\" class=\"dataframe\">\n",
       "  <thead>\n",
       "    <tr style=\"text-align: right;\">\n",
       "      <th></th>\n",
       "      <th>USER_ID</th>\n",
       "      <th>SITE_NAME</th>\n",
       "      <th>POSA_CONTINENT</th>\n",
       "      <th>USER_LOCATION_COUNTRY</th>\n",
       "      <th>USER_LOCATION_REGION</th>\n",
       "    </tr>\n",
       "  </thead>\n",
       "  <tbody>\n",
       "    <tr>\n",
       "      <th>0</th>\n",
       "      <td>40</td>\n",
       "      <td>2</td>\n",
       "      <td>3</td>\n",
       "      <td>66</td>\n",
       "      <td>348</td>\n",
       "    </tr>\n",
       "    <tr>\n",
       "      <th>1</th>\n",
       "      <td>41</td>\n",
       "      <td>2</td>\n",
       "      <td>3</td>\n",
       "      <td>66</td>\n",
       "      <td>174</td>\n",
       "    </tr>\n",
       "    <tr>\n",
       "      <th>2</th>\n",
       "      <td>55</td>\n",
       "      <td>2</td>\n",
       "      <td>3</td>\n",
       "      <td>66</td>\n",
       "      <td>348</td>\n",
       "    </tr>\n",
       "    <tr>\n",
       "      <th>3</th>\n",
       "      <td>57</td>\n",
       "      <td>2</td>\n",
       "      <td>3</td>\n",
       "      <td>57</td>\n",
       "      <td>342</td>\n",
       "    </tr>\n",
       "    <tr>\n",
       "      <th>4</th>\n",
       "      <td>67</td>\n",
       "      <td>2</td>\n",
       "      <td>3</td>\n",
       "      <td>66</td>\n",
       "      <td>246</td>\n",
       "    </tr>\n",
       "  </tbody>\n",
       "</table>\n",
       "</div>"
      ],
      "text/plain": [
       "   USER_ID SITE_NAME POSA_CONTINENT USER_LOCATION_COUNTRY USER_LOCATION_REGION\n",
       "0       40         2              3                    66                  348\n",
       "1       41         2              3                    66                  174\n",
       "2       55         2              3                    66                  348\n",
       "3       57         2              3                    57                  342\n",
       "4       67         2              3                    66                  246"
      ]
     },
     "execution_count": 14,
     "metadata": {},
     "output_type": "execute_result"
    }
   ],
   "source": [
    "users.head()"
   ]
  },
  {
   "cell_type": "code",
   "execution_count": 15,
   "metadata": {},
   "outputs": [],
   "source": [
    "users.to_csv('users.csv', index=False)"
   ]
  },
  {
   "cell_type": "markdown",
   "metadata": {},
   "source": [
    "### Getting items (hotels) features"
   ]
  },
  {
   "cell_type": "code",
   "execution_count": 16,
   "metadata": {},
   "outputs": [],
   "source": [
    "item_feats = ['srch_destination_type_id',\n",
    "             'hotel_continent',\n",
    "             'hotel_country',\n",
    "             'hotel_market']"
   ]
  },
  {
   "cell_type": "code",
   "execution_count": 17,
   "metadata": {},
   "outputs": [
    {
     "name": "stdout",
     "output_type": "stream",
     "text": [
      "hotel_cluster site_name\n",
      "hotel_cluster posa_continent\n",
      "hotel_cluster user_location_country\n",
      "hotel_cluster user_location_region\n"
     ]
    }
   ],
   "source": [
    "items = aggregate_features(df, 'hotel_cluster', user_feats, 'ITEM_ID')"
   ]
  },
  {
   "cell_type": "code",
   "execution_count": 18,
   "metadata": {
    "ExecuteTime": {
     "end_time": "2019-12-05T06:28:47.699072Z",
     "start_time": "2019-12-05T06:28:10.508Z"
    }
   },
   "outputs": [
    {
     "data": {
      "text/plain": [
       "(100, 5)"
      ]
     },
     "execution_count": 18,
     "metadata": {},
     "output_type": "execute_result"
    }
   ],
   "source": [
    "items.shape"
   ]
  },
  {
   "cell_type": "code",
   "execution_count": 19,
   "metadata": {},
   "outputs": [
    {
     "data": {
      "text/html": [
       "<div>\n",
       "<style scoped>\n",
       "    .dataframe tbody tr th:only-of-type {\n",
       "        vertical-align: middle;\n",
       "    }\n",
       "\n",
       "    .dataframe tbody tr th {\n",
       "        vertical-align: top;\n",
       "    }\n",
       "\n",
       "    .dataframe thead th {\n",
       "        text-align: right;\n",
       "    }\n",
       "</style>\n",
       "<table border=\"1\" class=\"dataframe\">\n",
       "  <thead>\n",
       "    <tr style=\"text-align: right;\">\n",
       "      <th></th>\n",
       "      <th>ITEM_ID</th>\n",
       "      <th>SITE_NAME</th>\n",
       "      <th>POSA_CONTINENT</th>\n",
       "      <th>USER_LOCATION_COUNTRY</th>\n",
       "      <th>USER_LOCATION_REGION</th>\n",
       "    </tr>\n",
       "  </thead>\n",
       "  <tbody>\n",
       "    <tr>\n",
       "      <th>0</th>\n",
       "      <td>0</td>\n",
       "      <td>2|8|10|11|13|18|19|23|24|25|26|30|32|33|34|35|37</td>\n",
       "      <td>0|1|2|3|4</td>\n",
       "      <td>3|19|23|26|30|39|46|48|49|57|62|63|66|69|70|71...</td>\n",
       "      <td>0|11|13|19|23|25|26|38|39|45|47|48|49|50|51|60...</td>\n",
       "    </tr>\n",
       "    <tr>\n",
       "      <th>1</th>\n",
       "      <td>1</td>\n",
       "      <td>2|8|10|11|13|17|18|19|21|23|24|25|26|28|29|30|...</td>\n",
       "      <td>0|1|2|3|4</td>\n",
       "      <td>1|3|23|24|44|46|48|52|62|66|68|69|71|77|80|82|...</td>\n",
       "      <td>0|10|11|17|20|22|23|25|26|31|37|38|39|40|45|48...</td>\n",
       "    </tr>\n",
       "    <tr>\n",
       "      <th>2</th>\n",
       "      <td>2</td>\n",
       "      <td>2|7|8|9|10|11|13|14|15|16|17|18|20|21|22|23|24...</td>\n",
       "      <td>0|1|2|3|4</td>\n",
       "      <td>0|1|3|5|11|12|21|22|23|27|28|32|45|46|47|48|50...</td>\n",
       "      <td>0|1|2|3|4|5|7|9|10|11|12|13|14|17|20|21|22|23|...</td>\n",
       "    </tr>\n",
       "    <tr>\n",
       "      <th>3</th>\n",
       "      <td>3</td>\n",
       "      <td>2|6|8|9|10|11|13|14|15|16|17|18|20|22|23|24|25...</td>\n",
       "      <td>0|1|2|3|4</td>\n",
       "      <td>0|1|3|12|19|23|24|28|30|32|46|48|50|55|62|63|6...</td>\n",
       "      <td>0|12|13|14|18|20|22|23|25|31|32|38|40|45|47|48...</td>\n",
       "    </tr>\n",
       "    <tr>\n",
       "      <th>4</th>\n",
       "      <td>4</td>\n",
       "      <td>2|8|11|13|15|17|18|19|21|23|24|25|26|29|30|31|...</td>\n",
       "      <td>0|1|2|3|4</td>\n",
       "      <td>0|1|3|19|23|24|25|28|29|30|39|44|46|48|50|52|5...</td>\n",
       "      <td>0|11|12|14|16|17|20|22|32|36|38|39|40|41|44|45...</td>\n",
       "    </tr>\n",
       "  </tbody>\n",
       "</table>\n",
       "</div>"
      ],
      "text/plain": [
       "   ITEM_ID                                          SITE_NAME POSA_CONTINENT  \\\n",
       "0        0   2|8|10|11|13|18|19|23|24|25|26|30|32|33|34|35|37      0|1|2|3|4   \n",
       "1        1  2|8|10|11|13|17|18|19|21|23|24|25|26|28|29|30|...      0|1|2|3|4   \n",
       "2        2  2|7|8|9|10|11|13|14|15|16|17|18|20|21|22|23|24...      0|1|2|3|4   \n",
       "3        3  2|6|8|9|10|11|13|14|15|16|17|18|20|22|23|24|25...      0|1|2|3|4   \n",
       "4        4  2|8|11|13|15|17|18|19|21|23|24|25|26|29|30|31|...      0|1|2|3|4   \n",
       "\n",
       "                               USER_LOCATION_COUNTRY  \\\n",
       "0  3|19|23|26|30|39|46|48|49|57|62|63|66|69|70|71...   \n",
       "1  1|3|23|24|44|46|48|52|62|66|68|69|71|77|80|82|...   \n",
       "2  0|1|3|5|11|12|21|22|23|27|28|32|45|46|47|48|50...   \n",
       "3  0|1|3|12|19|23|24|28|30|32|46|48|50|55|62|63|6...   \n",
       "4  0|1|3|19|23|24|25|28|29|30|39|44|46|48|50|52|5...   \n",
       "\n",
       "                                USER_LOCATION_REGION  \n",
       "0  0|11|13|19|23|25|26|38|39|45|47|48|49|50|51|60...  \n",
       "1  0|10|11|17|20|22|23|25|26|31|37|38|39|40|45|48...  \n",
       "2  0|1|2|3|4|5|7|9|10|11|12|13|14|17|20|21|22|23|...  \n",
       "3  0|12|13|14|18|20|22|23|25|31|32|38|40|45|47|48...  \n",
       "4  0|11|12|14|16|17|20|22|32|36|38|39|40|41|44|45...  "
      ]
     },
     "execution_count": 19,
     "metadata": {},
     "output_type": "execute_result"
    }
   ],
   "source": [
    "items.head()"
   ]
  },
  {
   "cell_type": "code",
   "execution_count": 20,
   "metadata": {},
   "outputs": [],
   "source": [
    "items.to_csv('items.csv', index=False)"
   ]
  },
  {
   "cell_type": "markdown",
   "metadata": {},
   "source": [
    "### Getting user-items interactions"
   ]
  },
  {
   "cell_type": "code",
   "execution_count": 25,
   "metadata": {},
   "outputs": [
    {
     "data": {
      "text/plain": [
       "(89913, 3)"
      ]
     },
     "execution_count": 25,
     "metadata": {},
     "output_type": "execute_result"
    }
   ],
   "source": [
    "inter = df.loc[:,['user_id', 'hotel_cluster', 'date_time']]\n",
    "inter.rename(columns={'user_id': 'USER_ID', 'hotel_cluster': 'ITEM_ID', 'date_time': 'TIMESTAMP'}, inplace=True)\n",
    "inter.shape"
   ]
  },
  {
   "cell_type": "code",
   "execution_count": 26,
   "metadata": {
    "ExecuteTime": {
     "end_time": "2019-12-06T14:43:06.835830Z",
     "start_time": "2019-12-06T14:43:06.826854Z"
    }
   },
   "outputs": [
    {
     "data": {
      "text/html": [
       "<div>\n",
       "<style scoped>\n",
       "    .dataframe tbody tr th:only-of-type {\n",
       "        vertical-align: middle;\n",
       "    }\n",
       "\n",
       "    .dataframe tbody tr th {\n",
       "        vertical-align: top;\n",
       "    }\n",
       "\n",
       "    .dataframe thead th {\n",
       "        text-align: right;\n",
       "    }\n",
       "</style>\n",
       "<table border=\"1\" class=\"dataframe\">\n",
       "  <thead>\n",
       "    <tr style=\"text-align: right;\">\n",
       "      <th></th>\n",
       "      <th>USER_ID</th>\n",
       "      <th>ITEM_ID</th>\n",
       "      <th>TIMESTAMP</th>\n",
       "    </tr>\n",
       "  </thead>\n",
       "  <tbody>\n",
       "    <tr>\n",
       "      <th>9</th>\n",
       "      <td>3925</td>\n",
       "      <td>42</td>\n",
       "      <td>2013-11-09 07:45:52</td>\n",
       "    </tr>\n",
       "    <tr>\n",
       "      <th>23</th>\n",
       "      <td>4539</td>\n",
       "      <td>40</td>\n",
       "      <td>2014-09-17 18:02:52</td>\n",
       "    </tr>\n",
       "    <tr>\n",
       "      <th>34</th>\n",
       "      <td>6929</td>\n",
       "      <td>33</td>\n",
       "      <td>2014-02-20 09:37:23</td>\n",
       "    </tr>\n",
       "    <tr>\n",
       "      <th>62</th>\n",
       "      <td>8798</td>\n",
       "      <td>73</td>\n",
       "      <td>2014-02-01 10:06:49</td>\n",
       "    </tr>\n",
       "    <tr>\n",
       "      <th>73</th>\n",
       "      <td>10106</td>\n",
       "      <td>97</td>\n",
       "      <td>2014-09-17 06:58:44</td>\n",
       "    </tr>\n",
       "  </tbody>\n",
       "</table>\n",
       "</div>"
      ],
      "text/plain": [
       "    USER_ID  ITEM_ID            TIMESTAMP\n",
       "9      3925       42  2013-11-09 07:45:52\n",
       "23     4539       40  2014-09-17 18:02:52\n",
       "34     6929       33  2014-02-20 09:37:23\n",
       "62     8798       73  2014-02-01 10:06:49\n",
       "73    10106       97  2014-09-17 06:58:44"
      ]
     },
     "execution_count": 26,
     "metadata": {},
     "output_type": "execute_result"
    }
   ],
   "source": [
    "inter.head()"
   ]
  },
  {
   "cell_type": "code",
   "execution_count": 27,
   "metadata": {},
   "outputs": [],
   "source": [
    "inter.to_csv('inter.csv', index=False)"
   ]
  },
  {
   "cell_type": "markdown",
   "metadata": {},
   "source": [
    "## AWS Personalize"
   ]
  },
  {
   "cell_type": "markdown",
   "metadata": {},
   "source": [
    "### Moving CSV files to S3"
   ]
  },
  {
   "cell_type": "code",
   "execution_count": 28,
   "metadata": {
    "ExecuteTime": {
     "end_time": "2019-12-06T14:41:03.774972Z",
     "start_time": "2019-12-06T14:40:44.665400Z"
    }
   },
   "outputs": [],
   "source": [
    "bucket = 'francesco-ml-tests'\n",
    "upload_to_s3(bucket, 'inter.csv')\n",
    "upload_to_s3(bucket, 'users.csv')\n",
    "upload_to_s3(bucket, 'items.csv')"
   ]
  },
  {
   "cell_type": "markdown",
   "metadata": {},
   "source": [
    "### Creating schemas for Personalize to properly read the data"
   ]
  },
  {
   "cell_type": "code",
   "execution_count": 29,
   "metadata": {
    "ExecuteTime": {
     "end_time": "2019-12-06T14:34:49.424270Z",
     "start_time": "2019-12-06T14:34:48.723851Z"
    }
   },
   "outputs": [],
   "source": [
    "personalize = boto3.client('personalize')"
   ]
  },
  {
   "cell_type": "code",
   "execution_count": 30,
   "metadata": {},
   "outputs": [],
   "source": [
    "# schema = {\n",
    "#     \"type\": \"record\",\n",
    "#     \"name\": \"Interactions\",\n",
    "#     \"namespace\": \"com.amazonaws.personalize.schema\",\n",
    "#     \"fields\": [\n",
    "#         {\n",
    "#             \"name\": \"USER_ID\",\n",
    "#             \"type\": \"string\"\n",
    "#         },\n",
    "#         {\n",
    "#             \"name\": \"ITEM_ID\",\n",
    "#             \"type\": \"string\"\n",
    "#         },\n",
    "#         {\n",
    "#             \"name\": \"TIMESTAMP\",\n",
    "#             \"type\": \"long\"\n",
    "#         }\n",
    "#     ],\n",
    "#     \"version\": \"1.0\"\n",
    "# }\n",
    "\n",
    "# create_schema_response = personalize.create_schema(\n",
    "#     name = \"personalize-demo-schema\",\n",
    "#     schema = json.dumps(schema)\n",
    "# )\n",
    "\n",
    "# schema_arn = create_schema_response['schemaArn']\n",
    "# print(json.dumps(create_schema_response, indent=2))"
   ]
  }
 ],
 "metadata": {
  "kernelspec": {
   "display_name": "Python [conda env:fastai]",
   "language": "python",
   "name": "conda-env-fastai-py"
  },
  "language_info": {
   "codemirror_mode": {
    "name": "ipython",
    "version": 3
   },
   "file_extension": ".py",
   "mimetype": "text/x-python",
   "name": "python",
   "nbconvert_exporter": "python",
   "pygments_lexer": "ipython3",
   "version": "3.7.3"
  }
 },
 "nbformat": 4,
 "nbformat_minor": 4
}
