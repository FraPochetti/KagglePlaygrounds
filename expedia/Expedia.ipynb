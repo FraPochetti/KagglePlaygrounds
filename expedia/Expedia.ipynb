{
 "cells": [
  {
   "cell_type": "markdown",
   "metadata": {},
   "source": [
    "# Bulding an Expedia recommender engine with Amazon Personalize"
   ]
  },
  {
   "cell_type": "markdown",
   "metadata": {},
   "source": [
    "### Imports"
   ]
  },
  {
   "cell_type": "code",
   "execution_count": 1,
   "metadata": {
    "ExecuteTime": {
     "end_time": "2019-12-09T13:12:51.347886Z",
     "start_time": "2019-12-09T13:12:47.042280Z"
    }
   },
   "outputs": [],
   "source": [
    "import pandas as pd\n",
    "from functools import reduce\n",
    "import random\n",
    "import boto3\n",
    "import time\n",
    "import json\n",
    "\n",
    "bucket = 'pochetti-personalize'"
   ]
  },
  {
   "cell_type": "markdown",
   "metadata": {},
   "source": [
    "### Helper functions"
   ]
  },
  {
   "cell_type": "code",
   "execution_count": 2,
   "metadata": {
    "ExecuteTime": {
     "end_time": "2019-12-09T13:12:55.938142Z",
     "start_time": "2019-12-09T13:12:55.929166Z"
    }
   },
   "outputs": [],
   "source": [
    "def extract_feature(d, idx, col):\n",
    "    a = d.groupby([idx, col])[idx].nunique().to_frame('col')\n",
    "    a = a.reset_index().drop('col', axis=1).pivot(index=idx, columns=col,values=col)\n",
    "    a = a.astype('str')\n",
    "    a['new'] = a.apply('|'.join, axis=1)\n",
    "    a[col] = a.new.apply(lambda x: x.replace('|nan', '').replace('nan|', '').replace('.0', ''))\n",
    "    return a.loc[:,[col]].reset_index()\n",
    "\n",
    "def aggregate_features(d, idx, l, new):\n",
    "    u = []\n",
    "    for el in zip([idx]*len(l), l):\n",
    "        print(*el)\n",
    "        u.append(extract_feature(d, *el))\n",
    "    \n",
    "    u = reduce(lambda x, y: pd.merge(x, y, on = idx), u)\n",
    "    u.rename(columns={idx: new}, inplace=True)\n",
    "    u.columns = [c.upper() for c in u.columns]\n",
    "    return u\n",
    "    \n",
    "def upload_to_s3(b, f): boto3.Session().resource('s3').Bucket(b).Object(f).upload_file(f)"
   ]
  },
  {
   "cell_type": "markdown",
   "metadata": {},
   "source": [
    "### Loading data sample and select only transactions ending up in a booking"
   ]
  },
  {
   "cell_type": "code",
   "execution_count": 3,
   "metadata": {
    "ExecuteTime": {
     "end_time": "2019-12-05T06:28:37.311923Z",
     "start_time": "2019-12-05T06:28:11.771730Z"
    }
   },
   "outputs": [],
   "source": [
    "p = 0.03  # 3% of the lines\n",
    "# keep the header, then take only 3% of lines\n",
    "# if random from [0,1] interval is greater than 0.03 the row will be skipped\n",
    "df = pd.read_csv(\n",
    "         '/home/ec2-user/SageMaker/data/train.csv',\n",
    "         header=0, \n",
    "         skiprows=lambda i: i>0 and random.random() > p\n",
    ")"
   ]
  },
  {
   "cell_type": "code",
   "execution_count": 4,
   "metadata": {
    "ExecuteTime": {
     "end_time": "2019-12-05T06:28:37.325886Z",
     "start_time": "2019-12-05T06:28:37.313950Z"
    }
   },
   "outputs": [
    {
     "data": {
      "text/plain": [
       "(1131133, 24)"
      ]
     },
     "execution_count": 4,
     "metadata": {},
     "output_type": "execute_result"
    }
   ],
   "source": [
    "df.shape"
   ]
  },
  {
   "cell_type": "code",
   "execution_count": 5,
   "metadata": {
    "ExecuteTime": {
     "end_time": "2019-12-05T06:28:37.356801Z",
     "start_time": "2019-12-05T06:28:37.328882Z"
    }
   },
   "outputs": [
    {
     "data": {
      "text/html": [
       "<div>\n",
       "<style scoped>\n",
       "    .dataframe tbody tr th:only-of-type {\n",
       "        vertical-align: middle;\n",
       "    }\n",
       "\n",
       "    .dataframe tbody tr th {\n",
       "        vertical-align: top;\n",
       "    }\n",
       "\n",
       "    .dataframe thead th {\n",
       "        text-align: right;\n",
       "    }\n",
       "</style>\n",
       "<table border=\"1\" class=\"dataframe\">\n",
       "  <thead>\n",
       "    <tr style=\"text-align: right;\">\n",
       "      <th></th>\n",
       "      <th>0</th>\n",
       "      <th>1</th>\n",
       "      <th>2</th>\n",
       "      <th>3</th>\n",
       "      <th>4</th>\n",
       "    </tr>\n",
       "  </thead>\n",
       "  <tbody>\n",
       "    <tr>\n",
       "      <th>date_time</th>\n",
       "      <td>2014-08-09 18:08:18</td>\n",
       "      <td>2014-08-16 19:42:57</td>\n",
       "      <td>2014-09-15 18:28:49</td>\n",
       "      <td>2014-10-29 14:12:29</td>\n",
       "      <td>2014-07-17 23:59:01</td>\n",
       "    </tr>\n",
       "    <tr>\n",
       "      <th>site_name</th>\n",
       "      <td>2</td>\n",
       "      <td>2</td>\n",
       "      <td>2</td>\n",
       "      <td>2</td>\n",
       "      <td>24</td>\n",
       "    </tr>\n",
       "    <tr>\n",
       "      <th>posa_continent</th>\n",
       "      <td>3</td>\n",
       "      <td>3</td>\n",
       "      <td>3</td>\n",
       "      <td>3</td>\n",
       "      <td>2</td>\n",
       "    </tr>\n",
       "    <tr>\n",
       "      <th>user_location_country</th>\n",
       "      <td>66</td>\n",
       "      <td>66</td>\n",
       "      <td>66</td>\n",
       "      <td>66</td>\n",
       "      <td>3</td>\n",
       "    </tr>\n",
       "    <tr>\n",
       "      <th>user_location_region</th>\n",
       "      <td>442</td>\n",
       "      <td>462</td>\n",
       "      <td>311</td>\n",
       "      <td>174</td>\n",
       "      <td>64</td>\n",
       "    </tr>\n",
       "    <tr>\n",
       "      <th>user_location_city</th>\n",
       "      <td>35390</td>\n",
       "      <td>41898</td>\n",
       "      <td>45008</td>\n",
       "      <td>40365</td>\n",
       "      <td>12576</td>\n",
       "    </tr>\n",
       "    <tr>\n",
       "      <th>orig_destination_distance</th>\n",
       "      <td>913.626</td>\n",
       "      <td>2105.18</td>\n",
       "      <td>NaN</td>\n",
       "      <td>8455.62</td>\n",
       "      <td>NaN</td>\n",
       "    </tr>\n",
       "    <tr>\n",
       "      <th>user_id</th>\n",
       "      <td>93</td>\n",
       "      <td>1482</td>\n",
       "      <td>1561</td>\n",
       "      <td>1713</td>\n",
       "      <td>2451</td>\n",
       "    </tr>\n",
       "    <tr>\n",
       "      <th>is_mobile</th>\n",
       "      <td>0</td>\n",
       "      <td>0</td>\n",
       "      <td>0</td>\n",
       "      <td>0</td>\n",
       "      <td>0</td>\n",
       "    </tr>\n",
       "    <tr>\n",
       "      <th>is_package</th>\n",
       "      <td>0</td>\n",
       "      <td>0</td>\n",
       "      <td>0</td>\n",
       "      <td>0</td>\n",
       "      <td>0</td>\n",
       "    </tr>\n",
       "    <tr>\n",
       "      <th>channel</th>\n",
       "      <td>3</td>\n",
       "      <td>0</td>\n",
       "      <td>9</td>\n",
       "      <td>0</td>\n",
       "      <td>2</td>\n",
       "    </tr>\n",
       "    <tr>\n",
       "      <th>srch_ci</th>\n",
       "      <td>2014-11-23</td>\n",
       "      <td>2014-09-07</td>\n",
       "      <td>2014-09-19</td>\n",
       "      <td>2014-11-01</td>\n",
       "      <td>2014-08-30</td>\n",
       "    </tr>\n",
       "    <tr>\n",
       "      <th>srch_co</th>\n",
       "      <td>2014-11-28</td>\n",
       "      <td>2014-09-08</td>\n",
       "      <td>2014-09-21</td>\n",
       "      <td>2014-11-04</td>\n",
       "      <td>2014-08-31</td>\n",
       "    </tr>\n",
       "    <tr>\n",
       "      <th>srch_adults_cnt</th>\n",
       "      <td>2</td>\n",
       "      <td>3</td>\n",
       "      <td>2</td>\n",
       "      <td>2</td>\n",
       "      <td>2</td>\n",
       "    </tr>\n",
       "    <tr>\n",
       "      <th>srch_children_cnt</th>\n",
       "      <td>0</td>\n",
       "      <td>0</td>\n",
       "      <td>0</td>\n",
       "      <td>0</td>\n",
       "      <td>0</td>\n",
       "    </tr>\n",
       "    <tr>\n",
       "      <th>srch_rm_cnt</th>\n",
       "      <td>1</td>\n",
       "      <td>1</td>\n",
       "      <td>1</td>\n",
       "      <td>1</td>\n",
       "      <td>1</td>\n",
       "    </tr>\n",
       "    <tr>\n",
       "      <th>srch_destination_id</th>\n",
       "      <td>14984</td>\n",
       "      <td>44269</td>\n",
       "      <td>13393</td>\n",
       "      <td>1571</td>\n",
       "      <td>8746</td>\n",
       "    </tr>\n",
       "    <tr>\n",
       "      <th>srch_destination_type_id</th>\n",
       "      <td>1</td>\n",
       "      <td>8</td>\n",
       "      <td>4</td>\n",
       "      <td>3</td>\n",
       "      <td>1</td>\n",
       "    </tr>\n",
       "    <tr>\n",
       "      <th>is_booking</th>\n",
       "      <td>0</td>\n",
       "      <td>0</td>\n",
       "      <td>0</td>\n",
       "      <td>0</td>\n",
       "      <td>0</td>\n",
       "    </tr>\n",
       "    <tr>\n",
       "      <th>cnt</th>\n",
       "      <td>1</td>\n",
       "      <td>1</td>\n",
       "      <td>1</td>\n",
       "      <td>1</td>\n",
       "      <td>1</td>\n",
       "    </tr>\n",
       "    <tr>\n",
       "      <th>hotel_continent</th>\n",
       "      <td>2</td>\n",
       "      <td>2</td>\n",
       "      <td>2</td>\n",
       "      <td>3</td>\n",
       "      <td>6</td>\n",
       "    </tr>\n",
       "    <tr>\n",
       "      <th>hotel_country</th>\n",
       "      <td>50</td>\n",
       "      <td>50</td>\n",
       "      <td>50</td>\n",
       "      <td>5</td>\n",
       "      <td>105</td>\n",
       "    </tr>\n",
       "    <tr>\n",
       "      <th>hotel_market</th>\n",
       "      <td>1457</td>\n",
       "      <td>411</td>\n",
       "      <td>675</td>\n",
       "      <td>89</td>\n",
       "      <td>29</td>\n",
       "    </tr>\n",
       "    <tr>\n",
       "      <th>hotel_cluster</th>\n",
       "      <td>21</td>\n",
       "      <td>5</td>\n",
       "      <td>56</td>\n",
       "      <td>81</td>\n",
       "      <td>82</td>\n",
       "    </tr>\n",
       "  </tbody>\n",
       "</table>\n",
       "</div>"
      ],
      "text/plain": [
       "                                             0                    1  \\\n",
       "date_time                  2014-08-09 18:08:18  2014-08-16 19:42:57   \n",
       "site_name                                    2                    2   \n",
       "posa_continent                               3                    3   \n",
       "user_location_country                       66                   66   \n",
       "user_location_region                       442                  462   \n",
       "user_location_city                       35390                41898   \n",
       "orig_destination_distance              913.626              2105.18   \n",
       "user_id                                     93                 1482   \n",
       "is_mobile                                    0                    0   \n",
       "is_package                                   0                    0   \n",
       "channel                                      3                    0   \n",
       "srch_ci                             2014-11-23           2014-09-07   \n",
       "srch_co                             2014-11-28           2014-09-08   \n",
       "srch_adults_cnt                              2                    3   \n",
       "srch_children_cnt                            0                    0   \n",
       "srch_rm_cnt                                  1                    1   \n",
       "srch_destination_id                      14984                44269   \n",
       "srch_destination_type_id                     1                    8   \n",
       "is_booking                                   0                    0   \n",
       "cnt                                          1                    1   \n",
       "hotel_continent                              2                    2   \n",
       "hotel_country                               50                   50   \n",
       "hotel_market                              1457                  411   \n",
       "hotel_cluster                               21                    5   \n",
       "\n",
       "                                             2                    3  \\\n",
       "date_time                  2014-09-15 18:28:49  2014-10-29 14:12:29   \n",
       "site_name                                    2                    2   \n",
       "posa_continent                               3                    3   \n",
       "user_location_country                       66                   66   \n",
       "user_location_region                       311                  174   \n",
       "user_location_city                       45008                40365   \n",
       "orig_destination_distance                  NaN              8455.62   \n",
       "user_id                                   1561                 1713   \n",
       "is_mobile                                    0                    0   \n",
       "is_package                                   0                    0   \n",
       "channel                                      9                    0   \n",
       "srch_ci                             2014-09-19           2014-11-01   \n",
       "srch_co                             2014-09-21           2014-11-04   \n",
       "srch_adults_cnt                              2                    2   \n",
       "srch_children_cnt                            0                    0   \n",
       "srch_rm_cnt                                  1                    1   \n",
       "srch_destination_id                      13393                 1571   \n",
       "srch_destination_type_id                     4                    3   \n",
       "is_booking                                   0                    0   \n",
       "cnt                                          1                    1   \n",
       "hotel_continent                              2                    3   \n",
       "hotel_country                               50                    5   \n",
       "hotel_market                               675                   89   \n",
       "hotel_cluster                               56                   81   \n",
       "\n",
       "                                             4  \n",
       "date_time                  2014-07-17 23:59:01  \n",
       "site_name                                   24  \n",
       "posa_continent                               2  \n",
       "user_location_country                        3  \n",
       "user_location_region                        64  \n",
       "user_location_city                       12576  \n",
       "orig_destination_distance                  NaN  \n",
       "user_id                                   2451  \n",
       "is_mobile                                    0  \n",
       "is_package                                   0  \n",
       "channel                                      2  \n",
       "srch_ci                             2014-08-30  \n",
       "srch_co                             2014-08-31  \n",
       "srch_adults_cnt                              2  \n",
       "srch_children_cnt                            0  \n",
       "srch_rm_cnt                                  1  \n",
       "srch_destination_id                       8746  \n",
       "srch_destination_type_id                     1  \n",
       "is_booking                                   0  \n",
       "cnt                                          1  \n",
       "hotel_continent                              6  \n",
       "hotel_country                              105  \n",
       "hotel_market                                29  \n",
       "hotel_cluster                               82  "
      ]
     },
     "execution_count": 5,
     "metadata": {},
     "output_type": "execute_result"
    }
   ],
   "source": [
    "df.head().T"
   ]
  },
  {
   "cell_type": "code",
   "execution_count": 6,
   "metadata": {
    "ExecuteTime": {
     "end_time": "2019-12-05T06:28:37.409660Z",
     "start_time": "2019-12-05T06:28:37.358799Z"
    }
   },
   "outputs": [
    {
     "data": {
      "text/plain": [
       "(522759,)"
      ]
     },
     "execution_count": 6,
     "metadata": {},
     "output_type": "execute_result"
    }
   ],
   "source": [
    "df.user_id.unique().shape"
   ]
  },
  {
   "cell_type": "code",
   "execution_count": 7,
   "metadata": {
    "ExecuteTime": {
     "end_time": "2019-12-05T06:28:37.424622Z",
     "start_time": "2019-12-05T06:28:37.411655Z"
    }
   },
   "outputs": [
    {
     "data": {
      "text/plain": [
       "89926"
      ]
     },
     "execution_count": 7,
     "metadata": {},
     "output_type": "execute_result"
    }
   ],
   "source": [
    "df.is_booking.sum()"
   ]
  },
  {
   "cell_type": "code",
   "execution_count": 8,
   "metadata": {
    "ExecuteTime": {
     "end_time": "2019-12-05T06:28:37.439582Z",
     "start_time": "2019-12-05T06:28:37.426618Z"
    }
   },
   "outputs": [
    {
     "data": {
      "text/plain": [
       "0.07950081909023961"
      ]
     },
     "execution_count": 8,
     "metadata": {},
     "output_type": "execute_result"
    }
   ],
   "source": [
    "df.is_booking.sum()/len(df)"
   ]
  },
  {
   "cell_type": "code",
   "execution_count": 9,
   "metadata": {
    "ExecuteTime": {
     "end_time": "2019-12-05T06:28:37.514380Z",
     "start_time": "2019-12-05T06:28:37.442573Z"
    }
   },
   "outputs": [],
   "source": [
    "df = df.loc[df.is_booking==1,:]"
   ]
  },
  {
   "cell_type": "code",
   "execution_count": 10,
   "metadata": {
    "ExecuteTime": {
     "end_time": "2019-12-05T06:28:37.521362Z",
     "start_time": "2019-12-05T06:28:37.516375Z"
    }
   },
   "outputs": [
    {
     "data": {
      "text/plain": [
       "(89926, 24)"
      ]
     },
     "execution_count": 10,
     "metadata": {},
     "output_type": "execute_result"
    }
   ],
   "source": [
    "df.shape"
   ]
  },
  {
   "cell_type": "markdown",
   "metadata": {},
   "source": [
    "### Getting user features"
   ]
  },
  {
   "cell_type": "code",
   "execution_count": 11,
   "metadata": {
    "ExecuteTime": {
     "end_time": "2019-12-05T06:28:37.528343Z",
     "start_time": "2019-12-05T06:28:37.523357Z"
    }
   },
   "outputs": [],
   "source": [
    "user_feats = ['site_name',\n",
    "             'posa_continent',\n",
    "             'user_location_country',\n",
    "             'user_location_region']"
   ]
  },
  {
   "cell_type": "code",
   "execution_count": 12,
   "metadata": {},
   "outputs": [
    {
     "name": "stdout",
     "output_type": "stream",
     "text": [
      "user_id site_name\n",
      "user_id posa_continent\n",
      "user_id user_location_country\n",
      "user_id user_location_region\n"
     ]
    }
   ],
   "source": [
    "users = aggregate_features(df, 'user_id', user_feats, 'USER_ID')"
   ]
  },
  {
   "cell_type": "code",
   "execution_count": 13,
   "metadata": {
    "ExecuteTime": {
     "end_time": "2019-12-05T06:28:47.697113Z",
     "start_time": "2019-12-05T06:28:37.554281Z"
    }
   },
   "outputs": [
    {
     "data": {
      "text/plain": [
       "(78504, 5)"
      ]
     },
     "execution_count": 13,
     "metadata": {},
     "output_type": "execute_result"
    }
   ],
   "source": [
    "users.shape"
   ]
  },
  {
   "cell_type": "code",
   "execution_count": 14,
   "metadata": {},
   "outputs": [
    {
     "data": {
      "text/html": [
       "<div>\n",
       "<style scoped>\n",
       "    .dataframe tbody tr th:only-of-type {\n",
       "        vertical-align: middle;\n",
       "    }\n",
       "\n",
       "    .dataframe tbody tr th {\n",
       "        vertical-align: top;\n",
       "    }\n",
       "\n",
       "    .dataframe thead th {\n",
       "        text-align: right;\n",
       "    }\n",
       "</style>\n",
       "<table border=\"1\" class=\"dataframe\">\n",
       "  <thead>\n",
       "    <tr style=\"text-align: right;\">\n",
       "      <th></th>\n",
       "      <th>USER_ID</th>\n",
       "      <th>SITE_NAME</th>\n",
       "      <th>POSA_CONTINENT</th>\n",
       "      <th>USER_LOCATION_COUNTRY</th>\n",
       "      <th>USER_LOCATION_REGION</th>\n",
       "    </tr>\n",
       "  </thead>\n",
       "  <tbody>\n",
       "    <tr>\n",
       "      <th>0</th>\n",
       "      <td>31</td>\n",
       "      <td>2</td>\n",
       "      <td>3</td>\n",
       "      <td>66</td>\n",
       "      <td>189</td>\n",
       "    </tr>\n",
       "    <tr>\n",
       "      <th>1</th>\n",
       "      <td>52</td>\n",
       "      <td>2</td>\n",
       "      <td>3</td>\n",
       "      <td>66</td>\n",
       "      <td>311</td>\n",
       "    </tr>\n",
       "    <tr>\n",
       "      <th>2</th>\n",
       "      <td>127</td>\n",
       "      <td>34</td>\n",
       "      <td>3</td>\n",
       "      <td>205</td>\n",
       "      <td>155</td>\n",
       "    </tr>\n",
       "    <tr>\n",
       "      <th>3</th>\n",
       "      <td>153</td>\n",
       "      <td>2</td>\n",
       "      <td>3</td>\n",
       "      <td>23</td>\n",
       "      <td>78</td>\n",
       "    </tr>\n",
       "    <tr>\n",
       "      <th>4</th>\n",
       "      <td>206</td>\n",
       "      <td>2</td>\n",
       "      <td>3</td>\n",
       "      <td>66</td>\n",
       "      <td>220</td>\n",
       "    </tr>\n",
       "  </tbody>\n",
       "</table>\n",
       "</div>"
      ],
      "text/plain": [
       "   USER_ID SITE_NAME POSA_CONTINENT USER_LOCATION_COUNTRY USER_LOCATION_REGION\n",
       "0       31         2              3                    66                  189\n",
       "1       52         2              3                    66                  311\n",
       "2      127        34              3                   205                  155\n",
       "3      153         2              3                    23                   78\n",
       "4      206         2              3                    66                  220"
      ]
     },
     "execution_count": 14,
     "metadata": {},
     "output_type": "execute_result"
    }
   ],
   "source": [
    "users.head()"
   ]
  },
  {
   "cell_type": "code",
   "execution_count": 15,
   "metadata": {},
   "outputs": [],
   "source": [
    "users.to_csv('users.csv', index=False)"
   ]
  },
  {
   "cell_type": "markdown",
   "metadata": {},
   "source": [
    "### Getting items (hotels) features"
   ]
  },
  {
   "cell_type": "code",
   "execution_count": 16,
   "metadata": {},
   "outputs": [],
   "source": [
    "item_feats = ['srch_destination_type_id',\n",
    "             'hotel_continent',\n",
    "             'hotel_country',\n",
    "             'hotel_market']"
   ]
  },
  {
   "cell_type": "code",
   "execution_count": 18,
   "metadata": {},
   "outputs": [
    {
     "name": "stdout",
     "output_type": "stream",
     "text": [
      "hotel_cluster srch_destination_type_id\n",
      "hotel_cluster hotel_continent\n",
      "hotel_cluster hotel_country\n",
      "hotel_cluster hotel_market\n"
     ]
    }
   ],
   "source": [
    "items = aggregate_features(df, 'hotel_cluster', item_feats, 'ITEM_ID')"
   ]
  },
  {
   "cell_type": "code",
   "execution_count": 19,
   "metadata": {
    "ExecuteTime": {
     "end_time": "2019-12-05T06:28:47.699072Z",
     "start_time": "2019-12-05T06:28:10.508Z"
    }
   },
   "outputs": [
    {
     "data": {
      "text/plain": [
       "(100, 5)"
      ]
     },
     "execution_count": 19,
     "metadata": {},
     "output_type": "execute_result"
    }
   ],
   "source": [
    "items.shape"
   ]
  },
  {
   "cell_type": "code",
   "execution_count": 20,
   "metadata": {},
   "outputs": [
    {
     "data": {
      "text/html": [
       "<div>\n",
       "<style scoped>\n",
       "    .dataframe tbody tr th:only-of-type {\n",
       "        vertical-align: middle;\n",
       "    }\n",
       "\n",
       "    .dataframe tbody tr th {\n",
       "        vertical-align: top;\n",
       "    }\n",
       "\n",
       "    .dataframe thead th {\n",
       "        text-align: right;\n",
       "    }\n",
       "</style>\n",
       "<table border=\"1\" class=\"dataframe\">\n",
       "  <thead>\n",
       "    <tr style=\"text-align: right;\">\n",
       "      <th></th>\n",
       "      <th>ITEM_ID</th>\n",
       "      <th>SRCH_DESTINATION_TYPE_ID</th>\n",
       "      <th>HOTEL_CONTINENT</th>\n",
       "      <th>HOTEL_COUNTRY</th>\n",
       "      <th>HOTEL_MARKET</th>\n",
       "    </tr>\n",
       "  </thead>\n",
       "  <tbody>\n",
       "    <tr>\n",
       "      <th>0</th>\n",
       "      <td>0</td>\n",
       "      <td>1|3|4|5|6|8</td>\n",
       "      <td>0|2|3|4</td>\n",
       "      <td>8|32|50|51|52|87|88|96|151|174|198</td>\n",
       "      <td>58|80|110|197|201|202|212|213|214|355|357|367|...</td>\n",
       "    </tr>\n",
       "    <tr>\n",
       "      <th>1</th>\n",
       "      <td>1</td>\n",
       "      <td>1|3|4|5|6|8</td>\n",
       "      <td>2</td>\n",
       "      <td>50</td>\n",
       "      <td>623|628|633</td>\n",
       "    </tr>\n",
       "    <tr>\n",
       "      <th>2</th>\n",
       "      <td>2</td>\n",
       "      <td>1|3|4|5|6|8</td>\n",
       "      <td>0|2|3|4|5|6</td>\n",
       "      <td>3|5|7|8|11|12|13|15|17|21|25|31|34|46|48|50|58...</td>\n",
       "      <td>2|4|5|6|8|9|10|12|13|14|15|16|19|20|21|22|23|2...</td>\n",
       "    </tr>\n",
       "    <tr>\n",
       "      <th>3</th>\n",
       "      <td>3</td>\n",
       "      <td>1|3|4|5|6</td>\n",
       "      <td>0|2|3|4|5|6</td>\n",
       "      <td>5|7|8|12|13|15|17|21|22|26|31|34|46|48|50|63|6...</td>\n",
       "      <td>0|2|4|10|12|13|19|21|22|27|28|29|30|32|35|36|4...</td>\n",
       "    </tr>\n",
       "    <tr>\n",
       "      <th>4</th>\n",
       "      <td>4</td>\n",
       "      <td>1|3|4|5|6|8</td>\n",
       "      <td>0|2|3|4|5|6</td>\n",
       "      <td>8|13|46|50|51|63|70|77|102|105|126|168|171|198...</td>\n",
       "      <td>19|27|29|35|61|121|129|191|192|212|213|262|350...</td>\n",
       "    </tr>\n",
       "  </tbody>\n",
       "</table>\n",
       "</div>"
      ],
      "text/plain": [
       "   ITEM_ID SRCH_DESTINATION_TYPE_ID HOTEL_CONTINENT  \\\n",
       "0        0              1|3|4|5|6|8         0|2|3|4   \n",
       "1        1              1|3|4|5|6|8               2   \n",
       "2        2              1|3|4|5|6|8     0|2|3|4|5|6   \n",
       "3        3                1|3|4|5|6     0|2|3|4|5|6   \n",
       "4        4              1|3|4|5|6|8     0|2|3|4|5|6   \n",
       "\n",
       "                                       HOTEL_COUNTRY  \\\n",
       "0                 8|32|50|51|52|87|88|96|151|174|198   \n",
       "1                                                 50   \n",
       "2  3|5|7|8|11|12|13|15|17|21|25|31|34|46|48|50|58...   \n",
       "3  5|7|8|12|13|15|17|21|22|26|31|34|46|48|50|63|6...   \n",
       "4  8|13|46|50|51|63|70|77|102|105|126|168|171|198...   \n",
       "\n",
       "                                        HOTEL_MARKET  \n",
       "0  58|80|110|197|201|202|212|213|214|355|357|367|...  \n",
       "1                                        623|628|633  \n",
       "2  2|4|5|6|8|9|10|12|13|14|15|16|19|20|21|22|23|2...  \n",
       "3  0|2|4|10|12|13|19|21|22|27|28|29|30|32|35|36|4...  \n",
       "4  19|27|29|35|61|121|129|191|192|212|213|262|350...  "
      ]
     },
     "execution_count": 20,
     "metadata": {},
     "output_type": "execute_result"
    }
   ],
   "source": [
    "items.head()"
   ]
  },
  {
   "cell_type": "code",
   "execution_count": 21,
   "metadata": {},
   "outputs": [],
   "source": [
    "items.to_csv('items.csv', index=False)"
   ]
  },
  {
   "cell_type": "markdown",
   "metadata": {},
   "source": [
    "### Getting user-items interactions"
   ]
  },
  {
   "cell_type": "code",
   "execution_count": 22,
   "metadata": {},
   "outputs": [
    {
     "data": {
      "text/plain": [
       "(89926, 3)"
      ]
     },
     "execution_count": 22,
     "metadata": {},
     "output_type": "execute_result"
    }
   ],
   "source": [
    "inter = df.loc[:,['user_id', 'hotel_cluster', 'date_time']]\n",
    "inter.rename(columns={'user_id': 'USER_ID', 'hotel_cluster': 'ITEM_ID', 'date_time': 'TIMESTAMP'}, inplace=True)\n",
    "inter.shape"
   ]
  },
  {
   "cell_type": "markdown",
   "metadata": {},
   "source": [
    "**Turning TIMESTAMP column into Unix time to be properly handled by Personalize**"
   ]
  },
  {
   "cell_type": "code",
   "execution_count": 23,
   "metadata": {},
   "outputs": [],
   "source": [
    "inter.TIMESTAMP = pd.to_datetime(inter.TIMESTAMP)\n",
    "inter.TIMESTAMP = inter.TIMESTAMP.apply(lambda x: time.mktime(x.timetuple()))"
   ]
  },
  {
   "cell_type": "code",
   "execution_count": 24,
   "metadata": {
    "ExecuteTime": {
     "end_time": "2019-12-06T14:43:06.835830Z",
     "start_time": "2019-12-06T14:43:06.826854Z"
    }
   },
   "outputs": [
    {
     "data": {
      "text/html": [
       "<div>\n",
       "<style scoped>\n",
       "    .dataframe tbody tr th:only-of-type {\n",
       "        vertical-align: middle;\n",
       "    }\n",
       "\n",
       "    .dataframe tbody tr th {\n",
       "        vertical-align: top;\n",
       "    }\n",
       "\n",
       "    .dataframe thead th {\n",
       "        text-align: right;\n",
       "    }\n",
       "</style>\n",
       "<table border=\"1\" class=\"dataframe\">\n",
       "  <thead>\n",
       "    <tr style=\"text-align: right;\">\n",
       "      <th></th>\n",
       "      <th>USER_ID</th>\n",
       "      <th>ITEM_ID</th>\n",
       "      <th>TIMESTAMP</th>\n",
       "    </tr>\n",
       "  </thead>\n",
       "  <tbody>\n",
       "    <tr>\n",
       "      <th>21</th>\n",
       "      <td>4539</td>\n",
       "      <td>85</td>\n",
       "      <td>1.394208e+09</td>\n",
       "    </tr>\n",
       "    <tr>\n",
       "      <th>22</th>\n",
       "      <td>4539</td>\n",
       "      <td>72</td>\n",
       "      <td>1.394797e+09</td>\n",
       "    </tr>\n",
       "    <tr>\n",
       "      <th>29</th>\n",
       "      <td>6304</td>\n",
       "      <td>83</td>\n",
       "      <td>1.413106e+09</td>\n",
       "    </tr>\n",
       "    <tr>\n",
       "      <th>61</th>\n",
       "      <td>9681</td>\n",
       "      <td>60</td>\n",
       "      <td>1.417722e+09</td>\n",
       "    </tr>\n",
       "    <tr>\n",
       "      <th>62</th>\n",
       "      <td>9701</td>\n",
       "      <td>82</td>\n",
       "      <td>1.409824e+09</td>\n",
       "    </tr>\n",
       "  </tbody>\n",
       "</table>\n",
       "</div>"
      ],
      "text/plain": [
       "    USER_ID  ITEM_ID     TIMESTAMP\n",
       "21     4539       85  1.394208e+09\n",
       "22     4539       72  1.394797e+09\n",
       "29     6304       83  1.413106e+09\n",
       "61     9681       60  1.417722e+09\n",
       "62     9701       82  1.409824e+09"
      ]
     },
     "execution_count": 24,
     "metadata": {},
     "output_type": "execute_result"
    }
   ],
   "source": [
    "inter.head()"
   ]
  },
  {
   "cell_type": "code",
   "execution_count": 25,
   "metadata": {},
   "outputs": [],
   "source": [
    "inter.to_csv('inter.csv', index=False)"
   ]
  },
  {
   "cell_type": "markdown",
   "metadata": {},
   "source": [
    "## AWS Personalize"
   ]
  },
  {
   "cell_type": "markdown",
   "metadata": {},
   "source": [
    "### Moving CSV files to S3"
   ]
  },
  {
   "cell_type": "code",
   "execution_count": 10,
   "metadata": {
    "ExecuteTime": {
     "end_time": "2019-12-07T00:04:11.333413Z",
     "start_time": "2019-12-07T00:03:58.155615Z"
    }
   },
   "outputs": [],
   "source": [
    "upload_to_s3(bucket, 'inter.csv')\n",
    "upload_to_s3(bucket, 'users.csv')\n",
    "upload_to_s3(bucket, 'items.csv')"
   ]
  },
  {
   "cell_type": "markdown",
   "metadata": {},
   "source": [
    "### Creating schemas for Personalize to properly read data"
   ]
  },
  {
   "cell_type": "code",
   "execution_count": 3,
   "metadata": {
    "ExecuteTime": {
     "end_time": "2019-12-09T13:13:10.964455Z",
     "start_time": "2019-12-09T13:13:10.860297Z"
    }
   },
   "outputs": [],
   "source": [
    "personalize = boto3.client('personalize')"
   ]
  },
  {
   "cell_type": "markdown",
   "metadata": {},
   "source": [
    "**INTERACTIONS schema**"
   ]
  },
  {
   "cell_type": "code",
   "execution_count": 15,
   "metadata": {
    "ExecuteTime": {
     "end_time": "2019-12-09T13:47:53.262906Z",
     "start_time": "2019-12-09T13:47:53.001893Z"
    }
   },
   "outputs": [
    {
     "data": {
      "text/plain": [
       "'schema_arn_inter: arn:aws:personalize:eu-west-1:257446244580:schema/interact-schema'"
      ]
     },
     "execution_count": 15,
     "metadata": {},
     "output_type": "execute_result"
    }
   ],
   "source": [
    "schema_inter = {\n",
    "    \"type\": \"record\",\n",
    "    \"name\": \"Interactions\",\n",
    "    \"namespace\": \"com.amazonaws.personalize.schema\",\n",
    "    \"fields\": [\n",
    "        {\"name\": \"USER_ID\", \"type\": \"string\"},\n",
    "        {\"name\": \"ITEM_ID\", \"type\": \"string\"},\n",
    "        {\"name\": \"TIMESTAMP\", \"type\": \"long\"}\n",
    "    ],\n",
    "    \"version\": \"1.0\"\n",
    "}\n",
    "\n",
    "create_schema_inter = personalize.create_schema(name = \"interact-schema\", schema = json.dumps(schema_inter))\n",
    "schema_arn_inter = create_schema_inter['schemaArn']\n",
    "f'schema_arn_inter: {schema_arn_inter}'"
   ]
  },
  {
   "cell_type": "markdown",
   "metadata": {},
   "source": [
    "**USERS schema**"
   ]
  },
  {
   "cell_type": "code",
   "execution_count": 17,
   "metadata": {
    "ExecuteTime": {
     "end_time": "2019-12-09T13:48:30.912889Z",
     "start_time": "2019-12-09T13:48:30.816375Z"
    }
   },
   "outputs": [
    {
     "data": {
      "text/plain": [
       "'schema_arn_users: arn:aws:personalize:eu-west-1:257446244580:schema/user-schema'"
      ]
     },
     "execution_count": 17,
     "metadata": {},
     "output_type": "execute_result"
    }
   ],
   "source": [
    "schema_users = {\n",
    "    \"type\": \"record\",\n",
    "    \"name\": \"Users\",\n",
    "    \"namespace\": \"com.amazonaws.personalize.schema\",\n",
    "    \"fields\": [\n",
    "        {\"name\": \"USER_ID\", \"type\": \"string\"},\n",
    "        {\"name\": \"SITE_NAME\", \"type\": \"string\", \"categorical\": True},\n",
    "        {\"name\": \"POSA_CONTINENT\", \"type\": \"string\", \"categorical\": True},\n",
    "        {\"name\": \"USER_LOCATION_COUNTRY\", \"type\": \"string\", \"categorical\":True},\n",
    "        {\"name\": \"USER_LOCATION_REGION\", \"type\": \"string\", \"categorical\": True}\n",
    "    ],\n",
    "    \"version\": \"1.0\"\n",
    "}\n",
    "\n",
    "create_schema_users = personalize.create_schema(name = \"user-schema\", schema = json.dumps(schema_users))\n",
    "schema_arn_users = create_schema_users['schemaArn']\n",
    "f'schema_arn_users: {schema_arn_users}'"
   ]
  },
  {
   "cell_type": "markdown",
   "metadata": {},
   "source": [
    "**ITEMS schema**"
   ]
  },
  {
   "cell_type": "code",
   "execution_count": 18,
   "metadata": {
    "ExecuteTime": {
     "end_time": "2019-12-09T13:48:52.212562Z",
     "start_time": "2019-12-09T13:48:52.097719Z"
    }
   },
   "outputs": [
    {
     "data": {
      "text/plain": [
       "'schema_arn_items: arn:aws:personalize:eu-west-1:257446244580:schema/item-schema'"
      ]
     },
     "execution_count": 18,
     "metadata": {},
     "output_type": "execute_result"
    }
   ],
   "source": [
    "schema_items = {\n",
    "    \"type\": \"record\",\n",
    "    \"name\": \"Items\",\n",
    "    \"namespace\": \"com.amazonaws.personalize.schema\",\n",
    "    \"fields\": [\n",
    "        {\"name\": \"ITEM_ID\", \"type\": \"string\"},\n",
    "        {\"name\": \"SRCH_DESTINATION_TYPE_ID\", \"type\": \"string\", \"categorical\": True},\n",
    "        {\"name\": \"HOTEL_CONTINENT\", \"type\": \"string\", \"categorical\": True},\n",
    "        {\"name\": \"HOTEL_COUNTRY\", \"type\": \"string\", \"categorical\":True},\n",
    "        {\"name\": \"HOTEL_MARKET\", \"type\": \"string\", \"categorical\": True}\n",
    "    ],\n",
    "    \"version\": \"1.0\"\n",
    "}\n",
    "\n",
    "create_schema_items = personalize.create_schema(name = \"item-schema\", schema = json.dumps(schema_items))\n",
    "schema_arn_items = create_schema_items['schemaArn']\n",
    "f'schema_arn_items: {schema_arn_items}'"
   ]
  },
  {
   "cell_type": "markdown",
   "metadata": {},
   "source": [
    "### Creating a dataset group"
   ]
  },
  {
   "cell_type": "code",
   "execution_count": 19,
   "metadata": {
    "ExecuteTime": {
     "end_time": "2019-12-09T13:49:37.232095Z",
     "start_time": "2019-12-09T13:49:37.148540Z"
    }
   },
   "outputs": [
    {
     "data": {
      "text/plain": [
       "'dataset_group_arn: arn:aws:personalize:eu-west-1:257446244580:dataset-group/expedia'"
      ]
     },
     "execution_count": 19,
     "metadata": {},
     "output_type": "execute_result"
    }
   ],
   "source": [
    "create_dataset_group_response = personalize.create_dataset_group(name = \"expedia\")\n",
    "dataset_group_arn = create_dataset_group_response['datasetGroupArn']\n",
    "f'dataset_group_arn: {dataset_group_arn}'"
   ]
  },
  {
   "cell_type": "markdown",
   "metadata": {},
   "source": [
    "### Creating datasets within dataset group"
   ]
  },
  {
   "cell_type": "markdown",
   "metadata": {},
   "source": [
    "**INTERACTIONS dataset**"
   ]
  },
  {
   "cell_type": "code",
   "execution_count": 21,
   "metadata": {
    "ExecuteTime": {
     "end_time": "2019-12-09T13:50:46.942590Z",
     "start_time": "2019-12-09T13:50:46.664710Z"
    }
   },
   "outputs": [
    {
     "data": {
      "text/plain": [
       "'inter_ds_arn: arn:aws:personalize:eu-west-1:257446244580:dataset/expedia/INTERACTIONS'"
      ]
     },
     "execution_count": 21,
     "metadata": {},
     "output_type": "execute_result"
    }
   ],
   "source": [
    "inter_ds = personalize.create_dataset(name = 'interactions-ds',\n",
    "                                      schemaArn = schema_arn_inter,\n",
    "                                      datasetGroupArn = dataset_group_arn,\n",
    "                                      datasetType = 'Interactions')\n",
    "\n",
    "f\"inter_ds_arn: {inter_ds['datasetArn']}\""
   ]
  },
  {
   "cell_type": "markdown",
   "metadata": {},
   "source": [
    "**USERS dataset**"
   ]
  },
  {
   "cell_type": "code",
   "execution_count": 23,
   "metadata": {
    "ExecuteTime": {
     "end_time": "2019-12-09T13:51:28.040663Z",
     "start_time": "2019-12-09T13:51:27.952696Z"
    }
   },
   "outputs": [
    {
     "data": {
      "text/plain": [
       "'inter_ds_arn: arn:aws:personalize:eu-west-1:257446244580:dataset/expedia/USERS'"
      ]
     },
     "execution_count": 23,
     "metadata": {},
     "output_type": "execute_result"
    }
   ],
   "source": [
    "users_ds = personalize.create_dataset(name = 'users-ds',\n",
    "                                      schemaArn = schema_arn_users,\n",
    "                                      datasetGroupArn = dataset_group_arn,\n",
    "                                      datasetType = 'Users')\n",
    "\n",
    "f\"inter_ds_arn: {users_ds['datasetArn']}\""
   ]
  },
  {
   "cell_type": "markdown",
   "metadata": {},
   "source": [
    "**ITEMS dataset**"
   ]
  },
  {
   "cell_type": "code",
   "execution_count": 24,
   "metadata": {
    "ExecuteTime": {
     "end_time": "2019-12-09T13:51:47.594184Z",
     "start_time": "2019-12-09T13:51:47.515190Z"
    }
   },
   "outputs": [
    {
     "data": {
      "text/plain": [
       "'inter_ds_arn: arn:aws:personalize:eu-west-1:257446244580:dataset/expedia/ITEMS'"
      ]
     },
     "execution_count": 24,
     "metadata": {},
     "output_type": "execute_result"
    }
   ],
   "source": [
    "items_ds = personalize.create_dataset(name = 'items-ds',\n",
    "                                      schemaArn = schema_arn_items,\n",
    "                                      datasetGroupArn = dataset_group_arn,\n",
    "                                      datasetType = 'Items')\n",
    "\n",
    "f\"inter_ds_arn: {items_ds['datasetArn']}\""
   ]
  },
  {
   "cell_type": "markdown",
   "metadata": {},
   "source": [
    "### Creating Import Jobs to load data from S3 into Personalize datasets"
   ]
  },
  {
   "cell_type": "code",
   "execution_count": 11,
   "metadata": {
    "ExecuteTime": {
     "end_time": "2019-12-07T00:04:35.106987Z",
     "start_time": "2019-12-07T00:04:34.135173Z"
    }
   },
   "outputs": [
    {
     "data": {
      "text/plain": [
       "{'ResponseMetadata': {'RequestId': '129466020D1FB060',\n",
       "  'HostId': 'nEN+qc0Caimz80HaFZlkSr4mj3E5pxcJZvlKu8SNidMfYQwav3YQXpLhnwx69EQDdvVA2vS8/Ps=',\n",
       "  'HTTPStatusCode': 204,\n",
       "  'HTTPHeaders': {'x-amz-id-2': 'nEN+qc0Caimz80HaFZlkSr4mj3E5pxcJZvlKu8SNidMfYQwav3YQXpLhnwx69EQDdvVA2vS8/Ps=',\n",
       "   'x-amz-request-id': '129466020D1FB060',\n",
       "   'date': 'Sat, 07 Dec 2019 00:04:35 GMT',\n",
       "   'server': 'AmazonS3'},\n",
       "  'RetryAttempts': 0}}"
      ]
     },
     "execution_count": 11,
     "metadata": {},
     "output_type": "execute_result"
    }
   ],
   "source": [
    "s3 = boto3.client(\"s3\")\n",
    "\n",
    "policy = {\n",
    "    \"Version\": \"2012-10-17\",\n",
    "    \"Id\": \"PersonalizeS3BucketAccessPolicy\",\n",
    "    \"Statement\": [\n",
    "        {\n",
    "            \"Sid\": \"PersonalizeS3BucketAccessPolicy\",\n",
    "            \"Effect\": \"Allow\",\n",
    "            \"Principal\": {\n",
    "                \"Service\": \"personalize.amazonaws.com\"\n",
    "            },\n",
    "            \"Action\": [\n",
    "                \"s3:GetObject\",\n",
    "                \"s3:ListBucket\"\n",
    "            ],\n",
    "            \"Resource\": [\n",
    "                \"arn:aws:s3:::{}\".format(bucket),\n",
    "                \"arn:aws:s3:::{}/*\".format(bucket)\n",
    "            ]\n",
    "        }\n",
    "    ]\n",
    "}\n",
    "\n",
    "s3.put_bucket_policy(Bucket=bucket, Policy=json.dumps(policy))"
   ]
  },
  {
   "cell_type": "markdown",
   "metadata": {},
   "source": [
    "**INTERACTIONS import job**"
   ]
  },
  {
   "cell_type": "code",
   "execution_count": 25,
   "metadata": {
    "ExecuteTime": {
     "end_time": "2019-12-09T13:51:58.370738Z",
     "start_time": "2019-12-09T13:51:57.679677Z"
    }
   },
   "outputs": [
    {
     "name": "stdout",
     "output_type": "stream",
     "text": [
      "Interactons dataset Import Job arn: arn:aws:personalize:eu-west-1:257446244580:dataset-import-job/interactions-ij\n",
      "Name: interactions-ij\n",
      "ARN: arn:aws:personalize:eu-west-1:257446244580:dataset-import-job/interactions-ij\n",
      "Status: CREATE PENDING\n"
     ]
    }
   ],
   "source": [
    "inter_ij = personalize.create_dataset_import_job(\n",
    "    jobName = 'interactions-ij',\n",
    "    datasetArn = inter_ds['datasetArn'],\n",
    "    dataSource = {'dataLocation':f's3://{bucket}/inter.csv'},\n",
    "    roleArn = 'arn:aws:iam::257446244580:role/expedia')\n",
    "\n",
    "inter_ij_arn = inter_ij['datasetImportJobArn']\n",
    "print ('Interactons dataset Import Job arn: ' + inter_ij_arn)\n",
    "\n",
    "description = personalize.describe_dataset_import_job(datasetImportJobArn = inter_ij_arn)['datasetImportJob']\n",
    "\n",
    "print('Name: ' + description['jobName'])\n",
    "print('ARN: ' + description['datasetImportJobArn'])\n",
    "print('Status: ' + description['status'])"
   ]
  },
  {
   "cell_type": "markdown",
   "metadata": {},
   "source": [
    "**USERS import job**"
   ]
  },
  {
   "cell_type": "code",
   "execution_count": 26,
   "metadata": {
    "ExecuteTime": {
     "end_time": "2019-12-09T14:05:21.198454Z",
     "start_time": "2019-12-09T14:05:20.349920Z"
    }
   },
   "outputs": [
    {
     "name": "stdout",
     "output_type": "stream",
     "text": [
      "Users dataset Import Job arn: arn:aws:personalize:eu-west-1:257446244580:dataset-import-job/users-ij\n",
      "Name: users-ij\n",
      "ARN: arn:aws:personalize:eu-west-1:257446244580:dataset-import-job/users-ij\n",
      "Status: CREATE PENDING\n"
     ]
    }
   ],
   "source": [
    "users_ij = personalize.create_dataset_import_job(\n",
    "    jobName = 'users-ij',\n",
    "    datasetArn = users_ds['datasetArn'],\n",
    "    dataSource = {'dataLocation':f's3://{bucket}/users.csv'},\n",
    "    roleArn = 'arn:aws:iam::257446244580:role/expedia')\n",
    "\n",
    "users_ij_arn = users_ij['datasetImportJobArn']\n",
    "print ('Users dataset Import Job arn: ' + users_ij_arn)\n",
    "\n",
    "description = personalize.describe_dataset_import_job(datasetImportJobArn = users_ij_arn)['datasetImportJob']\n",
    "\n",
    "print('Name: ' + description['jobName'])\n",
    "print('ARN: ' + description['datasetImportJobArn'])\n",
    "print('Status: ' + description['status'])"
   ]
  },
  {
   "cell_type": "markdown",
   "metadata": {},
   "source": [
    "**ITEMS import job**"
   ]
  },
  {
   "cell_type": "code",
   "execution_count": 29,
   "metadata": {
    "ExecuteTime": {
     "end_time": "2019-12-09T14:29:54.073469Z",
     "start_time": "2019-12-09T14:29:53.536142Z"
    }
   },
   "outputs": [
    {
     "data": {
      "text/plain": [
       "'schema_arn_items_no_market: arn:aws:personalize:eu-west-1:257446244580:schema/item-schema-no-market'"
      ]
     },
     "execution_count": 29,
     "metadata": {},
     "output_type": "execute_result"
    }
   ],
   "source": [
    "schema_items_no_market = {\n",
    "    \"type\": \"record\",\n",
    "    \"name\": \"Items\",\n",
    "    \"namespace\": \"com.amazonaws.personalize.schema\",\n",
    "    \"fields\": [\n",
    "        {\"name\": \"ITEM_ID\", \"type\": \"string\"},\n",
    "        {\"name\": \"SRCH_DESTINATION_TYPE_ID\", \"type\": \"string\", \"categorical\": True},\n",
    "        {\"name\": \"HOTEL_CONTINENT\", \"type\": \"string\", \"categorical\": True},\n",
    "        {\"name\": \"HOTEL_COUNTRY\", \"type\": \"string\", \"categorical\":True}\n",
    "    ],\n",
    "    \"version\": \"1.0\"\n",
    "}\n",
    "\n",
    "create_schema_items_no_market = personalize.create_schema(name = \"item-schema-no-market\", schema = json.dumps(schema_items))\n",
    "schema_arn_items_no_market = create_schema_items_no_market['schemaArn']\n",
    "f'schema_arn_items_no_market: {schema_arn_items_no_market}'"
   ]
  },
  {
   "cell_type": "code",
   "execution_count": 27,
   "metadata": {
    "ExecuteTime": {
     "end_time": "2019-12-09T14:06:24.875289Z",
     "start_time": "2019-12-09T14:06:24.006299Z"
    }
   },
   "outputs": [
    {
     "name": "stdout",
     "output_type": "stream",
     "text": [
      "Items dataset Import Job arn: arn:aws:personalize:eu-west-1:257446244580:dataset-import-job/items-ij\n",
      "Name: items-ij\n",
      "ARN: arn:aws:personalize:eu-west-1:257446244580:dataset-import-job/items-ij\n",
      "Status: CREATE PENDING\n"
     ]
    }
   ],
   "source": [
    "items_ij = personalize.create_dataset_import_job(\n",
    "    jobName = 'items-ij',\n",
    "    datasetArn = items_ds['datasetArn'],\n",
    "    dataSource = {'dataLocation':f's3://{bucket}/items.csv'},\n",
    "    roleArn = 'arn:aws:iam::257446244580:role/expedia')\n",
    "\n",
    "items_ij_arn = items_ij['datasetImportJobArn']\n",
    "print ('Items dataset Import Job arn: ' + items_ij_arn)\n",
    "\n",
    "description = personalize.describe_dataset_import_job(datasetImportJobArn = items_ij_arn)['datasetImportJob']\n",
    "\n",
    "print('Name: ' + description['jobName'])\n",
    "print('ARN: ' + description['datasetImportJobArn'])\n",
    "print('Status: ' + description['status'])"
   ]
  }
 ],
 "metadata": {
  "kernelspec": {
   "display_name": "Python [conda env:fastai]",
   "language": "python",
   "name": "conda-env-fastai-py"
  },
  "language_info": {
   "codemirror_mode": {
    "name": "ipython",
    "version": 3
   },
   "file_extension": ".py",
   "mimetype": "text/x-python",
   "name": "python",
   "nbconvert_exporter": "python",
   "pygments_lexer": "ipython3",
   "version": "3.7.3"
  }
 },
 "nbformat": 4,
 "nbformat_minor": 4
}
