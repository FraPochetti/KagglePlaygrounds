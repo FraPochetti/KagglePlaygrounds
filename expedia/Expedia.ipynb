{
 "cells": [
  {
   "cell_type": "markdown",
   "metadata": {},
   "source": [
    "# Bulding an Expedia recommender engine with Amazon Personalize"
   ]
  },
  {
   "cell_type": "markdown",
   "metadata": {},
   "source": [
    "### Imports"
   ]
  },
  {
   "cell_type": "code",
   "execution_count": 1,
   "metadata": {
    "ExecuteTime": {
     "end_time": "2019-12-05T06:28:11.768961Z",
     "start_time": "2019-12-05T06:28:10.488347Z"
    }
   },
   "outputs": [],
   "source": [
    "import pandas as pd\n",
    "from functools import reduce\n",
    "import random\n",
    "import boto3"
   ]
  },
  {
   "cell_type": "markdown",
   "metadata": {},
   "source": [
    "### Helper functions"
   ]
  },
  {
   "cell_type": "code",
   "execution_count": 2,
   "metadata": {},
   "outputs": [],
   "source": [
    "def extract_feature(d, idx, col):\n",
    "    a = d.groupby([idx, col])[idx].nunique().to_frame('col')\n",
    "    a = a.reset_index().drop('col', axis=1).pivot(index=idx, columns=col,values=col)\n",
    "    a = a.astype('str')\n",
    "    a['new'] = a.apply('|'.join, axis=1)\n",
    "    a[col] = a.new.apply(lambda x: x.replace('|nan', '').replace('nan|', '').replace('.0', ''))\n",
    "    return a.loc[:,[col]].reset_index()\n",
    "\n",
    "def aggregate_features(d, idx, l, new):\n",
    "    u = []\n",
    "    for el in zip([idx]*len(l), l):\n",
    "        print(*el)\n",
    "        u.append(extract_feature(d, *el))\n",
    "    \n",
    "    u = reduce(lambda x, y: pd.merge(x, y, on = idx), u)\n",
    "    u.rename(columns={idx: new}, inplace=True)\n",
    "    u.columns = [c.upper() for c in u.columns]\n",
    "    return u\n",
    "    \n",
    "def upload_to_s3(b, f): boto3.Session().resource('s3').Bucket(b).Object(f).upload_file(f)"
   ]
  },
  {
   "cell_type": "markdown",
   "metadata": {},
   "source": [
    "### Loading data sample and select only transactions ending up in a booking"
   ]
  },
  {
   "cell_type": "code",
   "execution_count": 3,
   "metadata": {
    "ExecuteTime": {
     "end_time": "2019-12-05T06:28:37.311923Z",
     "start_time": "2019-12-05T06:28:11.771730Z"
    }
   },
   "outputs": [],
   "source": [
    "p = 0.03  # 3% of the lines\n",
    "# keep the header, then take only 3% of lines\n",
    "# if random from [0,1] interval is greater than 0.03 the row will be skipped\n",
    "df = pd.read_csv(\n",
    "         '/home/ec2-user/SageMaker/data/train.csv',\n",
    "         header=0, \n",
    "         skiprows=lambda i: i>0 and random.random() > p\n",
    ")"
   ]
  },
  {
   "cell_type": "code",
   "execution_count": 4,
   "metadata": {
    "ExecuteTime": {
     "end_time": "2019-12-05T06:28:37.325886Z",
     "start_time": "2019-12-05T06:28:37.313950Z"
    }
   },
   "outputs": [
    {
     "data": {
      "text/plain": [
       "(1129696, 24)"
      ]
     },
     "execution_count": 4,
     "metadata": {},
     "output_type": "execute_result"
    }
   ],
   "source": [
    "df.shape"
   ]
  },
  {
   "cell_type": "code",
   "execution_count": 5,
   "metadata": {
    "ExecuteTime": {
     "end_time": "2019-12-05T06:28:37.356801Z",
     "start_time": "2019-12-05T06:28:37.328882Z"
    }
   },
   "outputs": [
    {
     "data": {
      "text/html": [
       "<div>\n",
       "<style scoped>\n",
       "    .dataframe tbody tr th:only-of-type {\n",
       "        vertical-align: middle;\n",
       "    }\n",
       "\n",
       "    .dataframe tbody tr th {\n",
       "        vertical-align: top;\n",
       "    }\n",
       "\n",
       "    .dataframe thead th {\n",
       "        text-align: right;\n",
       "    }\n",
       "</style>\n",
       "<table border=\"1\" class=\"dataframe\">\n",
       "  <thead>\n",
       "    <tr style=\"text-align: right;\">\n",
       "      <th></th>\n",
       "      <th>0</th>\n",
       "      <th>1</th>\n",
       "      <th>2</th>\n",
       "      <th>3</th>\n",
       "      <th>4</th>\n",
       "    </tr>\n",
       "  </thead>\n",
       "  <tbody>\n",
       "    <tr>\n",
       "      <th>date_time</th>\n",
       "      <td>2014-01-08 13:38:03</td>\n",
       "      <td>2014-07-18 01:30:54</td>\n",
       "      <td>2014-12-25 03:25:58</td>\n",
       "      <td>2014-12-29 01:18:50</td>\n",
       "      <td>2014-12-30 01:19:53</td>\n",
       "    </tr>\n",
       "    <tr>\n",
       "      <th>site_name</th>\n",
       "      <td>2</td>\n",
       "      <td>24</td>\n",
       "      <td>24</td>\n",
       "      <td>24</td>\n",
       "      <td>24</td>\n",
       "    </tr>\n",
       "    <tr>\n",
       "      <th>posa_continent</th>\n",
       "      <td>3</td>\n",
       "      <td>2</td>\n",
       "      <td>2</td>\n",
       "      <td>2</td>\n",
       "      <td>2</td>\n",
       "    </tr>\n",
       "    <tr>\n",
       "      <th>user_location_country</th>\n",
       "      <td>66</td>\n",
       "      <td>3</td>\n",
       "      <td>3</td>\n",
       "      <td>3</td>\n",
       "      <td>3</td>\n",
       "    </tr>\n",
       "    <tr>\n",
       "      <th>user_location_region</th>\n",
       "      <td>462</td>\n",
       "      <td>64</td>\n",
       "      <td>64</td>\n",
       "      <td>64</td>\n",
       "      <td>64</td>\n",
       "    </tr>\n",
       "    <tr>\n",
       "      <th>user_location_city</th>\n",
       "      <td>41898</td>\n",
       "      <td>12576</td>\n",
       "      <td>9448</td>\n",
       "      <td>9448</td>\n",
       "      <td>9448</td>\n",
       "    </tr>\n",
       "    <tr>\n",
       "      <th>orig_destination_distance</th>\n",
       "      <td>2454.86</td>\n",
       "      <td>NaN</td>\n",
       "      <td>NaN</td>\n",
       "      <td>NaN</td>\n",
       "      <td>NaN</td>\n",
       "    </tr>\n",
       "    <tr>\n",
       "      <th>user_id</th>\n",
       "      <td>1482</td>\n",
       "      <td>2451</td>\n",
       "      <td>2451</td>\n",
       "      <td>2451</td>\n",
       "      <td>2451</td>\n",
       "    </tr>\n",
       "    <tr>\n",
       "      <th>is_mobile</th>\n",
       "      <td>0</td>\n",
       "      <td>0</td>\n",
       "      <td>1</td>\n",
       "      <td>0</td>\n",
       "      <td>1</td>\n",
       "    </tr>\n",
       "    <tr>\n",
       "      <th>is_package</th>\n",
       "      <td>1</td>\n",
       "      <td>0</td>\n",
       "      <td>0</td>\n",
       "      <td>0</td>\n",
       "      <td>0</td>\n",
       "    </tr>\n",
       "    <tr>\n",
       "      <th>channel</th>\n",
       "      <td>1</td>\n",
       "      <td>2</td>\n",
       "      <td>9</td>\n",
       "      <td>4</td>\n",
       "      <td>9</td>\n",
       "    </tr>\n",
       "    <tr>\n",
       "      <th>srch_ci</th>\n",
       "      <td>2014-02-21</td>\n",
       "      <td>2014-08-30</td>\n",
       "      <td>2015-02-06</td>\n",
       "      <td>2015-02-10</td>\n",
       "      <td>2015-02-06</td>\n",
       "    </tr>\n",
       "    <tr>\n",
       "      <th>srch_co</th>\n",
       "      <td>2014-02-24</td>\n",
       "      <td>2014-08-31</td>\n",
       "      <td>2015-02-07</td>\n",
       "      <td>2015-02-11</td>\n",
       "      <td>2015-02-07</td>\n",
       "    </tr>\n",
       "    <tr>\n",
       "      <th>srch_adults_cnt</th>\n",
       "      <td>2</td>\n",
       "      <td>2</td>\n",
       "      <td>2</td>\n",
       "      <td>2</td>\n",
       "      <td>2</td>\n",
       "    </tr>\n",
       "    <tr>\n",
       "      <th>srch_children_cnt</th>\n",
       "      <td>0</td>\n",
       "      <td>0</td>\n",
       "      <td>0</td>\n",
       "      <td>0</td>\n",
       "      <td>0</td>\n",
       "    </tr>\n",
       "    <tr>\n",
       "      <th>srch_rm_cnt</th>\n",
       "      <td>1</td>\n",
       "      <td>1</td>\n",
       "      <td>1</td>\n",
       "      <td>1</td>\n",
       "      <td>1</td>\n",
       "    </tr>\n",
       "    <tr>\n",
       "      <th>srch_destination_id</th>\n",
       "      <td>12009</td>\n",
       "      <td>8746</td>\n",
       "      <td>8785</td>\n",
       "      <td>8746</td>\n",
       "      <td>8785</td>\n",
       "    </tr>\n",
       "    <tr>\n",
       "      <th>srch_destination_type_id</th>\n",
       "      <td>1</td>\n",
       "      <td>1</td>\n",
       "      <td>1</td>\n",
       "      <td>1</td>\n",
       "      <td>1</td>\n",
       "    </tr>\n",
       "    <tr>\n",
       "      <th>is_booking</th>\n",
       "      <td>0</td>\n",
       "      <td>0</td>\n",
       "      <td>0</td>\n",
       "      <td>0</td>\n",
       "      <td>0</td>\n",
       "    </tr>\n",
       "    <tr>\n",
       "      <th>cnt</th>\n",
       "      <td>3</td>\n",
       "      <td>1</td>\n",
       "      <td>1</td>\n",
       "      <td>1</td>\n",
       "      <td>1</td>\n",
       "    </tr>\n",
       "    <tr>\n",
       "      <th>hotel_continent</th>\n",
       "      <td>2</td>\n",
       "      <td>6</td>\n",
       "      <td>6</td>\n",
       "      <td>6</td>\n",
       "      <td>6</td>\n",
       "    </tr>\n",
       "    <tr>\n",
       "      <th>hotel_country</th>\n",
       "      <td>50</td>\n",
       "      <td>105</td>\n",
       "      <td>105</td>\n",
       "      <td>105</td>\n",
       "      <td>105</td>\n",
       "    </tr>\n",
       "    <tr>\n",
       "      <th>hotel_market</th>\n",
       "      <td>680</td>\n",
       "      <td>29</td>\n",
       "      <td>809</td>\n",
       "      <td>29</td>\n",
       "      <td>809</td>\n",
       "    </tr>\n",
       "    <tr>\n",
       "      <th>hotel_cluster</th>\n",
       "      <td>95</td>\n",
       "      <td>38</td>\n",
       "      <td>59</td>\n",
       "      <td>99</td>\n",
       "      <td>59</td>\n",
       "    </tr>\n",
       "  </tbody>\n",
       "</table>\n",
       "</div>"
      ],
      "text/plain": [
       "                                             0                    1  \\\n",
       "date_time                  2014-01-08 13:38:03  2014-07-18 01:30:54   \n",
       "site_name                                    2                   24   \n",
       "posa_continent                               3                    2   \n",
       "user_location_country                       66                    3   \n",
       "user_location_region                       462                   64   \n",
       "user_location_city                       41898                12576   \n",
       "orig_destination_distance              2454.86                  NaN   \n",
       "user_id                                   1482                 2451   \n",
       "is_mobile                                    0                    0   \n",
       "is_package                                   1                    0   \n",
       "channel                                      1                    2   \n",
       "srch_ci                             2014-02-21           2014-08-30   \n",
       "srch_co                             2014-02-24           2014-08-31   \n",
       "srch_adults_cnt                              2                    2   \n",
       "srch_children_cnt                            0                    0   \n",
       "srch_rm_cnt                                  1                    1   \n",
       "srch_destination_id                      12009                 8746   \n",
       "srch_destination_type_id                     1                    1   \n",
       "is_booking                                   0                    0   \n",
       "cnt                                          3                    1   \n",
       "hotel_continent                              2                    6   \n",
       "hotel_country                               50                  105   \n",
       "hotel_market                               680                   29   \n",
       "hotel_cluster                               95                   38   \n",
       "\n",
       "                                             2                    3  \\\n",
       "date_time                  2014-12-25 03:25:58  2014-12-29 01:18:50   \n",
       "site_name                                   24                   24   \n",
       "posa_continent                               2                    2   \n",
       "user_location_country                        3                    3   \n",
       "user_location_region                        64                   64   \n",
       "user_location_city                        9448                 9448   \n",
       "orig_destination_distance                  NaN                  NaN   \n",
       "user_id                                   2451                 2451   \n",
       "is_mobile                                    1                    0   \n",
       "is_package                                   0                    0   \n",
       "channel                                      9                    4   \n",
       "srch_ci                             2015-02-06           2015-02-10   \n",
       "srch_co                             2015-02-07           2015-02-11   \n",
       "srch_adults_cnt                              2                    2   \n",
       "srch_children_cnt                            0                    0   \n",
       "srch_rm_cnt                                  1                    1   \n",
       "srch_destination_id                       8785                 8746   \n",
       "srch_destination_type_id                     1                    1   \n",
       "is_booking                                   0                    0   \n",
       "cnt                                          1                    1   \n",
       "hotel_continent                              6                    6   \n",
       "hotel_country                              105                  105   \n",
       "hotel_market                               809                   29   \n",
       "hotel_cluster                               59                   99   \n",
       "\n",
       "                                             4  \n",
       "date_time                  2014-12-30 01:19:53  \n",
       "site_name                                   24  \n",
       "posa_continent                               2  \n",
       "user_location_country                        3  \n",
       "user_location_region                        64  \n",
       "user_location_city                        9448  \n",
       "orig_destination_distance                  NaN  \n",
       "user_id                                   2451  \n",
       "is_mobile                                    1  \n",
       "is_package                                   0  \n",
       "channel                                      9  \n",
       "srch_ci                             2015-02-06  \n",
       "srch_co                             2015-02-07  \n",
       "srch_adults_cnt                              2  \n",
       "srch_children_cnt                            0  \n",
       "srch_rm_cnt                                  1  \n",
       "srch_destination_id                       8785  \n",
       "srch_destination_type_id                     1  \n",
       "is_booking                                   0  \n",
       "cnt                                          1  \n",
       "hotel_continent                              6  \n",
       "hotel_country                              105  \n",
       "hotel_market                               809  \n",
       "hotel_cluster                               59  "
      ]
     },
     "execution_count": 5,
     "metadata": {},
     "output_type": "execute_result"
    }
   ],
   "source": [
    "df.head().T"
   ]
  },
  {
   "cell_type": "code",
   "execution_count": 6,
   "metadata": {
    "ExecuteTime": {
     "end_time": "2019-12-05T06:28:37.409660Z",
     "start_time": "2019-12-05T06:28:37.358799Z"
    }
   },
   "outputs": [
    {
     "data": {
      "text/plain": [
       "(523315,)"
      ]
     },
     "execution_count": 6,
     "metadata": {},
     "output_type": "execute_result"
    }
   ],
   "source": [
    "df.user_id.unique().shape"
   ]
  },
  {
   "cell_type": "code",
   "execution_count": 7,
   "metadata": {
    "ExecuteTime": {
     "end_time": "2019-12-05T06:28:37.424622Z",
     "start_time": "2019-12-05T06:28:37.411655Z"
    }
   },
   "outputs": [
    {
     "data": {
      "text/plain": [
       "90223"
      ]
     },
     "execution_count": 7,
     "metadata": {},
     "output_type": "execute_result"
    }
   ],
   "source": [
    "df.is_booking.sum()"
   ]
  },
  {
   "cell_type": "code",
   "execution_count": 8,
   "metadata": {
    "ExecuteTime": {
     "end_time": "2019-12-05T06:28:37.439582Z",
     "start_time": "2019-12-05T06:28:37.426618Z"
    }
   },
   "outputs": [
    {
     "data": {
      "text/plain": [
       "0.07986484859643657"
      ]
     },
     "execution_count": 8,
     "metadata": {},
     "output_type": "execute_result"
    }
   ],
   "source": [
    "df.is_booking.sum()/len(df)"
   ]
  },
  {
   "cell_type": "code",
   "execution_count": 9,
   "metadata": {
    "ExecuteTime": {
     "end_time": "2019-12-05T06:28:37.514380Z",
     "start_time": "2019-12-05T06:28:37.442573Z"
    }
   },
   "outputs": [],
   "source": [
    "df = df.loc[df.is_booking==1,:]"
   ]
  },
  {
   "cell_type": "code",
   "execution_count": 10,
   "metadata": {
    "ExecuteTime": {
     "end_time": "2019-12-05T06:28:37.521362Z",
     "start_time": "2019-12-05T06:28:37.516375Z"
    }
   },
   "outputs": [
    {
     "data": {
      "text/plain": [
       "(90223, 24)"
      ]
     },
     "execution_count": 10,
     "metadata": {},
     "output_type": "execute_result"
    }
   ],
   "source": [
    "df.shape"
   ]
  },
  {
   "cell_type": "markdown",
   "metadata": {},
   "source": [
    "### Getting user features"
   ]
  },
  {
   "cell_type": "code",
   "execution_count": 11,
   "metadata": {
    "ExecuteTime": {
     "end_time": "2019-12-05T06:28:37.528343Z",
     "start_time": "2019-12-05T06:28:37.523357Z"
    }
   },
   "outputs": [],
   "source": [
    "user_feats = ['site_name',\n",
    "             'posa_continent',\n",
    "             'user_location_country',\n",
    "             'user_location_region']"
   ]
  },
  {
   "cell_type": "code",
   "execution_count": 12,
   "metadata": {},
   "outputs": [
    {
     "name": "stdout",
     "output_type": "stream",
     "text": [
      "user_id site_name\n",
      "user_id posa_continent\n",
      "user_id user_location_country\n",
      "user_id user_location_region\n"
     ]
    }
   ],
   "source": [
    "users = aggregate_features(df, 'user_id', user_feats, 'USER_ID')"
   ]
  },
  {
   "cell_type": "code",
   "execution_count": 13,
   "metadata": {
    "ExecuteTime": {
     "end_time": "2019-12-05T06:28:47.697113Z",
     "start_time": "2019-12-05T06:28:37.554281Z"
    }
   },
   "outputs": [
    {
     "data": {
      "text/plain": [
       "(78886, 5)"
      ]
     },
     "execution_count": 13,
     "metadata": {},
     "output_type": "execute_result"
    }
   ],
   "source": [
    "users.shape"
   ]
  },
  {
   "cell_type": "code",
   "execution_count": 14,
   "metadata": {},
   "outputs": [
    {
     "data": {
      "text/html": [
       "<div>\n",
       "<style scoped>\n",
       "    .dataframe tbody tr th:only-of-type {\n",
       "        vertical-align: middle;\n",
       "    }\n",
       "\n",
       "    .dataframe tbody tr th {\n",
       "        vertical-align: top;\n",
       "    }\n",
       "\n",
       "    .dataframe thead th {\n",
       "        text-align: right;\n",
       "    }\n",
       "</style>\n",
       "<table border=\"1\" class=\"dataframe\">\n",
       "  <thead>\n",
       "    <tr style=\"text-align: right;\">\n",
       "      <th></th>\n",
       "      <th>USER_ID</th>\n",
       "      <th>SITE_NAME</th>\n",
       "      <th>POSA_CONTINENT</th>\n",
       "      <th>USER_LOCATION_COUNTRY</th>\n",
       "      <th>USER_LOCATION_REGION</th>\n",
       "    </tr>\n",
       "  </thead>\n",
       "  <tbody>\n",
       "    <tr>\n",
       "      <th>0</th>\n",
       "      <td>26</td>\n",
       "      <td>2</td>\n",
       "      <td>3</td>\n",
       "      <td>66</td>\n",
       "      <td>315</td>\n",
       "    </tr>\n",
       "    <tr>\n",
       "      <th>1</th>\n",
       "      <td>57</td>\n",
       "      <td>2</td>\n",
       "      <td>3</td>\n",
       "      <td>57</td>\n",
       "      <td>342</td>\n",
       "    </tr>\n",
       "    <tr>\n",
       "      <th>2</th>\n",
       "      <td>129</td>\n",
       "      <td>2</td>\n",
       "      <td>3</td>\n",
       "      <td>66</td>\n",
       "      <td>220</td>\n",
       "    </tr>\n",
       "    <tr>\n",
       "      <th>3</th>\n",
       "      <td>137</td>\n",
       "      <td>2</td>\n",
       "      <td>3</td>\n",
       "      <td>66</td>\n",
       "      <td>351</td>\n",
       "    </tr>\n",
       "    <tr>\n",
       "      <th>4</th>\n",
       "      <td>198</td>\n",
       "      <td>2</td>\n",
       "      <td>3</td>\n",
       "      <td>12</td>\n",
       "      <td>790</td>\n",
       "    </tr>\n",
       "  </tbody>\n",
       "</table>\n",
       "</div>"
      ],
      "text/plain": [
       "   USER_ID SITE_NAME POSA_CONTINENT USER_LOCATION_COUNTRY USER_LOCATION_REGION\n",
       "0       26         2              3                    66                  315\n",
       "1       57         2              3                    57                  342\n",
       "2      129         2              3                    66                  220\n",
       "3      137         2              3                    66                  351\n",
       "4      198         2              3                    12                  790"
      ]
     },
     "execution_count": 14,
     "metadata": {},
     "output_type": "execute_result"
    }
   ],
   "source": [
    "users.head()"
   ]
  },
  {
   "cell_type": "code",
   "execution_count": 23,
   "metadata": {},
   "outputs": [],
   "source": [
    "#users.to_csv('/home/ec2-user/SageMaker/data/users.csv', index=False)"
   ]
  },
  {
   "cell_type": "markdown",
   "metadata": {},
   "source": [
    "### Getting items (hotels) features"
   ]
  },
  {
   "cell_type": "code",
   "execution_count": 15,
   "metadata": {},
   "outputs": [],
   "source": [
    "item_feats = ['srch_destination_type_id',\n",
    "             'hotel_continent',\n",
    "             'hotel_country',\n",
    "             'hotel_market']"
   ]
  },
  {
   "cell_type": "code",
   "execution_count": 16,
   "metadata": {},
   "outputs": [
    {
     "name": "stdout",
     "output_type": "stream",
     "text": [
      "hotel_cluster site_name\n",
      "hotel_cluster posa_continent\n",
      "hotel_cluster user_location_country\n",
      "hotel_cluster user_location_region\n"
     ]
    }
   ],
   "source": [
    "items = aggregate_features(df, 'hotel_cluster', user_feats, 'ITEM_ID')"
   ]
  },
  {
   "cell_type": "code",
   "execution_count": 17,
   "metadata": {
    "ExecuteTime": {
     "end_time": "2019-12-05T06:28:47.699072Z",
     "start_time": "2019-12-05T06:28:10.508Z"
    }
   },
   "outputs": [
    {
     "data": {
      "text/plain": [
       "(100, 5)"
      ]
     },
     "execution_count": 17,
     "metadata": {},
     "output_type": "execute_result"
    }
   ],
   "source": [
    "items.shape"
   ]
  },
  {
   "cell_type": "code",
   "execution_count": 18,
   "metadata": {},
   "outputs": [
    {
     "data": {
      "text/html": [
       "<div>\n",
       "<style scoped>\n",
       "    .dataframe tbody tr th:only-of-type {\n",
       "        vertical-align: middle;\n",
       "    }\n",
       "\n",
       "    .dataframe tbody tr th {\n",
       "        vertical-align: top;\n",
       "    }\n",
       "\n",
       "    .dataframe thead th {\n",
       "        text-align: right;\n",
       "    }\n",
       "</style>\n",
       "<table border=\"1\" class=\"dataframe\">\n",
       "  <thead>\n",
       "    <tr style=\"text-align: right;\">\n",
       "      <th></th>\n",
       "      <th>ITEM_ID</th>\n",
       "      <th>SITE_NAME</th>\n",
       "      <th>POSA_CONTINENT</th>\n",
       "      <th>USER_LOCATION_COUNTRY</th>\n",
       "      <th>USER_LOCATION_REGION</th>\n",
       "    </tr>\n",
       "  </thead>\n",
       "  <tbody>\n",
       "    <tr>\n",
       "      <th>0</th>\n",
       "      <td>0</td>\n",
       "      <td>2|8|11|13|17|19|22|24|25|26|28|29|30|34|37</td>\n",
       "      <td>0|1|2|3|4</td>\n",
       "      <td>0|3|5|23|29|30|46|52|57|58|66|68|69|70|71|76|7...</td>\n",
       "      <td>0|3|11|21|25|26|38|44|47|48|49|50|51|57|58|63|...</td>\n",
       "    </tr>\n",
       "    <tr>\n",
       "      <th>1</th>\n",
       "      <td>1</td>\n",
       "      <td>2|8|9|10|11|13|17|18|19|23|24|25|26|28|29|30|3...</td>\n",
       "      <td>0|1|2|3|4</td>\n",
       "      <td>0|1|3|5|19|23|28|30|32|39|46|48|50|52|58|62|66...</td>\n",
       "      <td>0|9|11|13|16|17|20|23|26|32|37|38|41|45|47|48|...</td>\n",
       "    </tr>\n",
       "    <tr>\n",
       "      <th>2</th>\n",
       "      <td>2</td>\n",
       "      <td>2|7|8|9|11|13|14|15|17|18|22|23|24|25|26|27|28...</td>\n",
       "      <td>0|1|2|3|4</td>\n",
       "      <td>0|1|3|5|12|15|16|23|24|29|32|35|39|44|46|48|50...</td>\n",
       "      <td>0|3|4|9|12|13|16|17|18|20|23|24|26|27|28|29|31...</td>\n",
       "    </tr>\n",
       "    <tr>\n",
       "      <th>3</th>\n",
       "      <td>3</td>\n",
       "      <td>2|8|10|11|13|15|17|18|22|23|24|25|26|28|29|30|...</td>\n",
       "      <td>0|1|2|3|4</td>\n",
       "      <td>0|1|3|6|12|19|23|24|28|29|44|46|47|48|50|52|55...</td>\n",
       "      <td>0|11|13|20|22|23|25|32|38|39|41|44|45|47|48|49...</td>\n",
       "    </tr>\n",
       "    <tr>\n",
       "      <th>4</th>\n",
       "      <td>4</td>\n",
       "      <td>2|8|10|11|13|17|21|23|24|25|26|27|28|29|30|32|...</td>\n",
       "      <td>0|1|2|3|4</td>\n",
       "      <td>0|1|3|4|6|19|20|23|29|39|46|48|52|57|58|62|63|...</td>\n",
       "      <td>0|12|14|21|23|38|41|45|47|48|49|50|51|52|60|63...</td>\n",
       "    </tr>\n",
       "  </tbody>\n",
       "</table>\n",
       "</div>"
      ],
      "text/plain": [
       "   ITEM_ID                                          SITE_NAME POSA_CONTINENT  \\\n",
       "0        0         2|8|11|13|17|19|22|24|25|26|28|29|30|34|37      0|1|2|3|4   \n",
       "1        1  2|8|9|10|11|13|17|18|19|23|24|25|26|28|29|30|3...      0|1|2|3|4   \n",
       "2        2  2|7|8|9|11|13|14|15|17|18|22|23|24|25|26|27|28...      0|1|2|3|4   \n",
       "3        3  2|8|10|11|13|15|17|18|22|23|24|25|26|28|29|30|...      0|1|2|3|4   \n",
       "4        4  2|8|10|11|13|17|21|23|24|25|26|27|28|29|30|32|...      0|1|2|3|4   \n",
       "\n",
       "                               USER_LOCATION_COUNTRY  \\\n",
       "0  0|3|5|23|29|30|46|52|57|58|66|68|69|70|71|76|7...   \n",
       "1  0|1|3|5|19|23|28|30|32|39|46|48|50|52|58|62|66...   \n",
       "2  0|1|3|5|12|15|16|23|24|29|32|35|39|44|46|48|50...   \n",
       "3  0|1|3|6|12|19|23|24|28|29|44|46|47|48|50|52|55...   \n",
       "4  0|1|3|4|6|19|20|23|29|39|46|48|52|57|58|62|63|...   \n",
       "\n",
       "                                USER_LOCATION_REGION  \n",
       "0  0|3|11|21|25|26|38|44|47|48|49|50|51|57|58|63|...  \n",
       "1  0|9|11|13|16|17|20|23|26|32|37|38|41|45|47|48|...  \n",
       "2  0|3|4|9|12|13|16|17|18|20|23|24|26|27|28|29|31...  \n",
       "3  0|11|13|20|22|23|25|32|38|39|41|44|45|47|48|49...  \n",
       "4  0|12|14|21|23|38|41|45|47|48|49|50|51|52|60|63...  "
      ]
     },
     "execution_count": 18,
     "metadata": {},
     "output_type": "execute_result"
    }
   ],
   "source": [
    "items.head()"
   ]
  },
  {
   "cell_type": "code",
   "execution_count": 24,
   "metadata": {},
   "outputs": [],
   "source": [
    "#items.to_csv('/home/ec2-user/SageMaker/data/items.csv', index=False)"
   ]
  },
  {
   "cell_type": "markdown",
   "metadata": {},
   "source": [
    "### Getting user-items interactions"
   ]
  },
  {
   "cell_type": "code",
   "execution_count": 21,
   "metadata": {},
   "outputs": [
    {
     "data": {
      "text/plain": [
       "(90223, 3)"
      ]
     },
     "execution_count": 21,
     "metadata": {},
     "output_type": "execute_result"
    }
   ],
   "source": [
    "inter = df.loc[:,['user_id', 'hotel_cluster', 'date_time']]\n",
    "inter.rename({'user_id': 'USER_ID', 'hotel_cluster': 'ITEM_ID', 'date_time': 'TIMESTAMP'}, inplace=True)\n",
    "inter.shape"
   ]
  },
  {
   "cell_type": "code",
   "execution_count": 7,
   "metadata": {
    "ExecuteTime": {
     "end_time": "2019-12-06T14:43:06.835830Z",
     "start_time": "2019-12-06T14:43:06.826854Z"
    }
   },
   "outputs": [
    {
     "ename": "NameError",
     "evalue": "name 'inter' is not defined",
     "output_type": "error",
     "traceback": [
      "\u001b[1;31m---------------------------------------------------------------------------\u001b[0m",
      "\u001b[1;31mNameError\u001b[0m                                 Traceback (most recent call last)",
      "\u001b[1;32m<ipython-input-7-2003f9f96fa8>\u001b[0m in \u001b[0;36m<module>\u001b[1;34m\u001b[0m\n\u001b[1;32m----> 1\u001b[1;33m \u001b[0minter\u001b[0m\u001b[1;33m.\u001b[0m\u001b[0mhead\u001b[0m\u001b[1;33m(\u001b[0m\u001b[1;33m)\u001b[0m\u001b[1;33m\u001b[0m\u001b[1;33m\u001b[0m\u001b[0m\n\u001b[0m",
      "\u001b[1;31mNameError\u001b[0m: name 'inter' is not defined"
     ]
    }
   ],
   "source": [
    "inter.head()"
   ]
  },
  {
   "cell_type": "code",
   "execution_count": 25,
   "metadata": {},
   "outputs": [],
   "source": [
    "#inter.to_csv('/home/ec2-user/SageMaker/data/inter.csv', index=False)"
   ]
  },
  {
   "cell_type": "markdown",
   "metadata": {},
   "source": [
    "## AWS Personalize"
   ]
  },
  {
   "cell_type": "markdown",
   "metadata": {},
   "source": [
    "### Moving CSV files to S3"
   ]
  },
  {
   "cell_type": "code",
   "execution_count": 6,
   "metadata": {
    "ExecuteTime": {
     "end_time": "2019-12-06T14:41:03.774972Z",
     "start_time": "2019-12-06T14:40:44.665400Z"
    }
   },
   "outputs": [],
   "source": [
    "bucket = 'francesco-ml-tests'\n",
    "upload_to_s3(bucket, 'inter.csv')\n",
    "upload_to_s3(bucket, 'users.csv')\n",
    "upload_to_s3(bucket, 'items.csv')"
   ]
  },
  {
   "cell_type": "markdown",
   "metadata": {},
   "source": [
    "### Creating schemas for Personalize to properly read the data"
   ]
  },
  {
   "cell_type": "code",
   "execution_count": 1,
   "metadata": {
    "ExecuteTime": {
     "end_time": "2019-12-06T14:34:49.424270Z",
     "start_time": "2019-12-06T14:34:48.723851Z"
    }
   },
   "outputs": [],
   "source": [
    "personalize = boto3.client('personalize')"
   ]
  },
  {
   "cell_type": "code",
   "execution_count": null,
   "metadata": {},
   "outputs": [],
   "source": [
    "schema = {\n",
    "    \"type\": \"record\",\n",
    "    \"name\": \"Interactions\",\n",
    "    \"namespace\": \"com.amazonaws.personalize.schema\",\n",
    "    \"fields\": [\n",
    "        {\n",
    "            \"name\": \"USER_ID\",\n",
    "            \"type\": \"string\"\n",
    "        },\n",
    "        {\n",
    "            \"name\": \"ITEM_ID\",\n",
    "            \"type\": \"string\"\n",
    "        },\n",
    "        {\n",
    "            \"name\": \"TIMESTAMP\",\n",
    "            \"type\": \"long\"\n",
    "        }\n",
    "    ],\n",
    "    \"version\": \"1.0\"\n",
    "}\n",
    "\n",
    "create_schema_response = personalize.create_schema(\n",
    "    name = \"personalize-demo-schema\",\n",
    "    schema = json.dumps(schema)\n",
    ")\n",
    "\n",
    "schema_arn = create_schema_response['schemaArn']\n",
    "print(json.dumps(create_schema_response, indent=2))"
   ]
  }
 ],
 "metadata": {
  "kernelspec": {
   "display_name": "Python [conda env:fastai]",
   "language": "python",
   "name": "conda-env-fastai-py"
  },
  "language_info": {
   "codemirror_mode": {
    "name": "ipython",
    "version": 3
   },
   "file_extension": ".py",
   "mimetype": "text/x-python",
   "name": "python",
   "nbconvert_exporter": "python",
   "pygments_lexer": "ipython3",
   "version": "3.7.3"
  }
 },
 "nbformat": 4,
 "nbformat_minor": 4
}
