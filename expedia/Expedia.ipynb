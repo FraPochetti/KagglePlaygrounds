{
 "cells": [
  {
   "cell_type": "markdown",
   "metadata": {},
   "source": [
    "# Bulding an Expedia recommender engine with Amazon Personalize"
   ]
  },
  {
   "cell_type": "markdown",
   "metadata": {},
   "source": [
    "### Imports"
   ]
  },
  {
   "cell_type": "code",
   "execution_count": 1,
   "metadata": {
    "ExecuteTime": {
     "end_time": "2019-12-09T13:12:51.347886Z",
     "start_time": "2019-12-09T13:12:47.042280Z"
    }
   },
   "outputs": [],
   "source": [
    "import pandas as pd\n",
    "from functools import reduce\n",
    "import random\n",
    "import boto3\n",
    "import time\n",
    "import json\n",
    "\n",
    "bucket = 'pochetti-personalize'"
   ]
  },
  {
   "cell_type": "markdown",
   "metadata": {},
   "source": [
    "### Helper functions"
   ]
  },
  {
   "cell_type": "code",
   "execution_count": 2,
   "metadata": {
    "ExecuteTime": {
     "end_time": "2019-12-09T13:12:55.938142Z",
     "start_time": "2019-12-09T13:12:55.929166Z"
    }
   },
   "outputs": [],
   "source": [
    "def extract_feature(d, idx, col):\n",
    "    a = d.groupby([idx, col])[idx].nunique().to_frame('col')\n",
    "    a = a.reset_index().drop('col', axis=1).pivot(index=idx, columns=col,values=col)\n",
    "    a = a.astype('str')\n",
    "    a['new'] = a.apply('|'.join, axis=1)\n",
    "    a[col] = a.new.apply(lambda x: x.replace('|nan', '').replace('nan|', '').replace('.0', ''))\n",
    "    return a.loc[:,[col]].reset_index()\n",
    "\n",
    "def aggregate_features(d, idx, l, new):\n",
    "    u = []\n",
    "    for el in zip([idx]*len(l), l):\n",
    "        print(*el)\n",
    "        u.append(extract_feature(d, *el))\n",
    "    \n",
    "    u = reduce(lambda x, y: pd.merge(x, y, on = idx), u)\n",
    "    u.rename(columns={idx: new}, inplace=True)\n",
    "    u.columns = [c.upper() for c in u.columns]\n",
    "    return u\n",
    "    \n",
    "def upload_to_s3(b, f): boto3.Session().resource('s3').Bucket(b).Object(f).upload_file(f)"
   ]
  },
  {
   "cell_type": "markdown",
   "metadata": {},
   "source": [
    "### Loading data sample and select only transactions ending up in a booking"
   ]
  },
  {
   "cell_type": "code",
   "execution_count": 3,
   "metadata": {
    "ExecuteTime": {
     "end_time": "2019-12-05T06:28:37.311923Z",
     "start_time": "2019-12-05T06:28:11.771730Z"
    }
   },
   "outputs": [],
   "source": [
    "p = 0.03  # 3% of the lines\n",
    "# keep the header, then take only 3% of lines\n",
    "# if random from [0,1] interval is greater than 0.03 the row will be skipped\n",
    "df = pd.read_csv(\n",
    "         '/home/ec2-user/SageMaker/data/train.csv',\n",
    "         header=0, \n",
    "         skiprows=lambda i: i>0 and random.random() > p\n",
    ")"
   ]
  },
  {
   "cell_type": "code",
   "execution_count": 4,
   "metadata": {
    "ExecuteTime": {
     "end_time": "2019-12-05T06:28:37.325886Z",
     "start_time": "2019-12-05T06:28:37.313950Z"
    }
   },
   "outputs": [
    {
     "data": {
      "text/plain": [
       "(1130695, 24)"
      ]
     },
     "execution_count": 4,
     "metadata": {},
     "output_type": "execute_result"
    }
   ],
   "source": [
    "df.shape"
   ]
  },
  {
   "cell_type": "code",
   "execution_count": 5,
   "metadata": {
    "ExecuteTime": {
     "end_time": "2019-12-05T06:28:37.356801Z",
     "start_time": "2019-12-05T06:28:37.328882Z"
    }
   },
   "outputs": [
    {
     "data": {
      "text/html": [
       "<div>\n",
       "<style scoped>\n",
       "    .dataframe tbody tr th:only-of-type {\n",
       "        vertical-align: middle;\n",
       "    }\n",
       "\n",
       "    .dataframe tbody tr th {\n",
       "        vertical-align: top;\n",
       "    }\n",
       "\n",
       "    .dataframe thead th {\n",
       "        text-align: right;\n",
       "    }\n",
       "</style>\n",
       "<table border=\"1\" class=\"dataframe\">\n",
       "  <thead>\n",
       "    <tr style=\"text-align: right;\">\n",
       "      <th></th>\n",
       "      <th>0</th>\n",
       "      <th>1</th>\n",
       "      <th>2</th>\n",
       "      <th>3</th>\n",
       "      <th>4</th>\n",
       "    </tr>\n",
       "  </thead>\n",
       "  <tbody>\n",
       "    <tr>\n",
       "      <th>date_time</th>\n",
       "      <td>2014-08-11 08:24:33</td>\n",
       "      <td>2014-08-17 15:06:49</td>\n",
       "      <td>2014-12-26 18:24:16</td>\n",
       "      <td>2014-12-29 00:02:47</td>\n",
       "      <td>2014-12-30 06:04:13</td>\n",
       "    </tr>\n",
       "    <tr>\n",
       "      <th>site_name</th>\n",
       "      <td>2</td>\n",
       "      <td>24</td>\n",
       "      <td>24</td>\n",
       "      <td>24</td>\n",
       "      <td>24</td>\n",
       "    </tr>\n",
       "    <tr>\n",
       "      <th>posa_continent</th>\n",
       "      <td>3</td>\n",
       "      <td>2</td>\n",
       "      <td>2</td>\n",
       "      <td>2</td>\n",
       "      <td>2</td>\n",
       "    </tr>\n",
       "    <tr>\n",
       "      <th>user_location_country</th>\n",
       "      <td>66</td>\n",
       "      <td>3</td>\n",
       "      <td>3</td>\n",
       "      <td>3</td>\n",
       "      <td>3</td>\n",
       "    </tr>\n",
       "    <tr>\n",
       "      <th>user_location_region</th>\n",
       "      <td>348</td>\n",
       "      <td>64</td>\n",
       "      <td>64</td>\n",
       "      <td>64</td>\n",
       "      <td>64</td>\n",
       "    </tr>\n",
       "    <tr>\n",
       "      <th>user_location_city</th>\n",
       "      <td>48862</td>\n",
       "      <td>4777</td>\n",
       "      <td>9448</td>\n",
       "      <td>9448</td>\n",
       "      <td>9448</td>\n",
       "    </tr>\n",
       "    <tr>\n",
       "      <th>orig_destination_distance</th>\n",
       "      <td>2234.26</td>\n",
       "      <td>NaN</td>\n",
       "      <td>NaN</td>\n",
       "      <td>NaN</td>\n",
       "      <td>NaN</td>\n",
       "    </tr>\n",
       "    <tr>\n",
       "      <th>user_id</th>\n",
       "      <td>12</td>\n",
       "      <td>2451</td>\n",
       "      <td>2451</td>\n",
       "      <td>2451</td>\n",
       "      <td>2451</td>\n",
       "    </tr>\n",
       "    <tr>\n",
       "      <th>is_mobile</th>\n",
       "      <td>0</td>\n",
       "      <td>0</td>\n",
       "      <td>0</td>\n",
       "      <td>0</td>\n",
       "      <td>0</td>\n",
       "    </tr>\n",
       "    <tr>\n",
       "      <th>is_package</th>\n",
       "      <td>0</td>\n",
       "      <td>0</td>\n",
       "      <td>0</td>\n",
       "      <td>0</td>\n",
       "      <td>0</td>\n",
       "    </tr>\n",
       "    <tr>\n",
       "      <th>channel</th>\n",
       "      <td>9</td>\n",
       "      <td>2</td>\n",
       "      <td>4</td>\n",
       "      <td>4</td>\n",
       "      <td>4</td>\n",
       "    </tr>\n",
       "    <tr>\n",
       "      <th>srch_ci</th>\n",
       "      <td>2014-08-29</td>\n",
       "      <td>2014-08-27</td>\n",
       "      <td>2015-02-06</td>\n",
       "      <td>2015-02-04</td>\n",
       "      <td>2015-02-08</td>\n",
       "    </tr>\n",
       "    <tr>\n",
       "      <th>srch_co</th>\n",
       "      <td>2014-09-02</td>\n",
       "      <td>2014-08-28</td>\n",
       "      <td>2015-02-07</td>\n",
       "      <td>2015-02-05</td>\n",
       "      <td>2015-02-09</td>\n",
       "    </tr>\n",
       "    <tr>\n",
       "      <th>srch_adults_cnt</th>\n",
       "      <td>2</td>\n",
       "      <td>2</td>\n",
       "      <td>2</td>\n",
       "      <td>2</td>\n",
       "      <td>2</td>\n",
       "    </tr>\n",
       "    <tr>\n",
       "      <th>srch_children_cnt</th>\n",
       "      <td>0</td>\n",
       "      <td>0</td>\n",
       "      <td>0</td>\n",
       "      <td>0</td>\n",
       "      <td>0</td>\n",
       "    </tr>\n",
       "    <tr>\n",
       "      <th>srch_rm_cnt</th>\n",
       "      <td>1</td>\n",
       "      <td>1</td>\n",
       "      <td>1</td>\n",
       "      <td>1</td>\n",
       "      <td>1</td>\n",
       "    </tr>\n",
       "    <tr>\n",
       "      <th>srch_destination_id</th>\n",
       "      <td>8250</td>\n",
       "      <td>17823</td>\n",
       "      <td>14041</td>\n",
       "      <td>18492</td>\n",
       "      <td>33393</td>\n",
       "    </tr>\n",
       "    <tr>\n",
       "      <th>srch_destination_type_id</th>\n",
       "      <td>1</td>\n",
       "      <td>1</td>\n",
       "      <td>6</td>\n",
       "      <td>6</td>\n",
       "      <td>6</td>\n",
       "    </tr>\n",
       "    <tr>\n",
       "      <th>is_booking</th>\n",
       "      <td>0</td>\n",
       "      <td>0</td>\n",
       "      <td>0</td>\n",
       "      <td>0</td>\n",
       "      <td>0</td>\n",
       "    </tr>\n",
       "    <tr>\n",
       "      <th>cnt</th>\n",
       "      <td>1</td>\n",
       "      <td>1</td>\n",
       "      <td>2</td>\n",
       "      <td>1</td>\n",
       "      <td>1</td>\n",
       "    </tr>\n",
       "    <tr>\n",
       "      <th>hotel_continent</th>\n",
       "      <td>2</td>\n",
       "      <td>6</td>\n",
       "      <td>6</td>\n",
       "      <td>6</td>\n",
       "      <td>6</td>\n",
       "    </tr>\n",
       "    <tr>\n",
       "      <th>hotel_country</th>\n",
       "      <td>50</td>\n",
       "      <td>105</td>\n",
       "      <td>105</td>\n",
       "      <td>105</td>\n",
       "      <td>105</td>\n",
       "    </tr>\n",
       "    <tr>\n",
       "      <th>hotel_market</th>\n",
       "      <td>628</td>\n",
       "      <td>770</td>\n",
       "      <td>35</td>\n",
       "      <td>29</td>\n",
       "      <td>12</td>\n",
       "    </tr>\n",
       "    <tr>\n",
       "      <th>hotel_cluster</th>\n",
       "      <td>1</td>\n",
       "      <td>60</td>\n",
       "      <td>64</td>\n",
       "      <td>35</td>\n",
       "      <td>51</td>\n",
       "    </tr>\n",
       "  </tbody>\n",
       "</table>\n",
       "</div>"
      ],
      "text/plain": [
       "                                             0                    1  \\\n",
       "date_time                  2014-08-11 08:24:33  2014-08-17 15:06:49   \n",
       "site_name                                    2                   24   \n",
       "posa_continent                               3                    2   \n",
       "user_location_country                       66                    3   \n",
       "user_location_region                       348                   64   \n",
       "user_location_city                       48862                 4777   \n",
       "orig_destination_distance              2234.26                  NaN   \n",
       "user_id                                     12                 2451   \n",
       "is_mobile                                    0                    0   \n",
       "is_package                                   0                    0   \n",
       "channel                                      9                    2   \n",
       "srch_ci                             2014-08-29           2014-08-27   \n",
       "srch_co                             2014-09-02           2014-08-28   \n",
       "srch_adults_cnt                              2                    2   \n",
       "srch_children_cnt                            0                    0   \n",
       "srch_rm_cnt                                  1                    1   \n",
       "srch_destination_id                       8250                17823   \n",
       "srch_destination_type_id                     1                    1   \n",
       "is_booking                                   0                    0   \n",
       "cnt                                          1                    1   \n",
       "hotel_continent                              2                    6   \n",
       "hotel_country                               50                  105   \n",
       "hotel_market                               628                  770   \n",
       "hotel_cluster                                1                   60   \n",
       "\n",
       "                                             2                    3  \\\n",
       "date_time                  2014-12-26 18:24:16  2014-12-29 00:02:47   \n",
       "site_name                                   24                   24   \n",
       "posa_continent                               2                    2   \n",
       "user_location_country                        3                    3   \n",
       "user_location_region                        64                   64   \n",
       "user_location_city                        9448                 9448   \n",
       "orig_destination_distance                  NaN                  NaN   \n",
       "user_id                                   2451                 2451   \n",
       "is_mobile                                    0                    0   \n",
       "is_package                                   0                    0   \n",
       "channel                                      4                    4   \n",
       "srch_ci                             2015-02-06           2015-02-04   \n",
       "srch_co                             2015-02-07           2015-02-05   \n",
       "srch_adults_cnt                              2                    2   \n",
       "srch_children_cnt                            0                    0   \n",
       "srch_rm_cnt                                  1                    1   \n",
       "srch_destination_id                      14041                18492   \n",
       "srch_destination_type_id                     6                    6   \n",
       "is_booking                                   0                    0   \n",
       "cnt                                          2                    1   \n",
       "hotel_continent                              6                    6   \n",
       "hotel_country                              105                  105   \n",
       "hotel_market                                35                   29   \n",
       "hotel_cluster                               64                   35   \n",
       "\n",
       "                                             4  \n",
       "date_time                  2014-12-30 06:04:13  \n",
       "site_name                                   24  \n",
       "posa_continent                               2  \n",
       "user_location_country                        3  \n",
       "user_location_region                        64  \n",
       "user_location_city                        9448  \n",
       "orig_destination_distance                  NaN  \n",
       "user_id                                   2451  \n",
       "is_mobile                                    0  \n",
       "is_package                                   0  \n",
       "channel                                      4  \n",
       "srch_ci                             2015-02-08  \n",
       "srch_co                             2015-02-09  \n",
       "srch_adults_cnt                              2  \n",
       "srch_children_cnt                            0  \n",
       "srch_rm_cnt                                  1  \n",
       "srch_destination_id                      33393  \n",
       "srch_destination_type_id                     6  \n",
       "is_booking                                   0  \n",
       "cnt                                          1  \n",
       "hotel_continent                              6  \n",
       "hotel_country                              105  \n",
       "hotel_market                                12  \n",
       "hotel_cluster                               51  "
      ]
     },
     "execution_count": 5,
     "metadata": {},
     "output_type": "execute_result"
    }
   ],
   "source": [
    "df.head().T"
   ]
  },
  {
   "cell_type": "code",
   "execution_count": 6,
   "metadata": {
    "ExecuteTime": {
     "end_time": "2019-12-05T06:28:37.409660Z",
     "start_time": "2019-12-05T06:28:37.358799Z"
    }
   },
   "outputs": [
    {
     "data": {
      "text/plain": [
       "(522714,)"
      ]
     },
     "execution_count": 6,
     "metadata": {},
     "output_type": "execute_result"
    }
   ],
   "source": [
    "df.user_id.unique().shape"
   ]
  },
  {
   "cell_type": "code",
   "execution_count": 7,
   "metadata": {
    "ExecuteTime": {
     "end_time": "2019-12-05T06:28:37.424622Z",
     "start_time": "2019-12-05T06:28:37.411655Z"
    }
   },
   "outputs": [
    {
     "data": {
      "text/plain": [
       "90436"
      ]
     },
     "execution_count": 7,
     "metadata": {},
     "output_type": "execute_result"
    }
   ],
   "source": [
    "df.is_booking.sum()"
   ]
  },
  {
   "cell_type": "code",
   "execution_count": 8,
   "metadata": {
    "ExecuteTime": {
     "end_time": "2019-12-05T06:28:37.439582Z",
     "start_time": "2019-12-05T06:28:37.426618Z"
    }
   },
   "outputs": [
    {
     "data": {
      "text/plain": [
       "0.07998266552872349"
      ]
     },
     "execution_count": 8,
     "metadata": {},
     "output_type": "execute_result"
    }
   ],
   "source": [
    "df.is_booking.sum()/len(df)"
   ]
  },
  {
   "cell_type": "code",
   "execution_count": 9,
   "metadata": {
    "ExecuteTime": {
     "end_time": "2019-12-05T06:28:37.514380Z",
     "start_time": "2019-12-05T06:28:37.442573Z"
    }
   },
   "outputs": [],
   "source": [
    "df = df.loc[df.is_booking==1,:]"
   ]
  },
  {
   "cell_type": "code",
   "execution_count": 10,
   "metadata": {
    "ExecuteTime": {
     "end_time": "2019-12-05T06:28:37.521362Z",
     "start_time": "2019-12-05T06:28:37.516375Z"
    }
   },
   "outputs": [
    {
     "data": {
      "text/plain": [
       "(90436, 24)"
      ]
     },
     "execution_count": 10,
     "metadata": {},
     "output_type": "execute_result"
    }
   ],
   "source": [
    "df.shape"
   ]
  },
  {
   "cell_type": "markdown",
   "metadata": {},
   "source": [
    "### Getting user features"
   ]
  },
  {
   "cell_type": "code",
   "execution_count": 11,
   "metadata": {
    "ExecuteTime": {
     "end_time": "2019-12-05T06:28:37.528343Z",
     "start_time": "2019-12-05T06:28:37.523357Z"
    }
   },
   "outputs": [],
   "source": [
    "user_feats = ['site_name',\n",
    "             'posa_continent',\n",
    "             'user_location_country',\n",
    "             'user_location_region']"
   ]
  },
  {
   "cell_type": "code",
   "execution_count": 12,
   "metadata": {},
   "outputs": [
    {
     "name": "stdout",
     "output_type": "stream",
     "text": [
      "user_id site_name\n",
      "user_id posa_continent\n",
      "user_id user_location_country\n",
      "user_id user_location_region\n"
     ]
    }
   ],
   "source": [
    "users = aggregate_features(df, 'user_id', user_feats, 'USER_ID')"
   ]
  },
  {
   "cell_type": "code",
   "execution_count": 13,
   "metadata": {
    "ExecuteTime": {
     "end_time": "2019-12-05T06:28:47.697113Z",
     "start_time": "2019-12-05T06:28:37.554281Z"
    }
   },
   "outputs": [
    {
     "data": {
      "text/plain": [
       "(78844, 5)"
      ]
     },
     "execution_count": 13,
     "metadata": {},
     "output_type": "execute_result"
    }
   ],
   "source": [
    "users.shape"
   ]
  },
  {
   "cell_type": "code",
   "execution_count": 14,
   "metadata": {},
   "outputs": [
    {
     "data": {
      "text/html": [
       "<div>\n",
       "<style scoped>\n",
       "    .dataframe tbody tr th:only-of-type {\n",
       "        vertical-align: middle;\n",
       "    }\n",
       "\n",
       "    .dataframe tbody tr th {\n",
       "        vertical-align: top;\n",
       "    }\n",
       "\n",
       "    .dataframe thead th {\n",
       "        text-align: right;\n",
       "    }\n",
       "</style>\n",
       "<table border=\"1\" class=\"dataframe\">\n",
       "  <thead>\n",
       "    <tr style=\"text-align: right;\">\n",
       "      <th></th>\n",
       "      <th>USER_ID</th>\n",
       "      <th>SITE_NAME</th>\n",
       "      <th>POSA_CONTINENT</th>\n",
       "      <th>USER_LOCATION_COUNTRY</th>\n",
       "      <th>USER_LOCATION_REGION</th>\n",
       "    </tr>\n",
       "  </thead>\n",
       "  <tbody>\n",
       "    <tr>\n",
       "      <th>0</th>\n",
       "      <td>5</td>\n",
       "      <td>2</td>\n",
       "      <td>3</td>\n",
       "      <td>66</td>\n",
       "      <td>174</td>\n",
       "    </tr>\n",
       "    <tr>\n",
       "      <th>1</th>\n",
       "      <td>52</td>\n",
       "      <td>2</td>\n",
       "      <td>3</td>\n",
       "      <td>66</td>\n",
       "      <td>392</td>\n",
       "    </tr>\n",
       "    <tr>\n",
       "      <th>2</th>\n",
       "      <td>94</td>\n",
       "      <td>2</td>\n",
       "      <td>3</td>\n",
       "      <td>66</td>\n",
       "      <td>294</td>\n",
       "    </tr>\n",
       "    <tr>\n",
       "      <th>3</th>\n",
       "      <td>115</td>\n",
       "      <td>2</td>\n",
       "      <td>3</td>\n",
       "      <td>154</td>\n",
       "      <td>196</td>\n",
       "    </tr>\n",
       "    <tr>\n",
       "      <th>4</th>\n",
       "      <td>127</td>\n",
       "      <td>34</td>\n",
       "      <td>3</td>\n",
       "      <td>205</td>\n",
       "      <td>155</td>\n",
       "    </tr>\n",
       "  </tbody>\n",
       "</table>\n",
       "</div>"
      ],
      "text/plain": [
       "   USER_ID SITE_NAME POSA_CONTINENT USER_LOCATION_COUNTRY USER_LOCATION_REGION\n",
       "0        5         2              3                    66                  174\n",
       "1       52         2              3                    66                  392\n",
       "2       94         2              3                    66                  294\n",
       "3      115         2              3                   154                  196\n",
       "4      127        34              3                   205                  155"
      ]
     },
     "execution_count": 14,
     "metadata": {},
     "output_type": "execute_result"
    }
   ],
   "source": [
    "users.head()"
   ]
  },
  {
   "cell_type": "code",
   "execution_count": 15,
   "metadata": {},
   "outputs": [],
   "source": [
    "users.to_csv('users.csv', index=False)"
   ]
  },
  {
   "cell_type": "markdown",
   "metadata": {},
   "source": [
    "### Getting items (hotels) features"
   ]
  },
  {
   "cell_type": "code",
   "execution_count": 16,
   "metadata": {},
   "outputs": [],
   "source": [
    "item_feats = ['srch_destination_type_id',\n",
    "             'hotel_continent',\n",
    "             'hotel_country']"
   ]
  },
  {
   "cell_type": "code",
   "execution_count": 17,
   "metadata": {},
   "outputs": [
    {
     "name": "stdout",
     "output_type": "stream",
     "text": [
      "hotel_cluster srch_destination_type_id\n",
      "hotel_cluster hotel_continent\n",
      "hotel_cluster hotel_country\n"
     ]
    }
   ],
   "source": [
    "items = aggregate_features(df, 'hotel_cluster', item_feats, 'ITEM_ID')"
   ]
  },
  {
   "cell_type": "code",
   "execution_count": 18,
   "metadata": {
    "ExecuteTime": {
     "end_time": "2019-12-05T06:28:47.699072Z",
     "start_time": "2019-12-05T06:28:10.508Z"
    }
   },
   "outputs": [
    {
     "data": {
      "text/plain": [
       "(100, 4)"
      ]
     },
     "execution_count": 18,
     "metadata": {},
     "output_type": "execute_result"
    }
   ],
   "source": [
    "items.shape"
   ]
  },
  {
   "cell_type": "code",
   "execution_count": 19,
   "metadata": {},
   "outputs": [
    {
     "data": {
      "text/html": [
       "<div>\n",
       "<style scoped>\n",
       "    .dataframe tbody tr th:only-of-type {\n",
       "        vertical-align: middle;\n",
       "    }\n",
       "\n",
       "    .dataframe tbody tr th {\n",
       "        vertical-align: top;\n",
       "    }\n",
       "\n",
       "    .dataframe thead th {\n",
       "        text-align: right;\n",
       "    }\n",
       "</style>\n",
       "<table border=\"1\" class=\"dataframe\">\n",
       "  <thead>\n",
       "    <tr style=\"text-align: right;\">\n",
       "      <th></th>\n",
       "      <th>ITEM_ID</th>\n",
       "      <th>SRCH_DESTINATION_TYPE_ID</th>\n",
       "      <th>HOTEL_CONTINENT</th>\n",
       "      <th>HOTEL_COUNTRY</th>\n",
       "    </tr>\n",
       "  </thead>\n",
       "  <tbody>\n",
       "    <tr>\n",
       "      <th>0</th>\n",
       "      <td>0</td>\n",
       "      <td>1|3|4|5|6|8</td>\n",
       "      <td>2|3|4</td>\n",
       "      <td>8|32|50|51|52|88|96|151|198</td>\n",
       "    </tr>\n",
       "    <tr>\n",
       "      <th>1</th>\n",
       "      <td>1</td>\n",
       "      <td>1|3|4|5|6|8</td>\n",
       "      <td>2</td>\n",
       "      <td>50</td>\n",
       "    </tr>\n",
       "    <tr>\n",
       "      <th>2</th>\n",
       "      <td>2</td>\n",
       "      <td>1|3|4|5|6|8</td>\n",
       "      <td>0|2|3|4|5|6</td>\n",
       "      <td>3|5|7|8|11|12|13|15|17|21|25|31|34|46|48|50|58...</td>\n",
       "    </tr>\n",
       "    <tr>\n",
       "      <th>3</th>\n",
       "      <td>3</td>\n",
       "      <td>1|3|4|5|6</td>\n",
       "      <td>0|2|3|4|5|6</td>\n",
       "      <td>5|8|11|13|15|17|22|25|29|31|34|38|45|46|47|48|...</td>\n",
       "    </tr>\n",
       "    <tr>\n",
       "      <th>4</th>\n",
       "      <td>4</td>\n",
       "      <td>1|3|4|5|6|7|8</td>\n",
       "      <td>0|2|3|4|5|6</td>\n",
       "      <td>8|13|21|32|46|50|51|63|70|77|102|105|106|126|1...</td>\n",
       "    </tr>\n",
       "  </tbody>\n",
       "</table>\n",
       "</div>"
      ],
      "text/plain": [
       "   ITEM_ID SRCH_DESTINATION_TYPE_ID HOTEL_CONTINENT  \\\n",
       "0        0              1|3|4|5|6|8           2|3|4   \n",
       "1        1              1|3|4|5|6|8               2   \n",
       "2        2              1|3|4|5|6|8     0|2|3|4|5|6   \n",
       "3        3                1|3|4|5|6     0|2|3|4|5|6   \n",
       "4        4            1|3|4|5|6|7|8     0|2|3|4|5|6   \n",
       "\n",
       "                                       HOTEL_COUNTRY  \n",
       "0                        8|32|50|51|52|88|96|151|198  \n",
       "1                                                 50  \n",
       "2  3|5|7|8|11|12|13|15|17|21|25|31|34|46|48|50|58...  \n",
       "3  5|8|11|13|15|17|22|25|29|31|34|38|45|46|47|48|...  \n",
       "4  8|13|21|32|46|50|51|63|70|77|102|105|106|126|1...  "
      ]
     },
     "execution_count": 19,
     "metadata": {},
     "output_type": "execute_result"
    }
   ],
   "source": [
    "items.head()"
   ]
  },
  {
   "cell_type": "code",
   "execution_count": 20,
   "metadata": {},
   "outputs": [],
   "source": [
    "items.to_csv('items.csv', index=False)"
   ]
  },
  {
   "cell_type": "markdown",
   "metadata": {},
   "source": [
    "### Getting user-items interactions"
   ]
  },
  {
   "cell_type": "code",
   "execution_count": 26,
   "metadata": {},
   "outputs": [
    {
     "data": {
      "text/plain": [
       "(90436, 3)"
      ]
     },
     "execution_count": 26,
     "metadata": {},
     "output_type": "execute_result"
    }
   ],
   "source": [
    "inter = df.loc[:,['user_id', 'hotel_cluster', 'date_time']]\n",
    "inter.rename(columns={'user_id': 'USER_ID', 'hotel_cluster': 'ITEM_ID', 'date_time': 'TIMESTAMP'}, inplace=True)\n",
    "inter.shape"
   ]
  },
  {
   "cell_type": "markdown",
   "metadata": {},
   "source": [
    "**Turning TIMESTAMP column into Unix time to be properly handled by Personalize**"
   ]
  },
  {
   "cell_type": "code",
   "execution_count": 29,
   "metadata": {},
   "outputs": [],
   "source": [
    "inter.TIMESTAMP = pd.to_datetime(inter.TIMESTAMP)\n",
    "inter.TIMESTAMP = inter.TIMESTAMP.apply(lambda x: int(time.mktime(x.timetuple())))"
   ]
  },
  {
   "cell_type": "code",
   "execution_count": 30,
   "metadata": {
    "ExecuteTime": {
     "end_time": "2019-12-06T14:43:06.835830Z",
     "start_time": "2019-12-06T14:43:06.826854Z"
    }
   },
   "outputs": [
    {
     "data": {
      "text/html": [
       "<div>\n",
       "<style scoped>\n",
       "    .dataframe tbody tr th:only-of-type {\n",
       "        vertical-align: middle;\n",
       "    }\n",
       "\n",
       "    .dataframe tbody tr th {\n",
       "        vertical-align: top;\n",
       "    }\n",
       "\n",
       "    .dataframe thead th {\n",
       "        text-align: right;\n",
       "    }\n",
       "</style>\n",
       "<table border=\"1\" class=\"dataframe\">\n",
       "  <thead>\n",
       "    <tr style=\"text-align: right;\">\n",
       "      <th></th>\n",
       "      <th>USER_ID</th>\n",
       "      <th>ITEM_ID</th>\n",
       "      <th>TIMESTAMP</th>\n",
       "    </tr>\n",
       "  </thead>\n",
       "  <tbody>\n",
       "    <tr>\n",
       "      <th>16</th>\n",
       "      <td>4539</td>\n",
       "      <td>20</td>\n",
       "      <td>1371038294</td>\n",
       "    </tr>\n",
       "    <tr>\n",
       "      <th>19</th>\n",
       "      <td>4539</td>\n",
       "      <td>36</td>\n",
       "      <td>1395763732</td>\n",
       "    </tr>\n",
       "    <tr>\n",
       "      <th>22</th>\n",
       "      <td>6304</td>\n",
       "      <td>6</td>\n",
       "      <td>1412796293</td>\n",
       "    </tr>\n",
       "    <tr>\n",
       "      <th>23</th>\n",
       "      <td>6304</td>\n",
       "      <td>83</td>\n",
       "      <td>1413106407</td>\n",
       "    </tr>\n",
       "    <tr>\n",
       "      <th>70</th>\n",
       "      <td>9681</td>\n",
       "      <td>81</td>\n",
       "      <td>1418241164</td>\n",
       "    </tr>\n",
       "  </tbody>\n",
       "</table>\n",
       "</div>"
      ],
      "text/plain": [
       "    USER_ID  ITEM_ID   TIMESTAMP\n",
       "16     4539       20  1371038294\n",
       "19     4539       36  1395763732\n",
       "22     6304        6  1412796293\n",
       "23     6304       83  1413106407\n",
       "70     9681       81  1418241164"
      ]
     },
     "execution_count": 30,
     "metadata": {},
     "output_type": "execute_result"
    }
   ],
   "source": [
    "inter.head()"
   ]
  },
  {
   "cell_type": "code",
   "execution_count": 31,
   "metadata": {},
   "outputs": [],
   "source": [
    "inter.to_csv('inter.csv', index=False)"
   ]
  },
  {
   "cell_type": "markdown",
   "metadata": {},
   "source": [
    "## AWS Personalize"
   ]
  },
  {
   "cell_type": "markdown",
   "metadata": {},
   "source": [
    "### Moving CSV files to S3"
   ]
  },
  {
   "cell_type": "code",
   "execution_count": 32,
   "metadata": {
    "ExecuteTime": {
     "end_time": "2019-12-07T00:04:11.333413Z",
     "start_time": "2019-12-07T00:03:58.155615Z"
    }
   },
   "outputs": [],
   "source": [
    "upload_to_s3(bucket, 'inter.csv')\n",
    "upload_to_s3(bucket, 'users.csv')\n",
    "upload_to_s3(bucket, 'items.csv')"
   ]
  },
  {
   "cell_type": "markdown",
   "metadata": {},
   "source": [
    "### Creating schemas for Personalize to properly read data"
   ]
  },
  {
   "cell_type": "code",
   "execution_count": 33,
   "metadata": {
    "ExecuteTime": {
     "end_time": "2019-12-09T13:13:10.964455Z",
     "start_time": "2019-12-09T13:13:10.860297Z"
    }
   },
   "outputs": [],
   "source": [
    "personalize = boto3.client('personalize')"
   ]
  },
  {
   "cell_type": "markdown",
   "metadata": {},
   "source": [
    "**INTERACTIONS schema**"
   ]
  },
  {
   "cell_type": "code",
   "execution_count": 15,
   "metadata": {
    "ExecuteTime": {
     "end_time": "2019-12-09T13:47:53.262906Z",
     "start_time": "2019-12-09T13:47:53.001893Z"
    }
   },
   "outputs": [
    {
     "data": {
      "text/plain": [
       "'schema_arn_inter: arn:aws:personalize:eu-west-1:257446244580:schema/interact-schema'"
      ]
     },
     "execution_count": 15,
     "metadata": {},
     "output_type": "execute_result"
    }
   ],
   "source": [
    "schema_inter = {\n",
    "    \"type\": \"record\",\n",
    "    \"name\": \"Interactions\",\n",
    "    \"namespace\": \"com.amazonaws.personalize.schema\",\n",
    "    \"fields\": [\n",
    "        {\"name\": \"USER_ID\", \"type\": \"string\"},\n",
    "        {\"name\": \"ITEM_ID\", \"type\": \"string\"},\n",
    "        {\"name\": \"TIMESTAMP\", \"type\": \"long\"}\n",
    "    ],\n",
    "    \"version\": \"1.0\"\n",
    "}\n",
    "\n",
    "create_schema_inter = personalize.create_schema(name = \"interact-schema\", schema = json.dumps(schema_inter))\n",
    "schema_arn_inter = create_schema_inter['schemaArn']\n",
    "f'schema_arn_inter: {schema_arn_inter}'"
   ]
  },
  {
   "cell_type": "markdown",
   "metadata": {},
   "source": [
    "**USERS schema**"
   ]
  },
  {
   "cell_type": "code",
   "execution_count": 17,
   "metadata": {
    "ExecuteTime": {
     "end_time": "2019-12-09T13:48:30.912889Z",
     "start_time": "2019-12-09T13:48:30.816375Z"
    }
   },
   "outputs": [
    {
     "data": {
      "text/plain": [
       "'schema_arn_users: arn:aws:personalize:eu-west-1:257446244580:schema/user-schema'"
      ]
     },
     "execution_count": 17,
     "metadata": {},
     "output_type": "execute_result"
    }
   ],
   "source": [
    "schema_users = {\n",
    "    \"type\": \"record\",\n",
    "    \"name\": \"Users\",\n",
    "    \"namespace\": \"com.amazonaws.personalize.schema\",\n",
    "    \"fields\": [\n",
    "        {\"name\": \"USER_ID\", \"type\": \"string\"},\n",
    "        {\"name\": \"SITE_NAME\", \"type\": \"string\", \"categorical\": True},\n",
    "        {\"name\": \"POSA_CONTINENT\", \"type\": \"string\", \"categorical\": True},\n",
    "        {\"name\": \"USER_LOCATION_COUNTRY\", \"type\": \"string\", \"categorical\":True},\n",
    "        {\"name\": \"USER_LOCATION_REGION\", \"type\": \"string\", \"categorical\": True}\n",
    "    ],\n",
    "    \"version\": \"1.0\"\n",
    "}\n",
    "\n",
    "create_schema_users = personalize.create_schema(name = \"user-schema\", schema = json.dumps(schema_users))\n",
    "schema_arn_users = create_schema_users['schemaArn']\n",
    "f'schema_arn_users: {schema_arn_users}'"
   ]
  },
  {
   "cell_type": "markdown",
   "metadata": {},
   "source": [
    "**ITEMS schema**"
   ]
  },
  {
   "cell_type": "code",
   "execution_count": 36,
   "metadata": {
    "ExecuteTime": {
     "end_time": "2019-12-09T13:48:52.212562Z",
     "start_time": "2019-12-09T13:48:52.097719Z"
    }
   },
   "outputs": [
    {
     "data": {
      "text/plain": [
       "'schema_arn_items: arn:aws:personalize:eu-west-1:257446244580:schema/item-schema-nomarket'"
      ]
     },
     "execution_count": 36,
     "metadata": {},
     "output_type": "execute_result"
    }
   ],
   "source": [
    "schema_items = {\n",
    "    \"type\": \"record\",\n",
    "    \"name\": \"Items\",\n",
    "    \"namespace\": \"com.amazonaws.personalize.schema\",\n",
    "    \"fields\": [\n",
    "        {\"name\": \"ITEM_ID\", \"type\": \"string\"},\n",
    "        {\"name\": \"SRCH_DESTINATION_TYPE_ID\", \"type\": \"string\", \"categorical\": True},\n",
    "        {\"name\": \"HOTEL_CONTINENT\", \"type\": \"string\", \"categorical\": True},\n",
    "        {\"name\": \"HOTEL_COUNTRY\", \"type\": \"string\", \"categorical\":True}\n",
    "    ],\n",
    "    \"version\": \"1.0\"\n",
    "}\n",
    "\n",
    "create_schema_items = personalize.create_schema(name = \"item-schema-nomarket\", schema = json.dumps(schema_items))\n",
    "schema_arn_items = create_schema_items['schemaArn']\n",
    "f'schema_arn_items: {schema_arn_items}'"
   ]
  },
  {
   "cell_type": "markdown",
   "metadata": {},
   "source": [
    "### Creating a dataset group"
   ]
  },
  {
   "cell_type": "code",
   "execution_count": 37,
   "metadata": {
    "ExecuteTime": {
     "end_time": "2019-12-09T13:49:37.232095Z",
     "start_time": "2019-12-09T13:49:37.148540Z"
    }
   },
   "outputs": [
    {
     "data": {
      "text/plain": [
       "'dataset_group_arn: arn:aws:personalize:eu-west-1:257446244580:dataset-group/expedia'"
      ]
     },
     "execution_count": 37,
     "metadata": {},
     "output_type": "execute_result"
    }
   ],
   "source": [
    "create_dataset_group_response = personalize.create_dataset_group(name = \"expedia\")\n",
    "dataset_group_arn = create_dataset_group_response['datasetGroupArn']\n",
    "f'dataset_group_arn: {dataset_group_arn}'"
   ]
  },
  {
   "cell_type": "markdown",
   "metadata": {},
   "source": [
    "### Creating datasets within dataset group"
   ]
  },
  {
   "cell_type": "markdown",
   "metadata": {},
   "source": [
    "**INTERACTIONS dataset**"
   ]
  },
  {
   "cell_type": "code",
   "execution_count": 39,
   "metadata": {
    "ExecuteTime": {
     "end_time": "2019-12-09T13:50:46.942590Z",
     "start_time": "2019-12-09T13:50:46.664710Z"
    }
   },
   "outputs": [
    {
     "data": {
      "text/plain": [
       "'inter_ds_arn: arn:aws:personalize:eu-west-1:257446244580:dataset/expedia/INTERACTIONS'"
      ]
     },
     "execution_count": 39,
     "metadata": {},
     "output_type": "execute_result"
    }
   ],
   "source": [
    "inter_ds = personalize.create_dataset(name = 'interactions-ds',\n",
    "                                      schemaArn = 'arn:aws:personalize:eu-west-1:257446244580:schema/interact-schema',\n",
    "                                      datasetGroupArn = dataset_group_arn,\n",
    "                                      datasetType = 'Interactions')\n",
    "\n",
    "f\"inter_ds_arn: {inter_ds['datasetArn']}\""
   ]
  },
  {
   "cell_type": "markdown",
   "metadata": {},
   "source": [
    "**USERS dataset**"
   ]
  },
  {
   "cell_type": "code",
   "execution_count": 40,
   "metadata": {
    "ExecuteTime": {
     "end_time": "2019-12-09T13:51:28.040663Z",
     "start_time": "2019-12-09T13:51:27.952696Z"
    }
   },
   "outputs": [
    {
     "data": {
      "text/plain": [
       "'user_ds_arn: arn:aws:personalize:eu-west-1:257446244580:dataset/expedia/USERS'"
      ]
     },
     "execution_count": 40,
     "metadata": {},
     "output_type": "execute_result"
    }
   ],
   "source": [
    "users_ds = personalize.create_dataset(name = 'users-ds',\n",
    "                                      schemaArn = 'arn:aws:personalize:eu-west-1:257446244580:schema/user-schema',\n",
    "                                      datasetGroupArn = dataset_group_arn,\n",
    "                                      datasetType = 'Users')\n",
    "\n",
    "f\"user_ds_arn: {users_ds['datasetArn']}\""
   ]
  },
  {
   "cell_type": "markdown",
   "metadata": {},
   "source": [
    "**ITEMS dataset**"
   ]
  },
  {
   "cell_type": "code",
   "execution_count": 41,
   "metadata": {
    "ExecuteTime": {
     "end_time": "2019-12-09T13:51:47.594184Z",
     "start_time": "2019-12-09T13:51:47.515190Z"
    }
   },
   "outputs": [
    {
     "data": {
      "text/plain": [
       "'item_ds_arn: arn:aws:personalize:eu-west-1:257446244580:dataset/expedia/ITEMS'"
      ]
     },
     "execution_count": 41,
     "metadata": {},
     "output_type": "execute_result"
    }
   ],
   "source": [
    "items_ds = personalize.create_dataset(name = 'items-ds',\n",
    "                                      schemaArn = 'arn:aws:personalize:eu-west-1:257446244580:schema/item-schema-nomarket',\n",
    "                                      datasetGroupArn = dataset_group_arn,\n",
    "                                      datasetType = 'Items')\n",
    "\n",
    "f\"item_ds_arn: {items_ds['datasetArn']}\""
   ]
  },
  {
   "cell_type": "markdown",
   "metadata": {},
   "source": [
    "### Creating Import Jobs to load data from S3 into Personalize datasets"
   ]
  },
  {
   "cell_type": "code",
   "execution_count": 11,
   "metadata": {
    "ExecuteTime": {
     "end_time": "2019-12-07T00:04:35.106987Z",
     "start_time": "2019-12-07T00:04:34.135173Z"
    }
   },
   "outputs": [
    {
     "data": {
      "text/plain": [
       "{'ResponseMetadata': {'RequestId': '129466020D1FB060',\n",
       "  'HostId': 'nEN+qc0Caimz80HaFZlkSr4mj3E5pxcJZvlKu8SNidMfYQwav3YQXpLhnwx69EQDdvVA2vS8/Ps=',\n",
       "  'HTTPStatusCode': 204,\n",
       "  'HTTPHeaders': {'x-amz-id-2': 'nEN+qc0Caimz80HaFZlkSr4mj3E5pxcJZvlKu8SNidMfYQwav3YQXpLhnwx69EQDdvVA2vS8/Ps=',\n",
       "   'x-amz-request-id': '129466020D1FB060',\n",
       "   'date': 'Sat, 07 Dec 2019 00:04:35 GMT',\n",
       "   'server': 'AmazonS3'},\n",
       "  'RetryAttempts': 0}}"
      ]
     },
     "execution_count": 11,
     "metadata": {},
     "output_type": "execute_result"
    }
   ],
   "source": [
    "s3 = boto3.client(\"s3\")\n",
    "\n",
    "policy = {\n",
    "    \"Version\": \"2012-10-17\",\n",
    "    \"Id\": \"PersonalizeS3BucketAccessPolicy\",\n",
    "    \"Statement\": [\n",
    "        {\n",
    "            \"Sid\": \"PersonalizeS3BucketAccessPolicy\",\n",
    "            \"Effect\": \"Allow\",\n",
    "            \"Principal\": {\n",
    "                \"Service\": \"personalize.amazonaws.com\"\n",
    "            },\n",
    "            \"Action\": [\n",
    "                \"s3:GetObject\",\n",
    "                \"s3:ListBucket\"\n",
    "            ],\n",
    "            \"Resource\": [\n",
    "                \"arn:aws:s3:::{}\".format(bucket),\n",
    "                \"arn:aws:s3:::{}/*\".format(bucket)\n",
    "            ]\n",
    "        }\n",
    "    ]\n",
    "}\n",
    "\n",
    "s3.put_bucket_policy(Bucket=bucket, Policy=json.dumps(policy))"
   ]
  },
  {
   "cell_type": "markdown",
   "metadata": {},
   "source": [
    "**INTERACTIONS import job**"
   ]
  },
  {
   "cell_type": "code",
   "execution_count": 42,
   "metadata": {
    "ExecuteTime": {
     "end_time": "2019-12-09T13:51:58.370738Z",
     "start_time": "2019-12-09T13:51:57.679677Z"
    }
   },
   "outputs": [
    {
     "name": "stdout",
     "output_type": "stream",
     "text": [
      "Interactons dataset Import Job arn: arn:aws:personalize:eu-west-1:257446244580:dataset-import-job/interactions-ij\n",
      "Name: interactions-ij\n",
      "ARN: arn:aws:personalize:eu-west-1:257446244580:dataset-import-job/interactions-ij\n",
      "Status: CREATE PENDING\n"
     ]
    }
   ],
   "source": [
    "inter_ij = personalize.create_dataset_import_job(\n",
    "    jobName = 'interactions-ij',\n",
    "    datasetArn = inter_ds['datasetArn'],\n",
    "    dataSource = {'dataLocation':f's3://{bucket}/inter.csv'},\n",
    "    roleArn = 'arn:aws:iam::257446244580:role/expedia')\n",
    "\n",
    "inter_ij_arn = inter_ij['datasetImportJobArn']\n",
    "print ('Interactons dataset Import Job arn: ' + inter_ij_arn)\n",
    "\n",
    "description = personalize.describe_dataset_import_job(datasetImportJobArn = inter_ij_arn)['datasetImportJob']\n",
    "\n",
    "print('Name: ' + description['jobName'])\n",
    "print('ARN: ' + description['datasetImportJobArn'])\n",
    "print('Status: ' + description['status'])"
   ]
  },
  {
   "cell_type": "markdown",
   "metadata": {},
   "source": [
    "**USERS import job**"
   ]
  },
  {
   "cell_type": "code",
   "execution_count": 43,
   "metadata": {
    "ExecuteTime": {
     "end_time": "2019-12-09T14:05:21.198454Z",
     "start_time": "2019-12-09T14:05:20.349920Z"
    }
   },
   "outputs": [
    {
     "name": "stdout",
     "output_type": "stream",
     "text": [
      "Users dataset Import Job arn: arn:aws:personalize:eu-west-1:257446244580:dataset-import-job/users-ij\n",
      "Name: users-ij\n",
      "ARN: arn:aws:personalize:eu-west-1:257446244580:dataset-import-job/users-ij\n",
      "Status: CREATE PENDING\n"
     ]
    }
   ],
   "source": [
    "users_ij = personalize.create_dataset_import_job(\n",
    "    jobName = 'users-ij',\n",
    "    datasetArn = users_ds['datasetArn'],\n",
    "    dataSource = {'dataLocation':f's3://{bucket}/users.csv'},\n",
    "    roleArn = 'arn:aws:iam::257446244580:role/expedia')\n",
    "\n",
    "users_ij_arn = users_ij['datasetImportJobArn']\n",
    "print ('Users dataset Import Job arn: ' + users_ij_arn)\n",
    "\n",
    "description = personalize.describe_dataset_import_job(datasetImportJobArn = users_ij_arn)['datasetImportJob']\n",
    "\n",
    "print('Name: ' + description['jobName'])\n",
    "print('ARN: ' + description['datasetImportJobArn'])\n",
    "print('Status: ' + description['status'])"
   ]
  },
  {
   "cell_type": "markdown",
   "metadata": {},
   "source": [
    "**ITEMS import job**"
   ]
  },
  {
   "cell_type": "code",
   "execution_count": 44,
   "metadata": {
    "ExecuteTime": {
     "end_time": "2019-12-09T14:06:24.875289Z",
     "start_time": "2019-12-09T14:06:24.006299Z"
    }
   },
   "outputs": [
    {
     "name": "stdout",
     "output_type": "stream",
     "text": [
      "Items dataset Import Job arn: arn:aws:personalize:eu-west-1:257446244580:dataset-import-job/items-ij\n",
      "Name: items-ij\n",
      "ARN: arn:aws:personalize:eu-west-1:257446244580:dataset-import-job/items-ij\n",
      "Status: CREATE PENDING\n"
     ]
    }
   ],
   "source": [
    "items_ij = personalize.create_dataset_import_job(\n",
    "    jobName = 'items-ij',\n",
    "    datasetArn = items_ds['datasetArn'],\n",
    "    dataSource = {'dataLocation':f's3://{bucket}/items.csv'},\n",
    "    roleArn = 'arn:aws:iam::257446244580:role/expedia')\n",
    "\n",
    "items_ij_arn = items_ij['datasetImportJobArn']\n",
    "print ('Items dataset Import Job arn: ' + items_ij_arn)\n",
    "\n",
    "description = personalize.describe_dataset_import_job(datasetImportJobArn = items_ij_arn)['datasetImportJob']\n",
    "\n",
    "print('Name: ' + description['jobName'])\n",
    "print('ARN: ' + description['datasetImportJobArn'])\n",
    "print('Status: ' + description['status'])"
   ]
  },
  {
   "cell_type": "code",
   "execution_count": 45,
   "metadata": {},
   "outputs": [],
   "source": [
    "auto_recommender = personalize.create_solution(\n",
    "    name = \"expedia-recommender\",\n",
    "    datasetGroupArn = dataset_group_arn,\n",
    "    performAutoML = True\n",
    ")\n",
    "\n",
    "solution_arn = auto_recommender['solutionArn']"
   ]
  },
  {
   "cell_type": "code",
   "execution_count": 46,
   "metadata": {},
   "outputs": [
    {
     "data": {
      "text/plain": [
       "'arn:aws:personalize:eu-west-1:257446244580:solution/expedia-recommender'"
      ]
     },
     "execution_count": 46,
     "metadata": {},
     "output_type": "execute_result"
    }
   ],
   "source": [
    "solution_arn"
   ]
  },
  {
   "cell_type": "code",
   "execution_count": 47,
   "metadata": {},
   "outputs": [
    {
     "data": {
      "text/plain": [
       "'arn:aws:personalize:eu-west-1:257446244580:solution/expedia-recommender/827f86d6'"
      ]
     },
     "execution_count": 47,
     "metadata": {},
     "output_type": "execute_result"
    }
   ],
   "source": [
    "auto_recommender_model = personalize.create_solution_version(solutionArn = solution_arn)\n",
    "solution_version_arn = auto_recommender_model['solutionVersionArn']\n",
    "solution_version_arn"
   ]
  },
  {
   "cell_type": "code",
   "execution_count": 48,
   "metadata": {},
   "outputs": [
    {
     "data": {
      "text/plain": [
       "'arn:aws:personalize:eu-west-1:257446244580:solution/expedia-recommender-metadata'"
      ]
     },
     "execution_count": 48,
     "metadata": {},
     "output_type": "execute_result"
    }
   ],
   "source": [
    "meta_recommender = personalize.create_solution(\n",
    "    name = \"expedia-recommender-metadata\",\n",
    "    datasetGroupArn = dataset_group_arn,\n",
    "    recipeArn = \"arn:aws:personalize:::recipe/aws-hrnn-metadata\"\n",
    ")\n",
    "\n",
    "solution_arn = meta_recommender['solutionArn']\n",
    "solution_arn"
   ]
  },
  {
   "cell_type": "code",
   "execution_count": 49,
   "metadata": {},
   "outputs": [
    {
     "data": {
      "text/plain": [
       "'arn:aws:personalize:eu-west-1:257446244580:solution/expedia-recommender-metadata/146fb017'"
      ]
     },
     "execution_count": 49,
     "metadata": {},
     "output_type": "execute_result"
    }
   ],
   "source": [
    "meta_recommender_model = personalize.create_solution_version(solutionArn = \"arn:aws:personalize:eu-west-1:257446244580:solution/expedia-recommender-metadata\")\n",
    "solution_version_arn = meta_recommender_model['solutionVersionArn']\n",
    "solution_version_arn"
   ]
  },
  {
   "cell_type": "code",
   "execution_count": 52,
   "metadata": {},
   "outputs": [],
   "source": [
    "big = pd.read_csv('/home/ec2-user/SageMaker/data/train.csv', usecols=['date_time', 'user_id', 'hotel_cluster']) "
   ]
  },
  {
   "cell_type": "code",
   "execution_count": 53,
   "metadata": {},
   "outputs": [
    {
     "data": {
      "text/plain": [
       "(37670293, 3)"
      ]
     },
     "execution_count": 53,
     "metadata": {},
     "output_type": "execute_result"
    }
   ],
   "source": [
    "big.shape"
   ]
  },
  {
   "cell_type": "code",
   "execution_count": 55,
   "metadata": {},
   "outputs": [
    {
     "data": {
      "text/html": [
       "<div>\n",
       "<style scoped>\n",
       "    .dataframe tbody tr th:only-of-type {\n",
       "        vertical-align: middle;\n",
       "    }\n",
       "\n",
       "    .dataframe tbody tr th {\n",
       "        vertical-align: top;\n",
       "    }\n",
       "\n",
       "    .dataframe thead th {\n",
       "        text-align: right;\n",
       "    }\n",
       "</style>\n",
       "<table border=\"1\" class=\"dataframe\">\n",
       "  <thead>\n",
       "    <tr style=\"text-align: right;\">\n",
       "      <th></th>\n",
       "      <th>date_time</th>\n",
       "      <th>user_id</th>\n",
       "      <th>hotel_cluster</th>\n",
       "    </tr>\n",
       "  </thead>\n",
       "  <tbody>\n",
       "    <tr>\n",
       "      <th>0</th>\n",
       "      <td>2014-08-11 07:46:59</td>\n",
       "      <td>12</td>\n",
       "      <td>1</td>\n",
       "    </tr>\n",
       "    <tr>\n",
       "      <th>1</th>\n",
       "      <td>2014-08-11 08:22:12</td>\n",
       "      <td>12</td>\n",
       "      <td>1</td>\n",
       "    </tr>\n",
       "    <tr>\n",
       "      <th>2</th>\n",
       "      <td>2014-08-11 08:24:33</td>\n",
       "      <td>12</td>\n",
       "      <td>1</td>\n",
       "    </tr>\n",
       "    <tr>\n",
       "      <th>3</th>\n",
       "      <td>2014-08-09 18:05:16</td>\n",
       "      <td>93</td>\n",
       "      <td>80</td>\n",
       "    </tr>\n",
       "    <tr>\n",
       "      <th>4</th>\n",
       "      <td>2014-08-09 18:08:18</td>\n",
       "      <td>93</td>\n",
       "      <td>21</td>\n",
       "    </tr>\n",
       "  </tbody>\n",
       "</table>\n",
       "</div>"
      ],
      "text/plain": [
       "             date_time  user_id  hotel_cluster\n",
       "0  2014-08-11 07:46:59       12              1\n",
       "1  2014-08-11 08:22:12       12              1\n",
       "2  2014-08-11 08:24:33       12              1\n",
       "3  2014-08-09 18:05:16       93             80\n",
       "4  2014-08-09 18:08:18       93             21"
      ]
     },
     "execution_count": 55,
     "metadata": {},
     "output_type": "execute_result"
    }
   ],
   "source": [
    "big.head()"
   ]
  },
  {
   "cell_type": "code",
   "execution_count": 56,
   "metadata": {},
   "outputs": [
    {
     "data": {
      "text/plain": [
       "(37670293, 3)"
      ]
     },
     "execution_count": 56,
     "metadata": {},
     "output_type": "execute_result"
    }
   ],
   "source": [
    "big = big.loc[:,['user_id', 'hotel_cluster', 'date_time']]\n",
    "big.rename(columns={'user_id': 'USER_ID', 'hotel_cluster': 'ITEM_ID', 'date_time': 'TIMESTAMP'}, inplace=True)\n",
    "big.shape"
   ]
  },
  {
   "cell_type": "code",
   "execution_count": 57,
   "metadata": {},
   "outputs": [],
   "source": [
    "big.TIMESTAMP = pd.to_datetime(big.TIMESTAMP)\n",
    "big.TIMESTAMP = big.TIMESTAMP.apply(lambda x: int(time.mktime(x.timetuple())))"
   ]
  },
  {
   "cell_type": "code",
   "execution_count": 58,
   "metadata": {},
   "outputs": [
    {
     "data": {
      "text/html": [
       "<div>\n",
       "<style scoped>\n",
       "    .dataframe tbody tr th:only-of-type {\n",
       "        vertical-align: middle;\n",
       "    }\n",
       "\n",
       "    .dataframe tbody tr th {\n",
       "        vertical-align: top;\n",
       "    }\n",
       "\n",
       "    .dataframe thead th {\n",
       "        text-align: right;\n",
       "    }\n",
       "</style>\n",
       "<table border=\"1\" class=\"dataframe\">\n",
       "  <thead>\n",
       "    <tr style=\"text-align: right;\">\n",
       "      <th></th>\n",
       "      <th>USER_ID</th>\n",
       "      <th>ITEM_ID</th>\n",
       "      <th>TIMESTAMP</th>\n",
       "    </tr>\n",
       "  </thead>\n",
       "  <tbody>\n",
       "    <tr>\n",
       "      <th>0</th>\n",
       "      <td>12</td>\n",
       "      <td>1</td>\n",
       "      <td>1407743219</td>\n",
       "    </tr>\n",
       "    <tr>\n",
       "      <th>1</th>\n",
       "      <td>12</td>\n",
       "      <td>1</td>\n",
       "      <td>1407745332</td>\n",
       "    </tr>\n",
       "    <tr>\n",
       "      <th>2</th>\n",
       "      <td>12</td>\n",
       "      <td>1</td>\n",
       "      <td>1407745473</td>\n",
       "    </tr>\n",
       "    <tr>\n",
       "      <th>3</th>\n",
       "      <td>93</td>\n",
       "      <td>80</td>\n",
       "      <td>1407607516</td>\n",
       "    </tr>\n",
       "    <tr>\n",
       "      <th>4</th>\n",
       "      <td>93</td>\n",
       "      <td>21</td>\n",
       "      <td>1407607698</td>\n",
       "    </tr>\n",
       "  </tbody>\n",
       "</table>\n",
       "</div>"
      ],
      "text/plain": [
       "   USER_ID  ITEM_ID   TIMESTAMP\n",
       "0       12        1  1407743219\n",
       "1       12        1  1407745332\n",
       "2       12        1  1407745473\n",
       "3       93       80  1407607516\n",
       "4       93       21  1407607698"
      ]
     },
     "execution_count": 58,
     "metadata": {},
     "output_type": "execute_result"
    }
   ],
   "source": [
    "big.head()"
   ]
  },
  {
   "cell_type": "code",
   "execution_count": 59,
   "metadata": {},
   "outputs": [],
   "source": [
    "big.to_csv('inter-big.csv', index=False)"
   ]
  },
  {
   "cell_type": "code",
   "execution_count": 60,
   "metadata": {},
   "outputs": [],
   "source": [
    "upload_to_s3oad_to_s3(bucket, 'inter-big.csv')"
   ]
  }
 ],
 "metadata": {
  "kernelspec": {
   "display_name": "conda_python3",
   "language": "python",
   "name": "conda_python3"
  },
  "language_info": {
   "codemirror_mode": {
    "name": "ipython",
    "version": 3
   },
   "file_extension": ".py",
   "mimetype": "text/x-python",
   "name": "python",
   "nbconvert_exporter": "python",
   "pygments_lexer": "ipython3",
   "version": "3.6.5"
  }
 },
 "nbformat": 4,
 "nbformat_minor": 4
}
