{
 "cells": [
  {
   "cell_type": "markdown",
   "metadata": {},
   "source": [
    "# (Kaggle PetFinder) NLP: fine-tuning a language model \n",
    "\n",
    "### Largely adapted from [here](https://gluon-nlp.mxnet.io/examples/sentiment_analysis/sentiment_analysis.html)"
   ]
  },
  {
   "cell_type": "markdown",
   "metadata": {},
   "source": [
    "## Imports"
   ]
  },
  {
   "cell_type": "code",
   "execution_count": 1,
   "metadata": {},
   "outputs": [
    {
     "name": "stdout",
     "output_type": "stream",
     "text": [
      "\u001b[38;5;2m[+] Download and installation successful\u001b[0m\n",
      "You can now load the model via spacy.load('en_core_web_sm')\n",
      "\u001b[38;5;2m[+] Download and installation successful\u001b[0m\n",
      "You can now load the model via spacy.load('en_core_web_sm')\n",
      "\u001b[38;5;2m[+] Linking successful\u001b[0m\n",
      "/usr/local/lib/python3.6/site-packages/en_core_web_sm -->\n",
      "/usr/local/lib/python3.6/site-packages/spacy/data/en\n",
      "You can now load the model via spacy.load('en')\n"
     ]
    }
   ],
   "source": [
    "!pip install --upgrade pip -q\n",
    "!pip install s3fs -q\n",
    "!pip install -U spacy -q\n",
    "!python -m spacy download en_core_web_sm -q\n",
    "!python -m spacy download en -q\n",
    "!pip install catboost -q\n",
    "!pip install opencv-python -q"
   ]
  },
  {
   "cell_type": "code",
   "execution_count": 1,
   "metadata": {},
   "outputs": [],
   "source": [
    "%load_ext autoreload\n",
    "%autoreload 2\n",
    "\n",
    "from mxnet_utils import *\n",
    "%matplotlib inline"
   ]
  },
  {
   "cell_type": "markdown",
   "metadata": {},
   "source": [
    "## Datasets and dataloaders"
   ]
  },
  {
   "cell_type": "code",
   "execution_count": 2,
   "metadata": {},
   "outputs": [],
   "source": [
    "ctx = mx.gpu(0)\n",
    "\n",
    "tokenizer = nlp.data.SpacyTokenizer('en')\n",
    "length_clip = nlp.data.ClipSequence(500)\n",
    "_, vocab = get_lm(dropout=0.5, ctx=ctx)"
   ]
  },
  {
   "cell_type": "code",
   "execution_count": 3,
   "metadata": {},
   "outputs": [],
   "source": [
    "data = pd.read_csv('data.csv')\n",
    "df = data[['petid', 'description', 'adoptionspeed']]"
   ]
  },
  {
   "cell_type": "code",
   "execution_count": 4,
   "metadata": {},
   "outputs": [],
   "source": [
    "artifacts = load_artifact('artifacts.pkl')\n",
    "X_train = artifacts['X_train']\n",
    "X_valid = artifacts['X_valid']"
   ]
  },
  {
   "cell_type": "code",
   "execution_count": 5,
   "metadata": {},
   "outputs": [
    {
     "data": {
      "text/plain": [
       "((10045, 4), (4948, 4), 0.33002067631561394)"
      ]
     },
     "execution_count": 5,
     "metadata": {},
     "output_type": "execute_result"
    }
   ],
   "source": [
    "df_train = df.loc[df.petid.isin(X_train.petid)].reset_index(drop=True).reset_index()\n",
    "df_valid = df.loc[df.petid.isin(X_valid.petid)].reset_index(drop=True).reset_index()\n",
    "\n",
    "df_train.shape, df_valid.shape, len(df_valid)/(len(df_train)+len(df_valid))"
   ]
  },
  {
   "cell_type": "code",
   "execution_count": 6,
   "metadata": {},
   "outputs": [],
   "source": [
    "train_l = df_train[['description', 'adoptionspeed']].values.tolist()\n",
    "valid_l = df_valid[['description', 'adoptionspeed']].values.tolist()"
   ]
  },
  {
   "cell_type": "code",
   "execution_count": 7,
   "metadata": {},
   "outputs": [
    {
     "data": {
      "text/plain": [
       "((256, 200), (256,))"
      ]
     },
     "execution_count": 7,
     "metadata": {},
     "output_type": "execute_result"
    }
   ],
   "source": [
    "train_dataloader, valid_dataloader = get_nlp_dls(train_l, valid_l, vocab, length_clip, tokenizer)\n",
    "\n",
    "(data, length), label = next(iter(train_dataloader))\n",
    "data.shape, label.shape"
   ]
  },
  {
   "cell_type": "markdown",
   "metadata": {},
   "source": [
    "## Loading the model"
   ]
  },
  {
   "cell_type": "code",
   "execution_count": 8,
   "metadata": {},
   "outputs": [
    {
     "data": {
      "text/plain": [
       "BaseNet(\n",
       "  (embedding): HybridSequential(\n",
       "    (0): Embedding(33278 -> 200, float32)\n",
       "    (1): Dropout(p = 0.5, axes=())\n",
       "  )\n",
       "  (encoder): LSTM(200 -> 200, TNC, num_layers=2, dropout=0.5)\n",
       "  (agg_layer): MeanPoolingLayer(\n",
       "  \n",
       "  )\n",
       "  (output): HybridSequential(\n",
       "    (0): Dropout(p = 0.5, axes=())\n",
       "    (1): Dense(None -> 5, linear)\n",
       "  )\n",
       ")"
      ]
     },
     "execution_count": 8,
     "metadata": {},
     "output_type": "execute_result"
    }
   ],
   "source": [
    "net = get_rnn(dropout=0.5, classes=5, ctx=ctx)\n",
    "net"
   ]
  },
  {
   "cell_type": "code",
   "execution_count": 9,
   "metadata": {},
   "outputs": [],
   "source": [
    "(data, length), label = get_batch(next(iter(train_dataloader)), ctx, app=\"nlp\")"
   ]
  },
  {
   "cell_type": "code",
   "execution_count": 10,
   "metadata": {},
   "outputs": [
    {
     "data": {
      "text/plain": [
       "(256, 5)"
      ]
     },
     "execution_count": 10,
     "metadata": {},
     "output_type": "execute_result"
    }
   ],
   "source": [
    "output = forward_pass(net, (data, length), app=\"nlp\")\n",
    "output.shape"
   ]
  },
  {
   "cell_type": "code",
   "execution_count": 11,
   "metadata": {},
   "outputs": [],
   "source": [
    "assert int((output.argmax(axis=1) == mx.nd.SoftmaxActivation(output).argmax(axis=1)).sum().asscalar()) == len(output)"
   ]
  },
  {
   "cell_type": "code",
   "execution_count": 12,
   "metadata": {},
   "outputs": [
    {
     "data": {
      "text/plain": [
       "(0.1746160064672595, 1.6160404622554778)"
      ]
     },
     "execution_count": 12,
     "metadata": {},
     "output_type": "execute_result"
    }
   ],
   "source": [
    "evaluate(net, valid_dataloader, ctx, app=\"nlp\")"
   ]
  },
  {
   "cell_type": "markdown",
   "metadata": {},
   "source": [
    "## Helper functions: fastai [learning rate finder](https://docs.fast.ai/callbacks.lr_finder.html)"
   ]
  },
  {
   "cell_type": "markdown",
   "metadata": {},
   "source": [
    "## Training the model"
   ]
  },
  {
   "cell_type": "code",
   "execution_count": 13,
   "metadata": {},
   "outputs": [
    {
     "data": {
      "image/png": "[encoded data removed]",
      "text/plain": [
       "<Figure size 432x288 with 1 Axes>"
      ]
     },
     "metadata": {
      "needs_background": "light"
     },
     "output_type": "display_data"
    }
   ],
   "source": [
    "net = get_rnn(dropout=0.3, classes=5, ctx=ctx)\n",
    "train_dataloader, _ = get_nlp_dls(train_l, valid_l, vocab, length_clip, tokenizer)\n",
    "_, _, _ = find_lr(net, train_dataloader, ctx, params=net.output.collect_params(), app=\"nlp\")"
   ]
  },
  {
   "cell_type": "code",
   "execution_count": 18,
   "metadata": {},
   "outputs": [
    {
     "name": "stdout",
     "output_type": "stream",
     "text": [
      "[Epoch 0] Train-acc: 0.263, loss: 1.531 | Val-acc: 0.296, loss: 1.468 | time: 0m:3s\n",
      "[Epoch 1] Train-acc: 0.295, loss: 1.468 | Val-acc: 0.304, loss: 1.455 | time: 0m:3s\n",
      "[Epoch 2] Train-acc: 0.289, loss: 1.465 | Val-acc: 0.302, loss: 1.454 | time: 0m:3s\n",
      "[Epoch 3] Train-acc: 0.291, loss: 1.458 | Val-acc: 0.303, loss: 1.454 | time: 0m:3s\n",
      "[Epoch 0] Train-acc: 0.299, loss: 1.46 | Val-acc: 0.302, loss: 1.452 | time: 0m:3s\n",
      "[Epoch 1] Train-acc: 0.304, loss: 1.461 | Val-acc: 0.323, loss: 1.442 | time: 0m:3s\n",
      "[Epoch 2] Train-acc: 0.314, loss: 1.449 | Val-acc: 0.328, loss: 1.435 | time: 0m:3s\n",
      "[Epoch 3] Train-acc: 0.32, loss: 1.441 | Val-acc: 0.313, loss: 1.437 | time: 0m:3s\n",
      "[Epoch 4] Train-acc: 0.322, loss: 1.422 | Val-acc: 0.321, loss: 1.434 | time: 0m:3s\n",
      "[Epoch 5] Train-acc: 0.34, loss: 1.407 | Val-acc: 0.324, loss: 1.432 | time: 0m:3s\n",
      "[Epoch 6] Train-acc: 0.348, loss: 1.391 | Val-acc: 0.34, loss: 1.431 | time: 0m:3s\n",
      "[Epoch 7] Train-acc: 0.357, loss: 1.372 | Val-acc: 0.34, loss: 1.42 | time: 0m:3s\n",
      "[Epoch 8] Train-acc: 0.356, loss: 1.364 | Val-acc: 0.34, loss: 1.421 | time: 0m:3s\n",
      "[Epoch 9] Train-acc: 0.36, loss: 1.363 | Val-acc: 0.34, loss: 1.421 | time: 0m:3s\n"
     ]
    }
   ],
   "source": [
    "net = get_rnn(dropout=0.5, classes=5, ctx=ctx)\n",
    "\n",
    "epochs = 4\n",
    "lr = 2e-2\n",
    "_, lr_schedule, mom_schedule = calc_lr_mom_schedule(epochs, len(train_dataloader), lr)\n",
    "net = fine_tune((train_dataloader, valid_dataloader), \n",
    "                  net,\n",
    "                  lr=lr,\n",
    "                  ctx=ctx,\n",
    "                  epochs=epochs,\n",
    "                  freeze=True,\n",
    "                  hyper={'lr_schedule': lr_schedule, 'mom_schedule': mom_schedule},\n",
    "                  app=\"nlp\")\n",
    "\n",
    "epochs = 10\n",
    "lr = lr\n",
    "_, lr_schedule, mom_schedule = calc_lr_mom_schedule(epochs, len(train_dataloader), lr)\n",
    "net = fine_tune((train_dataloader, valid_dataloader), \n",
    "                  net,\n",
    "                  lr=lr,\n",
    "                  ctx=ctx,\n",
    "                  epochs=epochs,\n",
    "                  freeze=False,\n",
    "                  hyper={'lr_schedule': lr_schedule, 'mom_schedule': mom_schedule},\n",
    "                  app=\"nlp\")"
   ]
  },
  {
   "cell_type": "markdown",
   "metadata": {},
   "source": [
    "## Extracting word vectors from the fine-tuned model"
   ]
  },
  {
   "cell_type": "code",
   "execution_count": 33,
   "metadata": {},
   "outputs": [
    {
     "data": {
      "text/plain": [
       "Embedding(33278 -> 200, float32)"
      ]
     },
     "execution_count": 33,
     "metadata": {},
     "output_type": "execute_result"
    }
   ],
   "source": [
    "net.embedding[0]"
   ]
  },
  {
   "cell_type": "code",
   "execution_count": 55,
   "metadata": {},
   "outputs": [],
   "source": [
    "w2v = net.embedding[0].weight.data()"
   ]
  },
  {
   "cell_type": "code",
   "execution_count": 37,
   "metadata": {},
   "outputs": [
    {
     "data": {
      "text/plain": [
       "2711"
      ]
     },
     "execution_count": 37,
     "metadata": {},
     "output_type": "execute_result"
    }
   ],
   "source": [
    "vocab[\"am\"]"
   ]
  },
  {
   "cell_type": "code",
   "execution_count": 71,
   "metadata": {},
   "outputs": [
    {
     "data": {
      "text/plain": [
       "'I found it beside my house, it has been there for 2 days, seemed like the mother abandoned it. I took it home, bathed & fed it. But i cant take care of it due to personal reasons. About the cat: 1. It is white 2. Looks male to me 3. It has BLUE eyes 4. About 2 months old i guess. 5. It is not deaf.'"
      ]
     },
     "execution_count": 71,
     "metadata": {},
     "output_type": "execute_result"
    }
   ],
   "source": [
    "desc = df.description.sample().values[0]\n",
    "desc"
   ]
  },
  {
   "cell_type": "code",
   "execution_count": 72,
   "metadata": {},
   "outputs": [
    {
     "data": {
      "text/plain": [
       "[70, 140, 29, 7122, 750]"
      ]
     },
     "execution_count": 72,
     "metadata": {},
     "output_type": "execute_result"
    }
   ],
   "source": [
    "toks = vocab[tokenizer(desc)]\n",
    "toks[:5]"
   ]
  },
  {
   "cell_type": "code",
   "execution_count": 73,
   "metadata": {},
   "outputs": [],
   "source": [
    "def embed_desc(desc):\n",
    "    toks = vocab(tokenizer(desc))\n",
    "    e = [w2v[w].asnumpy() for w in toks]\n",
    "    return np.stack(e).mean(axis=0).tolist()+[len(toks)]"
   ]
  },
  {
   "cell_type": "code",
   "execution_count": 74,
   "metadata": {},
   "outputs": [
    {
     "data": {
      "text/plain": [
       "[0.09255548566579819,\n",
       " -0.07124936580657959,\n",
       " -0.1555410623550415,\n",
       " 0.341440886259079,\n",
       " -0.1683581918478012]"
      ]
     },
     "execution_count": 74,
     "metadata": {},
     "output_type": "execute_result"
    }
   ],
   "source": [
    "embed_desc(desc)[:5]"
   ]
  },
  {
   "cell_type": "code",
   "execution_count": 76,
   "metadata": {},
   "outputs": [
    {
     "data": {
      "text/html": [
       "<div>\n",
       "<style scoped>\n",
       "    .dataframe tbody tr th:only-of-type {\n",
       "        vertical-align: middle;\n",
       "    }\n",
       "\n",
       "    .dataframe tbody tr th {\n",
       "        vertical-align: top;\n",
       "    }\n",
       "\n",
       "    .dataframe thead th {\n",
       "        text-align: right;\n",
       "    }\n",
       "</style>\n",
       "<table border=\"1\" class=\"dataframe\">\n",
       "  <thead>\n",
       "    <tr style=\"text-align: right;\">\n",
       "      <th></th>\n",
       "      <th>description</th>\n",
       "    </tr>\n",
       "  </thead>\n",
       "  <tbody>\n",
       "    <tr>\n",
       "      <td>1345</td>\n",
       "      <td>I rescued Yumi Hamasaki at a food stall far aw...</td>\n",
       "    </tr>\n",
       "    <tr>\n",
       "      <td>8371</td>\n",
       "      <td>They are 3 weeks old and they need a home soon.</td>\n",
       "    </tr>\n",
       "    <tr>\n",
       "      <td>5730</td>\n",
       "      <td>Zebra is a sweet-natured, affectionate and ver...</td>\n",
       "    </tr>\n",
       "    <tr>\n",
       "      <td>8882</td>\n",
       "      <td>He is lovely and cute.</td>\n",
       "    </tr>\n",
       "    <tr>\n",
       "      <td>3075</td>\n",
       "      <td>Victor is an abandoned dog found in PJ. Rescue...</td>\n",
       "    </tr>\n",
       "  </tbody>\n",
       "</table>\n",
       "</div>"
      ],
      "text/plain": [
       "                                            description\n",
       "1345  I rescued Yumi Hamasaki at a food stall far aw...\n",
       "8371    They are 3 weeks old and they need a home soon.\n",
       "5730  Zebra is a sweet-natured, affectionate and ver...\n",
       "8882                             He is lovely and cute.\n",
       "3075  Victor is an abandoned dog found in PJ. Rescue..."
      ]
     },
     "execution_count": 76,
     "metadata": {},
     "output_type": "execute_result"
    }
   ],
   "source": [
    "nl"
   ]
  },
  {
   "cell_type": "code",
   "execution_count": 79,
   "metadata": {},
   "outputs": [],
   "source": [
    "nl = df[['petid', 'description']].copy().set_index('petid')\n",
    "nl[[f\"vec_{i}\" for i in range(200)]+[\"len_desc\"]] = nl.apply(lambda row: embed_desc(row.description), axis='columns', result_type='expand')"
   ]
  },
  {
   "cell_type": "code",
   "execution_count": 80,
   "metadata": {},
   "outputs": [
    {
     "data": {
      "text/html": [
       "<div>\n",
       "<style scoped>\n",
       "    .dataframe tbody tr th:only-of-type {\n",
       "        vertical-align: middle;\n",
       "    }\n",
       "\n",
       "    .dataframe tbody tr th {\n",
       "        vertical-align: top;\n",
       "    }\n",
       "\n",
       "    .dataframe thead th {\n",
       "        text-align: right;\n",
       "    }\n",
       "</style>\n",
       "<table border=\"1\" class=\"dataframe\">\n",
       "  <thead>\n",
       "    <tr style=\"text-align: right;\">\n",
       "      <th></th>\n",
       "      <th>description</th>\n",
       "      <th>vec_0</th>\n",
       "      <th>vec_1</th>\n",
       "      <th>vec_2</th>\n",
       "      <th>vec_3</th>\n",
       "      <th>vec_4</th>\n",
       "      <th>vec_5</th>\n",
       "      <th>vec_6</th>\n",
       "      <th>vec_7</th>\n",
       "      <th>vec_8</th>\n",
       "      <th>...</th>\n",
       "      <th>vec_191</th>\n",
       "      <th>vec_192</th>\n",
       "      <th>vec_193</th>\n",
       "      <th>vec_194</th>\n",
       "      <th>vec_195</th>\n",
       "      <th>vec_196</th>\n",
       "      <th>vec_197</th>\n",
       "      <th>vec_198</th>\n",
       "      <th>vec_199</th>\n",
       "      <th>len_desc</th>\n",
       "    </tr>\n",
       "    <tr>\n",
       "      <th>petid</th>\n",
       "      <th></th>\n",
       "      <th></th>\n",
       "      <th></th>\n",
       "      <th></th>\n",
       "      <th></th>\n",
       "      <th></th>\n",
       "      <th></th>\n",
       "      <th></th>\n",
       "      <th></th>\n",
       "      <th></th>\n",
       "      <th></th>\n",
       "      <th></th>\n",
       "      <th></th>\n",
       "      <th></th>\n",
       "      <th></th>\n",
       "      <th></th>\n",
       "      <th></th>\n",
       "      <th></th>\n",
       "      <th></th>\n",
       "      <th></th>\n",
       "      <th></th>\n",
       "    </tr>\n",
       "  </thead>\n",
       "  <tbody>\n",
       "    <tr>\n",
       "      <td>86e1089a3</td>\n",
       "      <td>Nibble is a 3+ month old ball of cuteness. He ...</td>\n",
       "      <td>0.151120</td>\n",
       "      <td>-0.102192</td>\n",
       "      <td>-0.052737</td>\n",
       "      <td>0.282643</td>\n",
       "      <td>-0.059391</td>\n",
       "      <td>-0.045849</td>\n",
       "      <td>0.092128</td>\n",
       "      <td>0.013442</td>\n",
       "      <td>-0.044945</td>\n",
       "      <td>...</td>\n",
       "      <td>-0.253095</td>\n",
       "      <td>-0.227158</td>\n",
       "      <td>0.126604</td>\n",
       "      <td>0.114728</td>\n",
       "      <td>-0.149004</td>\n",
       "      <td>-0.064265</td>\n",
       "      <td>-0.184537</td>\n",
       "      <td>0.133515</td>\n",
       "      <td>0.156886</td>\n",
       "      <td>77.0</td>\n",
       "    </tr>\n",
       "    <tr>\n",
       "      <td>6296e909a</td>\n",
       "      <td>I just found it alone yesterday near my apartm...</td>\n",
       "      <td>0.163723</td>\n",
       "      <td>-0.070171</td>\n",
       "      <td>-0.103796</td>\n",
       "      <td>0.526421</td>\n",
       "      <td>-0.112155</td>\n",
       "      <td>-0.024832</td>\n",
       "      <td>-0.016550</td>\n",
       "      <td>0.106135</td>\n",
       "      <td>-0.174731</td>\n",
       "      <td>...</td>\n",
       "      <td>-0.256325</td>\n",
       "      <td>-0.280767</td>\n",
       "      <td>-0.053725</td>\n",
       "      <td>0.118201</td>\n",
       "      <td>-0.151859</td>\n",
       "      <td>-0.009583</td>\n",
       "      <td>-0.299425</td>\n",
       "      <td>0.103639</td>\n",
       "      <td>0.125480</td>\n",
       "      <td>25.0</td>\n",
       "    </tr>\n",
       "    <tr>\n",
       "      <td>3422e4906</td>\n",
       "      <td>Their pregnant mother was dumped by her irresp...</td>\n",
       "      <td>0.017280</td>\n",
       "      <td>-0.024876</td>\n",
       "      <td>-0.101790</td>\n",
       "      <td>0.282415</td>\n",
       "      <td>-0.062788</td>\n",
       "      <td>-0.160843</td>\n",
       "      <td>-0.007236</td>\n",
       "      <td>0.085372</td>\n",
       "      <td>-0.025705</td>\n",
       "      <td>...</td>\n",
       "      <td>-0.136125</td>\n",
       "      <td>-0.142186</td>\n",
       "      <td>0.203002</td>\n",
       "      <td>0.080277</td>\n",
       "      <td>0.048916</td>\n",
       "      <td>-0.004318</td>\n",
       "      <td>-0.194537</td>\n",
       "      <td>0.155570</td>\n",
       "      <td>0.199205</td>\n",
       "      <td>78.0</td>\n",
       "    </tr>\n",
       "    <tr>\n",
       "      <td>5842f1ff5</td>\n",
       "      <td>Good guard dog, very alert, active, obedience ...</td>\n",
       "      <td>0.125524</td>\n",
       "      <td>-0.002457</td>\n",
       "      <td>-0.208021</td>\n",
       "      <td>0.422579</td>\n",
       "      <td>-0.005535</td>\n",
       "      <td>-0.014363</td>\n",
       "      <td>-0.165430</td>\n",
       "      <td>-0.017740</td>\n",
       "      <td>-0.018556</td>\n",
       "      <td>...</td>\n",
       "      <td>-0.030943</td>\n",
       "      <td>-0.028437</td>\n",
       "      <td>0.220444</td>\n",
       "      <td>0.129906</td>\n",
       "      <td>-0.001397</td>\n",
       "      <td>-0.062682</td>\n",
       "      <td>0.148179</td>\n",
       "      <td>0.250583</td>\n",
       "      <td>0.233082</td>\n",
       "      <td>32.0</td>\n",
       "    </tr>\n",
       "    <tr>\n",
       "      <td>850a43f90</td>\n",
       "      <td>This handsome yet cute boy is up for adoption....</td>\n",
       "      <td>0.135651</td>\n",
       "      <td>0.006394</td>\n",
       "      <td>-0.136005</td>\n",
       "      <td>0.418407</td>\n",
       "      <td>-0.207315</td>\n",
       "      <td>-0.124794</td>\n",
       "      <td>-0.000064</td>\n",
       "      <td>0.020778</td>\n",
       "      <td>0.004657</td>\n",
       "      <td>...</td>\n",
       "      <td>-0.123884</td>\n",
       "      <td>-0.177743</td>\n",
       "      <td>0.149592</td>\n",
       "      <td>-0.042502</td>\n",
       "      <td>-0.075616</td>\n",
       "      <td>-0.014896</td>\n",
       "      <td>-0.148545</td>\n",
       "      <td>0.147900</td>\n",
       "      <td>0.170952</td>\n",
       "      <td>88.0</td>\n",
       "    </tr>\n",
       "    <tr>\n",
       "      <td>...</td>\n",
       "      <td>...</td>\n",
       "      <td>...</td>\n",
       "      <td>...</td>\n",
       "      <td>...</td>\n",
       "      <td>...</td>\n",
       "      <td>...</td>\n",
       "      <td>...</td>\n",
       "      <td>...</td>\n",
       "      <td>...</td>\n",
       "      <td>...</td>\n",
       "      <td>...</td>\n",
       "      <td>...</td>\n",
       "      <td>...</td>\n",
       "      <td>...</td>\n",
       "      <td>...</td>\n",
       "      <td>...</td>\n",
       "      <td>...</td>\n",
       "      <td>...</td>\n",
       "      <td>...</td>\n",
       "      <td>...</td>\n",
       "      <td>...</td>\n",
       "    </tr>\n",
       "    <tr>\n",
       "      <td>dc0935a84</td>\n",
       "      <td>I have 4 kittens that need to be adopt urgentl...</td>\n",
       "      <td>0.047569</td>\n",
       "      <td>-0.142442</td>\n",
       "      <td>-0.156572</td>\n",
       "      <td>0.406026</td>\n",
       "      <td>-0.140067</td>\n",
       "      <td>-0.105401</td>\n",
       "      <td>-0.018070</td>\n",
       "      <td>0.148601</td>\n",
       "      <td>-0.132247</td>\n",
       "      <td>...</td>\n",
       "      <td>-0.166999</td>\n",
       "      <td>-0.219257</td>\n",
       "      <td>0.017398</td>\n",
       "      <td>0.157921</td>\n",
       "      <td>-0.191533</td>\n",
       "      <td>0.047409</td>\n",
       "      <td>-0.226772</td>\n",
       "      <td>0.250913</td>\n",
       "      <td>0.210464</td>\n",
       "      <td>84.0</td>\n",
       "    </tr>\n",
       "    <tr>\n",
       "      <td>a01ab5b30</td>\n",
       "      <td>Serato(female cat- 3 color) is 4 years old and...</td>\n",
       "      <td>-0.025889</td>\n",
       "      <td>-0.035227</td>\n",
       "      <td>0.098092</td>\n",
       "      <td>0.436868</td>\n",
       "      <td>-0.183446</td>\n",
       "      <td>-0.091758</td>\n",
       "      <td>0.119769</td>\n",
       "      <td>0.129264</td>\n",
       "      <td>0.061278</td>\n",
       "      <td>...</td>\n",
       "      <td>-0.218676</td>\n",
       "      <td>-0.025364</td>\n",
       "      <td>0.071962</td>\n",
       "      <td>0.043386</td>\n",
       "      <td>-0.008827</td>\n",
       "      <td>-0.134992</td>\n",
       "      <td>-0.204808</td>\n",
       "      <td>0.263911</td>\n",
       "      <td>0.006375</td>\n",
       "      <td>37.0</td>\n",
       "    </tr>\n",
       "    <tr>\n",
       "      <td>d981b6395</td>\n",
       "      <td>Mix breed, good temperament kittens. Love huma...</td>\n",
       "      <td>0.014215</td>\n",
       "      <td>-0.235830</td>\n",
       "      <td>-0.398874</td>\n",
       "      <td>0.284106</td>\n",
       "      <td>-0.129533</td>\n",
       "      <td>-0.457478</td>\n",
       "      <td>-0.061381</td>\n",
       "      <td>0.008042</td>\n",
       "      <td>0.001774</td>\n",
       "      <td>...</td>\n",
       "      <td>-0.004034</td>\n",
       "      <td>0.095107</td>\n",
       "      <td>0.073822</td>\n",
       "      <td>0.434735</td>\n",
       "      <td>-0.155216</td>\n",
       "      <td>0.086012</td>\n",
       "      <td>-0.680121</td>\n",
       "      <td>0.380150</td>\n",
       "      <td>0.119931</td>\n",
       "      <td>13.0</td>\n",
       "    </tr>\n",
       "    <tr>\n",
       "      <td>e4da1c9e4</td>\n",
       "      <td>she is very shy..adventures and independent..s...</td>\n",
       "      <td>0.269012</td>\n",
       "      <td>0.209746</td>\n",
       "      <td>-0.044045</td>\n",
       "      <td>0.325137</td>\n",
       "      <td>-0.240529</td>\n",
       "      <td>0.082838</td>\n",
       "      <td>-0.228568</td>\n",
       "      <td>0.234138</td>\n",
       "      <td>-0.115007</td>\n",
       "      <td>...</td>\n",
       "      <td>-0.237339</td>\n",
       "      <td>0.041273</td>\n",
       "      <td>0.063096</td>\n",
       "      <td>0.176514</td>\n",
       "      <td>0.098436</td>\n",
       "      <td>-0.039498</td>\n",
       "      <td>-0.018176</td>\n",
       "      <td>0.243199</td>\n",
       "      <td>0.278365</td>\n",
       "      <td>27.0</td>\n",
       "    </tr>\n",
       "    <tr>\n",
       "      <td>a83d95ead</td>\n",
       "      <td>Fili just loves laying around and also loves b...</td>\n",
       "      <td>-0.047547</td>\n",
       "      <td>-0.043071</td>\n",
       "      <td>-0.041093</td>\n",
       "      <td>0.383636</td>\n",
       "      <td>-0.270414</td>\n",
       "      <td>-0.085090</td>\n",
       "      <td>-0.202565</td>\n",
       "      <td>0.295968</td>\n",
       "      <td>-0.142550</td>\n",
       "      <td>...</td>\n",
       "      <td>-0.162646</td>\n",
       "      <td>-0.235288</td>\n",
       "      <td>-0.063066</td>\n",
       "      <td>0.027245</td>\n",
       "      <td>-0.186776</td>\n",
       "      <td>0.011391</td>\n",
       "      <td>-0.139013</td>\n",
       "      <td>0.292082</td>\n",
       "      <td>0.147679</td>\n",
       "      <td>18.0</td>\n",
       "    </tr>\n",
       "  </tbody>\n",
       "</table>\n",
       "<p>14993 rows × 202 columns</p>\n",
       "</div>"
      ],
      "text/plain": [
       "                                                 description     vec_0  \\\n",
       "petid                                                                    \n",
       "86e1089a3  Nibble is a 3+ month old ball of cuteness. He ...  0.151120   \n",
       "6296e909a  I just found it alone yesterday near my apartm...  0.163723   \n",
       "3422e4906  Their pregnant mother was dumped by her irresp...  0.017280   \n",
       "5842f1ff5  Good guard dog, very alert, active, obedience ...  0.125524   \n",
       "850a43f90  This handsome yet cute boy is up for adoption....  0.135651   \n",
       "...                                                      ...       ...   \n",
       "dc0935a84  I have 4 kittens that need to be adopt urgentl...  0.047569   \n",
       "a01ab5b30  Serato(female cat- 3 color) is 4 years old and... -0.025889   \n",
       "d981b6395  Mix breed, good temperament kittens. Love huma...  0.014215   \n",
       "e4da1c9e4  she is very shy..adventures and independent..s...  0.269012   \n",
       "a83d95ead  Fili just loves laying around and also loves b... -0.047547   \n",
       "\n",
       "              vec_1     vec_2     vec_3     vec_4     vec_5     vec_6  \\\n",
       "petid                                                                   \n",
       "86e1089a3 -0.102192 -0.052737  0.282643 -0.059391 -0.045849  0.092128   \n",
       "6296e909a -0.070171 -0.103796  0.526421 -0.112155 -0.024832 -0.016550   \n",
       "3422e4906 -0.024876 -0.101790  0.282415 -0.062788 -0.160843 -0.007236   \n",
       "5842f1ff5 -0.002457 -0.208021  0.422579 -0.005535 -0.014363 -0.165430   \n",
       "850a43f90  0.006394 -0.136005  0.418407 -0.207315 -0.124794 -0.000064   \n",
       "...             ...       ...       ...       ...       ...       ...   \n",
       "dc0935a84 -0.142442 -0.156572  0.406026 -0.140067 -0.105401 -0.018070   \n",
       "a01ab5b30 -0.035227  0.098092  0.436868 -0.183446 -0.091758  0.119769   \n",
       "d981b6395 -0.235830 -0.398874  0.284106 -0.129533 -0.457478 -0.061381   \n",
       "e4da1c9e4  0.209746 -0.044045  0.325137 -0.240529  0.082838 -0.228568   \n",
       "a83d95ead -0.043071 -0.041093  0.383636 -0.270414 -0.085090 -0.202565   \n",
       "\n",
       "              vec_7     vec_8  ...   vec_191   vec_192   vec_193   vec_194  \\\n",
       "petid                          ...                                           \n",
       "86e1089a3  0.013442 -0.044945  ... -0.253095 -0.227158  0.126604  0.114728   \n",
       "6296e909a  0.106135 -0.174731  ... -0.256325 -0.280767 -0.053725  0.118201   \n",
       "3422e4906  0.085372 -0.025705  ... -0.136125 -0.142186  0.203002  0.080277   \n",
       "5842f1ff5 -0.017740 -0.018556  ... -0.030943 -0.028437  0.220444  0.129906   \n",
       "850a43f90  0.020778  0.004657  ... -0.123884 -0.177743  0.149592 -0.042502   \n",
       "...             ...       ...  ...       ...       ...       ...       ...   \n",
       "dc0935a84  0.148601 -0.132247  ... -0.166999 -0.219257  0.017398  0.157921   \n",
       "a01ab5b30  0.129264  0.061278  ... -0.218676 -0.025364  0.071962  0.043386   \n",
       "d981b6395  0.008042  0.001774  ... -0.004034  0.095107  0.073822  0.434735   \n",
       "e4da1c9e4  0.234138 -0.115007  ... -0.237339  0.041273  0.063096  0.176514   \n",
       "a83d95ead  0.295968 -0.142550  ... -0.162646 -0.235288 -0.063066  0.027245   \n",
       "\n",
       "            vec_195   vec_196   vec_197   vec_198   vec_199  len_desc  \n",
       "petid                                                                  \n",
       "86e1089a3 -0.149004 -0.064265 -0.184537  0.133515  0.156886      77.0  \n",
       "6296e909a -0.151859 -0.009583 -0.299425  0.103639  0.125480      25.0  \n",
       "3422e4906  0.048916 -0.004318 -0.194537  0.155570  0.199205      78.0  \n",
       "5842f1ff5 -0.001397 -0.062682  0.148179  0.250583  0.233082      32.0  \n",
       "850a43f90 -0.075616 -0.014896 -0.148545  0.147900  0.170952      88.0  \n",
       "...             ...       ...       ...       ...       ...       ...  \n",
       "dc0935a84 -0.191533  0.047409 -0.226772  0.250913  0.210464      84.0  \n",
       "a01ab5b30 -0.008827 -0.134992 -0.204808  0.263911  0.006375      37.0  \n",
       "d981b6395 -0.155216  0.086012 -0.680121  0.380150  0.119931      13.0  \n",
       "e4da1c9e4  0.098436 -0.039498 -0.018176  0.243199  0.278365      27.0  \n",
       "a83d95ead -0.186776  0.011391 -0.139013  0.292082  0.147679      18.0  \n",
       "\n",
       "[14993 rows x 202 columns]"
      ]
     },
     "execution_count": 80,
     "metadata": {},
     "output_type": "execute_result"
    }
   ],
   "source": [
    "nl"
   ]
  },
  {
   "cell_type": "code",
   "execution_count": 81,
   "metadata": {},
   "outputs": [],
   "source": [
    "nl.to_csv('nlp.csv')"
   ]
  }
 ],
 "metadata": {
  "kernelspec": {
   "display_name": "Python 3 (MXNet GPU Optimized)",
   "language": "python",
   "name": "python3__SAGEMAKER_INTERNAL__arn:aws:sagemaker:eu-west-1:470317259841:image/mxnet-1.6-gpu-py36"
  },
  "language_info": {
   "codemirror_mode": {
    "name": "ipython",
    "version": 3
   },
   "file_extension": ".py",
   "mimetype": "text/x-python",
   "name": "python",
   "nbconvert_exporter": "python",
   "pygments_lexer": "ipython3",
   "version": "3.6.8"
  }
 },
 "nbformat": 4,
 "nbformat_minor": 4
}
