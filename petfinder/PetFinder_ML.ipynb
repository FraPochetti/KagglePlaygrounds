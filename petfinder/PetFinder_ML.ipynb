{
 "cells": [
  {
   "cell_type": "markdown",
   "metadata": {},
   "source": [
    "# (Kaggle PetFinder) Model Baseline "
   ]
  },
  {
   "cell_type": "markdown",
   "metadata": {},
   "source": [
    "## Imports"
   ]
  },
  {
   "cell_type": "code",
   "execution_count": 4,
   "metadata": {},
   "outputs": [
    {
     "name": "stdout",
     "output_type": "stream",
     "text": [
      "\u001b[38;5;2m[+] Download and installation successful\u001b[0m\n",
      "You can now load the model via spacy.load('en_core_web_sm')\n"
     ]
    }
   ],
   "source": [
    "!pip install --upgrade pip -q\n",
    "!pip install s3fs -q\n",
    "!pip install -U spacy -q\n",
    "!python -m spacy download en_core_web_sm -q\n",
    "!python -m spacy download en -q\n",
    "!pip install catboost -q\n",
    "!pip install opencv-python -q"
   ]
  },
  {
   "cell_type": "code",
   "execution_count": 5,
   "metadata": {},
   "outputs": [],
   "source": [
    "from mxnet_utils import *\n",
    "%matplotlib inline"
   ]
  },
  {
   "cell_type": "markdown",
   "metadata": {},
   "source": [
    "## Loading data from S3"
   ]
  },
  {
   "cell_type": "code",
   "execution_count": 4,
   "metadata": {},
   "outputs": [],
   "source": [
    "breeds = pd.read_csv('s3://petfinder-fra/breed_labels.csv')\n",
    "colors = pd.read_csv('s3://petfinder-fra/color_labels.csv')\n",
    "states = pd.read_csv('s3://petfinder-fra/state_labels.csv')\n",
    "train = pd.read_csv('s3://petfinder-fra/train.csv')\n",
    "train.columns = [c.lower() for c in train.columns]\n",
    "train.set_index('petid', inplace=True)"
   ]
  },
  {
   "cell_type": "code",
   "execution_count": 5,
   "metadata": {},
   "outputs": [
    {
     "data": {
      "text/html": [
       "<div>\n",
       "<style scoped>\n",
       "    .dataframe tbody tr th:only-of-type {\n",
       "        vertical-align: middle;\n",
       "    }\n",
       "\n",
       "    .dataframe tbody tr th {\n",
       "        vertical-align: top;\n",
       "    }\n",
       "\n",
       "    .dataframe thead th {\n",
       "        text-align: right;\n",
       "    }\n",
       "</style>\n",
       "<table border=\"1\" class=\"dataframe\">\n",
       "  <thead>\n",
       "    <tr style=\"text-align: right;\">\n",
       "      <th>petid</th>\n",
       "      <th>86e1089a3</th>\n",
       "      <th>6296e909a</th>\n",
       "      <th>3422e4906</th>\n",
       "      <th>5842f1ff5</th>\n",
       "      <th>850a43f90</th>\n",
       "    </tr>\n",
       "  </thead>\n",
       "  <tbody>\n",
       "    <tr>\n",
       "      <td>type</td>\n",
       "      <td>2</td>\n",
       "      <td>2</td>\n",
       "      <td>1</td>\n",
       "      <td>1</td>\n",
       "      <td>1</td>\n",
       "    </tr>\n",
       "    <tr>\n",
       "      <td>name</td>\n",
       "      <td>Nibble</td>\n",
       "      <td>No Name Yet</td>\n",
       "      <td>Brisco</td>\n",
       "      <td>Miko</td>\n",
       "      <td>Hunter</td>\n",
       "    </tr>\n",
       "    <tr>\n",
       "      <td>age</td>\n",
       "      <td>3</td>\n",
       "      <td>1</td>\n",
       "      <td>1</td>\n",
       "      <td>4</td>\n",
       "      <td>1</td>\n",
       "    </tr>\n",
       "    <tr>\n",
       "      <td>breed1</td>\n",
       "      <td>299</td>\n",
       "      <td>265</td>\n",
       "      <td>307</td>\n",
       "      <td>307</td>\n",
       "      <td>307</td>\n",
       "    </tr>\n",
       "    <tr>\n",
       "      <td>breed2</td>\n",
       "      <td>0</td>\n",
       "      <td>0</td>\n",
       "      <td>0</td>\n",
       "      <td>0</td>\n",
       "      <td>0</td>\n",
       "    </tr>\n",
       "    <tr>\n",
       "      <td>gender</td>\n",
       "      <td>1</td>\n",
       "      <td>1</td>\n",
       "      <td>1</td>\n",
       "      <td>2</td>\n",
       "      <td>1</td>\n",
       "    </tr>\n",
       "    <tr>\n",
       "      <td>color1</td>\n",
       "      <td>1</td>\n",
       "      <td>1</td>\n",
       "      <td>2</td>\n",
       "      <td>1</td>\n",
       "      <td>1</td>\n",
       "    </tr>\n",
       "    <tr>\n",
       "      <td>color2</td>\n",
       "      <td>7</td>\n",
       "      <td>2</td>\n",
       "      <td>7</td>\n",
       "      <td>2</td>\n",
       "      <td>0</td>\n",
       "    </tr>\n",
       "    <tr>\n",
       "      <td>color3</td>\n",
       "      <td>0</td>\n",
       "      <td>0</td>\n",
       "      <td>0</td>\n",
       "      <td>0</td>\n",
       "      <td>0</td>\n",
       "    </tr>\n",
       "    <tr>\n",
       "      <td>maturitysize</td>\n",
       "      <td>1</td>\n",
       "      <td>2</td>\n",
       "      <td>2</td>\n",
       "      <td>2</td>\n",
       "      <td>2</td>\n",
       "    </tr>\n",
       "    <tr>\n",
       "      <td>furlength</td>\n",
       "      <td>1</td>\n",
       "      <td>2</td>\n",
       "      <td>2</td>\n",
       "      <td>1</td>\n",
       "      <td>1</td>\n",
       "    </tr>\n",
       "    <tr>\n",
       "      <td>vaccinated</td>\n",
       "      <td>2</td>\n",
       "      <td>3</td>\n",
       "      <td>1</td>\n",
       "      <td>1</td>\n",
       "      <td>2</td>\n",
       "    </tr>\n",
       "    <tr>\n",
       "      <td>dewormed</td>\n",
       "      <td>2</td>\n",
       "      <td>3</td>\n",
       "      <td>1</td>\n",
       "      <td>1</td>\n",
       "      <td>2</td>\n",
       "    </tr>\n",
       "    <tr>\n",
       "      <td>sterilized</td>\n",
       "      <td>2</td>\n",
       "      <td>3</td>\n",
       "      <td>2</td>\n",
       "      <td>2</td>\n",
       "      <td>2</td>\n",
       "    </tr>\n",
       "    <tr>\n",
       "      <td>health</td>\n",
       "      <td>1</td>\n",
       "      <td>1</td>\n",
       "      <td>1</td>\n",
       "      <td>1</td>\n",
       "      <td>1</td>\n",
       "    </tr>\n",
       "    <tr>\n",
       "      <td>quantity</td>\n",
       "      <td>1</td>\n",
       "      <td>1</td>\n",
       "      <td>1</td>\n",
       "      <td>1</td>\n",
       "      <td>1</td>\n",
       "    </tr>\n",
       "    <tr>\n",
       "      <td>fee</td>\n",
       "      <td>100</td>\n",
       "      <td>0</td>\n",
       "      <td>0</td>\n",
       "      <td>150</td>\n",
       "      <td>0</td>\n",
       "    </tr>\n",
       "    <tr>\n",
       "      <td>state</td>\n",
       "      <td>41326</td>\n",
       "      <td>41401</td>\n",
       "      <td>41326</td>\n",
       "      <td>41401</td>\n",
       "      <td>41326</td>\n",
       "    </tr>\n",
       "    <tr>\n",
       "      <td>rescuerid</td>\n",
       "      <td>8480853f516546f6cf33aa88cd76c379</td>\n",
       "      <td>3082c7125d8fb66f7dd4bff4192c8b14</td>\n",
       "      <td>fa90fa5b1ee11c86938398b60abc32cb</td>\n",
       "      <td>9238e4f44c71a75282e62f7136c6b240</td>\n",
       "      <td>95481e953f8aed9ec3d16fc4509537e8</td>\n",
       "    </tr>\n",
       "    <tr>\n",
       "      <td>videoamt</td>\n",
       "      <td>0</td>\n",
       "      <td>0</td>\n",
       "      <td>0</td>\n",
       "      <td>0</td>\n",
       "      <td>0</td>\n",
       "    </tr>\n",
       "    <tr>\n",
       "      <td>description</td>\n",
       "      <td>Nibble is a 3+ month old ball of cuteness. He ...</td>\n",
       "      <td>I just found it alone yesterday near my apartm...</td>\n",
       "      <td>Their pregnant mother was dumped by her irresp...</td>\n",
       "      <td>Good guard dog, very alert, active, obedience ...</td>\n",
       "      <td>This handsome yet cute boy is up for adoption....</td>\n",
       "    </tr>\n",
       "    <tr>\n",
       "      <td>photoamt</td>\n",
       "      <td>1</td>\n",
       "      <td>2</td>\n",
       "      <td>7</td>\n",
       "      <td>8</td>\n",
       "      <td>3</td>\n",
       "    </tr>\n",
       "    <tr>\n",
       "      <td>adoptionspeed</td>\n",
       "      <td>2</td>\n",
       "      <td>0</td>\n",
       "      <td>3</td>\n",
       "      <td>2</td>\n",
       "      <td>2</td>\n",
       "    </tr>\n",
       "  </tbody>\n",
       "</table>\n",
       "</div>"
      ],
      "text/plain": [
       "petid                                                  86e1089a3  \\\n",
       "type                                                           2   \n",
       "name                                                      Nibble   \n",
       "age                                                            3   \n",
       "breed1                                                       299   \n",
       "breed2                                                         0   \n",
       "gender                                                         1   \n",
       "color1                                                         1   \n",
       "color2                                                         7   \n",
       "color3                                                         0   \n",
       "maturitysize                                                   1   \n",
       "furlength                                                      1   \n",
       "vaccinated                                                     2   \n",
       "dewormed                                                       2   \n",
       "sterilized                                                     2   \n",
       "health                                                         1   \n",
       "quantity                                                       1   \n",
       "fee                                                          100   \n",
       "state                                                      41326   \n",
       "rescuerid                       8480853f516546f6cf33aa88cd76c379   \n",
       "videoamt                                                       0   \n",
       "description    Nibble is a 3+ month old ball of cuteness. He ...   \n",
       "photoamt                                                       1   \n",
       "adoptionspeed                                                  2   \n",
       "\n",
       "petid                                                  6296e909a  \\\n",
       "type                                                           2   \n",
       "name                                                 No Name Yet   \n",
       "age                                                            1   \n",
       "breed1                                                       265   \n",
       "breed2                                                         0   \n",
       "gender                                                         1   \n",
       "color1                                                         1   \n",
       "color2                                                         2   \n",
       "color3                                                         0   \n",
       "maturitysize                                                   2   \n",
       "furlength                                                      2   \n",
       "vaccinated                                                     3   \n",
       "dewormed                                                       3   \n",
       "sterilized                                                     3   \n",
       "health                                                         1   \n",
       "quantity                                                       1   \n",
       "fee                                                            0   \n",
       "state                                                      41401   \n",
       "rescuerid                       3082c7125d8fb66f7dd4bff4192c8b14   \n",
       "videoamt                                                       0   \n",
       "description    I just found it alone yesterday near my apartm...   \n",
       "photoamt                                                       2   \n",
       "adoptionspeed                                                  0   \n",
       "\n",
       "petid                                                  3422e4906  \\\n",
       "type                                                           1   \n",
       "name                                                      Brisco   \n",
       "age                                                            1   \n",
       "breed1                                                       307   \n",
       "breed2                                                         0   \n",
       "gender                                                         1   \n",
       "color1                                                         2   \n",
       "color2                                                         7   \n",
       "color3                                                         0   \n",
       "maturitysize                                                   2   \n",
       "furlength                                                      2   \n",
       "vaccinated                                                     1   \n",
       "dewormed                                                       1   \n",
       "sterilized                                                     2   \n",
       "health                                                         1   \n",
       "quantity                                                       1   \n",
       "fee                                                            0   \n",
       "state                                                      41326   \n",
       "rescuerid                       fa90fa5b1ee11c86938398b60abc32cb   \n",
       "videoamt                                                       0   \n",
       "description    Their pregnant mother was dumped by her irresp...   \n",
       "photoamt                                                       7   \n",
       "adoptionspeed                                                  3   \n",
       "\n",
       "petid                                                  5842f1ff5  \\\n",
       "type                                                           1   \n",
       "name                                                        Miko   \n",
       "age                                                            4   \n",
       "breed1                                                       307   \n",
       "breed2                                                         0   \n",
       "gender                                                         2   \n",
       "color1                                                         1   \n",
       "color2                                                         2   \n",
       "color3                                                         0   \n",
       "maturitysize                                                   2   \n",
       "furlength                                                      1   \n",
       "vaccinated                                                     1   \n",
       "dewormed                                                       1   \n",
       "sterilized                                                     2   \n",
       "health                                                         1   \n",
       "quantity                                                       1   \n",
       "fee                                                          150   \n",
       "state                                                      41401   \n",
       "rescuerid                       9238e4f44c71a75282e62f7136c6b240   \n",
       "videoamt                                                       0   \n",
       "description    Good guard dog, very alert, active, obedience ...   \n",
       "photoamt                                                       8   \n",
       "adoptionspeed                                                  2   \n",
       "\n",
       "petid                                                  850a43f90  \n",
       "type                                                           1  \n",
       "name                                                      Hunter  \n",
       "age                                                            1  \n",
       "breed1                                                       307  \n",
       "breed2                                                         0  \n",
       "gender                                                         1  \n",
       "color1                                                         1  \n",
       "color2                                                         0  \n",
       "color3                                                         0  \n",
       "maturitysize                                                   2  \n",
       "furlength                                                      1  \n",
       "vaccinated                                                     2  \n",
       "dewormed                                                       2  \n",
       "sterilized                                                     2  \n",
       "health                                                         1  \n",
       "quantity                                                       1  \n",
       "fee                                                            0  \n",
       "state                                                      41326  \n",
       "rescuerid                       95481e953f8aed9ec3d16fc4509537e8  \n",
       "videoamt                                                       0  \n",
       "description    This handsome yet cute boy is up for adoption....  \n",
       "photoamt                                                       3  \n",
       "adoptionspeed                                                  2  "
      ]
     },
     "execution_count": 5,
     "metadata": {},
     "output_type": "execute_result"
    }
   ],
   "source": [
    "train.head().T"
   ]
  },
  {
   "cell_type": "markdown",
   "metadata": {},
   "source": [
    "## Adding sentiment of pets' description to main dataset"
   ]
  },
  {
   "cell_type": "code",
   "execution_count": 8,
   "metadata": {},
   "outputs": [],
   "source": [
    "def read_sentiment(obj):\n",
    "    data = json.load(obj.get()['Body'])\n",
    "    return {'petid': obj.key.split(\"/\")[1][:-5], 'score': data['documentSentiment']['score'], 'magnitude': data['documentSentiment']['magnitude'], 'lang': data['language']}\n",
    "\n",
    "def get_sentiments():\n",
    "    s3 = boto3.resource('s3')\n",
    "    return pd.DataFrame([read_sentiment(i) for i in s3.Bucket(\"petfinder-fra\").objects.filter(Prefix='train_sentiment')])"
   ]
  },
  {
   "cell_type": "code",
   "execution_count": 6,
   "metadata": {},
   "outputs": [
    {
     "data": {
      "text/html": [
       "<div>\n",
       "<style scoped>\n",
       "    .dataframe tbody tr th:only-of-type {\n",
       "        vertical-align: middle;\n",
       "    }\n",
       "\n",
       "    .dataframe tbody tr th {\n",
       "        vertical-align: top;\n",
       "    }\n",
       "\n",
       "    .dataframe thead th {\n",
       "        text-align: right;\n",
       "    }\n",
       "</style>\n",
       "<table border=\"1\" class=\"dataframe\">\n",
       "  <thead>\n",
       "    <tr style=\"text-align: right;\">\n",
       "      <th></th>\n",
       "      <th>score</th>\n",
       "      <th>magnitude</th>\n",
       "      <th>lang</th>\n",
       "    </tr>\n",
       "    <tr>\n",
       "      <th>petid</th>\n",
       "      <th></th>\n",
       "      <th></th>\n",
       "      <th></th>\n",
       "    </tr>\n",
       "  </thead>\n",
       "  <tbody>\n",
       "    <tr>\n",
       "      <td>0008c5398</td>\n",
       "      <td>0.7</td>\n",
       "      <td>2.8</td>\n",
       "      <td>en</td>\n",
       "    </tr>\n",
       "    <tr>\n",
       "      <td>000a290e4</td>\n",
       "      <td>0.3</td>\n",
       "      <td>0.6</td>\n",
       "      <td>en</td>\n",
       "    </tr>\n",
       "    <tr>\n",
       "      <td>000fb9572</td>\n",
       "      <td>0.3</td>\n",
       "      <td>0.8</td>\n",
       "      <td>en</td>\n",
       "    </tr>\n",
       "    <tr>\n",
       "      <td>0011d7c25</td>\n",
       "      <td>0.8</td>\n",
       "      <td>0.8</td>\n",
       "      <td>en</td>\n",
       "    </tr>\n",
       "    <tr>\n",
       "      <td>00156db4a</td>\n",
       "      <td>0.0</td>\n",
       "      <td>1.8</td>\n",
       "      <td>en</td>\n",
       "    </tr>\n",
       "  </tbody>\n",
       "</table>\n",
       "</div>"
      ],
      "text/plain": [
       "           score  magnitude lang\n",
       "petid                           \n",
       "0008c5398    0.7        2.8   en\n",
       "000a290e4    0.3        0.6   en\n",
       "000fb9572    0.3        0.8   en\n",
       "0011d7c25    0.8        0.8   en\n",
       "00156db4a    0.0        1.8   en"
      ]
     },
     "execution_count": 6,
     "metadata": {},
     "output_type": "execute_result"
    }
   ],
   "source": [
    "sents = get_sentiments()\n",
    "sents.set_index('petid', inplace=True)\n",
    "sents.head()"
   ]
  },
  {
   "cell_type": "code",
   "execution_count": 7,
   "metadata": {},
   "outputs": [],
   "source": [
    "data = train.join(sents)\n",
    "data.description.fillna(\"missing\", inplace=True)\n",
    "assert (len(train)-len(sents)) == len(data.loc[pd.isnull(data.score)])"
   ]
  },
  {
   "cell_type": "code",
   "execution_count": 9,
   "metadata": {},
   "outputs": [
    {
     "data": {
      "text/plain": [
       "(14993, 26)"
      ]
     },
     "execution_count": 9,
     "metadata": {},
     "output_type": "execute_result"
    }
   ],
   "source": [
    "data.shape"
   ]
  },
  {
   "cell_type": "code",
   "execution_count": 11,
   "metadata": {},
   "outputs": [],
   "source": [
    "data.loc[:,['score', 'magnitude']] = data.loc[:,['score', 'magnitude']].fillna(0.0)"
   ]
  },
  {
   "cell_type": "code",
   "execution_count": 13,
   "metadata": {},
   "outputs": [],
   "source": [
    "data.to_csv('data.csv')"
   ]
  },
  {
   "cell_type": "markdown",
   "metadata": {},
   "source": [
    "## Tokenizing pets' description and encoding text with pre-trained word embeddings"
   ]
  },
  {
   "cell_type": "code",
   "execution_count": 3,
   "metadata": {},
   "outputs": [],
   "source": [
    "data = pd.read_csv('data.csv')"
   ]
  },
  {
   "cell_type": "code",
   "execution_count": 4,
   "metadata": {},
   "outputs": [
    {
     "data": {
      "text/plain": [
       "en         95.437871\n",
       "NaN         3.675048\n",
       "zh          0.633629\n",
       "zh-Hant     0.240112\n",
       "de          0.013340\n",
       "Name: lang, dtype: float64"
      ]
     },
     "execution_count": 4,
     "metadata": {},
     "output_type": "execute_result"
    }
   ],
   "source": [
    "data.lang.value_counts(dropna=False, normalize=True)*100"
   ]
  },
  {
   "cell_type": "code",
   "execution_count": 5,
   "metadata": {},
   "outputs": [],
   "source": [
    "tokenizer = nlp.data.SpacyTokenizer()"
   ]
  },
  {
   "cell_type": "code",
   "execution_count": 6,
   "metadata": {},
   "outputs": [
    {
     "name": "stdout",
     "output_type": "stream",
     "text": [
      "ORIGINAL TEXT: 2 years old mixed terrier welsh corgi waiting to rehome,owner not free time to take care,and very good temperament and friendly.if any pets lover interesting to adopt owner will free for rehome.pls cal mdm may\n",
      "\n",
      "TOKENIZED TEXT: ['2', 'years', 'old', 'mixed', 'terrier', 'welsh', 'corgi', 'waiting', 'to', 'rehome', ',', 'owner', 'not', 'free', 'time', 'to', 'take', 'care', ',', 'and', 'very', 'good', 'temperament', 'and', 'friendly.if', 'any', 'pets', 'lover', 'interesting', 'to', 'adopt', 'owner', 'will', 'free', 'for', 'rehome.pls', 'cal', 'mdm', 'may']\n"
     ]
    }
   ],
   "source": [
    "text = data.loc[~pd.isnull(data.lang)].description.sample().values[0]\n",
    "print(f\"ORIGINAL TEXT: {text}\\n\")\n",
    "print(f\"TOKENIZED TEXT: {tokenizer(text)}\")"
   ]
  },
  {
   "cell_type": "code",
   "execution_count": 7,
   "metadata": {},
   "outputs": [],
   "source": [
    "w2v = nlp.embedding.create(embedding_name='fasttext', source='wiki.simple')"
   ]
  },
  {
   "cell_type": "code",
   "execution_count": 11,
   "metadata": {},
   "outputs": [
    {
     "data": {
      "text/plain": [
       "\n",
       "[ 0.46491  -0.054671 -0.15154  -0.043841  0.066584  0.28697  -0.039378\n",
       " -0.11509   0.35755   0.31213   0.02738   0.098974 -0.12107   0.53368\n",
       "  0.19042  -0.32068  -0.1207   -0.18608  -0.016929 -0.094216]\n",
       "<NDArray 20 @cpu(0)>"
      ]
     },
     "execution_count": 11,
     "metadata": {},
     "output_type": "execute_result"
    }
   ],
   "source": [
    "w2v['kitten'][:20]"
   ]
  },
  {
   "cell_type": "code",
   "execution_count": 12,
   "metadata": {},
   "outputs": [],
   "source": [
    "def embed_desc(desc):\n",
    "    toks = tokenizer(desc)\n",
    "    e = [w2v[w].asnumpy() for w in toks]\n",
    "    return np.stack(e).mean(axis=0).tolist()+[len(toks)]"
   ]
  },
  {
   "cell_type": "code",
   "execution_count": 13,
   "metadata": {},
   "outputs": [
    {
     "data": {
      "text/plain": [
       "[-0.1949036568403244,\n",
       " -0.0573563314974308,\n",
       " -0.09666246920824051,\n",
       " -0.16454443335533142,\n",
       " 39]"
      ]
     },
     "execution_count": 13,
     "metadata": {},
     "output_type": "execute_result"
    }
   ],
   "source": [
    "embed_desc(text)[-5:]"
   ]
  },
  {
   "cell_type": "code",
   "execution_count": 14,
   "metadata": {},
   "outputs": [],
   "source": [
    "data[[f\"vec_{i}\" for i in range(300)]+[\"len_desc\"]] = data.apply(lambda row: embed_desc(row.description), axis='columns', result_type='expand')"
   ]
  },
  {
   "cell_type": "code",
   "execution_count": 15,
   "metadata": {},
   "outputs": [
    {
     "data": {
      "text/plain": [
       "(14993, 328)"
      ]
     },
     "execution_count": 15,
     "metadata": {},
     "output_type": "execute_result"
    }
   ],
   "source": [
    "data.shape"
   ]
  },
  {
   "cell_type": "code",
   "execution_count": 16,
   "metadata": {},
   "outputs": [
    {
     "data": {
      "text/html": [
       "<div>\n",
       "<style scoped>\n",
       "    .dataframe tbody tr th:only-of-type {\n",
       "        vertical-align: middle;\n",
       "    }\n",
       "\n",
       "    .dataframe tbody tr th {\n",
       "        vertical-align: top;\n",
       "    }\n",
       "\n",
       "    .dataframe thead th {\n",
       "        text-align: right;\n",
       "    }\n",
       "</style>\n",
       "<table border=\"1\" class=\"dataframe\">\n",
       "  <thead>\n",
       "    <tr style=\"text-align: right;\">\n",
       "      <th></th>\n",
       "      <th>petid</th>\n",
       "      <th>type</th>\n",
       "      <th>name</th>\n",
       "      <th>age</th>\n",
       "      <th>breed1</th>\n",
       "      <th>breed2</th>\n",
       "      <th>gender</th>\n",
       "      <th>color1</th>\n",
       "      <th>color2</th>\n",
       "      <th>color3</th>\n",
       "      <th>...</th>\n",
       "      <th>vec_291</th>\n",
       "      <th>vec_292</th>\n",
       "      <th>vec_293</th>\n",
       "      <th>vec_294</th>\n",
       "      <th>vec_295</th>\n",
       "      <th>vec_296</th>\n",
       "      <th>vec_297</th>\n",
       "      <th>vec_298</th>\n",
       "      <th>vec_299</th>\n",
       "      <th>len_desc</th>\n",
       "    </tr>\n",
       "  </thead>\n",
       "  <tbody>\n",
       "    <tr>\n",
       "      <td>0</td>\n",
       "      <td>86e1089a3</td>\n",
       "      <td>2</td>\n",
       "      <td>Nibble</td>\n",
       "      <td>3</td>\n",
       "      <td>299</td>\n",
       "      <td>0</td>\n",
       "      <td>1</td>\n",
       "      <td>1</td>\n",
       "      <td>7</td>\n",
       "      <td>0</td>\n",
       "      <td>...</td>\n",
       "      <td>-0.183482</td>\n",
       "      <td>-0.017556</td>\n",
       "      <td>0.063786</td>\n",
       "      <td>-0.062366</td>\n",
       "      <td>0.020300</td>\n",
       "      <td>-0.187230</td>\n",
       "      <td>-0.082071</td>\n",
       "      <td>-0.128731</td>\n",
       "      <td>-0.147769</td>\n",
       "      <td>77.0</td>\n",
       "    </tr>\n",
       "    <tr>\n",
       "      <td>1</td>\n",
       "      <td>6296e909a</td>\n",
       "      <td>2</td>\n",
       "      <td>No Name Yet</td>\n",
       "      <td>1</td>\n",
       "      <td>265</td>\n",
       "      <td>0</td>\n",
       "      <td>1</td>\n",
       "      <td>1</td>\n",
       "      <td>2</td>\n",
       "      <td>0</td>\n",
       "      <td>...</td>\n",
       "      <td>-0.236214</td>\n",
       "      <td>-0.033021</td>\n",
       "      <td>0.033291</td>\n",
       "      <td>-0.042864</td>\n",
       "      <td>0.035596</td>\n",
       "      <td>-0.118299</td>\n",
       "      <td>-0.114550</td>\n",
       "      <td>-0.097421</td>\n",
       "      <td>-0.147218</td>\n",
       "      <td>25.0</td>\n",
       "    </tr>\n",
       "    <tr>\n",
       "      <td>2</td>\n",
       "      <td>3422e4906</td>\n",
       "      <td>1</td>\n",
       "      <td>Brisco</td>\n",
       "      <td>1</td>\n",
       "      <td>307</td>\n",
       "      <td>0</td>\n",
       "      <td>1</td>\n",
       "      <td>2</td>\n",
       "      <td>7</td>\n",
       "      <td>0</td>\n",
       "      <td>...</td>\n",
       "      <td>-0.178662</td>\n",
       "      <td>0.001066</td>\n",
       "      <td>0.040389</td>\n",
       "      <td>-0.024360</td>\n",
       "      <td>0.035955</td>\n",
       "      <td>-0.135899</td>\n",
       "      <td>-0.075400</td>\n",
       "      <td>-0.098855</td>\n",
       "      <td>-0.154870</td>\n",
       "      <td>78.0</td>\n",
       "    </tr>\n",
       "    <tr>\n",
       "      <td>3</td>\n",
       "      <td>5842f1ff5</td>\n",
       "      <td>1</td>\n",
       "      <td>Miko</td>\n",
       "      <td>4</td>\n",
       "      <td>307</td>\n",
       "      <td>0</td>\n",
       "      <td>2</td>\n",
       "      <td>1</td>\n",
       "      <td>2</td>\n",
       "      <td>0</td>\n",
       "      <td>...</td>\n",
       "      <td>-0.174424</td>\n",
       "      <td>-0.077134</td>\n",
       "      <td>0.053265</td>\n",
       "      <td>-0.013152</td>\n",
       "      <td>0.003189</td>\n",
       "      <td>-0.174559</td>\n",
       "      <td>-0.101790</td>\n",
       "      <td>-0.103146</td>\n",
       "      <td>-0.167394</td>\n",
       "      <td>32.0</td>\n",
       "    </tr>\n",
       "    <tr>\n",
       "      <td>4</td>\n",
       "      <td>850a43f90</td>\n",
       "      <td>1</td>\n",
       "      <td>Hunter</td>\n",
       "      <td>1</td>\n",
       "      <td>307</td>\n",
       "      <td>0</td>\n",
       "      <td>1</td>\n",
       "      <td>1</td>\n",
       "      <td>0</td>\n",
       "      <td>0</td>\n",
       "      <td>...</td>\n",
       "      <td>-0.165067</td>\n",
       "      <td>-0.009924</td>\n",
       "      <td>0.038587</td>\n",
       "      <td>-0.010370</td>\n",
       "      <td>0.037135</td>\n",
       "      <td>-0.194724</td>\n",
       "      <td>-0.072124</td>\n",
       "      <td>-0.120098</td>\n",
       "      <td>-0.162652</td>\n",
       "      <td>88.0</td>\n",
       "    </tr>\n",
       "  </tbody>\n",
       "</table>\n",
       "<p>5 rows × 328 columns</p>\n",
       "</div>"
      ],
      "text/plain": [
       "       petid  type         name  age  breed1  breed2  gender  color1  color2  \\\n",
       "0  86e1089a3     2       Nibble    3     299       0       1       1       7   \n",
       "1  6296e909a     2  No Name Yet    1     265       0       1       1       2   \n",
       "2  3422e4906     1       Brisco    1     307       0       1       2       7   \n",
       "3  5842f1ff5     1         Miko    4     307       0       2       1       2   \n",
       "4  850a43f90     1       Hunter    1     307       0       1       1       0   \n",
       "\n",
       "   color3  ...   vec_291   vec_292   vec_293   vec_294   vec_295   vec_296  \\\n",
       "0       0  ... -0.183482 -0.017556  0.063786 -0.062366  0.020300 -0.187230   \n",
       "1       0  ... -0.236214 -0.033021  0.033291 -0.042864  0.035596 -0.118299   \n",
       "2       0  ... -0.178662  0.001066  0.040389 -0.024360  0.035955 -0.135899   \n",
       "3       0  ... -0.174424 -0.077134  0.053265 -0.013152  0.003189 -0.174559   \n",
       "4       0  ... -0.165067 -0.009924  0.038587 -0.010370  0.037135 -0.194724   \n",
       "\n",
       "    vec_297   vec_298   vec_299 len_desc  \n",
       "0 -0.082071 -0.128731 -0.147769     77.0  \n",
       "1 -0.114550 -0.097421 -0.147218     25.0  \n",
       "2 -0.075400 -0.098855 -0.154870     78.0  \n",
       "3 -0.101790 -0.103146 -0.167394     32.0  \n",
       "4 -0.072124 -0.120098 -0.162652     88.0  \n",
       "\n",
       "[5 rows x 328 columns]"
      ]
     },
     "execution_count": 16,
     "metadata": {},
     "output_type": "execute_result"
    }
   ],
   "source": [
    "data.head()"
   ]
  },
  {
   "cell_type": "code",
   "execution_count": 17,
   "metadata": {},
   "outputs": [],
   "source": [
    "data.to_csv('data.csv')"
   ]
  },
  {
   "cell_type": "markdown",
   "metadata": {},
   "source": [
    "## Enriching dataset with convolutional features from pets' pictures"
   ]
  },
  {
   "cell_type": "code",
   "execution_count": 3,
   "metadata": {},
   "outputs": [],
   "source": [
    "data = pd.read_csv('data.csv')\n",
    "data.set_index('petid', inplace=True)"
   ]
  },
  {
   "cell_type": "code",
   "execution_count": 4,
   "metadata": {},
   "outputs": [],
   "source": [
    "model_name = 'ResNet18_v1'\n",
    "net = cv.model_zoo.get_model(model_name, pretrained=True)\n",
    "img = mx.image.imread('./train_images/0008c5398-1.jpg')\n",
    "transformed_img = cv.data.transforms.presets.imagenet.transform_eval(img)\n",
    "cv_feats = net.features(transformed_img)"
   ]
  },
  {
   "cell_type": "code",
   "execution_count": 5,
   "metadata": {},
   "outputs": [
    {
     "data": {
      "text/plain": [
       "(512,)"
      ]
     },
     "execution_count": 5,
     "metadata": {},
     "output_type": "execute_result"
    }
   ],
   "source": [
    "cv_feats.squeeze().shape"
   ]
  },
  {
   "cell_type": "code",
   "execution_count": 6,
   "metadata": {},
   "outputs": [
    {
     "data": {
      "text/plain": [
       "0.9772560528246516"
      ]
     },
     "execution_count": 6,
     "metadata": {},
     "output_type": "execute_result"
    }
   ],
   "source": [
    "len(data.loc[data.photoamt>0])/len(data)"
   ]
  },
  {
   "cell_type": "code",
   "execution_count": 7,
   "metadata": {},
   "outputs": [],
   "source": [
    "def get_image_names(row):\n",
    "    if int(row.photoamt)==0: return []\n",
    "    return [f\"./train_images/{row.name}-{i}.jpg\" for i in range(1, int(row.photoamt)+1)]\n",
    "\n",
    "def extract_image_feats(fn):\n",
    "    img = mx.image.imread(fn)\n",
    "    transformed_img = cv.data.transforms.presets.imagenet.transform_eval(img)\n",
    "    return net.features(transformed_img).squeeze()\n",
    "\n",
    "def images_features(row):\n",
    "    fnames = get_image_names(row)\n",
    "    if len(fnames)==0: return np.zeros(512).tolist()\n",
    "    feats = [extract_image_feats(fn).asnumpy() for fn in fnames]\n",
    "    return np.stack(feats).mean(axis=0).tolist()"
   ]
  },
  {
   "cell_type": "code",
   "execution_count": 9,
   "metadata": {},
   "outputs": [
    {
     "data": {
      "text/plain": [
       "512"
      ]
     },
     "execution_count": 9,
     "metadata": {},
     "output_type": "execute_result"
    }
   ],
   "source": [
    "len(extract_image_feats('./train_images/bf6ef8c07-1.jpg'))"
   ]
  },
  {
   "cell_type": "code",
   "execution_count": 10,
   "metadata": {},
   "outputs": [
    {
     "data": {
      "text/plain": [
       "512"
      ]
     },
     "execution_count": 10,
     "metadata": {},
     "output_type": "execute_result"
    }
   ],
   "source": [
    "len(images_features(data.loc['bf6ef8c07']))"
   ]
  },
  {
   "cell_type": "code",
   "execution_count": 11,
   "metadata": {},
   "outputs": [],
   "source": [
    "data[[f\"cv_{i}\" for i in range(512)]] = data.apply(lambda row: images_features(row), axis='columns', result_type='expand')"
   ]
  },
  {
   "cell_type": "code",
   "execution_count": 12,
   "metadata": {},
   "outputs": [
    {
     "data": {
      "text/plain": [
       "(14993, 840)"
      ]
     },
     "execution_count": 12,
     "metadata": {},
     "output_type": "execute_result"
    }
   ],
   "source": [
    "data.shape"
   ]
  },
  {
   "cell_type": "code",
   "execution_count": 14,
   "metadata": {},
   "outputs": [
    {
     "data": {
      "text/html": [
       "<div>\n",
       "<style scoped>\n",
       "    .dataframe tbody tr th:only-of-type {\n",
       "        vertical-align: middle;\n",
       "    }\n",
       "\n",
       "    .dataframe tbody tr th {\n",
       "        vertical-align: top;\n",
       "    }\n",
       "\n",
       "    .dataframe thead th {\n",
       "        text-align: right;\n",
       "    }\n",
       "</style>\n",
       "<table border=\"1\" class=\"dataframe\">\n",
       "  <thead>\n",
       "    <tr style=\"text-align: right;\">\n",
       "      <th></th>\n",
       "      <th>Unnamed: 0</th>\n",
       "      <th>type</th>\n",
       "      <th>name</th>\n",
       "      <th>age</th>\n",
       "      <th>breed1</th>\n",
       "      <th>breed2</th>\n",
       "      <th>gender</th>\n",
       "      <th>color1</th>\n",
       "      <th>color2</th>\n",
       "      <th>color3</th>\n",
       "      <th>...</th>\n",
       "      <th>cv_502</th>\n",
       "      <th>cv_503</th>\n",
       "      <th>cv_504</th>\n",
       "      <th>cv_505</th>\n",
       "      <th>cv_506</th>\n",
       "      <th>cv_507</th>\n",
       "      <th>cv_508</th>\n",
       "      <th>cv_509</th>\n",
       "      <th>cv_510</th>\n",
       "      <th>cv_511</th>\n",
       "    </tr>\n",
       "    <tr>\n",
       "      <th>petid</th>\n",
       "      <th></th>\n",
       "      <th></th>\n",
       "      <th></th>\n",
       "      <th></th>\n",
       "      <th></th>\n",
       "      <th></th>\n",
       "      <th></th>\n",
       "      <th></th>\n",
       "      <th></th>\n",
       "      <th></th>\n",
       "      <th></th>\n",
       "      <th></th>\n",
       "      <th></th>\n",
       "      <th></th>\n",
       "      <th></th>\n",
       "      <th></th>\n",
       "      <th></th>\n",
       "      <th></th>\n",
       "      <th></th>\n",
       "      <th></th>\n",
       "      <th></th>\n",
       "    </tr>\n",
       "  </thead>\n",
       "  <tbody>\n",
       "    <tr>\n",
       "      <td>86e1089a3</td>\n",
       "      <td>0</td>\n",
       "      <td>2</td>\n",
       "      <td>Nibble</td>\n",
       "      <td>3</td>\n",
       "      <td>299</td>\n",
       "      <td>0</td>\n",
       "      <td>1</td>\n",
       "      <td>1</td>\n",
       "      <td>7</td>\n",
       "      <td>0</td>\n",
       "      <td>...</td>\n",
       "      <td>0.510474</td>\n",
       "      <td>0.876096</td>\n",
       "      <td>0.000000</td>\n",
       "      <td>0.780925</td>\n",
       "      <td>0.446994</td>\n",
       "      <td>0.896877</td>\n",
       "      <td>0.725181</td>\n",
       "      <td>0.703574</td>\n",
       "      <td>0.046233</td>\n",
       "      <td>1.920820</td>\n",
       "    </tr>\n",
       "    <tr>\n",
       "      <td>6296e909a</td>\n",
       "      <td>1</td>\n",
       "      <td>2</td>\n",
       "      <td>No Name Yet</td>\n",
       "      <td>1</td>\n",
       "      <td>265</td>\n",
       "      <td>0</td>\n",
       "      <td>1</td>\n",
       "      <td>1</td>\n",
       "      <td>2</td>\n",
       "      <td>0</td>\n",
       "      <td>...</td>\n",
       "      <td>0.032787</td>\n",
       "      <td>0.175013</td>\n",
       "      <td>0.603155</td>\n",
       "      <td>0.190126</td>\n",
       "      <td>0.918588</td>\n",
       "      <td>0.695201</td>\n",
       "      <td>0.725023</td>\n",
       "      <td>1.401867</td>\n",
       "      <td>0.686700</td>\n",
       "      <td>0.521794</td>\n",
       "    </tr>\n",
       "    <tr>\n",
       "      <td>3422e4906</td>\n",
       "      <td>2</td>\n",
       "      <td>1</td>\n",
       "      <td>Brisco</td>\n",
       "      <td>1</td>\n",
       "      <td>307</td>\n",
       "      <td>0</td>\n",
       "      <td>1</td>\n",
       "      <td>2</td>\n",
       "      <td>7</td>\n",
       "      <td>0</td>\n",
       "      <td>...</td>\n",
       "      <td>0.290392</td>\n",
       "      <td>0.274782</td>\n",
       "      <td>0.843916</td>\n",
       "      <td>0.736343</td>\n",
       "      <td>0.168040</td>\n",
       "      <td>2.268596</td>\n",
       "      <td>0.404377</td>\n",
       "      <td>0.367258</td>\n",
       "      <td>0.590765</td>\n",
       "      <td>0.826990</td>\n",
       "    </tr>\n",
       "    <tr>\n",
       "      <td>5842f1ff5</td>\n",
       "      <td>3</td>\n",
       "      <td>1</td>\n",
       "      <td>Miko</td>\n",
       "      <td>4</td>\n",
       "      <td>307</td>\n",
       "      <td>0</td>\n",
       "      <td>2</td>\n",
       "      <td>1</td>\n",
       "      <td>2</td>\n",
       "      <td>0</td>\n",
       "      <td>...</td>\n",
       "      <td>0.343140</td>\n",
       "      <td>0.429069</td>\n",
       "      <td>0.363940</td>\n",
       "      <td>0.803290</td>\n",
       "      <td>0.421142</td>\n",
       "      <td>1.704050</td>\n",
       "      <td>0.496805</td>\n",
       "      <td>1.062604</td>\n",
       "      <td>0.351337</td>\n",
       "      <td>0.725866</td>\n",
       "    </tr>\n",
       "    <tr>\n",
       "      <td>850a43f90</td>\n",
       "      <td>4</td>\n",
       "      <td>1</td>\n",
       "      <td>Hunter</td>\n",
       "      <td>1</td>\n",
       "      <td>307</td>\n",
       "      <td>0</td>\n",
       "      <td>1</td>\n",
       "      <td>1</td>\n",
       "      <td>0</td>\n",
       "      <td>0</td>\n",
       "      <td>...</td>\n",
       "      <td>0.662813</td>\n",
       "      <td>0.362385</td>\n",
       "      <td>0.131510</td>\n",
       "      <td>1.290741</td>\n",
       "      <td>0.768085</td>\n",
       "      <td>1.831410</td>\n",
       "      <td>0.278283</td>\n",
       "      <td>0.603773</td>\n",
       "      <td>0.399064</td>\n",
       "      <td>1.311060</td>\n",
       "    </tr>\n",
       "  </tbody>\n",
       "</table>\n",
       "<p>5 rows × 840 columns</p>\n",
       "</div>"
      ],
      "text/plain": [
       "           Unnamed: 0  type         name  age  breed1  breed2  gender  color1  \\\n",
       "petid                                                                           \n",
       "86e1089a3           0     2       Nibble    3     299       0       1       1   \n",
       "6296e909a           1     2  No Name Yet    1     265       0       1       1   \n",
       "3422e4906           2     1       Brisco    1     307       0       1       2   \n",
       "5842f1ff5           3     1         Miko    4     307       0       2       1   \n",
       "850a43f90           4     1       Hunter    1     307       0       1       1   \n",
       "\n",
       "           color2  color3  ...    cv_502    cv_503    cv_504    cv_505  \\\n",
       "petid                      ...                                           \n",
       "86e1089a3       7       0  ...  0.510474  0.876096  0.000000  0.780925   \n",
       "6296e909a       2       0  ...  0.032787  0.175013  0.603155  0.190126   \n",
       "3422e4906       7       0  ...  0.290392  0.274782  0.843916  0.736343   \n",
       "5842f1ff5       2       0  ...  0.343140  0.429069  0.363940  0.803290   \n",
       "850a43f90       0       0  ...  0.662813  0.362385  0.131510  1.290741   \n",
       "\n",
       "             cv_506    cv_507    cv_508    cv_509    cv_510    cv_511  \n",
       "petid                                                                  \n",
       "86e1089a3  0.446994  0.896877  0.725181  0.703574  0.046233  1.920820  \n",
       "6296e909a  0.918588  0.695201  0.725023  1.401867  0.686700  0.521794  \n",
       "3422e4906  0.168040  2.268596  0.404377  0.367258  0.590765  0.826990  \n",
       "5842f1ff5  0.421142  1.704050  0.496805  1.062604  0.351337  0.725866  \n",
       "850a43f90  0.768085  1.831410  0.278283  0.603773  0.399064  1.311060  \n",
       "\n",
       "[5 rows x 840 columns]"
      ]
     },
     "execution_count": 14,
     "metadata": {},
     "output_type": "execute_result"
    }
   ],
   "source": [
    "data.head()"
   ]
  },
  {
   "cell_type": "code",
   "execution_count": 13,
   "metadata": {},
   "outputs": [],
   "source": [
    "data.to_csv('data.csv')"
   ]
  },
  {
   "cell_type": "markdown",
   "metadata": {},
   "source": [
    "## Splitting data into training and validation"
   ]
  },
  {
   "cell_type": "code",
   "execution_count": 6,
   "metadata": {},
   "outputs": [],
   "source": [
    "data = pd.read_csv('data.csv')\n",
    "data[['name', 'lang']] = data[['name', 'lang']].fillna('missing')"
   ]
  },
  {
   "cell_type": "code",
   "execution_count": 12,
   "metadata": {},
   "outputs": [
    {
     "data": {
      "text/plain": [
       "((10870, 842), (4948, 842))"
      ]
     },
     "execution_count": 12,
     "metadata": {},
     "output_type": "execute_result"
    }
   ],
   "source": [
    "X_train, X_valid, y_train, y_valid = split_data(data)\n",
    "X_train.shape, X_valid.shape"
   ]
  },
  {
   "cell_type": "code",
   "execution_count": 13,
   "metadata": {},
   "outputs": [
    {
     "data": {
      "text/plain": [
       "4    1385\n",
       "2    1332\n",
       "3    1076\n",
       "1    1020\n",
       "0     135\n",
       "Name: adoptionspeed, dtype: int64"
      ]
     },
     "execution_count": 13,
     "metadata": {},
     "output_type": "execute_result"
    }
   ],
   "source": [
    "y_valid.value_counts()"
   ]
  },
  {
   "cell_type": "code",
   "execution_count": 14,
   "metadata": {},
   "outputs": [
    {
     "data": {
      "text/plain": [
       "4    2812\n",
       "2    2705\n",
       "3    2183\n",
       "1    2070\n",
       "0    1100\n",
       "Name: adoptionspeed, dtype: int64"
      ]
     },
     "execution_count": 14,
     "metadata": {},
     "output_type": "execute_result"
    }
   ],
   "source": [
    "y_train.value_counts()"
   ]
  },
  {
   "cell_type": "markdown",
   "metadata": {},
   "source": [
    "## Random Forest baseline"
   ]
  },
  {
   "cell_type": "code",
   "execution_count": 15,
   "metadata": {},
   "outputs": [
    {
     "data": {
      "text/plain": [
       "(300, 512, 20)"
      ]
     },
     "execution_count": 15,
     "metadata": {},
     "output_type": "execute_result"
    }
   ],
   "source": [
    "txt_feats = [c for c in data.columns if 'vec' in c]\n",
    "cv_feats = [c for c in data.columns if 'cv' in c]\n",
    "data_feats = ['type', 'age', 'breed1', 'breed2', 'gender', 'color1', 'color2', 'color3', 'maturitysize',\n",
    "                 'furlength', 'vaccinated', 'dewormed', 'sterilized', 'health', 'quantity', 'fee', 'photoamt', 'score', 'magnitude', 'len_desc']\n",
    "\n",
    "len(txt_feats), len(cv_feats), len(data_feats)"
   ]
  },
  {
   "cell_type": "code",
   "execution_count": 16,
   "metadata": {},
   "outputs": [
    {
     "data": {
      "text/html": [
       "<div>\n",
       "<style scoped>\n",
       "    .dataframe tbody tr th:only-of-type {\n",
       "        vertical-align: middle;\n",
       "    }\n",
       "\n",
       "    .dataframe tbody tr th {\n",
       "        vertical-align: top;\n",
       "    }\n",
       "\n",
       "    .dataframe thead th {\n",
       "        text-align: right;\n",
       "    }\n",
       "</style>\n",
       "<table border=\"1\" class=\"dataframe\">\n",
       "  <thead>\n",
       "    <tr style=\"text-align: right;\">\n",
       "      <th></th>\n",
       "      <th>Total</th>\n",
       "      <th>Percent</th>\n",
       "    </tr>\n",
       "  </thead>\n",
       "  <tbody>\n",
       "  </tbody>\n",
       "</table>\n",
       "</div>"
      ],
      "text/plain": [
       "Empty DataFrame\n",
       "Columns: [Total, Percent]\n",
       "Index: []"
      ]
     },
     "execution_count": 16,
     "metadata": {},
     "output_type": "execute_result"
    }
   ],
   "source": [
    "missing_values(X_train[txt_feats+cv_feats+data_feats])"
   ]
  },
  {
   "cell_type": "code",
   "execution_count": 17,
   "metadata": {},
   "outputs": [
    {
     "data": {
      "text/plain": [
       "RandomForestClassifier(bootstrap=True, class_weight=None, criterion='gini',\n",
       "            max_depth=None, max_features='auto', max_leaf_nodes=None,\n",
       "            min_impurity_decrease=0.0, min_impurity_split=None,\n",
       "            min_samples_leaf=1, min_samples_split=2,\n",
       "            min_weight_fraction_leaf=0.0, n_estimators=200, n_jobs=-1,\n",
       "            oob_score=False, random_state=None, verbose=0,\n",
       "            warm_start=False)"
      ]
     },
     "execution_count": 17,
     "metadata": {},
     "output_type": "execute_result"
    }
   ],
   "source": [
    "rf = RandomForestClassifier(n_estimators=200, n_jobs=-1)\n",
    "rf.fit(X_train[txt_feats+cv_feats+data_feats], y_train)"
   ]
  },
  {
   "cell_type": "code",
   "execution_count": 19,
   "metadata": {},
   "outputs": [
    {
     "name": "stdout",
     "output_type": "stream",
     "text": [
      "Accuracy: 0.404\n",
      "Cohen's Kappa: 0.33735\n",
      "Kaggle winning Cohen's Kappa: 0.45338\n",
      "\n"
     ]
    },
    {
     "data": {
      "image/png": "[encoded data removed]",
      "text/plain": [
       "<Figure size 288x288 with 1 Axes>"
      ]
     },
     "metadata": {},
     "output_type": "display_data"
    }
   ],
   "source": [
    "report(rf, X_valid[txt_feats+cv_feats+data_feats], y_valid)"
   ]
  },
  {
   "cell_type": "markdown",
   "metadata": {},
   "source": [
    "## CatBoost"
   ]
  },
  {
   "cell_type": "code",
   "execution_count": 21,
   "metadata": {},
   "outputs": [],
   "source": [
    "cats_feats = ['type', 'name', 'breed1', 'breed2', 'gender', 'color1', 'color2', 'color3', 'maturitysize', 'furlength',\n",
    "             'vaccinated', 'dewormed', 'sterilized', 'health', 'lang', 'state']\n",
    "num_feats = ['age', 'len_desc', 'quantity', 'fee', 'photoamt', 'score', 'magnitude']\n",
    "txt_feats = [c for c in data.columns if 'vec' in c]\n",
    "cv_feats = [c for c in data.columns if 'cv' in c]"
   ]
  },
  {
   "cell_type": "code",
   "execution_count": 22,
   "metadata": {},
   "outputs": [
    {
     "data": {
      "text/html": [
       "<div>\n",
       "<style scoped>\n",
       "    .dataframe tbody tr th:only-of-type {\n",
       "        vertical-align: middle;\n",
       "    }\n",
       "\n",
       "    .dataframe tbody tr th {\n",
       "        vertical-align: top;\n",
       "    }\n",
       "\n",
       "    .dataframe thead th {\n",
       "        text-align: right;\n",
       "    }\n",
       "</style>\n",
       "<table border=\"1\" class=\"dataframe\">\n",
       "  <thead>\n",
       "    <tr style=\"text-align: right;\">\n",
       "      <th></th>\n",
       "      <th>Total</th>\n",
       "      <th>Percent</th>\n",
       "    </tr>\n",
       "  </thead>\n",
       "  <tbody>\n",
       "  </tbody>\n",
       "</table>\n",
       "</div>"
      ],
      "text/plain": [
       "Empty DataFrame\n",
       "Columns: [Total, Percent]\n",
       "Index: []"
      ]
     },
     "execution_count": 22,
     "metadata": {},
     "output_type": "execute_result"
    }
   ],
   "source": [
    "missing_values(X_train[txt_feats+cv_feats+num_feats+cats_feats])"
   ]
  },
  {
   "cell_type": "code",
   "execution_count": 23,
   "metadata": {},
   "outputs": [],
   "source": [
    "clf = CatBoostClassifier(iterations=2000,\n",
    "                         learning_rate=0.01,\n",
    "                         cat_features=cats_feats,\n",
    "                         loss_function='MultiClass',\n",
    "                         custom_metric='Accuracy')\n",
    "                         \n",
    "clf.fit(X_train[txt_feats+cv_feats+num_feats+cats_feats], y_train,\n",
    "        eval_set=(X_valid[txt_feats+cv_feats+num_feats+cats_feats],y_valid),\n",
    "        plot=False,\n",
    "        use_best_model=True,\n",
    "        verbose=False);"
   ]
  },
  {
   "cell_type": "code",
   "execution_count": 25,
   "metadata": {},
   "outputs": [
    {
     "data": {
      "image/png": "[encoded data removed]",
      "text/plain": [
       "<Figure size 432x288 with 2 Axes>"
      ]
     },
     "metadata": {},
     "output_type": "display_data"
    }
   ],
   "source": [
    "read_catboost().plot(x='iteration', y=['loss_valid', 'accuracy_valid'], secondary_y='accuracy_valid', legend=False, title=\"Valid loss (red left) + accuracy (blue right)\");"
   ]
  },
  {
   "cell_type": "code",
   "execution_count": 26,
   "metadata": {},
   "outputs": [
    {
     "name": "stdout",
     "output_type": "stream",
     "text": [
      "Accuracy: 0.41249\n",
      "Cohen's Kappa: 0.34955\n",
      "Kaggle winning Cohen's Kappa: 0.45338\n",
      "\n"
     ]
    },
    {
     "data": {
      "image/png": "[encoded data removed]",
      "text/plain": [
       "<Figure size 288x288 with 1 Axes>"
      ]
     },
     "metadata": {},
     "output_type": "display_data"
    }
   ],
   "source": [
    "report(clf, X_valid[txt_feats+cv_feats+num_feats+cats_feats], y_valid)"
   ]
  },
  {
   "cell_type": "markdown",
   "metadata": {},
   "source": [
    "### Remove unimportant variables and retrain"
   ]
  },
  {
   "cell_type": "code",
   "execution_count": 28,
   "metadata": {},
   "outputs": [],
   "source": [
    "fi = get_feat_importance(clf, X_valid[txt_feats+cv_feats+num_feats+cats_feats], html=False)"
   ]
  },
  {
   "cell_type": "code",
   "execution_count": 29,
   "metadata": {},
   "outputs": [
    {
     "data": {
      "image/png": "[encoded data removed]",
      "text/plain": [
       "<Figure size 648x648 with 1 Axes>"
      ]
     },
     "metadata": {},
     "output_type": "display_data"
    }
   ],
   "source": [
    "plot_fi(fi[:30]);"
   ]
  },
  {
   "cell_type": "code",
   "execution_count": 30,
   "metadata": {},
   "outputs": [
    {
     "data": {
      "text/plain": [
       "(0.05904183100186372, 559)"
      ]
     },
     "execution_count": 30,
     "metadata": {},
     "output_type": "execute_result"
    }
   ],
   "source": [
    "q = fi.imp.quantile(.33)\n",
    "top = list(fi.loc[fi.imp > q].cols.values)\n",
    "non_top = list(fi.loc[fi.imp <= q].cols.values)\n",
    "q, len(top)"
   ]
  },
  {
   "cell_type": "code",
   "execution_count": 40,
   "metadata": {},
   "outputs": [
    {
     "data": {
      "text/plain": [
       "(559, 0.9375, 0.6328125, 0.7133333333333334, 0.8571428571428571)"
      ]
     },
     "execution_count": 40,
     "metadata": {},
     "output_type": "execute_result"
    }
   ],
   "source": [
    "features = txt_feats+cv_feats+num_feats+cats_feats\n",
    "features = [c for c in features if c in top]\n",
    "cats_ = [c for c in cats_feats if c in top]\n",
    "len(features), len(cats_)/len(cats_feats), len([c for c in cv_feats if c in top])/len(cv_feats), len([c for c in txt_feats if c in top])/len(txt_feats), len([c for c in num_feats if c in top])/len(num_feats) "
   ]
  },
  {
   "cell_type": "code",
   "execution_count": 34,
   "metadata": {},
   "outputs": [
    {
     "data": {
      "text/plain": [
       "(835, 559)"
      ]
     },
     "execution_count": 34,
     "metadata": {},
     "output_type": "execute_result"
    }
   ],
   "source": [
    "len(txt_feats+cv_feats+num_feats+cats_feats), len(features)"
   ]
  },
  {
   "cell_type": "code",
   "execution_count": 35,
   "metadata": {},
   "outputs": [],
   "source": [
    "clf = CatBoostClassifier(iterations=2000,\n",
    "                         learning_rate=0.01,\n",
    "                         cat_features=cats_,\n",
    "                         loss_function='MultiClass',\n",
    "                         custom_metric='Accuracy')\n",
    "                         \n",
    "clf.fit(X_train[features], y_train,\n",
    "        eval_set=(X_valid[features],y_valid),\n",
    "        plot=False,\n",
    "        use_best_model=True,\n",
    "        verbose=False);"
   ]
  },
  {
   "cell_type": "code",
   "execution_count": 36,
   "metadata": {},
   "outputs": [
    {
     "data": {
      "image/png": "[encoded data removed]",
      "text/plain": [
       "<Figure size 432x288 with 2 Axes>"
      ]
     },
     "metadata": {},
     "output_type": "display_data"
    }
   ],
   "source": [
    "read_catboost().plot(x='iteration', y=['loss_valid', 'accuracy_valid'], secondary_y='accuracy_valid', legend=False, title=\"Valid loss (red left) + accuracy (blue right)\");"
   ]
  },
  {
   "cell_type": "code",
   "execution_count": 37,
   "metadata": {},
   "outputs": [
    {
     "name": "stdout",
     "output_type": "stream",
     "text": [
      "Accuracy: 0.41673\n",
      "Cohen's Kappa: 0.35644\n",
      "Kaggle winning Cohen's Kappa: 0.45338\n",
      "\n"
     ]
    },
    {
     "data": {
      "image/png": "[encoded data removed]",
      "text/plain": [
       "<Figure size 288x288 with 1 Axes>"
      ]
     },
     "metadata": {},
     "output_type": "display_data"
    }
   ],
   "source": [
    "report(clf, X_valid[features], y_valid)"
   ]
  },
  {
   "cell_type": "code",
   "execution_count": 38,
   "metadata": {},
   "outputs": [
    {
     "data": {
      "image/png": "[encoded data removed]",
      "text/plain": [
       "<Figure size 648x648 with 1 Axes>"
      ]
     },
     "metadata": {},
     "output_type": "display_data"
    }
   ],
   "source": [
    "fi = get_feat_importance(clf, X_valid[features], html=False)\n",
    "plot_fi(fi[:30]);"
   ]
  },
  {
   "cell_type": "code",
   "execution_count": 43,
   "metadata": {},
   "outputs": [],
   "source": [
    "artifacts = {'catboost': clf, 'features': features, 'cat_feats': cats_, 'X_train': X_train, 'y_train': y_train, 'X_valid': X_valid, 'y_valid': y_valid}\n",
    "save_artifact(artifacts, 'artifacts.pkl')"
   ]
  },
  {
   "cell_type": "markdown",
   "metadata": {},
   "source": [
    "## CatBoost HPO"
   ]
  },
  {
   "cell_type": "code",
   "execution_count": 9,
   "metadata": {},
   "outputs": [],
   "source": [
    "artifacts = load_artifact('artifacts.pkl')"
   ]
  },
  {
   "cell_type": "code",
   "execution_count": 10,
   "metadata": {},
   "outputs": [],
   "source": [
    "features = artifacts['features']\n",
    "X_train, y_train = artifacts['X_train'], artifacts['y_train']\n",
    "X_valid, y_valid = artifacts['X_valid'], artifacts['y_valid']\n",
    "cats_ = artifacts['cat_feats']"
   ]
  },
  {
   "cell_type": "code",
   "execution_count": 52,
   "metadata": {},
   "outputs": [
    {
     "name": "stdout",
     "output_type": "stream",
     "text": [
      "bestTest = 1.216248289\n",
      "bestIteration = 2416\n",
      "0:\tloss: 1.2162483\tbest: 1.2162483 (0)\ttotal: 20.1s\tremaining: 3m\n",
      "bestTest = 1.216670537\n",
      "bestIteration = 2071\n",
      "1:\tloss: 1.2166705\tbest: 1.2162483 (0)\ttotal: 42.6s\tremaining: 2m 50s\n",
      "bestTest = 1.130761449\n",
      "bestIteration = 1815\n",
      "2:\tloss: 1.1307614\tbest: 1.1307614 (2)\ttotal: 3m 52s\tremaining: 9m 1s\n",
      "bestTest = 1.328097823\n",
      "bestIteration = 2147\n",
      "3:\tloss: 1.3280978\tbest: 1.1307614 (2)\ttotal: 4m 33s\tremaining: 6m 49s\n",
      "bestTest = 1.322226095\n",
      "bestIteration = 2135\n",
      "4:\tloss: 1.3222261\tbest: 1.1307614 (2)\ttotal: 8m 13s\tremaining: 8m 13s\n",
      "bestTest = 1.113805917\n",
      "bestIteration = 1682\n",
      "5:\tloss: 1.1138059\tbest: 1.1138059 (5)\ttotal: 9m 6s\tremaining: 6m 4s\n",
      "bestTest = 1.30942129\n",
      "bestIteration = 1905\n",
      "6:\tloss: 1.3094213\tbest: 1.1138059 (5)\ttotal: 9m 20s\tremaining: 4m\n",
      "bestTest = 1.281281444\n",
      "bestIteration = 1615\n",
      "7:\tloss: 1.2812814\tbest: 1.1138059 (5)\ttotal: 9m 38s\tremaining: 2m 24s\n",
      "bestTest = 1.257052003\n",
      "bestIteration = 1906\n",
      "8:\tloss: 1.2570520\tbest: 1.1138059 (5)\ttotal: 12m 57s\tremaining: 1m 26s\n",
      "bestTest = 1.229801238\n",
      "bestIteration = 2353\n",
      "9:\tloss: 1.2298012\tbest: 1.1138059 (5)\ttotal: 17m 2s\tremaining: 0us\n",
      "Estimating final quality...\n",
      "CPU times: user 21min 56s, sys: 16min 2s, total: 37min 59s\n",
      "Wall time: 20min 48s\n"
     ]
    }
   ],
   "source": [
    "%%time\n",
    "cat = CatBoostClassifier(task_type = \"GPU\",\n",
    "                         cat_features=cats_,\n",
    "                         loss_function='MultiClass')\n",
    "\n",
    "grid = {'iterations': randint(1500, 2500),\n",
    "        'depth': randint(4, 10),\n",
    "        'learning_rate': 10**(np.random.uniform(1, 3, 10) * -1),\n",
    "        'l2_leaf_reg': randint(2, 20)}\n",
    "\n",
    "randomized_search_result = cat.randomized_search(grid, X=X_train[features], y=y_train)"
   ]
  },
  {
   "cell_type": "code",
   "execution_count": 58,
   "metadata": {},
   "outputs": [
    {
     "data": {
      "text/plain": [
       "{'depth': 7.0,\n",
       " 'learning_rate': 0.024983605347286955,\n",
       " 'l2_leaf_reg': 2.0,\n",
       " 'iterations': 1683.0}"
      ]
     },
     "execution_count": 58,
     "metadata": {},
     "output_type": "execute_result"
    }
   ],
   "source": [
    "randomized_search_result['params']"
   ]
  },
  {
   "cell_type": "code",
   "execution_count": 67,
   "metadata": {},
   "outputs": [
    {
     "name": "stdout",
     "output_type": "stream",
     "text": [
      "Accuracy: 0.42138\n",
      "Cohen's Kappa: 0.36992\n",
      "Kaggle winning Cohen's Kappa: 0.45338\n",
      "\n"
     ]
    }
   ],
   "source": [
    "report(cat, X_valid[features], y_valid, conf=False)"
   ]
  },
  {
   "cell_type": "code",
   "execution_count": 65,
   "metadata": {},
   "outputs": [],
   "source": [
    "artifacts = {'catboost': cat, 'features': features, 'cat_feats': cats_, 'X_train': X_train, 'y_train': y_train, 'X_valid': X_valid, 'y_valid': y_valid}\n",
    "save_artifact(artifacts, 'artifacts.pkl')"
   ]
  }
 ],
 "metadata": {
  "instance_type": "ml.g4dn.xlarge",
  "kernelspec": {
   "display_name": "Python 3 (MXNet GPU Optimized)",
   "language": "python",
   "name": "python3__SAGEMAKER_INTERNAL__arn:aws:sagemaker:eu-west-1:470317259841:image/mxnet-1.6-gpu-py36"
  },
  "language_info": {
   "codemirror_mode": {
    "name": "ipython",
    "version": 3
   },
   "file_extension": ".py",
   "mimetype": "text/x-python",
   "name": "python",
   "nbconvert_exporter": "python",
   "pygments_lexer": "ipython3",
   "version": "3.6.8"
  }
 },
 "nbformat": 4,
 "nbformat_minor": 4
}
