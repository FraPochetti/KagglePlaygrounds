{
 "cells": [
  {
   "cell_type": "markdown",
   "source": [
    "## Imports"
   ],
   "metadata": {}
  },
  {
   "cell_type": "code",
   "execution_count": 1,
   "source": [
    "%load_ext autoreload\n",
    "%autoreload 2\n",
    "%matplotlib inline\n",
    "\n",
    "from interpretable_ml_utils import *\n",
    "\n",
    "path = Path(\"/Users/fra/Work/fra\")"
   ],
   "outputs": [],
   "metadata": {
    "ExecuteTime": {
     "end_time": "2020-02-19T15:10:12.487312Z",
     "start_time": "2020-02-19T15:10:09.007573Z"
    }
   }
  },
  {
   "cell_type": "markdown",
   "source": [
    "## Loading and processing the UCI adult dataset"
   ],
   "metadata": {}
  },
  {
   "cell_type": "code",
   "execution_count": null,
   "source": [
    "fname = path/\"adult.feather\"\n",
    "if not os.path.isfile(fname):\n",
    "    cols = ['age', 'workclass', 'fnlwgt', 'education', 'education_num', \n",
    "            'marital_status', 'occupation', 'relationship', 'race', 'sex', \n",
    "            'capital_gain', 'capital_loss', 'hours_per_week', 'native_country', 'income']\n",
    "    df = pd.read_csv('https://archive.ics.uci.edu/ml/machine-learning-databases/adult/adult.data', \n",
    "                     names=cols)\n",
    "    df.to_feather(fname)\n",
    "else: \n",
    "    df = pd.read_feather(fname)"
   ],
   "outputs": [],
   "metadata": {
    "ExecuteTime": {
     "end_time": "2020-02-19T15:10:12.709965Z",
     "start_time": "2020-02-19T15:10:12.489308Z"
    }
   }
  },
  {
   "cell_type": "code",
   "execution_count": null,
   "source": [
    "df.shape"
   ],
   "outputs": [
    {
     "output_type": "execute_result",
     "data": {
      "text/plain": [
       "(32561, 15)"
      ]
     },
     "metadata": {},
     "execution_count": 3
    }
   ],
   "metadata": {
    "ExecuteTime": {
     "end_time": "2020-02-19T15:10:12.811413Z",
     "start_time": "2020-02-19T15:10:12.711679Z"
    }
   }
  },
  {
   "cell_type": "code",
   "execution_count": null,
   "source": [
    "df.head()"
   ],
   "outputs": [
    {
     "output_type": "execute_result",
     "data": {
      "text/plain": [
       "   age          workclass  fnlwgt   education  education_num  \\\n",
       "0   39          State-gov   77516   Bachelors             13   \n",
       "1   50   Self-emp-not-inc   83311   Bachelors             13   \n",
       "2   38            Private  215646     HS-grad              9   \n",
       "3   53            Private  234721        11th              7   \n",
       "4   28            Private  338409   Bachelors             13   \n",
       "\n",
       "        marital_status          occupation    relationship    race      sex  \\\n",
       "0        Never-married        Adm-clerical   Not-in-family   White     Male   \n",
       "1   Married-civ-spouse     Exec-managerial         Husband   White     Male   \n",
       "2             Divorced   Handlers-cleaners   Not-in-family   White     Male   \n",
       "3   Married-civ-spouse   Handlers-cleaners         Husband   Black     Male   \n",
       "4   Married-civ-spouse      Prof-specialty            Wife   Black   Female   \n",
       "\n",
       "   capital_gain  capital_loss  hours_per_week  native_country  income  \n",
       "0          2174             0              40   United-States   <=50K  \n",
       "1             0             0              13   United-States   <=50K  \n",
       "2             0             0              40   United-States   <=50K  \n",
       "3             0             0              40   United-States   <=50K  \n",
       "4             0             0              40            Cuba   <=50K  "
      ],
      "text/html": [
       "<div>\n",
       "<style scoped>\n",
       "    .dataframe tbody tr th:only-of-type {\n",
       "        vertical-align: middle;\n",
       "    }\n",
       "\n",
       "    .dataframe tbody tr th {\n",
       "        vertical-align: top;\n",
       "    }\n",
       "\n",
       "    .dataframe thead th {\n",
       "        text-align: right;\n",
       "    }\n",
       "</style>\n",
       "<table border=\"1\" class=\"dataframe\">\n",
       "  <thead>\n",
       "    <tr style=\"text-align: right;\">\n",
       "      <th></th>\n",
       "      <th>age</th>\n",
       "      <th>workclass</th>\n",
       "      <th>fnlwgt</th>\n",
       "      <th>education</th>\n",
       "      <th>education_num</th>\n",
       "      <th>marital_status</th>\n",
       "      <th>occupation</th>\n",
       "      <th>relationship</th>\n",
       "      <th>race</th>\n",
       "      <th>sex</th>\n",
       "      <th>capital_gain</th>\n",
       "      <th>capital_loss</th>\n",
       "      <th>hours_per_week</th>\n",
       "      <th>native_country</th>\n",
       "      <th>income</th>\n",
       "    </tr>\n",
       "  </thead>\n",
       "  <tbody>\n",
       "    <tr>\n",
       "      <th>0</th>\n",
       "      <td>39</td>\n",
       "      <td>State-gov</td>\n",
       "      <td>77516</td>\n",
       "      <td>Bachelors</td>\n",
       "      <td>13</td>\n",
       "      <td>Never-married</td>\n",
       "      <td>Adm-clerical</td>\n",
       "      <td>Not-in-family</td>\n",
       "      <td>White</td>\n",
       "      <td>Male</td>\n",
       "      <td>2174</td>\n",
       "      <td>0</td>\n",
       "      <td>40</td>\n",
       "      <td>United-States</td>\n",
       "      <td>&lt;=50K</td>\n",
       "    </tr>\n",
       "    <tr>\n",
       "      <th>1</th>\n",
       "      <td>50</td>\n",
       "      <td>Self-emp-not-inc</td>\n",
       "      <td>83311</td>\n",
       "      <td>Bachelors</td>\n",
       "      <td>13</td>\n",
       "      <td>Married-civ-spouse</td>\n",
       "      <td>Exec-managerial</td>\n",
       "      <td>Husband</td>\n",
       "      <td>White</td>\n",
       "      <td>Male</td>\n",
       "      <td>0</td>\n",
       "      <td>0</td>\n",
       "      <td>13</td>\n",
       "      <td>United-States</td>\n",
       "      <td>&lt;=50K</td>\n",
       "    </tr>\n",
       "    <tr>\n",
       "      <th>2</th>\n",
       "      <td>38</td>\n",
       "      <td>Private</td>\n",
       "      <td>215646</td>\n",
       "      <td>HS-grad</td>\n",
       "      <td>9</td>\n",
       "      <td>Divorced</td>\n",
       "      <td>Handlers-cleaners</td>\n",
       "      <td>Not-in-family</td>\n",
       "      <td>White</td>\n",
       "      <td>Male</td>\n",
       "      <td>0</td>\n",
       "      <td>0</td>\n",
       "      <td>40</td>\n",
       "      <td>United-States</td>\n",
       "      <td>&lt;=50K</td>\n",
       "    </tr>\n",
       "    <tr>\n",
       "      <th>3</th>\n",
       "      <td>53</td>\n",
       "      <td>Private</td>\n",
       "      <td>234721</td>\n",
       "      <td>11th</td>\n",
       "      <td>7</td>\n",
       "      <td>Married-civ-spouse</td>\n",
       "      <td>Handlers-cleaners</td>\n",
       "      <td>Husband</td>\n",
       "      <td>Black</td>\n",
       "      <td>Male</td>\n",
       "      <td>0</td>\n",
       "      <td>0</td>\n",
       "      <td>40</td>\n",
       "      <td>United-States</td>\n",
       "      <td>&lt;=50K</td>\n",
       "    </tr>\n",
       "    <tr>\n",
       "      <th>4</th>\n",
       "      <td>28</td>\n",
       "      <td>Private</td>\n",
       "      <td>338409</td>\n",
       "      <td>Bachelors</td>\n",
       "      <td>13</td>\n",
       "      <td>Married-civ-spouse</td>\n",
       "      <td>Prof-specialty</td>\n",
       "      <td>Wife</td>\n",
       "      <td>Black</td>\n",
       "      <td>Female</td>\n",
       "      <td>0</td>\n",
       "      <td>0</td>\n",
       "      <td>40</td>\n",
       "      <td>Cuba</td>\n",
       "      <td>&lt;=50K</td>\n",
       "    </tr>\n",
       "  </tbody>\n",
       "</table>\n",
       "</div>"
      ]
     },
     "metadata": {},
     "execution_count": 4
    }
   ],
   "metadata": {
    "ExecuteTime": {
     "end_time": "2020-02-19T15:10:12.920151Z",
     "start_time": "2020-02-19T15:10:12.812410Z"
    }
   }
  },
  {
   "cell_type": "code",
   "execution_count": null,
   "source": [
    "features = ['age', 'workclass', 'education', 'marital_status', 'occupation', \n",
    "            'relationship', 'race', 'sex', 'hours_per_week', 'native_country',\n",
    "            'capital_gain', 'capital_loss']"
   ],
   "outputs": [],
   "metadata": {
    "ExecuteTime": {
     "end_time": "2020-02-19T15:10:13.146552Z",
     "start_time": "2020-02-19T15:10:13.051772Z"
    }
   }
  },
  {
   "cell_type": "code",
   "execution_count": null,
   "source": [
    "for c in features+['income']:\n",
    "    if not is_numeric_dtype(df[c]):\n",
    "        df[c] = df[c].str.strip()\n",
    "        df = reduce_cardinality(df, c)"
   ],
   "outputs": [],
   "metadata": {
    "ExecuteTime": {
     "end_time": "2020-02-19T15:10:13.405048Z",
     "start_time": "2020-02-19T15:10:13.147515Z"
    }
   }
  },
  {
   "cell_type": "code",
   "execution_count": null,
   "source": [
    "raw_train, raw_valid = train_test_split(df[features+['income']], train_size=0.8, random_state=1234)\n",
    "raw_train.shape, raw_valid.shape"
   ],
   "outputs": [
    {
     "output_type": "execute_result",
     "data": {
      "text/plain": [
       "((26048, 13), (6513, 13))"
      ]
     },
     "metadata": {},
     "execution_count": 7
    }
   ],
   "metadata": {
    "ExecuteTime": {
     "end_time": "2020-02-19T15:10:13.516566Z",
     "start_time": "2020-02-19T15:10:13.407821Z"
    }
   }
  },
  {
   "cell_type": "code",
   "execution_count": null,
   "source": [
    "display_all(raw_train.head())"
   ],
   "outputs": [
    {
     "output_type": "display_data",
     "data": {
      "text/plain": [
       "                        29187               23535          14450  \\\n",
       "age                        31                  59             21   \n",
       "workclass             Private                   ?        Private   \n",
       "education             HS-grad           Bachelors        HS-grad   \n",
       "marital_status       Divorced  Married-civ-spouse  Never-married   \n",
       "occupation      Other-service                   ?   Adm-clerical   \n",
       "relationship        Unmarried             Husband  Not-in-family   \n",
       "race                    White               White          White   \n",
       "sex                    Female                Male         Female   \n",
       "hours_per_week             99                  40             40   \n",
       "native_country  United-States       United-States  United-States   \n",
       "capital_gain                0                   0              0   \n",
       "capital_loss                0                   0              0   \n",
       "income                   >50K                >50K          <=50K   \n",
       "\n",
       "                        2727           18474  \n",
       "age                        32             20  \n",
       "workclass             Private        Private  \n",
       "education             HS-grad   Some-college  \n",
       "marital_status  Never-married  Never-married  \n",
       "occupation       Adm-clerical   Adm-clerical  \n",
       "relationship    Not-in-family      Own-child  \n",
       "race                    White          White  \n",
       "sex                    Female         Female  \n",
       "hours_per_week             40             20  \n",
       "native_country  United-States  United-States  \n",
       "capital_gain                0              0  \n",
       "capital_loss                0              0  \n",
       "income                  <=50K          <=50K  "
      ],
      "text/html": [
       "<div>\n",
       "<style scoped>\n",
       "    .dataframe tbody tr th:only-of-type {\n",
       "        vertical-align: middle;\n",
       "    }\n",
       "\n",
       "    .dataframe tbody tr th {\n",
       "        vertical-align: top;\n",
       "    }\n",
       "\n",
       "    .dataframe thead th {\n",
       "        text-align: right;\n",
       "    }\n",
       "</style>\n",
       "<table border=\"1\" class=\"dataframe\">\n",
       "  <thead>\n",
       "    <tr style=\"text-align: right;\">\n",
       "      <th></th>\n",
       "      <th>29187</th>\n",
       "      <th>23535</th>\n",
       "      <th>14450</th>\n",
       "      <th>2727</th>\n",
       "      <th>18474</th>\n",
       "    </tr>\n",
       "  </thead>\n",
       "  <tbody>\n",
       "    <tr>\n",
       "      <th>age</th>\n",
       "      <td>31</td>\n",
       "      <td>59</td>\n",
       "      <td>21</td>\n",
       "      <td>32</td>\n",
       "      <td>20</td>\n",
       "    </tr>\n",
       "    <tr>\n",
       "      <th>workclass</th>\n",
       "      <td>Private</td>\n",
       "      <td>?</td>\n",
       "      <td>Private</td>\n",
       "      <td>Private</td>\n",
       "      <td>Private</td>\n",
       "    </tr>\n",
       "    <tr>\n",
       "      <th>education</th>\n",
       "      <td>HS-grad</td>\n",
       "      <td>Bachelors</td>\n",
       "      <td>HS-grad</td>\n",
       "      <td>HS-grad</td>\n",
       "      <td>Some-college</td>\n",
       "    </tr>\n",
       "    <tr>\n",
       "      <th>marital_status</th>\n",
       "      <td>Divorced</td>\n",
       "      <td>Married-civ-spouse</td>\n",
       "      <td>Never-married</td>\n",
       "      <td>Never-married</td>\n",
       "      <td>Never-married</td>\n",
       "    </tr>\n",
       "    <tr>\n",
       "      <th>occupation</th>\n",
       "      <td>Other-service</td>\n",
       "      <td>?</td>\n",
       "      <td>Adm-clerical</td>\n",
       "      <td>Adm-clerical</td>\n",
       "      <td>Adm-clerical</td>\n",
       "    </tr>\n",
       "    <tr>\n",
       "      <th>relationship</th>\n",
       "      <td>Unmarried</td>\n",
       "      <td>Husband</td>\n",
       "      <td>Not-in-family</td>\n",
       "      <td>Not-in-family</td>\n",
       "      <td>Own-child</td>\n",
       "    </tr>\n",
       "    <tr>\n",
       "      <th>race</th>\n",
       "      <td>White</td>\n",
       "      <td>White</td>\n",
       "      <td>White</td>\n",
       "      <td>White</td>\n",
       "      <td>White</td>\n",
       "    </tr>\n",
       "    <tr>\n",
       "      <th>sex</th>\n",
       "      <td>Female</td>\n",
       "      <td>Male</td>\n",
       "      <td>Female</td>\n",
       "      <td>Female</td>\n",
       "      <td>Female</td>\n",
       "    </tr>\n",
       "    <tr>\n",
       "      <th>hours_per_week</th>\n",
       "      <td>99</td>\n",
       "      <td>40</td>\n",
       "      <td>40</td>\n",
       "      <td>40</td>\n",
       "      <td>20</td>\n",
       "    </tr>\n",
       "    <tr>\n",
       "      <th>native_country</th>\n",
       "      <td>United-States</td>\n",
       "      <td>United-States</td>\n",
       "      <td>United-States</td>\n",
       "      <td>United-States</td>\n",
       "      <td>United-States</td>\n",
       "    </tr>\n",
       "    <tr>\n",
       "      <th>capital_gain</th>\n",
       "      <td>0</td>\n",
       "      <td>0</td>\n",
       "      <td>0</td>\n",
       "      <td>0</td>\n",
       "      <td>0</td>\n",
       "    </tr>\n",
       "    <tr>\n",
       "      <th>capital_loss</th>\n",
       "      <td>0</td>\n",
       "      <td>0</td>\n",
       "      <td>0</td>\n",
       "      <td>0</td>\n",
       "      <td>0</td>\n",
       "    </tr>\n",
       "    <tr>\n",
       "      <th>income</th>\n",
       "      <td>&gt;50K</td>\n",
       "      <td>&gt;50K</td>\n",
       "      <td>&lt;=50K</td>\n",
       "      <td>&lt;=50K</td>\n",
       "      <td>&lt;=50K</td>\n",
       "    </tr>\n",
       "  </tbody>\n",
       "</table>\n",
       "</div>"
      ]
     },
     "metadata": {}
    }
   ],
   "metadata": {
    "ExecuteTime": {
     "end_time": "2020-02-19T15:10:13.613272Z",
     "start_time": "2020-02-19T15:10:13.519523Z"
    }
   }
  },
  {
   "cell_type": "code",
   "execution_count": null,
   "source": [
    "raw_train = raw_train.sample(10000)"
   ],
   "outputs": [],
   "metadata": {}
  },
  {
   "cell_type": "code",
   "execution_count": null,
   "source": [
    "cats = train_cats(raw_train)\n",
    "X_train, y_train, nas = proc_df(raw_train, y_fld='income', max_n_cat=None)\n",
    "\n",
    "apply_cats(raw_valid, raw_train)\n",
    "X_valid, y_valid, _ = proc_df(raw_valid, y_fld='income', na_dict=nas, max_n_cat=None)\n",
    "feats = list(X_train.columns)\n",
    "\n",
    "raw_train.shape, raw_valid.shape, X_train.shape, X_valid.shape"
   ],
   "outputs": [
    {
     "output_type": "execute_result",
     "data": {
      "text/plain": [
       "((10000, 13), (6513, 13), (10000, 12), (6513, 12))"
      ]
     },
     "metadata": {},
     "execution_count": 10
    }
   ],
   "metadata": {
    "ExecuteTime": {
     "end_time": "2020-02-19T15:11:14.801259Z",
     "start_time": "2020-02-19T15:11:14.655649Z"
    }
   }
  },
  {
   "cell_type": "markdown",
   "source": [
    "## Estimating Train/Test set sizes"
   ],
   "metadata": {}
  },
  {
   "cell_type": "code",
   "execution_count": null,
   "source": [
    "y = pd.Series(y_train)\n",
    "X = X_train.reset_index(drop=True)"
   ],
   "outputs": [],
   "metadata": {}
  },
  {
   "cell_type": "code",
   "execution_count": null,
   "source": [
    "df, _ = estimate_impact_size(what=\"test\", X=X, y=y, grid = np.arange(0.1, 1, 0.1), reps=range(50))"
   ],
   "outputs": [
    {
     "output_type": "display_data",
     "data": {
      "text/plain": [
       "<Figure size 648x504 with 1 Axes>"
      ],
      "image/png": "[encoded data removed]"
     },
     "metadata": {
      "needs_background": "light"
     }
    },
    {
     "output_type": "display_data",
     "data": {
      "text/plain": [
       "             Sample  Valid_size  Train_size  Bootstraps  AUC_mean  AUC_std  \\\n",
       "Perc-Sample                                                                  \n",
       "10%-300         300         300        7000          30     0.918    0.018   \n",
       "20%-600         600         600        7000          30     0.926    0.011   \n",
       "30%-900         900         900        7000          30     0.926    0.011   \n",
       "40%-1200       1200        1200        7000          30     0.922    0.007   \n",
       "50%-1500       1500        1500        7000          30     0.924    0.007   \n",
       "60%-1800       1800        1800        7000          30     0.927    0.007   \n",
       "70%-2100       2100        2100        7000          30     0.921    0.006   \n",
       "80%-2400       2400        2400        7000          30     0.924    0.005   \n",
       "90%-2700       2700        2700        7000          30     0.926    0.005   \n",
       "\n",
       "             AUC_975  AUC_025  975VSmean_%  025VSmean_%  \n",
       "Perc-Sample                                              \n",
       "10%-300        0.949    0.888        3.306       -3.366  \n",
       "20%-600        0.945    0.908        2.043       -1.952  \n",
       "30%-900        0.946    0.906        2.209       -2.122  \n",
       "40%-1200       0.937    0.910        1.588       -1.367  \n",
       "50%-1500       0.935    0.910        1.156       -1.575  \n",
       "60%-1800       0.939    0.912        1.299       -1.592  \n",
       "70%-2100       0.931    0.911        1.085       -1.070  \n",
       "80%-2400       0.932    0.916        0.786       -0.891  \n",
       "90%-2700       0.934    0.916        0.928       -1.031  "
      ],
      "text/html": [
       "<div>\n",
       "<style scoped>\n",
       "    .dataframe tbody tr th:only-of-type {\n",
       "        vertical-align: middle;\n",
       "    }\n",
       "\n",
       "    .dataframe tbody tr th {\n",
       "        vertical-align: top;\n",
       "    }\n",
       "\n",
       "    .dataframe thead th {\n",
       "        text-align: right;\n",
       "    }\n",
       "</style>\n",
       "<table border=\"1\" class=\"dataframe\">\n",
       "  <thead>\n",
       "    <tr style=\"text-align: right;\">\n",
       "      <th></th>\n",
       "      <th>Sample</th>\n",
       "      <th>Valid_size</th>\n",
       "      <th>Train_size</th>\n",
       "      <th>Bootstraps</th>\n",
       "      <th>AUC_mean</th>\n",
       "      <th>AUC_std</th>\n",
       "      <th>AUC_975</th>\n",
       "      <th>AUC_025</th>\n",
       "      <th>975VSmean_%</th>\n",
       "      <th>025VSmean_%</th>\n",
       "    </tr>\n",
       "    <tr>\n",
       "      <th>Perc-Sample</th>\n",
       "      <th></th>\n",
       "      <th></th>\n",
       "      <th></th>\n",
       "      <th></th>\n",
       "      <th></th>\n",
       "      <th></th>\n",
       "      <th></th>\n",
       "      <th></th>\n",
       "      <th></th>\n",
       "      <th></th>\n",
       "    </tr>\n",
       "  </thead>\n",
       "  <tbody>\n",
       "    <tr>\n",
       "      <th>10%-300</th>\n",
       "      <td>300</td>\n",
       "      <td>300</td>\n",
       "      <td>7000</td>\n",
       "      <td>30</td>\n",
       "      <td>0.918</td>\n",
       "      <td>0.018</td>\n",
       "      <td>0.949</td>\n",
       "      <td>0.888</td>\n",
       "      <td>3.306</td>\n",
       "      <td>-3.366</td>\n",
       "    </tr>\n",
       "    <tr>\n",
       "      <th>20%-600</th>\n",
       "      <td>600</td>\n",
       "      <td>600</td>\n",
       "      <td>7000</td>\n",
       "      <td>30</td>\n",
       "      <td>0.926</td>\n",
       "      <td>0.011</td>\n",
       "      <td>0.945</td>\n",
       "      <td>0.908</td>\n",
       "      <td>2.043</td>\n",
       "      <td>-1.952</td>\n",
       "    </tr>\n",
       "    <tr>\n",
       "      <th>30%-900</th>\n",
       "      <td>900</td>\n",
       "      <td>900</td>\n",
       "      <td>7000</td>\n",
       "      <td>30</td>\n",
       "      <td>0.926</td>\n",
       "      <td>0.011</td>\n",
       "      <td>0.946</td>\n",
       "      <td>0.906</td>\n",
       "      <td>2.209</td>\n",
       "      <td>-2.122</td>\n",
       "    </tr>\n",
       "    <tr>\n",
       "      <th>40%-1200</th>\n",
       "      <td>1200</td>\n",
       "      <td>1200</td>\n",
       "      <td>7000</td>\n",
       "      <td>30</td>\n",
       "      <td>0.922</td>\n",
       "      <td>0.007</td>\n",
       "      <td>0.937</td>\n",
       "      <td>0.910</td>\n",
       "      <td>1.588</td>\n",
       "      <td>-1.367</td>\n",
       "    </tr>\n",
       "    <tr>\n",
       "      <th>50%-1500</th>\n",
       "      <td>1500</td>\n",
       "      <td>1500</td>\n",
       "      <td>7000</td>\n",
       "      <td>30</td>\n",
       "      <td>0.924</td>\n",
       "      <td>0.007</td>\n",
       "      <td>0.935</td>\n",
       "      <td>0.910</td>\n",
       "      <td>1.156</td>\n",
       "      <td>-1.575</td>\n",
       "    </tr>\n",
       "    <tr>\n",
       "      <th>60%-1800</th>\n",
       "      <td>1800</td>\n",
       "      <td>1800</td>\n",
       "      <td>7000</td>\n",
       "      <td>30</td>\n",
       "      <td>0.927</td>\n",
       "      <td>0.007</td>\n",
       "      <td>0.939</td>\n",
       "      <td>0.912</td>\n",
       "      <td>1.299</td>\n",
       "      <td>-1.592</td>\n",
       "    </tr>\n",
       "    <tr>\n",
       "      <th>70%-2100</th>\n",
       "      <td>2100</td>\n",
       "      <td>2100</td>\n",
       "      <td>7000</td>\n",
       "      <td>30</td>\n",
       "      <td>0.921</td>\n",
       "      <td>0.006</td>\n",
       "      <td>0.931</td>\n",
       "      <td>0.911</td>\n",
       "      <td>1.085</td>\n",
       "      <td>-1.070</td>\n",
       "    </tr>\n",
       "    <tr>\n",
       "      <th>80%-2400</th>\n",
       "      <td>2400</td>\n",
       "      <td>2400</td>\n",
       "      <td>7000</td>\n",
       "      <td>30</td>\n",
       "      <td>0.924</td>\n",
       "      <td>0.005</td>\n",
       "      <td>0.932</td>\n",
       "      <td>0.916</td>\n",
       "      <td>0.786</td>\n",
       "      <td>-0.891</td>\n",
       "    </tr>\n",
       "    <tr>\n",
       "      <th>90%-2700</th>\n",
       "      <td>2700</td>\n",
       "      <td>2700</td>\n",
       "      <td>7000</td>\n",
       "      <td>30</td>\n",
       "      <td>0.926</td>\n",
       "      <td>0.005</td>\n",
       "      <td>0.934</td>\n",
       "      <td>0.916</td>\n",
       "      <td>0.928</td>\n",
       "      <td>-1.031</td>\n",
       "    </tr>\n",
       "  </tbody>\n",
       "</table>\n",
       "</div>"
      ]
     },
     "metadata": {}
    }
   ],
   "metadata": {}
  },
  {
   "cell_type": "code",
   "execution_count": null,
   "source": [
    "df, _ = estimate_impact_size(what=\"train\", X=X, y=y, grid = np.arange(0.1, 1, 0.1), reps=range(30))"
   ],
   "outputs": [],
   "metadata": {}
  }
 ],
 "metadata": {
  "kernelspec": {
   "display_name": "Python 3.8.11 64-bit ('idtrust_test': conda)",
   "language": "python",
   "name": "python3811jvsc74a57bd04656b3c79cd5fb3dfa0fd6f6dc4354b16b19c4c557716e3be310dd603482b1c5"
  },
  "language_info": {
   "codemirror_mode": {
    "name": "ipython",
    "version": 3
   },
   "file_extension": ".py",
   "mimetype": "text/x-python",
   "name": "python",
   "nbconvert_exporter": "python",
   "pygments_lexer": "ipython3",
   "version": "3.8.11"
  }
 },
 "nbformat": 4,
 "nbformat_minor": 4
}