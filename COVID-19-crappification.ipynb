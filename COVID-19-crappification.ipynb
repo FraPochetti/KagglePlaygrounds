{
 "cells": [
  {
   "cell_type": "markdown",
   "metadata": {},
   "source": [
    "## Pipeline to \"crappify\" COVID-19 source data\n",
    "\n",
    "#### Messing up with the original dataset to make it look more like what analysts deal with on a day2day basis "
   ]
  },
  {
   "cell_type": "code",
   "execution_count": 2,
   "metadata": {
    "ExecuteTime": {
     "end_time": "2020-03-06T21:21:54.579050Z",
     "start_time": "2020-03-06T21:21:39.808864Z"
    }
   },
   "outputs": [],
   "source": [
    "import pandas as pd\n",
    "from pathlib import Path\n",
    "import json\n",
    "from datetime import datetime\n",
    "import random\n",
    "import boto3\n",
    "from tqdm import tqdm\n",
    "import time\n",
    "\n",
    "path = Path('C:/Users/francesco.pochetti/Notebooks/data/Personal')"
   ]
  },
  {
   "cell_type": "markdown",
   "metadata": {},
   "source": [
    "### Original, clean dataset"
   ]
  },
  {
   "cell_type": "code",
   "execution_count": 3,
   "metadata": {
    "ExecuteTime": {
     "end_time": "2020-03-06T21:21:54.628908Z",
     "start_time": "2020-03-06T21:21:54.580039Z"
    }
   },
   "outputs": [
    {
     "data": {
      "text/html": [
       "<div>\n",
       "<style scoped>\n",
       "    .dataframe tbody tr th:only-of-type {\n",
       "        vertical-align: middle;\n",
       "    }\n",
       "\n",
       "    .dataframe tbody tr th {\n",
       "        vertical-align: top;\n",
       "    }\n",
       "\n",
       "    .dataframe thead th {\n",
       "        text-align: right;\n",
       "    }\n",
       "</style>\n",
       "<table border=\"1\" class=\"dataframe\">\n",
       "  <thead>\n",
       "    <tr style=\"text-align: right;\">\n",
       "      <th></th>\n",
       "      <th>Province-State</th>\n",
       "      <th>Country-Region</th>\n",
       "      <th>Lat</th>\n",
       "      <th>Long</th>\n",
       "      <th>Date</th>\n",
       "      <th>Confirmed</th>\n",
       "      <th>Deaths</th>\n",
       "      <th>Recovered</th>\n",
       "    </tr>\n",
       "  </thead>\n",
       "  <tbody>\n",
       "    <tr>\n",
       "      <th>0</th>\n",
       "      <td>Anhui</td>\n",
       "      <td>Mainland China</td>\n",
       "      <td>31.8257</td>\n",
       "      <td>117.2264</td>\n",
       "      <td>2020-01-22</td>\n",
       "      <td>1</td>\n",
       "      <td>0</td>\n",
       "      <td>0</td>\n",
       "    </tr>\n",
       "    <tr>\n",
       "      <th>1</th>\n",
       "      <td>Beijing</td>\n",
       "      <td>Mainland China</td>\n",
       "      <td>40.1824</td>\n",
       "      <td>116.4142</td>\n",
       "      <td>2020-01-22</td>\n",
       "      <td>14</td>\n",
       "      <td>0</td>\n",
       "      <td>0</td>\n",
       "    </tr>\n",
       "    <tr>\n",
       "      <th>2</th>\n",
       "      <td>Chongqing</td>\n",
       "      <td>Mainland China</td>\n",
       "      <td>30.0572</td>\n",
       "      <td>107.8740</td>\n",
       "      <td>2020-01-22</td>\n",
       "      <td>6</td>\n",
       "      <td>0</td>\n",
       "      <td>0</td>\n",
       "    </tr>\n",
       "    <tr>\n",
       "      <th>3</th>\n",
       "      <td>Fujian</td>\n",
       "      <td>Mainland China</td>\n",
       "      <td>26.0789</td>\n",
       "      <td>117.9874</td>\n",
       "      <td>2020-01-22</td>\n",
       "      <td>1</td>\n",
       "      <td>0</td>\n",
       "      <td>0</td>\n",
       "    </tr>\n",
       "    <tr>\n",
       "      <th>4</th>\n",
       "      <td>Gansu</td>\n",
       "      <td>Mainland China</td>\n",
       "      <td>36.0611</td>\n",
       "      <td>103.8343</td>\n",
       "      <td>2020-01-22</td>\n",
       "      <td>0</td>\n",
       "      <td>0</td>\n",
       "      <td>0</td>\n",
       "    </tr>\n",
       "    <tr>\n",
       "      <th>...</th>\n",
       "      <td>...</td>\n",
       "      <td>...</td>\n",
       "      <td>...</td>\n",
       "      <td>...</td>\n",
       "      <td>...</td>\n",
       "      <td>...</td>\n",
       "      <td>...</td>\n",
       "      <td>...</td>\n",
       "    </tr>\n",
       "    <tr>\n",
       "      <th>4995</th>\n",
       "      <td>NaN</td>\n",
       "      <td>Azerbaijan</td>\n",
       "      <td>40.1431</td>\n",
       "      <td>47.5769</td>\n",
       "      <td>2020-03-01</td>\n",
       "      <td>3</td>\n",
       "      <td>0</td>\n",
       "      <td>0</td>\n",
       "    </tr>\n",
       "    <tr>\n",
       "      <th>4996</th>\n",
       "      <td>NaN</td>\n",
       "      <td>Czech Republic</td>\n",
       "      <td>49.8175</td>\n",
       "      <td>15.4730</td>\n",
       "      <td>2020-03-01</td>\n",
       "      <td>3</td>\n",
       "      <td>0</td>\n",
       "      <td>0</td>\n",
       "    </tr>\n",
       "    <tr>\n",
       "      <th>4997</th>\n",
       "      <td>NaN</td>\n",
       "      <td>Armenia</td>\n",
       "      <td>40.0691</td>\n",
       "      <td>45.0382</td>\n",
       "      <td>2020-03-01</td>\n",
       "      <td>1</td>\n",
       "      <td>0</td>\n",
       "      <td>0</td>\n",
       "    </tr>\n",
       "    <tr>\n",
       "      <th>4998</th>\n",
       "      <td>NaN</td>\n",
       "      <td>Dominican Republic</td>\n",
       "      <td>18.7357</td>\n",
       "      <td>-70.1627</td>\n",
       "      <td>2020-03-01</td>\n",
       "      <td>1</td>\n",
       "      <td>0</td>\n",
       "      <td>0</td>\n",
       "    </tr>\n",
       "    <tr>\n",
       "      <th>4999</th>\n",
       "      <td>Providence, RI</td>\n",
       "      <td>US</td>\n",
       "      <td>41.8240</td>\n",
       "      <td>-71.4128</td>\n",
       "      <td>2020-03-01</td>\n",
       "      <td>1</td>\n",
       "      <td>0</td>\n",
       "      <td>0</td>\n",
       "    </tr>\n",
       "  </tbody>\n",
       "</table>\n",
       "<p>5000 rows × 8 columns</p>\n",
       "</div>"
      ],
      "text/plain": [
       "      Province-State      Country-Region      Lat      Long       Date  \\\n",
       "0              Anhui      Mainland China  31.8257  117.2264 2020-01-22   \n",
       "1            Beijing      Mainland China  40.1824  116.4142 2020-01-22   \n",
       "2          Chongqing      Mainland China  30.0572  107.8740 2020-01-22   \n",
       "3             Fujian      Mainland China  26.0789  117.9874 2020-01-22   \n",
       "4              Gansu      Mainland China  36.0611  103.8343 2020-01-22   \n",
       "...              ...                 ...      ...       ...        ...   \n",
       "4995             NaN          Azerbaijan  40.1431   47.5769 2020-03-01   \n",
       "4996             NaN      Czech Republic  49.8175   15.4730 2020-03-01   \n",
       "4997             NaN             Armenia  40.0691   45.0382 2020-03-01   \n",
       "4998             NaN  Dominican Republic  18.7357  -70.1627 2020-03-01   \n",
       "4999  Providence, RI                  US  41.8240  -71.4128 2020-03-01   \n",
       "\n",
       "      Confirmed  Deaths  Recovered  \n",
       "0             1       0          0  \n",
       "1            14       0          0  \n",
       "2             6       0          0  \n",
       "3             1       0          0  \n",
       "4             0       0          0  \n",
       "...         ...     ...        ...  \n",
       "4995          3       0          0  \n",
       "4996          3       0          0  \n",
       "4997          1       0          0  \n",
       "4998          1       0          0  \n",
       "4999          1       0          0  \n",
       "\n",
       "[5000 rows x 8 columns]"
      ]
     },
     "execution_count": 3,
     "metadata": {},
     "output_type": "execute_result"
    }
   ],
   "source": [
    "df = pd.read_csv(path/'covid.csv', parse_dates=['Date'])\n",
    "df"
   ]
  },
  {
   "cell_type": "markdown",
   "metadata": {},
   "source": [
    "###  Crappification functions"
   ]
  },
  {
   "cell_type": "code",
   "execution_count": 4,
   "metadata": {
    "ExecuteTime": {
     "end_time": "2020-03-06T21:21:54.637884Z",
     "start_time": "2020-03-06T21:21:54.629905Z"
    }
   },
   "outputs": [],
   "source": [
    "def crappify_date(x):\n",
    "    formats = [\"%Y-%m-%d\", \"%Y/%m/%d\", \"%Y-%b-%d\", \"%Y/%B/%d\", \"%Y, %B, %d\"]\n",
    "    x['Date'] = datetime.fromtimestamp(x['Date']/1000.0).strftime(random.choice(formats))\n",
    "    return x\n",
    "\n",
    "def crappify_province(x):\n",
    "    if x['Province-State'] is None: x['Province-State'] = random.choice(['NULL', '', 'missing', '--']) \n",
    "    return x\n",
    "\n",
    "def add_fields(x):\n",
    "    n = random.randint(0, 10)\n",
    "    if n == 0: return x\n",
    "    else:\n",
    "        for i in range(n):\n",
    "            x[f\"Random-Field-{i}\"] = i\n",
    "    return x\n",
    "\n",
    "def crappify_zeros(x):\n",
    "    f = random.choice(['Confirmed', 'Deaths', 'Recovered'])\n",
    "    if x[f] == 0: x[f] = random.choice(['zero', 'o', 0])\n",
    "    return x\n",
    "\n",
    "def crappify_json(x):\n",
    "    x = crappify_date(x)\n",
    "    x = crappify_province(x)\n",
    "    x = add_fields(x)\n",
    "    return crappify_zeros(x)    \n",
    "\n",
    "def process_entry(df, i):\n",
    "    x = json.loads(df.loc[i].to_json(date_format='epoch'))\n",
    "    return crappify_json(x)"
   ]
  },
  {
   "cell_type": "markdown",
   "metadata": {},
   "source": [
    "### Example on a single data point"
   ]
  },
  {
   "cell_type": "code",
   "execution_count": 5,
   "metadata": {
    "ExecuteTime": {
     "end_time": "2020-03-06T21:22:02.456635Z",
     "start_time": "2020-03-06T21:22:02.445705Z"
    }
   },
   "outputs": [
    {
     "name": "stdout",
     "output_type": "stream",
     "text": [
      "{'Province-State': 'San Benito, CA', 'Country-Region': 'US', 'Lat': 36.5761, 'Long': -120.9876, 'Date': 1581724800000, 'Confirmed': 2, 'Deaths': 0, 'Recovered': 0}\n"
     ]
    },
    {
     "data": {
      "text/plain": [
       "{'Province-State': 'San Benito, CA',\n",
       " 'Country-Region': 'US',\n",
       " 'Lat': 36.5761,\n",
       " 'Long': -120.9876,\n",
       " 'Date': '2020, February, 15',\n",
       " 'Confirmed': 2,\n",
       " 'Deaths': 'o',\n",
       " 'Recovered': 0,\n",
       " 'Random-Field-0': 0,\n",
       " 'Random-Field-1': 1,\n",
       " 'Random-Field-2': 2,\n",
       " 'Random-Field-3': 3,\n",
       " 'Random-Field-4': 4,\n",
       " 'Random-Field-5': 5}"
      ]
     },
     "execution_count": 5,
     "metadata": {},
     "output_type": "execute_result"
    }
   ],
   "source": [
    "i = df.sample().index.values[0]\n",
    "x = json.loads(df.loc[i].to_json(date_format='epoch'))\n",
    "print(x)\n",
    "\n",
    "crappify_json(x)"
   ]
  },
  {
   "cell_type": "code",
   "execution_count": 6,
   "metadata": {
    "ExecuteTime": {
     "end_time": "2020-03-06T21:22:06.404017Z",
     "start_time": "2020-03-06T21:22:06.395042Z"
    }
   },
   "outputs": [
    {
     "data": {
      "text/plain": [
       "(5000, 9)"
      ]
     },
     "execution_count": 6,
     "metadata": {},
     "output_type": "execute_result"
    }
   ],
   "source": [
    "df['id'] = df.index\n",
    "df.shape"
   ]
  },
  {
   "cell_type": "markdown",
   "metadata": {},
   "source": [
    "### Artificially creating duplicates in the data"
   ]
  },
  {
   "cell_type": "code",
   "execution_count": 6,
   "metadata": {
    "ExecuteTime": {
     "end_time": "2020-03-03T10:16:47.461973Z",
     "start_time": "2020-03-03T10:16:47.432018Z"
    }
   },
   "outputs": [
    {
     "data": {
      "text/plain": [
       "(34410, 9)"
      ]
     },
     "execution_count": 6,
     "metadata": {},
     "output_type": "execute_result"
    }
   ],
   "source": [
    "data = df.copy()\n",
    "for i in range(1, 100, 10): data = data.append(df.sample(i**2, replace=True))\n",
    "data.sort_values(by=\"Date\", inplace=True)\n",
    "data.reset_index(drop=True, inplace=True)\n",
    "data.shape"
   ]
  },
  {
   "cell_type": "code",
   "execution_count": 7,
   "metadata": {
    "ExecuteTime": {
     "end_time": "2020-03-03T10:16:47.474903Z",
     "start_time": "2020-03-03T10:16:47.462936Z"
    }
   },
   "outputs": [
    {
     "data": {
      "text/html": [
       "<div>\n",
       "<style scoped>\n",
       "    .dataframe tbody tr th:only-of-type {\n",
       "        vertical-align: middle;\n",
       "    }\n",
       "\n",
       "    .dataframe tbody tr th {\n",
       "        vertical-align: top;\n",
       "    }\n",
       "\n",
       "    .dataframe thead th {\n",
       "        text-align: right;\n",
       "    }\n",
       "</style>\n",
       "<table border=\"1\" class=\"dataframe\">\n",
       "  <thead>\n",
       "    <tr style=\"text-align: right;\">\n",
       "      <th></th>\n",
       "      <th>Province-State</th>\n",
       "      <th>Country-Region</th>\n",
       "      <th>Lat</th>\n",
       "      <th>Long</th>\n",
       "      <th>Date</th>\n",
       "      <th>Confirmed</th>\n",
       "      <th>Deaths</th>\n",
       "      <th>Recovered</th>\n",
       "      <th>id</th>\n",
       "    </tr>\n",
       "  </thead>\n",
       "  <tbody>\n",
       "    <tr>\n",
       "      <th>0</th>\n",
       "      <td>Anhui</td>\n",
       "      <td>Mainland China</td>\n",
       "      <td>31.8257</td>\n",
       "      <td>117.2264</td>\n",
       "      <td>2020-01-22</td>\n",
       "      <td>1</td>\n",
       "      <td>0</td>\n",
       "      <td>0</td>\n",
       "      <td>0</td>\n",
       "    </tr>\n",
       "    <tr>\n",
       "      <th>1</th>\n",
       "      <td>Victoria</td>\n",
       "      <td>Australia</td>\n",
       "      <td>-37.8136</td>\n",
       "      <td>144.9631</td>\n",
       "      <td>2020-01-22</td>\n",
       "      <td>0</td>\n",
       "      <td>0</td>\n",
       "      <td>0</td>\n",
       "      <td>50</td>\n",
       "    </tr>\n",
       "    <tr>\n",
       "      <th>2</th>\n",
       "      <td>NaN</td>\n",
       "      <td>Mexico</td>\n",
       "      <td>23.6345</td>\n",
       "      <td>-102.5528</td>\n",
       "      <td>2020-01-22</td>\n",
       "      <td>0</td>\n",
       "      <td>0</td>\n",
       "      <td>0</td>\n",
       "      <td>109</td>\n",
       "    </tr>\n",
       "    <tr>\n",
       "      <th>3</th>\n",
       "      <td>Hong Kong</td>\n",
       "      <td>Hong Kong</td>\n",
       "      <td>22.3000</td>\n",
       "      <td>114.2000</td>\n",
       "      <td>2020-01-22</td>\n",
       "      <td>0</td>\n",
       "      <td>0</td>\n",
       "      <td>0</td>\n",
       "      <td>39</td>\n",
       "    </tr>\n",
       "    <tr>\n",
       "      <th>4</th>\n",
       "      <td>Ningxia</td>\n",
       "      <td>Mainland China</td>\n",
       "      <td>37.2692</td>\n",
       "      <td>106.1655</td>\n",
       "      <td>2020-01-22</td>\n",
       "      <td>1</td>\n",
       "      <td>0</td>\n",
       "      <td>0</td>\n",
       "      <td>19</td>\n",
       "    </tr>\n",
       "    <tr>\n",
       "      <th>5</th>\n",
       "      <td>Tibet</td>\n",
       "      <td>Mainland China</td>\n",
       "      <td>31.6927</td>\n",
       "      <td>88.0924</td>\n",
       "      <td>2020-01-22</td>\n",
       "      <td>0</td>\n",
       "      <td>0</td>\n",
       "      <td>0</td>\n",
       "      <td>27</td>\n",
       "    </tr>\n",
       "    <tr>\n",
       "      <th>6</th>\n",
       "      <td>NaN</td>\n",
       "      <td>United Arab Emirates</td>\n",
       "      <td>24.0000</td>\n",
       "      <td>54.0000</td>\n",
       "      <td>2020-01-22</td>\n",
       "      <td>0</td>\n",
       "      <td>0</td>\n",
       "      <td>0</td>\n",
       "      <td>56</td>\n",
       "    </tr>\n",
       "    <tr>\n",
       "      <th>7</th>\n",
       "      <td>NaN</td>\n",
       "      <td>Iraq</td>\n",
       "      <td>33.0000</td>\n",
       "      <td>44.0000</td>\n",
       "      <td>2020-01-22</td>\n",
       "      <td>0</td>\n",
       "      <td>0</td>\n",
       "      <td>0</td>\n",
       "      <td>83</td>\n",
       "    </tr>\n",
       "    <tr>\n",
       "      <th>8</th>\n",
       "      <td>NaN</td>\n",
       "      <td>Ireland</td>\n",
       "      <td>53.1424</td>\n",
       "      <td>-7.6921</td>\n",
       "      <td>2020-01-22</td>\n",
       "      <td>0</td>\n",
       "      <td>0</td>\n",
       "      <td>0</td>\n",
       "      <td>113</td>\n",
       "    </tr>\n",
       "    <tr>\n",
       "      <th>9</th>\n",
       "      <td>Madison, WI</td>\n",
       "      <td>US</td>\n",
       "      <td>43.0731</td>\n",
       "      <td>-89.4012</td>\n",
       "      <td>2020-01-22</td>\n",
       "      <td>0</td>\n",
       "      <td>0</td>\n",
       "      <td>0</td>\n",
       "      <td>70</td>\n",
       "    </tr>\n",
       "  </tbody>\n",
       "</table>\n",
       "</div>"
      ],
      "text/plain": [
       "  Province-State        Country-Region      Lat      Long       Date  \\\n",
       "0          Anhui        Mainland China  31.8257  117.2264 2020-01-22   \n",
       "1       Victoria             Australia -37.8136  144.9631 2020-01-22   \n",
       "2            NaN                Mexico  23.6345 -102.5528 2020-01-22   \n",
       "3      Hong Kong             Hong Kong  22.3000  114.2000 2020-01-22   \n",
       "4        Ningxia        Mainland China  37.2692  106.1655 2020-01-22   \n",
       "5          Tibet        Mainland China  31.6927   88.0924 2020-01-22   \n",
       "6            NaN  United Arab Emirates  24.0000   54.0000 2020-01-22   \n",
       "7            NaN                  Iraq  33.0000   44.0000 2020-01-22   \n",
       "8            NaN               Ireland  53.1424   -7.6921 2020-01-22   \n",
       "9    Madison, WI                    US  43.0731  -89.4012 2020-01-22   \n",
       "\n",
       "   Confirmed  Deaths  Recovered   id  \n",
       "0          1       0          0    0  \n",
       "1          0       0          0   50  \n",
       "2          0       0          0  109  \n",
       "3          0       0          0   39  \n",
       "4          1       0          0   19  \n",
       "5          0       0          0   27  \n",
       "6          0       0          0   56  \n",
       "7          0       0          0   83  \n",
       "8          0       0          0  113  \n",
       "9          0       0          0   70  "
      ]
     },
     "execution_count": 7,
     "metadata": {},
     "output_type": "execute_result"
    }
   ],
   "source": [
    "data.head(10)"
   ]
  },
  {
   "cell_type": "code",
   "execution_count": 8,
   "metadata": {
    "ExecuteTime": {
     "end_time": "2020-03-03T10:16:47.483912Z",
     "start_time": "2020-03-03T10:16:47.476900Z"
    }
   },
   "outputs": [
    {
     "data": {
      "text/plain": [
       "4167    18\n",
       "3498    17\n",
       "2901    17\n",
       "1149    17\n",
       "2205    17\n",
       "2105    16\n",
       "4060    16\n",
       "550     16\n",
       "2291    16\n",
       "214     16\n",
       "Name: id, dtype: int64"
      ]
     },
     "execution_count": 8,
     "metadata": {},
     "output_type": "execute_result"
    }
   ],
   "source": [
    "data.id.value_counts().head(10)"
   ]
  },
  {
   "cell_type": "markdown",
   "metadata": {},
   "source": [
    "### Processing one row at a time and uploading crappified JSON to S3"
   ]
  },
  {
   "cell_type": "code",
   "execution_count": 10,
   "metadata": {
    "ExecuteTime": {
     "end_time": "2020-03-06T21:23:34.087442Z",
     "start_time": "2020-03-06T21:23:33.460865Z"
    }
   },
   "outputs": [],
   "source": [
    "s3 = boto3.resource('s3')\n",
    "\n",
    "for i in tqdm(range(len(data))):\n",
    "    x = process_entry(data, i)\n",
    "    print(i, x)\n",
    "    print()\n",
    "    object = s3.Object('pochetti-covid-19-input', f'json-{i}')\n",
    "    object.put(Body=json.dumps(x));"
   ]
  },
  {
   "cell_type": "code",
   "execution_count": 11,
   "metadata": {
    "ExecuteTime": {
     "end_time": "2020-03-06T21:23:51.385772Z",
     "start_time": "2020-03-06T21:23:40.575965Z"
    }
   },
   "outputs": [
    {
     "data": {
      "text/plain": [
       "34410"
      ]
     },
     "execution_count": 11,
     "metadata": {},
     "output_type": "execute_result"
    }
   ],
   "source": [
    "bucket = s3.Bucket('pochetti-covid-19-input')\n",
    "sum(1 for _ in bucket.objects.all())"
   ]
  }
 ],
 "metadata": {
  "kernelspec": {
   "display_name": "Python [conda env:mash]",
   "language": "python",
   "name": "conda-env-mash-py"
  },
  "language_info": {
   "codemirror_mode": {
    "name": "ipython",
    "version": 3
   },
   "file_extension": ".py",
   "mimetype": "text/x-python",
   "name": "python",
   "nbconvert_exporter": "python",
   "pygments_lexer": "ipython3",
   "version": "3.6.9"
  }
 },
 "nbformat": 4,
 "nbformat_minor": 2
}
