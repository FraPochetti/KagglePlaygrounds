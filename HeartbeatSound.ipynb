{
 "cells": [
  {
   "cell_type": "code",
   "execution_count": 1,
   "metadata": {},
   "outputs": [],
   "source": [
    "import librosa\n",
    "import os\n",
    "import pandas as pd\n",
    "import numpy as np\n",
    "import fnmatch\n",
    "import matplotlib.pyplot as plt\n",
    "%matplotlib inline\n",
    "import IPython.display as ipd\n",
    "import librosa.display\n",
    "plt.ioff()\n",
    "\n",
    "PATH = \"C:\\\\Users\\\\frapo\\\\Downloads\\\\heartbeat-sounds\""
   ]
  },
  {
   "cell_type": "code",
   "execution_count": 2,
   "metadata": {},
   "outputs": [],
   "source": [
    "def build_dataset():\n",
    "    murmurs = ['set_b/'+ m for m in fnmatch.filter(os.listdir(PATH+'/set_b'), 'murmur*.wav')]\n",
    "    murmurs += ['set_a/'+ m for m in fnmatch.filter(os.listdir(PATH+'/set_a'), 'murmur*.wav')]\n",
    "    murmurs += murmurs\n",
    "    labels = [\"murmur\"] * len(murmurs)\n",
    "    \n",
    "    normals = ['set_b/'+ m for m in fnmatch.filter(os.listdir(PATH+'/set_b'), 'normal*.wav')]\n",
    "    normals += ['set_a/'+ m for m in fnmatch.filter(os.listdir(PATH+'/set_a'), 'normal*.wav')]\n",
    "    labels += [\"normal\"] * len(normals)\n",
    "    \n",
    "    df = pd.DataFrame({\"fname\": murmurs+normals, \"label\": labels})\n",
    "    return df"
   ]
  },
  {
   "cell_type": "code",
   "execution_count": 3,
   "metadata": {},
   "outputs": [],
   "source": [
    "data = build_dataset()"
   ]
  },
  {
   "cell_type": "code",
   "execution_count": 4,
   "metadata": {},
   "outputs": [
    {
     "data": {
      "text/html": [
       "<div>\n",
       "<style scoped>\n",
       "    .dataframe tbody tr th:only-of-type {\n",
       "        vertical-align: middle;\n",
       "    }\n",
       "\n",
       "    .dataframe tbody tr th {\n",
       "        vertical-align: top;\n",
       "    }\n",
       "\n",
       "    .dataframe thead th {\n",
       "        text-align: right;\n",
       "    }\n",
       "</style>\n",
       "<table border=\"1\" class=\"dataframe\">\n",
       "  <thead>\n",
       "    <tr style=\"text-align: right;\">\n",
       "      <th></th>\n",
       "      <th>fname</th>\n",
       "      <th>label</th>\n",
       "    </tr>\n",
       "  </thead>\n",
       "  <tbody>\n",
       "    <tr>\n",
       "      <th>0</th>\n",
       "      <td>set_b/murmur_noisymurmur_135_1306428972976_A.wav</td>\n",
       "      <td>murmur</td>\n",
       "    </tr>\n",
       "    <tr>\n",
       "      <th>544</th>\n",
       "      <td>set_b/normal__250_1309202496494_B.wav</td>\n",
       "      <td>normal</td>\n",
       "    </tr>\n",
       "    <tr>\n",
       "      <th>310</th>\n",
       "      <td>set_b/normal_noisynormal_137_1306764999211_A1.wav</td>\n",
       "      <td>normal</td>\n",
       "    </tr>\n",
       "    <tr>\n",
       "      <th>433</th>\n",
       "      <td>set_b/normal__149_1306776016110_B.wav</td>\n",
       "      <td>normal</td>\n",
       "    </tr>\n",
       "    <tr>\n",
       "      <th>392</th>\n",
       "      <td>set_b/normal__125_1306332456645_B.wav</td>\n",
       "      <td>normal</td>\n",
       "    </tr>\n",
       "    <tr>\n",
       "      <th>434</th>\n",
       "      <td>set_b/normal__149_1306776016110_C1.wav</td>\n",
       "      <td>normal</td>\n",
       "    </tr>\n",
       "    <tr>\n",
       "      <th>556</th>\n",
       "      <td>set_b/normal__274_1311075637574_B1.wav</td>\n",
       "      <td>normal</td>\n",
       "    </tr>\n",
       "    <tr>\n",
       "      <th>322</th>\n",
       "      <td>set_b/normal_noisynormal_142_1306763049574_A.wav</td>\n",
       "      <td>normal</td>\n",
       "    </tr>\n",
       "    <tr>\n",
       "      <th>578</th>\n",
       "      <td>set_a/normal__201101070538.wav</td>\n",
       "      <td>normal</td>\n",
       "    </tr>\n",
       "    <tr>\n",
       "      <th>90</th>\n",
       "      <td>set_b/murmur__287_1311170903290_C.wav</td>\n",
       "      <td>murmur</td>\n",
       "    </tr>\n",
       "  </tbody>\n",
       "</table>\n",
       "</div>"
      ],
      "text/plain": [
       "                                                 fname   label\n",
       "0     set_b/murmur_noisymurmur_135_1306428972976_A.wav  murmur\n",
       "544              set_b/normal__250_1309202496494_B.wav  normal\n",
       "310  set_b/normal_noisynormal_137_1306764999211_A1.wav  normal\n",
       "433              set_b/normal__149_1306776016110_B.wav  normal\n",
       "392              set_b/normal__125_1306332456645_B.wav  normal\n",
       "434             set_b/normal__149_1306776016110_C1.wav  normal\n",
       "556             set_b/normal__274_1311075637574_B1.wav  normal\n",
       "322   set_b/normal_noisynormal_142_1306763049574_A.wav  normal\n",
       "578                     set_a/normal__201101070538.wav  normal\n",
       "90               set_b/murmur__287_1311170903290_C.wav  murmur"
      ]
     },
     "execution_count": 4,
     "metadata": {},
     "output_type": "execute_result"
    }
   ],
   "source": [
    "data.sample(10)"
   ]
  },
  {
   "cell_type": "code",
   "execution_count": 5,
   "metadata": {},
   "outputs": [],
   "source": [
    "def repeat_to_length(arr, length):\n",
    "    \"\"\"Repeats the numpy 1D array to given length, and makes datatype float\"\"\"\n",
    "    result = np.empty((length, ), dtype = 'float32')\n",
    "    l = len(arr)\n",
    "    pos = 0\n",
    "    while pos + l <= length:\n",
    "        result[pos:pos+l] = arr\n",
    "        pos += l\n",
    "    if pos < length:\n",
    "        result[pos:length] = arr[:length-pos]\n",
    "    return result\n",
    "\n",
    "def explore_heartbeat(i):\n",
    "    print(f\"i: {i}\")\n",
    "    label = data.iloc[i].label\n",
    "    fname = data.iloc[i].fname\n",
    "    print(f\"label: {label}; fname: {fname}\")\n",
    "    if label not in fname: return \"Incostintent label\"\n",
    "    \n",
    "    y, sr = librosa.load(os.path.join(PATH, fname))\n",
    "    d = librosa.get_duration(y=y, sr=sr)\n",
    "    print(f\"sr: {sr}; len(x): {len(y)}; duration: {d}\")\n",
    "    y = repeat_to_length(y, MAX_LEN)\n",
    "    d = librosa.get_duration(y=y, sr=sr)\n",
    "    print(f\"sr: {sr}; len(x): {len(y)}; duration: {d}\")\n",
    "    \n",
    "    plt.figure(figsize=(15, 3))\n",
    "    librosa.display.waveplot(y, sr=sr)\n",
    "    \n",
    "    X = librosa.stft(y)\n",
    "    Xdb = librosa.amplitude_to_db(abs(X))\n",
    "    plt.figure(figsize=(15, 5))\n",
    "    librosa.display.specshow(Xdb, sr=sr, x_axis='time', y_axis='hz')\n",
    "    plt.colorbar()\n",
    "    \n",
    "    my_dpi = 120\n",
    "    fig, ax = plt.subplots(figsize=(512/my_dpi, 512/my_dpi), dpi=my_dpi)\n",
    "    librosa.display.specshow(Xdb, sr=sr, y_axis='log')\n",
    "    ax.axis('off')\n",
    "    #plt.colorbar()\n",
    "    \n",
    "    plt.savefig(os.path.join(PATH, \"test.png\"), bbox_inches=None, pad_inches=0)\n",
    "    plt.show()\n",
    "    \n",
    "    return fname, Xdb"
   ]
  },
  {
   "cell_type": "code",
   "execution_count": 164,
   "metadata": {},
   "outputs": [],
   "source": [
    "?? plt.savefig"
   ]
  },
  {
   "cell_type": "code",
   "execution_count": null,
   "metadata": {},
   "outputs": [
    {
     "name": "stdout",
     "output_type": "stream",
     "text": [
      "i: 40\n",
      "label: murmur; fname: set_b/murmur__161_1307101199321_A.wav\n",
      "sr: 22050; len(x): 380550; duration: 17.258503401360546\n",
      "sr: 22050; len(x): 614468; duration: 27.86702947845805\n"
     ]
    },
    {
     "data": {
      "image/png": "[encoded data removed]",
      "text/plain": [
       "<Figure size 1080x216 with 1 Axes>"
      ]
     },
     "metadata": {
      "needs_background": "light"
     },
     "output_type": "display_data"
    }
   ],
   "source": [
    "i = np.random.randint(low=0, high=(len(data)-1))\n",
    "fname, Xdb = explore_heartbeat(i)\n",
    "ipd.Audio(os.path.join(PATH, fname))"
   ]
  },
  {
   "cell_type": "code",
   "execution_count": 7,
   "metadata": {},
   "outputs": [],
   "source": [
    "def load_wave(fname):\n",
    "    y, sr = librosa.load(os.path.join(PATH, fname))\n",
    "    return y"
   ]
  },
  {
   "cell_type": "code",
   "execution_count": 8,
   "metadata": {},
   "outputs": [],
   "source": [
    "data[\"array\"] = data.fname.apply(load_wave)"
   ]
  },
  {
   "cell_type": "code",
   "execution_count": 9,
   "metadata": {},
   "outputs": [],
   "source": [
    "data[\"len_series\"] = data[\"array\"].apply(len)\n",
    "MAX_LEN = max(data[\"len_series\"])"
   ]
  },
  {
   "cell_type": "code",
   "execution_count": 10,
   "metadata": {},
   "outputs": [
    {
     "data": {
      "text/plain": [
       "614468"
      ]
     },
     "execution_count": 10,
     "metadata": {},
     "output_type": "execute_result"
    }
   ],
   "source": [
    "MAX_LEN"
   ]
  },
  {
   "cell_type": "code",
   "execution_count": null,
   "metadata": {},
   "outputs": [],
   "source": []
  }
 ],
 "metadata": {
  "kernelspec": {
   "display_name": "Python 3",
   "language": "python",
   "name": "python3"
  },
  "language_info": {
   "codemirror_mode": {
    "name": "ipython",
    "version": 3
   },
   "file_extension": ".py",
   "mimetype": "text/x-python",
   "name": "python",
   "nbconvert_exporter": "python",
   "pygments_lexer": "ipython3",
   "version": "3.7.1"
  }
 },
 "nbformat": 4,
 "nbformat_minor": 2
}
