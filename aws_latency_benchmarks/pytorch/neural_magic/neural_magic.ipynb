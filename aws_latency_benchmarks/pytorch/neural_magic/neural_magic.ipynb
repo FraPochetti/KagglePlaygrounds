{
 "cells": [
  {
   "attachments": {},
   "cell_type": "markdown",
   "metadata": {},
   "source": [
    "### Create dev env"
   ]
  },
  {
   "cell_type": "code",
   "execution_count": null,
   "metadata": {},
   "outputs": [],
   "source": [
    "!conda create -y -n nm python==3.9\n",
    "!conda activate nm\n",
    "!pip install -r requirements.txt"
   ]
  },
  {
   "attachments": {},
   "cell_type": "markdown",
   "metadata": {},
   "source": [
    "## Local inference with DeepSparse"
   ]
  },
  {
   "cell_type": "code",
   "execution_count": 1,
   "metadata": {},
   "outputs": [
    {
     "name": "stderr",
     "output_type": "stream",
     "text": [
      "/opt/conda/envs/nm/lib/python3.9/site-packages/tqdm/auto.py:22: TqdmWarning: IProgress not found. Please update jupyter and ipywidgets. See https://ipywidgets.readthedocs.io/en/stable/user_install.html\n",
      "  from .autonotebook import tqdm as notebook_tqdm\n",
      "DeepSparse, Copyright 2021-present / Neuralmagic, Inc. version: 1.3.2 COMMUNITY | (7d31c4bf) (release) (optimized) (system=avx512, binary=avx512)\n",
      "[7f11a3a4d740 >WARN<  operator() ./src/include/wand/utility/warnings.hpp:14] Generating emulated code for quantized (INT8) operations since no VNNI instructions were detected. Set NM_FAST_VNNI_EMULATION=1 to increase performance at the expense of accuracy.\n"
     ]
    }
   ],
   "source": [
    "from deepsparse import Pipeline\n",
    "from deepsparse.image_classification.constants import IMAGENET_LABELS\n",
    "\n",
    "cv_pipeline = Pipeline.create(\n",
    "  task='image_classification', \n",
    "  model_path='zoo:cv/classification/resnet_v1-18/pytorch/sparseml/imagenet/pruned85_quant-none-vnni',\n",
    ")"
   ]
  },
  {
   "cell_type": "code",
   "execution_count": 2,
   "metadata": {},
   "outputs": [
    {
     "data": {
      "text/plain": [
       "ImageClassificationOutput(labels=[282], scores=[18.798709869384766])"
      ]
     },
     "execution_count": 2,
     "metadata": {},
     "output_type": "execute_result"
    }
   ],
   "source": [
    "input_image = \"cat.jpg\"\n",
    "inference = cv_pipeline(images=input_image)\n",
    "inference"
   ]
  },
  {
   "cell_type": "code",
   "execution_count": 7,
   "metadata": {},
   "outputs": [
    {
     "data": {
      "text/plain": [
       "ImageClassificationOutput(labels=[282], scores=[18.798709869384766])"
      ]
     },
     "execution_count": 7,
     "metadata": {},
     "output_type": "execute_result"
    }
   ],
   "source": [
    "from PIL import Image\n",
    "input_image = Image.open(\"cat.jpg\")\n",
    "inference = cv_pipeline(images=[input_image])\n",
    "inference"
   ]
  },
  {
   "cell_type": "code",
   "execution_count": 4,
   "metadata": {},
   "outputs": [
    {
     "data": {
      "text/plain": [
       "('tiger cat', 18.798709869384766)"
      ]
     },
     "execution_count": 4,
     "metadata": {},
     "output_type": "execute_result"
    }
   ],
   "source": [
    "labels = [IMAGENET_LABELS[label_id] for label_id in inference.labels][0]\n",
    "scores = inference.scores[0]\n",
    "\n",
    "labels, scores"
   ]
  },
  {
   "attachments": {},
   "cell_type": "markdown",
   "metadata": {},
   "source": [
    "## SageMaker deployment"
   ]
  },
  {
   "cell_type": "code",
   "execution_count": 1,
   "metadata": {},
   "outputs": [],
   "source": [
    "import boto3, sagemaker, base64\n",
    "\n",
    "region = \"eu-west-1\"\n",
    "sm_client = boto3.client(service_name=\"sagemaker\", region_name=region)\n",
    "runtime_sm_client = boto3.client(\"sagemaker-runtime\", region_name=region)\n",
    "session = sagemaker.Session(boto_session=boto3.Session(region_name=region))\n",
    "role = \"YOUR ARN ROLE\"\n",
    "NAME = \"neural-magic\""
   ]
  },
  {
   "attachments": {},
   "cell_type": "markdown",
   "metadata": {},
   "source": [
    "### Deploy with custom Docker container + Flask backend"
   ]
  },
  {
   "cell_type": "code",
   "execution_count": null,
   "metadata": {},
   "outputs": [],
   "source": [
    "# build image and push to ECR\n",
    "!./flask/build_and_push_to_ecr.sh"
   ]
  },
  {
   "cell_type": "code",
   "execution_count": 8,
   "metadata": {},
   "outputs": [
    {
     "name": "stdout",
     "output_type": "stream",
     "text": [
      "-----!"
     ]
    }
   ],
   "source": [
    "ecr_image = \"257446244580.dkr.ecr.eu-west-1.amazonaws.com/custom-images:neuralmagic\"\n",
    "\n",
    "model = sagemaker.model.Model(image_uri=ecr_image,\n",
    "                              name=NAME,\n",
    "                              role=role,\n",
    "                              sagemaker_session=session,\n",
    "                              predictor_cls=sagemaker.Predictor\n",
    "                             )\n",
    "\n",
    "predictor = model.deploy(initial_instance_count=1, \n",
    "                         instance_type='ml.c5.xlarge', \n",
    "                         endpoint_name=NAME)"
   ]
  },
  {
   "cell_type": "code",
   "execution_count": 9,
   "metadata": {},
   "outputs": [],
   "source": [
    "predictor = sagemaker.Predictor(endpoint_name=NAME, sagemaker_session=session)"
   ]
  },
  {
   "cell_type": "code",
   "execution_count": 10,
   "metadata": {},
   "outputs": [
    {
     "data": {
      "text/plain": [
       "b'{\"label\": \"tiger cat\", \"score\": 18.79037857055664}'"
      ]
     },
     "execution_count": 10,
     "metadata": {},
     "output_type": "execute_result"
    }
   ],
   "source": [
    "with open(\"cat.jpg\", \"rb\") as img_file:\n",
    "    b64_string = base64.b64encode(img_file.read())\n",
    "\n",
    "predictor.predict('{\"image\": \"'+b64_string.decode('utf-8')+'\"}')"
   ]
  },
  {
   "cell_type": "code",
   "execution_count": 11,
   "metadata": {},
   "outputs": [],
   "source": [
    "for _ in range(10000): _ = predictor.predict('{\"image\": \"'+b64_string.decode('utf-8')+'\"}')"
   ]
  },
  {
   "cell_type": "code",
   "execution_count": 12,
   "metadata": {},
   "outputs": [
    {
     "data": {
      "text/plain": [
       "{'ResponseMetadata': {'RequestId': 'dc0145c6-2a94-464d-9853-331f9f730f54',\n",
       "  'HTTPStatusCode': 200,\n",
       "  'HTTPHeaders': {'x-amzn-requestid': 'dc0145c6-2a94-464d-9853-331f9f730f54',\n",
       "   'content-type': 'application/x-amz-json-1.1',\n",
       "   'content-length': '0',\n",
       "   'date': 'Sat, 11 Feb 2023 18:40:08 GMT'},\n",
       "  'RetryAttempts': 0}}"
      ]
     },
     "execution_count": 12,
     "metadata": {},
     "output_type": "execute_result"
    }
   ],
   "source": [
    "sm_client.delete_model(ModelName=NAME)\n",
    "sm_client.delete_endpoint_config(EndpointConfigName=NAME)\n",
    "sm_client.delete_endpoint(EndpointName=NAME)"
   ]
  },
  {
   "attachments": {},
   "cell_type": "markdown",
   "metadata": {},
   "source": [
    "### Deploy using NeuralMagic `deepsparse.server` functionality (FastAPI backend)"
   ]
  },
  {
   "cell_type": "code",
   "execution_count": null,
   "metadata": {},
   "outputs": [],
   "source": [
    "# build image + push to ECR + deploy to SageMaker\n",
    "!python ./fastapi/endpoint.py create"
   ]
  },
  {
   "cell_type": "code",
   "execution_count": 17,
   "metadata": {},
   "outputs": [
    {
     "ename": "ModelError",
     "evalue": "An error occurred (ModelError) when calling the InvokeEndpoint operation: Received client error (422) from primary with message \"{\"detail\":[{\"loc\":[\"body\",\"request\"],\"msg\":\"field required\",\"type\":\"value_error.missing\"}]}\". See https://eu-west-1.console.aws.amazon.com/cloudwatch/home?region=eu-west-1#logEventViewer:group=/aws/sagemaker/Endpoints/neural-magic-test in account 257446244580 for more information.",
     "output_type": "error",
     "traceback": [
      "\u001b[0;31m---------------------------------------------------------------------------\u001b[0m",
      "\u001b[0;31mModelError\u001b[0m                                Traceback (most recent call last)",
      "Cell \u001b[0;32mIn[17], line 11\u001b[0m\n\u001b[1;32m      8\u001b[0m     payload \u001b[39m=\u001b[39m {\u001b[39m\"\u001b[39m\u001b[39mrequest\u001b[39m\u001b[39m\"\u001b[39m: b64_string\u001b[39m.\u001b[39mdecode(\u001b[39m'\u001b[39m\u001b[39mutf-8\u001b[39m\u001b[39m'\u001b[39m), \u001b[39m\"\u001b[39m\u001b[39mtype\u001b[39m\u001b[39m\"\u001b[39m: \u001b[39m\"\u001b[39m\u001b[39mimage/jpeg\u001b[39m\u001b[39m\"\u001b[39m}\n\u001b[1;32m      9\u001b[0m     payload \u001b[39m=\u001b[39m json\u001b[39m.\u001b[39mdumps(payload)\n\u001b[0;32m---> 11\u001b[0m response \u001b[39m=\u001b[39m runtime_sm_client\u001b[39m.\u001b[39;49minvoke_endpoint(\n\u001b[1;32m     12\u001b[0m     EndpointName\u001b[39m=\u001b[39;49m\u001b[39m\"\u001b[39;49m\u001b[39mneural-magic-test\u001b[39;49m\u001b[39m\"\u001b[39;49m, \n\u001b[1;32m     13\u001b[0m     ContentType\u001b[39m=\u001b[39;49m\u001b[39m\"\u001b[39;49m\u001b[39mapplication/json\u001b[39;49m\u001b[39m\"\u001b[39;49m, \n\u001b[1;32m     14\u001b[0m     Accept\u001b[39m=\u001b[39;49m\u001b[39m'\u001b[39;49m\u001b[39mapplication/json\u001b[39;49m\u001b[39m'\u001b[39;49m,\n\u001b[1;32m     15\u001b[0m     Body\u001b[39m=\u001b[39;49mpayload\n\u001b[1;32m     16\u001b[0m )\n",
      "File \u001b[0;32m/opt/conda/envs/nm/lib/python3.9/site-packages/botocore/client.py:530\u001b[0m, in \u001b[0;36mClientCreator._create_api_method.<locals>._api_call\u001b[0;34m(self, *args, **kwargs)\u001b[0m\n\u001b[1;32m    526\u001b[0m     \u001b[39mraise\u001b[39;00m \u001b[39mTypeError\u001b[39;00m(\n\u001b[1;32m    527\u001b[0m         \u001b[39mf\u001b[39m\u001b[39m\"\u001b[39m\u001b[39m{\u001b[39;00mpy_operation_name\u001b[39m}\u001b[39;00m\u001b[39m() only accepts keyword arguments.\u001b[39m\u001b[39m\"\u001b[39m\n\u001b[1;32m    528\u001b[0m     )\n\u001b[1;32m    529\u001b[0m \u001b[39m# The \"self\" in this scope is referring to the BaseClient.\u001b[39;00m\n\u001b[0;32m--> 530\u001b[0m \u001b[39mreturn\u001b[39;00m \u001b[39mself\u001b[39;49m\u001b[39m.\u001b[39;49m_make_api_call(operation_name, kwargs)\n",
      "File \u001b[0;32m/opt/conda/envs/nm/lib/python3.9/site-packages/botocore/client.py:960\u001b[0m, in \u001b[0;36mBaseClient._make_api_call\u001b[0;34m(self, operation_name, api_params)\u001b[0m\n\u001b[1;32m    958\u001b[0m     error_code \u001b[39m=\u001b[39m parsed_response\u001b[39m.\u001b[39mget(\u001b[39m\"\u001b[39m\u001b[39mError\u001b[39m\u001b[39m\"\u001b[39m, {})\u001b[39m.\u001b[39mget(\u001b[39m\"\u001b[39m\u001b[39mCode\u001b[39m\u001b[39m\"\u001b[39m)\n\u001b[1;32m    959\u001b[0m     error_class \u001b[39m=\u001b[39m \u001b[39mself\u001b[39m\u001b[39m.\u001b[39mexceptions\u001b[39m.\u001b[39mfrom_code(error_code)\n\u001b[0;32m--> 960\u001b[0m     \u001b[39mraise\u001b[39;00m error_class(parsed_response, operation_name)\n\u001b[1;32m    961\u001b[0m \u001b[39melse\u001b[39;00m:\n\u001b[1;32m    962\u001b[0m     \u001b[39mreturn\u001b[39;00m parsed_response\n",
      "\u001b[0;31mModelError\u001b[0m: An error occurred (ModelError) when calling the InvokeEndpoint operation: Received client error (422) from primary with message \"{\"detail\":[{\"loc\":[\"body\",\"request\"],\"msg\":\"field required\",\"type\":\"value_error.missing\"}]}\". See https://eu-west-1.console.aws.amazon.com/cloudwatch/home?region=eu-west-1#logEventViewer:group=/aws/sagemaker/Endpoints/neural-magic-test in account 257446244580 for more information."
     ]
    }
   ],
   "source": [
    "import base64, json\n",
    "\n",
    "# with open(\"cat.jpg\", \"rb\") as f:\n",
    "#     payload = f.read()\n",
    "\n",
    "with open(\"cat.jpg\", \"rb\") as img_file:\n",
    "    b64_string = base64.b64encode(img_file.read())\n",
    "    payload = {\"request\": b64_string.decode('utf-8'), \"type\": \"image/jpeg\"}\n",
    "    payload = json.dumps(payload)\n",
    "\n",
    "response = runtime_sm_client.invoke_endpoint(\n",
    "    EndpointName=NAME, \n",
    "    ContentType=\"application/json\", \n",
    "    Accept='application/json',\n",
    "    Body=payload\n",
    ")"
   ]
  },
  {
   "cell_type": "code",
   "execution_count": 18,
   "metadata": {},
   "outputs": [
    {
     "data": {
      "text/plain": [
       "{'ResponseMetadata': {'RequestId': '839ce252-51cd-4b9d-ab4e-1388a9a17664',\n",
       "  'HTTPStatusCode': 200,\n",
       "  'HTTPHeaders': {'x-amzn-requestid': '839ce252-51cd-4b9d-ab4e-1388a9a17664',\n",
       "   'content-type': 'application/x-amz-json-1.1',\n",
       "   'content-length': '0',\n",
       "   'date': 'Sat, 11 Feb 2023 18:53:54 GMT'},\n",
       "  'RetryAttempts': 0}}"
      ]
     },
     "execution_count": 18,
     "metadata": {},
     "output_type": "execute_result"
    }
   ],
   "source": [
    "sm_client.delete_model(ModelName=NAME)\n",
    "sm_client.delete_endpoint_config(EndpointConfigName=NAME)\n",
    "sm_client.delete_endpoint(EndpointName=NAME)"
   ]
  },
  {
   "attachments": {},
   "cell_type": "markdown",
   "metadata": {},
   "source": [
    "### Random useful"
   ]
  },
  {
   "attachments": {},
   "cell_type": "markdown",
   "metadata": {},
   "source": [
    "`(echo -n '{\"image\": \"'; base64 cat.jpg; echo '\"}') | curl -H \"Content-Type: application/json\" -d @-  http://127.0.0.1:8080/invocations`"
   ]
  },
  {
   "attachments": {},
   "cell_type": "markdown",
   "metadata": {},
   "source": [
    "`curl -X POST http://127.0.0.1:5543/predict/from_files -H 'accept: application/json' -H 'Content-Type: multipart/form-data' -F 'request=@cat.jpg;type=image/jpeg'`"
   ]
  },
  {
   "attachments": {},
   "cell_type": "markdown",
   "metadata": {},
   "source": [
    "`deepsparse.server config config-local.yaml`"
   ]
  }
 ],
 "metadata": {
  "kernelspec": {
   "display_name": "nm",
   "language": "python",
   "name": "python3"
  },
  "language_info": {
   "codemirror_mode": {
    "name": "ipython",
    "version": 3
   },
   "file_extension": ".py",
   "mimetype": "text/x-python",
   "name": "python",
   "nbconvert_exporter": "python",
   "pygments_lexer": "ipython3",
   "version": "3.9.0"
  },
  "orig_nbformat": 4,
  "vscode": {
   "interpreter": {
    "hash": "863b9b9327d5324f5f15b574a97d0b9683dc67a4d23218fb13510a71b6995252"
   }
  }
 },
 "nbformat": 4,
 "nbformat_minor": 2
}
