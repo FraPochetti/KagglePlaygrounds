{
 "cells": [
  {
   "cell_type": "markdown",
   "metadata": {},
   "source": [
    "## PySpark pipeline to clean up the COVID-19 dataset in AWS Glue "
   ]
  },
  {
   "cell_type": "code",
   "execution_count": 1,
   "metadata": {},
   "outputs": [
    {
     "name": "stdout",
     "output_type": "stream",
     "text": [
      "Starting Spark application\n"
     ]
    },
    {
     "data": {
      "text/html": [
       "<table>\n",
       "<tr><th>ID</th><th>YARN Application ID</th><th>Kind</th><th>State</th><th>Spark UI</th><th>Driver log</th><th>Current session?</th></tr><tr><td>7</td><td>application_1583234775893_0008</td><td>pyspark</td><td>idle</td><td><a target=\"_blank\" href=\"http://ip-172-31-15-220.eu-west-1.compute.internal:20888/proxy/application_1583234775893_0008/\">Link</a></td><td><a target=\"_blank\" href=\"http://ip-172-31-11-214.eu-west-1.compute.internal:8042/node/containerlogs/container_1583234775893_0008_01_000001/livy\">Link</a></td><td>✔</td></tr></table>"
      ],
      "text/plain": [
       "<IPython.core.display.HTML object>"
      ]
     },
     "metadata": {},
     "output_type": "display_data"
    },
    {
     "data": {
      "application/vnd.jupyter.widget-view+json": {
       "model_id": "",
       "version_major": 2,
       "version_minor": 0
      },
      "text/plain": [
       "FloatProgress(value=0.0, bar_style='info', description='Progress:', layout=Layout(height='25px', width='50%'),…"
      ]
     },
     "metadata": {},
     "output_type": "display_data"
    },
    {
     "name": "stdout",
     "output_type": "stream",
     "text": [
      "SparkSession available as 'spark'.\n"
     ]
    },
    {
     "data": {
      "application/vnd.jupyter.widget-view+json": {
       "model_id": "",
       "version_major": 2,
       "version_minor": 0
      },
      "text/plain": [
       "FloatProgress(value=0.0, bar_style='info', description='Progress:', layout=Layout(height='25px', width='50%'),…"
      ]
     },
     "metadata": {},
     "output_type": "display_data"
    }
   ],
   "source": [
    "import sys\n",
    "from awsglue.transforms import *\n",
    "from awsglue.utils import getResolvedOptions\n",
    "from pyspark.context import SparkContext\n",
    "from awsglue.context import GlueContext\n",
    "from awsglue.job import Job\n",
    "from pyspark.sql.functions import col, when, to_date"
   ]
  },
  {
   "cell_type": "code",
   "execution_count": 2,
   "metadata": {},
   "outputs": [
    {
     "data": {
      "application/vnd.jupyter.widget-view+json": {
       "model_id": "",
       "version_major": 2,
       "version_minor": 0
      },
      "text/plain": [
       "FloatProgress(value=0.0, bar_style='info', description='Progress:', layout=Layout(height='25px', width='50%'),…"
      ]
     },
     "metadata": {},
     "output_type": "display_data"
    }
   ],
   "source": [
    "sc = SparkContext.getOrCreate()\n",
    "glueContext = GlueContext(sc)\n",
    "spark = glueContext.spark_session"
   ]
  },
  {
   "cell_type": "markdown",
   "metadata": {},
   "source": [
    "### Loading the table created by the Glue Crawler after scanning S3 "
   ]
  },
  {
   "cell_type": "code",
   "execution_count": 3,
   "metadata": {},
   "outputs": [
    {
     "data": {
      "application/vnd.jupyter.widget-view+json": {
       "model_id": "",
       "version_major": 2,
       "version_minor": 0
      },
      "text/plain": [
       "FloatProgress(value=0.0, bar_style='info', description='Progress:', layout=Layout(height='25px', width='50%'),…"
      ]
     },
     "metadata": {},
     "output_type": "display_data"
    }
   ],
   "source": [
    "ds0 = glueContext.create_dynamic_frame.from_catalog(database = \"covid19\", \n",
    "                                                    table_name = \"pochetti_covid_19_input\", \n",
    "                                                    transformation_ctx = \"ds0\")\n",
    "ds0 = ds0.select_fields(['Province-State', 'Country-Region', 'Lat', 'Long', 'Date', 'Confirmed', 'Deaths', 'Recovered', 'id'])"
   ]
  },
  {
   "cell_type": "code",
   "execution_count": 4,
   "metadata": {},
   "outputs": [
    {
     "data": {
      "application/vnd.jupyter.widget-view+json": {
       "model_id": "",
       "version_major": 2,
       "version_minor": 0
      },
      "text/plain": [
       "FloatProgress(value=0.0, bar_style='info', description='Progress:', layout=Layout(height='25px', width='50%'),…"
      ]
     },
     "metadata": {},
     "output_type": "display_data"
    },
    {
     "name": "stdout",
     "output_type": "stream",
     "text": [
      "root\n",
      "|-- Province-State: string\n",
      "|-- Country-Region: string\n",
      "|-- Lat: double\n",
      "|-- Long: double\n",
      "|-- Date: string\n",
      "|-- Confirmed: choice\n",
      "|    |-- int\n",
      "|    |-- string\n",
      "|-- Deaths: choice\n",
      "|    |-- int\n",
      "|    |-- string\n",
      "|-- Recovered: choice\n",
      "|    |-- int\n",
      "|    |-- string\n",
      "|-- id: int"
     ]
    }
   ],
   "source": [
    "ds0.printSchema()"
   ]
  },
  {
   "cell_type": "code",
   "execution_count": 5,
   "metadata": {},
   "outputs": [
    {
     "data": {
      "application/vnd.jupyter.widget-view+json": {
       "model_id": "",
       "version_major": 2,
       "version_minor": 0
      },
      "text/plain": [
       "FloatProgress(value=0.0, bar_style='info', description='Progress:', layout=Layout(height='25px', width='50%'),…"
      ]
     },
     "metadata": {},
     "output_type": "display_data"
    },
    {
     "name": "stdout",
     "output_type": "stream",
     "text": [
      "<class 'pyspark.sql.dataframe.DataFrame'>"
     ]
    }
   ],
   "source": [
    "df = ds0.toDF()\n",
    "type(df)"
   ]
  },
  {
   "cell_type": "code",
   "execution_count": 6,
   "metadata": {},
   "outputs": [
    {
     "data": {
      "application/vnd.jupyter.widget-view+json": {
       "model_id": "",
       "version_major": 2,
       "version_minor": 0
      },
      "text/plain": [
       "FloatProgress(value=0.0, bar_style='info', description='Progress:', layout=Layout(height='25px', width='50%'),…"
      ]
     },
     "metadata": {},
     "output_type": "display_data"
    },
    {
     "name": "stdout",
     "output_type": "stream",
     "text": [
      "(34410, 9)"
     ]
    }
   ],
   "source": [
    "df.count(), len(df.columns)"
   ]
  },
  {
   "cell_type": "markdown",
   "metadata": {},
   "source": [
    "### Example of 3 rows: multiple columns need to be fixed!"
   ]
  },
  {
   "cell_type": "code",
   "execution_count": 7,
   "metadata": {},
   "outputs": [
    {
     "data": {
      "application/vnd.jupyter.widget-view+json": {
       "model_id": "",
       "version_major": 2,
       "version_minor": 0
      },
      "text/plain": [
       "FloatProgress(value=0.0, bar_style='info', description='Progress:', layout=Layout(height='25px', width='50%'),…"
      ]
     },
     "metadata": {},
     "output_type": "display_data"
    },
    {
     "name": "stdout",
     "output_type": "stream",
     "text": [
      "+--------------+--------------+-------+--------+---------------+---------+------+---------+---+\n",
      "|Province-State|Country-Region|    Lat|    Long|           Date|Confirmed|Deaths|Recovered| id|\n",
      "+--------------+--------------+-------+--------+---------------+---------+------+---------+---+\n",
      "|         Anhui|Mainland China|31.8257|117.2264|     2020-01-22|     [1,]|  [0,]|     [0,]|  0|\n",
      "|        Shanxi|Mainland China|37.5777|112.2922|    2020-Jan-22|     [1,]| [, o]|     [0,]| 24|\n",
      "|       missing|     Singapore| 1.2833|103.8333|2020/January/22|     [0,]|  [0,]| [, zero]| 40|\n",
      "+--------------+--------------+-------+--------+---------------+---------+------+---------+---+\n",
      "only showing top 3 rows"
     ]
    }
   ],
   "source": [
    "df.show(3)"
   ]
  },
  {
   "cell_type": "code",
   "execution_count": 8,
   "metadata": {},
   "outputs": [
    {
     "data": {
      "application/vnd.jupyter.widget-view+json": {
       "model_id": "",
       "version_major": 2,
       "version_minor": 0
      },
      "text/plain": [
       "FloatProgress(value=0.0, bar_style='info', description='Progress:', layout=Layout(height='25px', width='50%'),…"
      ]
     },
     "metadata": {},
     "output_type": "display_data"
    }
   ],
   "source": [
    "def flatten_df(nested_df):\n",
    "    flat_cols = [c[0] for c in nested_df.dtypes if c[1][:6] != 'struct']\n",
    "    nested_cols = [c[0] for c in nested_df.dtypes if c[1][:6] == 'struct']\n",
    "\n",
    "    flat_df = nested_df.select(flat_cols +\n",
    "                               [col(nc+'.'+c).alias(nc+'_'+c)\n",
    "                                for nc in nested_cols\n",
    "                                for c in nested_df.select(nc+'.*').columns])\n",
    "    return flat_df"
   ]
  },
  {
   "cell_type": "code",
   "execution_count": 9,
   "metadata": {},
   "outputs": [
    {
     "data": {
      "application/vnd.jupyter.widget-view+json": {
       "model_id": "",
       "version_major": 2,
       "version_minor": 0
      },
      "text/plain": [
       "FloatProgress(value=0.0, bar_style='info', description='Progress:', layout=Layout(height='25px', width='50%'),…"
      ]
     },
     "metadata": {},
     "output_type": "display_data"
    }
   ],
   "source": [
    "df = flatten_df(df)"
   ]
  },
  {
   "cell_type": "markdown",
   "metadata": {},
   "source": [
    "### Cleaning up the dataset"
   ]
  },
  {
   "cell_type": "code",
   "execution_count": 10,
   "metadata": {},
   "outputs": [
    {
     "data": {
      "application/vnd.jupyter.widget-view+json": {
       "model_id": "",
       "version_major": 2,
       "version_minor": 0
      },
      "text/plain": [
       "FloatProgress(value=0.0, bar_style='info', description='Progress:', layout=Layout(height='25px', width='50%'),…"
      ]
     },
     "metadata": {},
     "output_type": "display_data"
    }
   ],
   "source": [
    "df = df.select(\n",
    "    when(df['Province-State'].isin({'NULL', '', 'missing', '--'}), None)\n",
    "    .otherwise(df['Province-State']).alias('Province-State'), \n",
    "    \n",
    "    'Country-Region',\n",
    "    'Lat',\n",
    "    'Long',\n",
    "    \n",
    "    when(df['Recovered_int'].isNull(), 0).otherwise(df['Recovered_int']).alias('Recovered'),\n",
    "    when(df['Confirmed_int'].isNull(), 0).otherwise(df['Confirmed_int']).alias('Confirmed'),\n",
    "    when(df['Deaths_int'].isNull(), 0).otherwise(df['Deaths_int']).alias('Deaths'),\n",
    "    \n",
    "    when(to_date(col(\"Date\"),\"yyyy-MM-dd\").isNotNull(), \n",
    "         to_date(col(\"Date\"),\"yyyy-MM-dd\"))\n",
    "    .when(to_date(col(\"Date\"),\"yyyy/MM/dd\").isNotNull(),\n",
    "          to_date(col(\"Date\"),\"yyyy/MM/dd\"))\n",
    "    .when(to_date(col(\"Date\"),\"yyyy-MMM-dd\").isNotNull(),\n",
    "          to_date(col(\"Date\"),\"yyyy-MMM-dd\"))    \n",
    "    .when(to_date(col(\"Date\"),\"yyyy/MMMM/dd\").isNotNull(),\n",
    "          to_date(col(\"Date\"),\"yyyy/MMMM/dd\"))    \n",
    "    .when(to_date(col(\"Date\"),\"yyyy, MMMM, dd\").isNotNull(),\n",
    "          to_date(col(\"Date\"),\"yyyy, MMMM, dd\"))\n",
    "    .otherwise(\"Unknown Format\").alias(\"Date\"),\n",
    "    \n",
    "    'id').dropDuplicates()"
   ]
  },
  {
   "cell_type": "markdown",
   "metadata": {},
   "source": [
    "### This looks much better!"
   ]
  },
  {
   "cell_type": "code",
   "execution_count": 11,
   "metadata": {},
   "outputs": [
    {
     "data": {
      "application/vnd.jupyter.widget-view+json": {
       "model_id": "",
       "version_major": 2,
       "version_minor": 0
      },
      "text/plain": [
       "FloatProgress(value=0.0, bar_style='info', description='Progress:', layout=Layout(height='25px', width='50%'),…"
      ]
     },
     "metadata": {},
     "output_type": "display_data"
    },
    {
     "name": "stdout",
     "output_type": "stream",
     "text": [
      "+--------------------+--------------+--------+---------+---------+---------+------+----------+----+\n",
      "|      Province-State|Country-Region|     Lat|     Long|Recovered|Confirmed|Deaths|      Date|  id|\n",
      "+--------------------+--------------+--------+---------+---------+---------+------+----------+----+\n",
      "|          Orange, CA|            US| 33.7879|-117.8531|        0|        1|     0|2020-02-06|1922|\n",
      "|            Xinjiang|Mainland China| 41.1129|  85.2401|        0|        2|     0|2020-01-23| 153|\n",
      "|              Taiwan|        Taiwan|    23.7|    121.0|        1|       16|     0|2020-02-07|2034|\n",
      "|              Taiwan|        Taiwan|    23.7|    121.0|        0|        1|     0|2020-01-22|  34|\n",
      "|Snohomish County, WA|            US|  48.033|-121.8339|        0|        0|     0|2020-02-15|3118|\n",
      "|                null|       Belgium| 50.8333|      4.0|        1|        1|     0|2020-02-21|3819|\n",
      "|                null|        Brazil| -14.235| -51.9253|        0|        0|     0|2020-01-25| 470|\n",
      "|           Tempe, AZ|            US| 33.4255|  -111.94|        1|        1|     0|2020-02-26|4412|\n",
      "|                null|       Austria| 47.5162|  14.5501|        0|        2|     0|2020-02-26|4467|\n",
      "|                null|     Singapore|  1.2833| 103.8333|        0|        4|     0|2020-01-26| 540|\n",
      "|                null|    Azerbaijan| 40.1431|  47.5769|        0|        0|     0|2020-01-31|1245|\n",
      "|                null|       Belarus| 53.7098|  27.9534|        0|        0|     0|2020-02-01|1355|\n",
      "|                null|     Singapore|  1.2833| 103.8333|        2|       33|     0|2020-02-08|2165|\n",
      "|             Qinghai|Mainland China| 35.7452|  95.9956|       13|       18|     0|2020-02-16|3145|\n",
      "|              Shanxi|Mainland China| 37.5777| 112.2922|        0|        6|     0|2020-01-25| 399|\n",
      "|              Yunnan|Mainland China|  24.974|  101.487|      124|      174|     2|2020-02-24|4154|\n",
      "|          Queensland|     Australia|-28.0167|    153.4|        1|        5|     0|2020-02-25|4301|\n",
      "|             Guangxi|Mainland China| 23.8298| 108.7881|      134|      252|     2|2020-02-25|4256|\n",
      "|               Anhui|Mainland China| 31.8257| 117.2264|      792|      989|     6|2020-02-27|4500|\n",
      "|             Tianjin|Mainland China| 39.3054|  117.323|        2|       79|     1|2020-02-06|1901|\n",
      "+--------------------+--------------+--------+---------+---------+---------+------+----------+----+\n",
      "only showing top 20 rows"
     ]
    }
   ],
   "source": [
    "df.show()"
   ]
  }
 ],
 "metadata": {
  "kernelspec": {
   "display_name": "Sparkmagic (PySpark)",
   "language": "",
   "name": "pysparkkernel"
  },
  "language_info": {
   "codemirror_mode": {
    "name": "python",
    "version": 3
   },
   "mimetype": "text/x-python",
   "name": "pyspark",
   "pygments_lexer": "python3"
  }
 },
 "nbformat": 4,
 "nbformat_minor": 4
}
