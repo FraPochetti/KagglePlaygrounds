{
 "cells": [
  {
   "cell_type": "markdown",
   "metadata": {},
   "source": [
    "### Imports"
   ]
  },
  {
   "cell_type": "code",
   "execution_count": 79,
   "metadata": {},
   "outputs": [
    {
     "data": {
      "text/plain": [
       "device(type='cuda', index=0)"
      ]
     },
     "execution_count": 79,
     "metadata": {},
     "output_type": "execute_result"
    }
   ],
   "source": [
    "%matplotlib inline\n",
    "import pathlib\n",
    "import matplotlib.pyplot as plt\n",
    "from pylab import rcParams\n",
    "rcParams['figure.figsize'] = 8, 6\n",
    "import pandas as pd\n",
    "import numpy as np\n",
    "import seaborn as sns\n",
    "pd.set_option('display.max_columns', 500)\n",
    "from collections import defaultdict\n",
    "\n",
    "from IPython.core.interactiveshell import InteractiveShell\n",
    "InteractiveShell.ast_node_interactivity='all'\n",
    "\n",
    "from sklearn.model_selection import train_test_split\n",
    "from sklearn import preprocessing\n",
    "from sklearn.metrics import mean_squared_error\n",
    "\n",
    "pd.options.mode.chained_assignment = None\n",
    "\n",
    "from torch.nn import init\n",
    "import torch\n",
    "import torch.nn as nn\n",
    "import torch.optim as optim\n",
    "from torch.autograd import Variable\n",
    "import torch.nn.functional as F\n",
    "from torch.utils import data\n",
    "from torch.optim import lr_scheduler\n",
    "\n",
    "device = torch.device(\"cuda:0\" if torch.cuda.is_available() else \"cpu\")\n",
    "device\n",
    "\n",
    "from tqdm import tqdm, tqdm_notebook, tnrange\n",
    "tqdm.pandas(desc='Progress')"
   ]
  },
  {
   "cell_type": "markdown",
   "metadata": {},
   "source": [
    "### Helper Functions"
   ]
  },
  {
   "cell_type": "code",
   "execution_count": 64,
   "metadata": {},
   "outputs": [],
   "source": [
    "def haversine_distance(df, start_lat, end_lat, start_lng, end_lng, prefix):\n",
    "    \"\"\"\n",
    "    calculates haversine distance between 2 sets of GPS coordinates in df\n",
    "    \"\"\"\n",
    "    R = 6371  #radius of earth in kilometers\n",
    "       \n",
    "    phi1 = np.radians(df[start_lat])\n",
    "    phi2 = np.radians(df[end_lat])\n",
    "    \n",
    "    delta_phi = np.radians(df[end_lat]-df[start_lat])\n",
    "    delta_lambda = np.radians(df[end_lng]-df[start_lng])\n",
    "    \n",
    "        \n",
    "    a = np.sin(delta_phi / 2.0) ** 2 + np.cos(phi1) * np.cos(phi2) * np.sin(delta_lambda / 2.0) ** 2\n",
    "    c = 2 * np.arctan2(np.sqrt(a), np.sqrt(1-a))\n",
    "    d = (R * c) #in kilometers\n",
    "    df[prefix+'distance_km'] = d\n",
    "\n",
    "def add_datepart(df, col, prefix):\n",
    "    attr = ['Year', 'Month', 'Week', 'Day', 'Dayofweek', 'Dayofyear',\n",
    "            'Is_month_end', 'Is_month_start', 'Is_quarter_end', 'Is_quarter_start', 'Is_year_end', 'Is_year_start']\n",
    "    attr = attr + ['Hour', 'Minute', 'Second']\n",
    "    for n in attr: df[prefix + n] = getattr(df[col].dt, n.lower())\n",
    "    df[prefix + 'Elapsed'] = df[col].astype(np.int64) // 10 ** 9\n",
    "    df.drop(col, axis=1, inplace=True)\n",
    "    \n",
    "def reject_outliers(data, m = 2.):\n",
    "    d = np.abs(data - np.median(data))\n",
    "    mdev = np.median(d)\n",
    "    s = d/(mdev if mdev else 1.)\n",
    "    return s<m\n",
    "\n",
    "def parse_gps(df, prefix):\n",
    "    lat = prefix + '_latitude'\n",
    "    lon = prefix + '_longitude'\n",
    "    df[prefix + '_x'] = np.cos(df[lat]) * np.cos(df[lon])\n",
    "    df[prefix + '_y'] = np.cos(df[lat]) * np.sin(df[lon]) \n",
    "    df[prefix + '_z'] = np.sin(df[lat])\n",
    "    df.drop([lat, lon], axis=1, inplace=True)\n",
    "    \n",
    "def prepare_dataset(df):\n",
    "    df['pickup_datetime'] = pd.to_datetime(df.pickup_datetime, infer_datetime_format=True)\n",
    "    add_datepart(df, 'pickup_datetime', 'pickup')\n",
    "    haversine_distance(df, 'pickup_latitude', 'dropoff_latitude', 'pickup_longitude', 'dropoff_longitude', '')\n",
    "    parse_gps(df, 'pickup')\n",
    "    parse_gps(df, 'dropoff')\n",
    "    df.dropna(inplace=True)\n",
    "    y = np.log(df.fare_amount)\n",
    "    df.drop(['key', 'fare_amount'], axis=1, inplace=True)\n",
    "    \n",
    "    return df, y\n",
    "\n",
    "def split_features(df):\n",
    "    catf = ['pickupYear', 'pickupMonth', 'pickupWeek', 'pickupDay', 'pickupDayofweek', \n",
    "            'pickupDayofyear', 'pickupHour', 'pickupMinute', 'pickupSecond', 'pickupIs_month_end',\n",
    "            'pickupIs_month_start', 'pickupIs_quarter_end', 'pickupIs_quarter_start',\n",
    "            'pickupIs_year_end', 'pickupIs_year_start']\n",
    "\n",
    "    numf = [col for col in df.columns if col not in catf]\n",
    "    for c in catf: \n",
    "        df[c] = df[c].astype('category').cat.as_ordered()\n",
    "        df[c] = df[c].cat.codes+1\n",
    "    \n",
    "    return catf, numf\n",
    "\n",
    "def numericalize(df):\n",
    "    df[name] = col.cat.codes+1\n",
    "\n",
    "def split_dataset(df, y): return train_test_split(df, y, test_size=0.25, random_state=42)\n",
    "\n",
    "def inv_y(y): return np.exp(y)\n",
    "\n",
    "def get_numf_scaler(train): return preprocessing.StandardScaler().fit(train)\n",
    "\n",
    "def scale_numf(df, num, scaler):\n",
    "    cols = numf\n",
    "    index = df.index\n",
    "    scaled = scaler.transform(df[numf])\n",
    "    scaled = pd.DataFrame(scaled, columns=cols, index=index)\n",
    "    return pd.concat([scaled, df.drop(numf, axis=1)], axis=1)\n",
    "\n",
    "class RegressionColumnarDataset(data.Dataset):\n",
    "    def __init__(self, df, cats, y):\n",
    "        self.dfcats = df[cats]\n",
    "        self.dfconts = df.drop(cats, axis=1)\n",
    "        \n",
    "        self.cats = np.stack([c.values for n, c in self.dfcats.items()], axis=1).astype(np.int64)\n",
    "        self.conts = np.stack([c.values for n, c in self.dfconts.items()], axis=1).astype(np.float32)\n",
    "        self.y = y.values.astype(np.float32)\n",
    "        \n",
    "    def __len__(self): return len(self.y)\n",
    "\n",
    "    def __getitem__(self, idx):\n",
    "        return [self.cats[idx], self.conts[idx], self.y[idx]]\n",
    "    \n",
    "def rmse(targ, y_pred):\n",
    "    return np.sqrt(mean_squared_error(inv_y(y_pred), inv_y(targ))) #.detach().numpy()\n",
    "\n",
    "def emb_init(x):\n",
    "    x = x.weight.data\n",
    "    sc = 2/(x.size(1)+1)\n",
    "    x.uniform_(-sc,sc)\n",
    "\n",
    "class MixedInputModel(nn.Module):\n",
    "    def __init__(self, emb_szs, n_cont, emb_drop, out_sz, szs, drops, y_range, use_bn=True):\n",
    "        super().__init__()\n",
    "        for i,(c,s) in enumerate(emb_szs): assert c > 1, f\"cardinality must be >=2, got emb_szs[{i}]: ({c},{s})\"\n",
    "        self.embs = nn.ModuleList([nn.Embedding(c, s) for c,s in emb_szs])\n",
    "        for emb in self.embs: emb_init(emb)\n",
    "        n_emb = sum(e.embedding_dim for e in self.embs)\n",
    "        self.n_emb, self.n_cont=n_emb, n_cont\n",
    "        \n",
    "        szs = [n_emb+n_cont] + szs\n",
    "        self.lins = nn.ModuleList([nn.Linear(szs[i], szs[i+1]) for i in range(len(szs)-1)])\n",
    "        self.bns = nn.ModuleList([nn.BatchNorm1d(sz) for sz in szs[1:]])\n",
    "        for o in self.lins: nn.init.kaiming_normal_(o.weight.data)\n",
    "        self.outp = nn.Linear(szs[-1], out_sz)\n",
    "        nn.init.kaiming_normal_(self.outp.weight.data)\n",
    "\n",
    "        self.emb_drop = nn.Dropout(emb_drop)\n",
    "        self.drops = nn.ModuleList([nn.Dropout(drop) for drop in drops])\n",
    "        self.bn = nn.BatchNorm1d(n_cont)\n",
    "        self.use_bn,self.y_range = use_bn,y_range\n",
    "\n",
    "    def forward(self, x_cat, x_cont):\n",
    "        if self.n_emb != 0:\n",
    "            x = [e(x_cat[:,i]) for i,e in enumerate(self.embs)]\n",
    "            x = torch.cat(x, 1)\n",
    "            x = self.emb_drop(x)\n",
    "        if self.n_cont != 0:\n",
    "            x2 = self.bn(x_cont)\n",
    "            x = torch.cat([x, x2], 1) if self.n_emb != 0 else x2\n",
    "        for l,d,b in zip(self.lins, self.drops, self.bns):\n",
    "            x = F.relu(l(x))\n",
    "            if self.use_bn: x = b(x)\n",
    "            x = d(x)\n",
    "        x = self.outp(x)\n",
    "        if self.y_range:\n",
    "            x = torch.sigmoid(x)\n",
    "            x = x*(self.y_range[1] - self.y_range[0])\n",
    "            x = x+self.y_range[0]\n",
    "        return x.squeeze()\n",
    "\n",
    "def fit(model, train_dl, val_dl, loss_fn, opt, scheduler, epochs=3):\n",
    "    num_batch = len(train_dl)\n",
    "    for epoch in tnrange(epochs):      \n",
    "        y_true_train = list()\n",
    "        y_pred_train = list()\n",
    "        total_loss_train = 0          \n",
    "        \n",
    "        t = tqdm_notebook(iter(train_dl), leave=False, total=num_batch)\n",
    "        for cat, cont, y in t:\n",
    "            cat = cat.cuda()\n",
    "            cont = cont.cuda()\n",
    "            y = y.cuda()\n",
    "            \n",
    "            t.set_description(f'Epoch {epoch}')\n",
    "            \n",
    "            opt.zero_grad()\n",
    "            pred = model(cat, cont)\n",
    "            loss = loss_fn(pred, y)\n",
    "            loss.backward()\n",
    "            lr[epoch].append(opt.param_groups[0]['lr'])\n",
    "            tloss[epoch].append(loss.item())\n",
    "            scheduler.step()\n",
    "            opt.step()\n",
    "            \n",
    "            t.set_postfix(loss=loss.item())\n",
    "            \n",
    "            y_true_train += list(y.cpu().data.numpy())\n",
    "            y_pred_train += list(pred.cpu().data.numpy())\n",
    "            total_loss_train += loss.item()\n",
    "            \n",
    "        train_acc = rmse(y_true_train, y_pred_train)\n",
    "        train_loss = total_loss_train/len(train_dl)\n",
    "        \n",
    "        if val_dl:\n",
    "            y_true_val = list()\n",
    "            y_pred_val = list()\n",
    "            total_loss_val = 0\n",
    "            for cat, cont, y in tqdm_notebook(val_dl, leave=False):\n",
    "                cat = cat.cuda()\n",
    "                cont = cont.cuda()\n",
    "                y = y.cuda()\n",
    "                pred = model(cat, cont)\n",
    "                loss = loss_fn(pred, y)\n",
    "                \n",
    "                y_true_val += list(y.cpu().data.numpy())\n",
    "                y_pred_val += list(pred.cpu().data.numpy())\n",
    "                total_loss_val += loss.item()\n",
    "                vloss[epoch].append(loss.item())\n",
    "            valacc = rmse(y_true_val, y_pred_val)\n",
    "            valloss = total_loss_val/len(valdl)\n",
    "            print(f'Epoch {epoch}: train_loss: {train_loss:.4f} train_rmse: {train_acc:.4f} | val_loss: {valloss:.4f} val_rmse: {valacc:.4f}')\n",
    "        else:\n",
    "            print(f'Epoch {epoch}: train_loss: {train_loss:.4f} train_rmse: {train_acc:.4f}')\n",
    "    \n",
    "    return lr, tloss, vloss"
   ]
  },
  {
   "cell_type": "markdown",
   "metadata": {},
   "source": [
    "# Preparing the data"
   ]
  },
  {
   "cell_type": "markdown",
   "metadata": {},
   "source": [
    "Tha data is a half-million random sample from the 55M original training set from the [New York City Taxi Fare Prediction](https://www.kaggle.com/c/new-york-city-taxi-fare-prediction/data) Kaggle's challenge"
   ]
  },
  {
   "cell_type": "code",
   "execution_count": 37,
   "metadata": {},
   "outputs": [],
   "source": [
    "PATH='data/taxi/'"
   ]
  },
  {
   "cell_type": "code",
   "execution_count": 48,
   "metadata": {
    "scrolled": false
   },
   "outputs": [
    {
     "data": {
      "text/plain": [
       "(500000, 8)"
      ]
     },
     "execution_count": 48,
     "metadata": {},
     "output_type": "execute_result"
    },
    {
     "data": {
      "text/html": [
       "<div>\n",
       "<style scoped>\n",
       "    .dataframe tbody tr th:only-of-type {\n",
       "        vertical-align: middle;\n",
       "    }\n",
       "\n",
       "    .dataframe tbody tr th {\n",
       "        vertical-align: top;\n",
       "    }\n",
       "\n",
       "    .dataframe thead th {\n",
       "        text-align: right;\n",
       "    }\n",
       "</style>\n",
       "<table border=\"1\" class=\"dataframe\">\n",
       "  <thead>\n",
       "    <tr style=\"text-align: right;\">\n",
       "      <th></th>\n",
       "      <th>key</th>\n",
       "      <th>fare_amount</th>\n",
       "      <th>pickup_datetime</th>\n",
       "      <th>pickup_longitude</th>\n",
       "      <th>pickup_latitude</th>\n",
       "      <th>dropoff_longitude</th>\n",
       "      <th>dropoff_latitude</th>\n",
       "      <th>passenger_count</th>\n",
       "    </tr>\n",
       "  </thead>\n",
       "  <tbody>\n",
       "    <tr>\n",
       "      <th>0</th>\n",
       "      <td>2011-05-03 15:26:00.000000189</td>\n",
       "      <td>5.3</td>\n",
       "      <td>2011-05-03 15:26:00 UTC</td>\n",
       "      <td>-74.000430</td>\n",
       "      <td>40.727178</td>\n",
       "      <td>-73.994538</td>\n",
       "      <td>40.740222</td>\n",
       "      <td>2</td>\n",
       "    </tr>\n",
       "    <tr>\n",
       "      <th>1</th>\n",
       "      <td>2012-10-23 19:00:36.0000003</td>\n",
       "      <td>3.5</td>\n",
       "      <td>2012-10-23 19:00:36 UTC</td>\n",
       "      <td>-73.949338</td>\n",
       "      <td>40.780735</td>\n",
       "      <td>-73.952989</td>\n",
       "      <td>40.776191</td>\n",
       "      <td>1</td>\n",
       "    </tr>\n",
       "    <tr>\n",
       "      <th>2</th>\n",
       "      <td>2009-09-02 10:36:06.0000001</td>\n",
       "      <td>20.1</td>\n",
       "      <td>2009-09-02 10:36:06 UTC</td>\n",
       "      <td>-73.862879</td>\n",
       "      <td>40.769101</td>\n",
       "      <td>-73.967193</td>\n",
       "      <td>40.758494</td>\n",
       "      <td>1</td>\n",
       "    </tr>\n",
       "    <tr>\n",
       "      <th>3</th>\n",
       "      <td>2010-08-14 11:48:00.000000111</td>\n",
       "      <td>6.1</td>\n",
       "      <td>2010-08-14 11:48:00 UTC</td>\n",
       "      <td>-73.951073</td>\n",
       "      <td>40.782540</td>\n",
       "      <td>-73.960785</td>\n",
       "      <td>40.768912</td>\n",
       "      <td>2</td>\n",
       "    </tr>\n",
       "    <tr>\n",
       "      <th>4</th>\n",
       "      <td>2014-12-15 18:35:00.000000105</td>\n",
       "      <td>18.5</td>\n",
       "      <td>2014-12-15 18:35:00 UTC</td>\n",
       "      <td>-73.940840</td>\n",
       "      <td>40.805900</td>\n",
       "      <td>-73.991980</td>\n",
       "      <td>40.769680</td>\n",
       "      <td>1</td>\n",
       "    </tr>\n",
       "  </tbody>\n",
       "</table>\n",
       "</div>"
      ],
      "text/plain": [
       "                             key  fare_amount          pickup_datetime  \\\n",
       "0  2011-05-03 15:26:00.000000189          5.3  2011-05-03 15:26:00 UTC   \n",
       "1    2012-10-23 19:00:36.0000003          3.5  2012-10-23 19:00:36 UTC   \n",
       "2    2009-09-02 10:36:06.0000001         20.1  2009-09-02 10:36:06 UTC   \n",
       "3  2010-08-14 11:48:00.000000111          6.1  2010-08-14 11:48:00 UTC   \n",
       "4  2014-12-15 18:35:00.000000105         18.5  2014-12-15 18:35:00 UTC   \n",
       "\n",
       "   pickup_longitude  pickup_latitude  dropoff_longitude  dropoff_latitude  \\\n",
       "0        -74.000430        40.727178         -73.994538         40.740222   \n",
       "1        -73.949338        40.780735         -73.952989         40.776191   \n",
       "2        -73.862879        40.769101         -73.967193         40.758494   \n",
       "3        -73.951073        40.782540         -73.960785         40.768912   \n",
       "4        -73.940840        40.805900         -73.991980         40.769680   \n",
       "\n",
       "   passenger_count  \n",
       "0                2  \n",
       "1                1  \n",
       "2                1  \n",
       "3                2  \n",
       "4                1  "
      ]
     },
     "execution_count": 48,
     "metadata": {},
     "output_type": "execute_result"
    }
   ],
   "source": [
    "names = ['key','fare_amount','pickup_datetime','pickup_longitude',\n",
    "         'pickup_latitude','dropoff_longitude','dropoff_latitude','passenger_count']\n",
    "df = pd.read_csv(f'{PATH}traindf.csv', header=None, names=names)\n",
    "\n",
    "df.shape\n",
    "df.head()"
   ]
  },
  {
   "cell_type": "code",
   "execution_count": 44,
   "metadata": {},
   "outputs": [
    {
     "data": {
      "text/plain": [
       "count    500000.000000\n",
       "mean          1.684220\n",
       "std           1.338896\n",
       "min           0.000000\n",
       "25%           1.000000\n",
       "50%           1.000000\n",
       "75%           2.000000\n",
       "max         208.000000\n",
       "Name: passenger_count, dtype: float64"
      ]
     },
     "execution_count": 44,
     "metadata": {},
     "output_type": "execute_result"
    },
    {
     "data": {
      "text/plain": [
       "0.85    3.0\n",
       "0.99    6.0\n",
       "Name: passenger_count, dtype: float64"
      ]
     },
     "execution_count": 44,
     "metadata": {},
     "output_type": "execute_result"
    }
   ],
   "source": [
    "df.passenger_count.describe()\n",
    "\n",
    "df.passenger_count.quantile([.85, .99])"
   ]
  },
  {
   "cell_type": "code",
   "execution_count": 45,
   "metadata": {},
   "outputs": [
    {
     "data": {
      "text/plain": [
       "count    500000.000000\n",
       "mean         11.488572\n",
       "std          87.580048\n",
       "min         -40.800000\n",
       "25%           6.000000\n",
       "50%           8.500000\n",
       "75%          12.500000\n",
       "max       61550.860000\n",
       "Name: fare_amount, dtype: float64"
      ]
     },
     "execution_count": 45,
     "metadata": {},
     "output_type": "execute_result"
    },
    {
     "data": {
      "text/plain": [
       "0.85    16.5\n",
       "0.99    53.0\n",
       "Name: fare_amount, dtype: float64"
      ]
     },
     "execution_count": 45,
     "metadata": {},
     "output_type": "execute_result"
    }
   ],
   "source": [
    "df.fare_amount.describe()\n",
    "\n",
    "df.fare_amount.quantile([.85, .99])"
   ]
  },
  {
   "cell_type": "code",
   "execution_count": 49,
   "metadata": {},
   "outputs": [],
   "source": [
    "df = df.loc[(df.fare_amount > 0) & (df.passenger_count < 6) & (df.fare_amount < 53),:]"
   ]
  },
  {
   "cell_type": "code",
   "execution_count": 50,
   "metadata": {},
   "outputs": [
    {
     "data": {
      "text/plain": [
       "(484683, 24)"
      ]
     },
     "execution_count": 50,
     "metadata": {},
     "output_type": "execute_result"
    },
    {
     "data": {
      "text/html": [
       "<div>\n",
       "<style scoped>\n",
       "    .dataframe tbody tr th:only-of-type {\n",
       "        vertical-align: middle;\n",
       "    }\n",
       "\n",
       "    .dataframe tbody tr th {\n",
       "        vertical-align: top;\n",
       "    }\n",
       "\n",
       "    .dataframe thead th {\n",
       "        text-align: right;\n",
       "    }\n",
       "</style>\n",
       "<table border=\"1\" class=\"dataframe\">\n",
       "  <thead>\n",
       "    <tr style=\"text-align: right;\">\n",
       "      <th></th>\n",
       "      <th>passenger_count</th>\n",
       "      <th>pickupYear</th>\n",
       "      <th>pickupMonth</th>\n",
       "      <th>pickupWeek</th>\n",
       "      <th>pickupDay</th>\n",
       "      <th>pickupDayofweek</th>\n",
       "      <th>pickupDayofyear</th>\n",
       "      <th>pickupIs_month_end</th>\n",
       "      <th>pickupIs_month_start</th>\n",
       "      <th>pickupIs_quarter_end</th>\n",
       "      <th>pickupIs_quarter_start</th>\n",
       "      <th>pickupIs_year_end</th>\n",
       "      <th>pickupIs_year_start</th>\n",
       "      <th>pickupHour</th>\n",
       "      <th>pickupMinute</th>\n",
       "      <th>pickupSecond</th>\n",
       "      <th>pickupElapsed</th>\n",
       "      <th>distance_km</th>\n",
       "      <th>pickup_x</th>\n",
       "      <th>pickup_y</th>\n",
       "      <th>pickup_z</th>\n",
       "      <th>dropoff_x</th>\n",
       "      <th>dropoff_y</th>\n",
       "      <th>dropoff_z</th>\n",
       "    </tr>\n",
       "  </thead>\n",
       "  <tbody>\n",
       "    <tr>\n",
       "      <th>0</th>\n",
       "      <td>2</td>\n",
       "      <td>2011</td>\n",
       "      <td>5</td>\n",
       "      <td>18</td>\n",
       "      <td>3</td>\n",
       "      <td>1</td>\n",
       "      <td>123</td>\n",
       "      <td>False</td>\n",
       "      <td>False</td>\n",
       "      <td>False</td>\n",
       "      <td>False</td>\n",
       "      <td>False</td>\n",
       "      <td>False</td>\n",
       "      <td>15</td>\n",
       "      <td>26</td>\n",
       "      <td>0</td>\n",
       "      <td>1304436360</td>\n",
       "      <td>1.533036</td>\n",
       "      <td>-0.171033</td>\n",
       "      <td>-0.978731</td>\n",
       "      <td>0.113283</td>\n",
       "      <td>-0.165495</td>\n",
       "      <td>-0.981096</td>\n",
       "      <td>0.100313</td>\n",
       "    </tr>\n",
       "    <tr>\n",
       "      <th>1</th>\n",
       "      <td>1</td>\n",
       "      <td>2012</td>\n",
       "      <td>10</td>\n",
       "      <td>43</td>\n",
       "      <td>23</td>\n",
       "      <td>1</td>\n",
       "      <td>297</td>\n",
       "      <td>False</td>\n",
       "      <td>False</td>\n",
       "      <td>False</td>\n",
       "      <td>False</td>\n",
       "      <td>False</td>\n",
       "      <td>False</td>\n",
       "      <td>19</td>\n",
       "      <td>0</td>\n",
       "      <td>36</td>\n",
       "      <td>1351018836</td>\n",
       "      <td>0.591442</td>\n",
       "      <td>-0.121390</td>\n",
       "      <td>-0.990794</td>\n",
       "      <td>0.059934</td>\n",
       "      <td>-0.124971</td>\n",
       "      <td>-0.990064</td>\n",
       "      <td>0.064469</td>\n",
       "    </tr>\n",
       "    <tr>\n",
       "      <th>2</th>\n",
       "      <td>1</td>\n",
       "      <td>2009</td>\n",
       "      <td>9</td>\n",
       "      <td>36</td>\n",
       "      <td>2</td>\n",
       "      <td>2</td>\n",
       "      <td>245</td>\n",
       "      <td>False</td>\n",
       "      <td>False</td>\n",
       "      <td>False</td>\n",
       "      <td>False</td>\n",
       "      <td>False</td>\n",
       "      <td>False</td>\n",
       "      <td>10</td>\n",
       "      <td>36</td>\n",
       "      <td>6</td>\n",
       "      <td>1251887766</td>\n",
       "      <td>8.864132</td>\n",
       "      <td>-0.035353</td>\n",
       "      <td>-0.996811</td>\n",
       "      <td>0.071542</td>\n",
       "      <td>-0.138841</td>\n",
       "      <td>-0.986904</td>\n",
       "      <td>0.082118</td>\n",
       "    </tr>\n",
       "    <tr>\n",
       "      <th>3</th>\n",
       "      <td>2</td>\n",
       "      <td>2010</td>\n",
       "      <td>8</td>\n",
       "      <td>32</td>\n",
       "      <td>14</td>\n",
       "      <td>5</td>\n",
       "      <td>226</td>\n",
       "      <td>False</td>\n",
       "      <td>False</td>\n",
       "      <td>False</td>\n",
       "      <td>False</td>\n",
       "      <td>False</td>\n",
       "      <td>False</td>\n",
       "      <td>11</td>\n",
       "      <td>48</td>\n",
       "      <td>0</td>\n",
       "      <td>1281786480</td>\n",
       "      <td>1.721953</td>\n",
       "      <td>-0.123122</td>\n",
       "      <td>-0.990687</td>\n",
       "      <td>0.058132</td>\n",
       "      <td>-0.132620</td>\n",
       "      <td>-0.988568</td>\n",
       "      <td>0.071731</td>\n",
       "    </tr>\n",
       "    <tr>\n",
       "      <th>4</th>\n",
       "      <td>1</td>\n",
       "      <td>2014</td>\n",
       "      <td>12</td>\n",
       "      <td>51</td>\n",
       "      <td>15</td>\n",
       "      <td>0</td>\n",
       "      <td>349</td>\n",
       "      <td>False</td>\n",
       "      <td>False</td>\n",
       "      <td>False</td>\n",
       "      <td>False</td>\n",
       "      <td>False</td>\n",
       "      <td>False</td>\n",
       "      <td>18</td>\n",
       "      <td>35</td>\n",
       "      <td>0</td>\n",
       "      <td>1418668500</td>\n",
       "      <td>5.895549</td>\n",
       "      <td>-0.113101</td>\n",
       "      <td>-0.992974</td>\n",
       "      <td>0.034797</td>\n",
       "      <td>-0.163398</td>\n",
       "      <td>-0.984005</td>\n",
       "      <td>0.070965</td>\n",
       "    </tr>\n",
       "  </tbody>\n",
       "</table>\n",
       "</div>"
      ],
      "text/plain": [
       "   passenger_count  pickupYear  pickupMonth  pickupWeek  pickupDay  \\\n",
       "0                2        2011            5          18          3   \n",
       "1                1        2012           10          43         23   \n",
       "2                1        2009            9          36          2   \n",
       "3                2        2010            8          32         14   \n",
       "4                1        2014           12          51         15   \n",
       "\n",
       "   pickupDayofweek  pickupDayofyear  pickupIs_month_end  pickupIs_month_start  \\\n",
       "0                1              123               False                 False   \n",
       "1                1              297               False                 False   \n",
       "2                2              245               False                 False   \n",
       "3                5              226               False                 False   \n",
       "4                0              349               False                 False   \n",
       "\n",
       "   pickupIs_quarter_end  pickupIs_quarter_start  pickupIs_year_end  \\\n",
       "0                 False                   False              False   \n",
       "1                 False                   False              False   \n",
       "2                 False                   False              False   \n",
       "3                 False                   False              False   \n",
       "4                 False                   False              False   \n",
       "\n",
       "   pickupIs_year_start  pickupHour  pickupMinute  pickupSecond  pickupElapsed  \\\n",
       "0                False          15            26             0     1304436360   \n",
       "1                False          19             0            36     1351018836   \n",
       "2                False          10            36             6     1251887766   \n",
       "3                False          11            48             0     1281786480   \n",
       "4                False          18            35             0     1418668500   \n",
       "\n",
       "   distance_km  pickup_x  pickup_y  pickup_z  dropoff_x  dropoff_y  dropoff_z  \n",
       "0     1.533036 -0.171033 -0.978731  0.113283  -0.165495  -0.981096   0.100313  \n",
       "1     0.591442 -0.121390 -0.990794  0.059934  -0.124971  -0.990064   0.064469  \n",
       "2     8.864132 -0.035353 -0.996811  0.071542  -0.138841  -0.986904   0.082118  \n",
       "3     1.721953 -0.123122 -0.990687  0.058132  -0.132620  -0.988568   0.071731  \n",
       "4     5.895549 -0.113101 -0.992974  0.034797  -0.163398  -0.984005   0.070965  "
      ]
     },
     "execution_count": 50,
     "metadata": {},
     "output_type": "execute_result"
    }
   ],
   "source": [
    "df, y = prepare_dataset(df)\n",
    "\n",
    "df.shape\n",
    "df.head()"
   ]
  },
  {
   "cell_type": "code",
   "execution_count": 51,
   "metadata": {},
   "outputs": [
    {
     "data": {
      "image/png": "[encoded data removed]",
      "text/plain": [
       "<Figure size 576x432 with 1 Axes>"
      ]
     },
     "metadata": {},
     "output_type": "display_data"
    }
   ],
   "source": [
    "ax = y.hist(bins=20, figsize=(8,6))\n",
    "_ = ax.set_xlabel(\"Ride Value (EUR)\")\n",
    "_ = ax.set_ylabel(\"# Rides\")\n",
    "_ = ax.set_title('Ditribution of Ride Values (USD)')"
   ]
  },
  {
   "cell_type": "code",
   "execution_count": 56,
   "metadata": {},
   "outputs": [
    {
     "data": {
      "text/plain": [
       "15"
      ]
     },
     "execution_count": 56,
     "metadata": {},
     "output_type": "execute_result"
    },
    {
     "data": {
      "text/plain": [
       "['pickupYear',\n",
       " 'pickupMonth',\n",
       " 'pickupWeek',\n",
       " 'pickupDay',\n",
       " 'pickupDayofweek',\n",
       " 'pickupDayofyear',\n",
       " 'pickupHour',\n",
       " 'pickupMinute',\n",
       " 'pickupSecond',\n",
       " 'pickupIs_month_end',\n",
       " 'pickupIs_month_start',\n",
       " 'pickupIs_quarter_end',\n",
       " 'pickupIs_quarter_start',\n",
       " 'pickupIs_year_end',\n",
       " 'pickupIs_year_start']"
      ]
     },
     "execution_count": 56,
     "metadata": {},
     "output_type": "execute_result"
    },
    {
     "data": {
      "text/plain": [
       "9"
      ]
     },
     "execution_count": 56,
     "metadata": {},
     "output_type": "execute_result"
    },
    {
     "data": {
      "text/plain": [
       "['passenger_count',\n",
       " 'pickupElapsed',\n",
       " 'distance_km',\n",
       " 'pickup_x',\n",
       " 'pickup_y',\n",
       " 'pickup_z',\n",
       " 'dropoff_x',\n",
       " 'dropoff_y',\n",
       " 'dropoff_z']"
      ]
     },
     "execution_count": 56,
     "metadata": {},
     "output_type": "execute_result"
    }
   ],
   "source": [
    "catf, numf = split_features(df)\n",
    "\n",
    "len(catf)\n",
    "catf\n",
    "\n",
    "len(numf)\n",
    "numf"
   ]
  },
  {
   "cell_type": "code",
   "execution_count": 57,
   "metadata": {},
   "outputs": [
    {
     "data": {
      "text/html": [
       "<div>\n",
       "<style scoped>\n",
       "    .dataframe tbody tr th:only-of-type {\n",
       "        vertical-align: middle;\n",
       "    }\n",
       "\n",
       "    .dataframe tbody tr th {\n",
       "        vertical-align: top;\n",
       "    }\n",
       "\n",
       "    .dataframe thead th {\n",
       "        text-align: right;\n",
       "    }\n",
       "</style>\n",
       "<table border=\"1\" class=\"dataframe\">\n",
       "  <thead>\n",
       "    <tr style=\"text-align: right;\">\n",
       "      <th></th>\n",
       "      <th>passenger_count</th>\n",
       "      <th>pickupYear</th>\n",
       "      <th>pickupMonth</th>\n",
       "      <th>pickupWeek</th>\n",
       "      <th>pickupDay</th>\n",
       "      <th>pickupDayofweek</th>\n",
       "      <th>pickupDayofyear</th>\n",
       "      <th>pickupIs_month_end</th>\n",
       "      <th>pickupIs_month_start</th>\n",
       "      <th>pickupIs_quarter_end</th>\n",
       "      <th>pickupIs_quarter_start</th>\n",
       "      <th>pickupIs_year_end</th>\n",
       "      <th>pickupIs_year_start</th>\n",
       "      <th>pickupHour</th>\n",
       "      <th>pickupMinute</th>\n",
       "      <th>pickupSecond</th>\n",
       "      <th>pickupElapsed</th>\n",
       "      <th>distance_km</th>\n",
       "      <th>pickup_x</th>\n",
       "      <th>pickup_y</th>\n",
       "      <th>pickup_z</th>\n",
       "      <th>dropoff_x</th>\n",
       "      <th>dropoff_y</th>\n",
       "      <th>dropoff_z</th>\n",
       "    </tr>\n",
       "  </thead>\n",
       "  <tbody>\n",
       "    <tr>\n",
       "      <th>0</th>\n",
       "      <td>2</td>\n",
       "      <td>3</td>\n",
       "      <td>5</td>\n",
       "      <td>18</td>\n",
       "      <td>3</td>\n",
       "      <td>2</td>\n",
       "      <td>123</td>\n",
       "      <td>1</td>\n",
       "      <td>1</td>\n",
       "      <td>1</td>\n",
       "      <td>1</td>\n",
       "      <td>1</td>\n",
       "      <td>1</td>\n",
       "      <td>16</td>\n",
       "      <td>27</td>\n",
       "      <td>1</td>\n",
       "      <td>1304436360</td>\n",
       "      <td>1.533036</td>\n",
       "      <td>-0.171033</td>\n",
       "      <td>-0.978731</td>\n",
       "      <td>0.113283</td>\n",
       "      <td>-0.165495</td>\n",
       "      <td>-0.981096</td>\n",
       "      <td>0.100313</td>\n",
       "    </tr>\n",
       "    <tr>\n",
       "      <th>1</th>\n",
       "      <td>1</td>\n",
       "      <td>4</td>\n",
       "      <td>10</td>\n",
       "      <td>43</td>\n",
       "      <td>23</td>\n",
       "      <td>2</td>\n",
       "      <td>297</td>\n",
       "      <td>1</td>\n",
       "      <td>1</td>\n",
       "      <td>1</td>\n",
       "      <td>1</td>\n",
       "      <td>1</td>\n",
       "      <td>1</td>\n",
       "      <td>20</td>\n",
       "      <td>1</td>\n",
       "      <td>37</td>\n",
       "      <td>1351018836</td>\n",
       "      <td>0.591442</td>\n",
       "      <td>-0.121390</td>\n",
       "      <td>-0.990794</td>\n",
       "      <td>0.059934</td>\n",
       "      <td>-0.124971</td>\n",
       "      <td>-0.990064</td>\n",
       "      <td>0.064469</td>\n",
       "    </tr>\n",
       "    <tr>\n",
       "      <th>2</th>\n",
       "      <td>1</td>\n",
       "      <td>1</td>\n",
       "      <td>9</td>\n",
       "      <td>36</td>\n",
       "      <td>2</td>\n",
       "      <td>3</td>\n",
       "      <td>245</td>\n",
       "      <td>1</td>\n",
       "      <td>1</td>\n",
       "      <td>1</td>\n",
       "      <td>1</td>\n",
       "      <td>1</td>\n",
       "      <td>1</td>\n",
       "      <td>11</td>\n",
       "      <td>37</td>\n",
       "      <td>7</td>\n",
       "      <td>1251887766</td>\n",
       "      <td>8.864132</td>\n",
       "      <td>-0.035353</td>\n",
       "      <td>-0.996811</td>\n",
       "      <td>0.071542</td>\n",
       "      <td>-0.138841</td>\n",
       "      <td>-0.986904</td>\n",
       "      <td>0.082118</td>\n",
       "    </tr>\n",
       "    <tr>\n",
       "      <th>3</th>\n",
       "      <td>2</td>\n",
       "      <td>2</td>\n",
       "      <td>8</td>\n",
       "      <td>32</td>\n",
       "      <td>14</td>\n",
       "      <td>6</td>\n",
       "      <td>226</td>\n",
       "      <td>1</td>\n",
       "      <td>1</td>\n",
       "      <td>1</td>\n",
       "      <td>1</td>\n",
       "      <td>1</td>\n",
       "      <td>1</td>\n",
       "      <td>12</td>\n",
       "      <td>49</td>\n",
       "      <td>1</td>\n",
       "      <td>1281786480</td>\n",
       "      <td>1.721953</td>\n",
       "      <td>-0.123122</td>\n",
       "      <td>-0.990687</td>\n",
       "      <td>0.058132</td>\n",
       "      <td>-0.132620</td>\n",
       "      <td>-0.988568</td>\n",
       "      <td>0.071731</td>\n",
       "    </tr>\n",
       "    <tr>\n",
       "      <th>4</th>\n",
       "      <td>1</td>\n",
       "      <td>6</td>\n",
       "      <td>12</td>\n",
       "      <td>51</td>\n",
       "      <td>15</td>\n",
       "      <td>1</td>\n",
       "      <td>349</td>\n",
       "      <td>1</td>\n",
       "      <td>1</td>\n",
       "      <td>1</td>\n",
       "      <td>1</td>\n",
       "      <td>1</td>\n",
       "      <td>1</td>\n",
       "      <td>19</td>\n",
       "      <td>36</td>\n",
       "      <td>1</td>\n",
       "      <td>1418668500</td>\n",
       "      <td>5.895549</td>\n",
       "      <td>-0.113101</td>\n",
       "      <td>-0.992974</td>\n",
       "      <td>0.034797</td>\n",
       "      <td>-0.163398</td>\n",
       "      <td>-0.984005</td>\n",
       "      <td>0.070965</td>\n",
       "    </tr>\n",
       "  </tbody>\n",
       "</table>\n",
       "</div>"
      ],
      "text/plain": [
       "   passenger_count  pickupYear  pickupMonth  pickupWeek  pickupDay  \\\n",
       "0                2           3            5          18          3   \n",
       "1                1           4           10          43         23   \n",
       "2                1           1            9          36          2   \n",
       "3                2           2            8          32         14   \n",
       "4                1           6           12          51         15   \n",
       "\n",
       "   pickupDayofweek  pickupDayofyear  pickupIs_month_end  pickupIs_month_start  \\\n",
       "0                2              123                   1                     1   \n",
       "1                2              297                   1                     1   \n",
       "2                3              245                   1                     1   \n",
       "3                6              226                   1                     1   \n",
       "4                1              349                   1                     1   \n",
       "\n",
       "   pickupIs_quarter_end  pickupIs_quarter_start  pickupIs_year_end  \\\n",
       "0                     1                       1                  1   \n",
       "1                     1                       1                  1   \n",
       "2                     1                       1                  1   \n",
       "3                     1                       1                  1   \n",
       "4                     1                       1                  1   \n",
       "\n",
       "   pickupIs_year_start  pickupHour  pickupMinute  pickupSecond  pickupElapsed  \\\n",
       "0                    1          16            27             1     1304436360   \n",
       "1                    1          20             1            37     1351018836   \n",
       "2                    1          11            37             7     1251887766   \n",
       "3                    1          12            49             1     1281786480   \n",
       "4                    1          19            36             1     1418668500   \n",
       "\n",
       "   distance_km  pickup_x  pickup_y  pickup_z  dropoff_x  dropoff_y  dropoff_z  \n",
       "0     1.533036 -0.171033 -0.978731  0.113283  -0.165495  -0.981096   0.100313  \n",
       "1     0.591442 -0.121390 -0.990794  0.059934  -0.124971  -0.990064   0.064469  \n",
       "2     8.864132 -0.035353 -0.996811  0.071542  -0.138841  -0.986904   0.082118  \n",
       "3     1.721953 -0.123122 -0.990687  0.058132  -0.132620  -0.988568   0.071731  \n",
       "4     5.895549 -0.113101 -0.992974  0.034797  -0.163398  -0.984005   0.070965  "
      ]
     },
     "execution_count": 57,
     "metadata": {},
     "output_type": "execute_result"
    }
   ],
   "source": [
    "df.head()"
   ]
  },
  {
   "cell_type": "code",
   "execution_count": 58,
   "metadata": {},
   "outputs": [
    {
     "data": {
      "text/plain": [
       "(363512, 24)"
      ]
     },
     "execution_count": 58,
     "metadata": {},
     "output_type": "execute_result"
    },
    {
     "data": {
      "text/plain": [
       "(121171, 24)"
      ]
     },
     "execution_count": 58,
     "metadata": {},
     "output_type": "execute_result"
    }
   ],
   "source": [
    "X_train, X_test, y_train, y_test = split_dataset(df, y)\n",
    "\n",
    "X_train.shape\n",
    "X_test.shape"
   ]
  },
  {
   "cell_type": "code",
   "execution_count": 59,
   "metadata": {},
   "outputs": [
    {
     "data": {
      "text/plain": [
       "passenger_count             1.000001\n",
       "pickupElapsed               1.000001\n",
       "distance_km                 1.000001\n",
       "pickup_x                    1.000001\n",
       "pickup_y                    1.000001\n",
       "pickup_z                    1.000001\n",
       "dropoff_x                   1.000001\n",
       "dropoff_y                   1.000001\n",
       "dropoff_z                   1.000001\n",
       "pickupYear                  1.858261\n",
       "pickupMonth                 3.436810\n",
       "pickupWeek                 14.946649\n",
       "pickupDay                   8.690478\n",
       "pickupDayofweek             1.947993\n",
       "pickupDayofyear           104.788634\n",
       "pickupIs_month_end          0.179348\n",
       "pickupIs_month_start        0.173505\n",
       "pickupIs_quarter_end        0.103997\n",
       "pickupIs_quarter_start      0.097096\n",
       "pickupIs_year_end           0.048667\n",
       "pickupIs_year_start         0.045496\n",
       "pickupHour                  6.522181\n",
       "pickupMinute               17.348229\n",
       "pickupSecond               19.470589\n",
       "dtype: float64"
      ]
     },
     "execution_count": 59,
     "metadata": {},
     "output_type": "execute_result"
    }
   ],
   "source": [
    "scaler = get_numf_scaler(X_train[numf])\n",
    "\n",
    "X_train_sc = scale_numf(X_train, numf, scaler)\n",
    "X_train_sc.std(axis=0)"
   ]
  },
  {
   "cell_type": "code",
   "execution_count": 60,
   "metadata": {},
   "outputs": [
    {
     "data": {
      "text/plain": [
       "(363512, 24)"
      ]
     },
     "execution_count": 60,
     "metadata": {},
     "output_type": "execute_result"
    },
    {
     "data": {
      "text/plain": [
       "(121171, 24)"
      ]
     },
     "execution_count": 60,
     "metadata": {},
     "output_type": "execute_result"
    },
    {
     "data": {
      "text/plain": [
       "passenger_count             1.006816\n",
       "pickupElapsed               1.000739\n",
       "distance_km                 0.988469\n",
       "pickup_x                    1.013468\n",
       "pickup_y                    1.010060\n",
       "pickup_z                    1.019242\n",
       "dropoff_x                   1.013577\n",
       "dropoff_y                   1.018704\n",
       "dropoff_z                   1.015039\n",
       "pickupYear                  1.856634\n",
       "pickupMonth                 3.432598\n",
       "pickupWeek                 14.933661\n",
       "pickupDay                   8.675402\n",
       "pickupDayofweek             1.947563\n",
       "pickupDayofyear           104.688464\n",
       "pickupIs_month_end          0.178537\n",
       "pickupIs_month_start        0.174624\n",
       "pickupIs_quarter_end        0.104462\n",
       "pickupIs_quarter_start      0.099185\n",
       "pickupIs_year_end           0.048186\n",
       "pickupIs_year_start         0.048015\n",
       "pickupHour                  6.538130\n",
       "pickupMinute               17.352221\n",
       "pickupSecond               19.455341\n",
       "dtype: float64"
      ]
     },
     "execution_count": 60,
     "metadata": {},
     "output_type": "execute_result"
    }
   ],
   "source": [
    "X_test_sc = scale_numf(X_test, numf, scaler)\n",
    "\n",
    "X_train_sc.shape\n",
    "X_test_sc.shape\n",
    "X_test_sc.std(axis=0)"
   ]
  },
  {
   "cell_type": "markdown",
   "metadata": {},
   "source": [
    "## Defining pytorch datasets and dataloaders"
   ]
  },
  {
   "cell_type": "code",
   "execution_count": 61,
   "metadata": {},
   "outputs": [],
   "source": [
    "trainds = RegressionColumnarDataset(X_train_sc, catf, y_train)\n",
    "valds = RegressionColumnarDataset(X_test_sc, catf, y_test)"
   ]
  },
  {
   "cell_type": "code",
   "execution_count": 62,
   "metadata": {},
   "outputs": [],
   "source": [
    "params = {'batch_size': 128,\n",
    "          'shuffle': True,\n",
    "          'num_workers': 8}\n",
    "\n",
    "traindl = data.DataLoader(trainds, **params)\n",
    "valdl = data.DataLoader(valds, **params)"
   ]
  },
  {
   "cell_type": "markdown",
   "metadata": {},
   "source": [
    "## Defining model and related variables"
   ]
  },
  {
   "cell_type": "code",
   "execution_count": 63,
   "metadata": {},
   "outputs": [
    {
     "data": {
      "text/plain": [
       "(0, 4.764123859805604)"
      ]
     },
     "execution_count": 63,
     "metadata": {},
     "output_type": "execute_result"
    },
    {
     "data": {
      "text/plain": [
       "[('pickupYear', 8),\n",
       " ('pickupMonth', 13),\n",
       " ('pickupWeek', 54),\n",
       " ('pickupDay', 32),\n",
       " ('pickupDayofweek', 8),\n",
       " ('pickupDayofyear', 367),\n",
       " ('pickupHour', 25),\n",
       " ('pickupMinute', 61),\n",
       " ('pickupSecond', 61),\n",
       " ('pickupIs_month_end', 3),\n",
       " ('pickupIs_month_start', 3),\n",
       " ('pickupIs_quarter_end', 3),\n",
       " ('pickupIs_quarter_start', 3),\n",
       " ('pickupIs_year_end', 3),\n",
       " ('pickupIs_year_start', 3)]"
      ]
     },
     "execution_count": 63,
     "metadata": {},
     "output_type": "execute_result"
    },
    {
     "data": {
      "text/plain": [
       "[(8, 4),\n",
       " (13, 7),\n",
       " (54, 27),\n",
       " (32, 16),\n",
       " (8, 4),\n",
       " (367, 50),\n",
       " (25, 13),\n",
       " (61, 31),\n",
       " (61, 31),\n",
       " (3, 2),\n",
       " (3, 2),\n",
       " (3, 2),\n",
       " (3, 2),\n",
       " (3, 2),\n",
       " (3, 2)]"
      ]
     },
     "execution_count": 63,
     "metadata": {},
     "output_type": "execute_result"
    }
   ],
   "source": [
    "y_range = (0, y_train.max()*1.2)\n",
    "y_range\n",
    "\n",
    "cat_sz = [(c, df[c].max()+1) for c in catf]\n",
    "cat_sz\n",
    "\n",
    "emb_szs = [(c, min(50, (c+1)//2)) for _,c in cat_sz]\n",
    "emb_szs"
   ]
  },
  {
   "cell_type": "code",
   "execution_count": 71,
   "metadata": {},
   "outputs": [],
   "source": [
    "m = MixedInputModel(emb_szs=emb_szs, \n",
    "                    n_cont=len(df.columns)-len(catf), \n",
    "                    emb_drop=0.04, \n",
    "                    out_sz=1, \n",
    "                    szs=[1000,500,250], \n",
    "                    drops=[0.001,0.01,0.01], \n",
    "                    y_range=y_range).to(device)\n",
    "\n",
    "opt = optim.Adam(m.parameters(), 1e-2)\n",
    "lr_cosine = lr_scheduler.CosineAnnealingLR(opt, 1000)\n",
    "\n",
    "lr = defaultdict(list)\n",
    "tloss = defaultdict(list)\n",
    "vloss = defaultdict(list)"
   ]
  },
  {
   "cell_type": "code",
   "execution_count": 73,
   "metadata": {},
   "outputs": [
    {
     "data": {
      "text/plain": [
       "MixedInputModel(\n",
       "  (embs): ModuleList(\n",
       "    (0): Embedding(8, 4)\n",
       "    (1): Embedding(13, 7)\n",
       "    (2): Embedding(54, 27)\n",
       "    (3): Embedding(32, 16)\n",
       "    (4): Embedding(8, 4)\n",
       "    (5): Embedding(367, 50)\n",
       "    (6): Embedding(25, 13)\n",
       "    (7): Embedding(61, 31)\n",
       "    (8): Embedding(61, 31)\n",
       "    (9): Embedding(3, 2)\n",
       "    (10): Embedding(3, 2)\n",
       "    (11): Embedding(3, 2)\n",
       "    (12): Embedding(3, 2)\n",
       "    (13): Embedding(3, 2)\n",
       "    (14): Embedding(3, 2)\n",
       "  )\n",
       "  (lins): ModuleList(\n",
       "    (0): Linear(in_features=204, out_features=1000, bias=True)\n",
       "    (1): Linear(in_features=1000, out_features=500, bias=True)\n",
       "    (2): Linear(in_features=500, out_features=250, bias=True)\n",
       "  )\n",
       "  (bns): ModuleList(\n",
       "    (0): BatchNorm1d(1000, eps=1e-05, momentum=0.1, affine=True, track_running_stats=True)\n",
       "    (1): BatchNorm1d(500, eps=1e-05, momentum=0.1, affine=True, track_running_stats=True)\n",
       "    (2): BatchNorm1d(250, eps=1e-05, momentum=0.1, affine=True, track_running_stats=True)\n",
       "  )\n",
       "  (outp): Linear(in_features=250, out_features=1, bias=True)\n",
       "  (emb_drop): Dropout(p=0.04)\n",
       "  (drops): ModuleList(\n",
       "    (0): Dropout(p=0.001)\n",
       "    (1): Dropout(p=0.01)\n",
       "    (2): Dropout(p=0.01)\n",
       "  )\n",
       "  (bn): BatchNorm1d(9, eps=1e-05, momentum=0.1, affine=True, track_running_stats=True)\n",
       ")"
      ]
     },
     "execution_count": 73,
     "metadata": {},
     "output_type": "execute_result"
    }
   ],
   "source": [
    "m"
   ]
  },
  {
   "cell_type": "markdown",
   "metadata": {},
   "source": [
    "## Training the model"
   ]
  },
  {
   "cell_type": "code",
   "execution_count": 72,
   "metadata": {},
   "outputs": [
    {
     "data": {
      "application/vnd.jupyter.widget-view+json": {
       "model_id": "152c6c550bc441e49596fe3665549774",
       "version_major": 2,
       "version_minor": 0
      },
      "text/plain": [
       "HBox(children=(IntProgress(value=0, max=10), HTML(value='')))"
      ]
     },
     "metadata": {},
     "output_type": "display_data"
    },
    {
     "data": {
      "application/vnd.jupyter.widget-view+json": {
       "model_id": "",
       "version_major": 2,
       "version_minor": 0
      },
      "text/plain": [
       "HBox(children=(IntProgress(value=0, max=2840), HTML(value='')))"
      ]
     },
     "metadata": {},
     "output_type": "display_data"
    },
    {
     "data": {
      "application/vnd.jupyter.widget-view+json": {
       "model_id": "",
       "version_major": 2,
       "version_minor": 0
      },
      "text/plain": [
       "HBox(children=(IntProgress(value=0, max=947), HTML(value='')))"
      ]
     },
     "metadata": {},
     "output_type": "display_data"
    },
    {
     "name": "stdout",
     "output_type": "stream",
     "text": [
      "Epoch 0: train_loss: 0.1089 train_rmse: 4.9967 | val_loss: 0.0776 val_rmse: 3.7885\n"
     ]
    },
    {
     "data": {
      "application/vnd.jupyter.widget-view+json": {
       "model_id": "",
       "version_major": 2,
       "version_minor": 0
      },
      "text/plain": [
       "HBox(children=(IntProgress(value=0, max=2840), HTML(value='')))"
      ]
     },
     "metadata": {},
     "output_type": "display_data"
    },
    {
     "data": {
      "application/vnd.jupyter.widget-view+json": {
       "model_id": "",
       "version_major": 2,
       "version_minor": 0
      },
      "text/plain": [
       "HBox(children=(IntProgress(value=0, max=947), HTML(value='')))"
      ]
     },
     "metadata": {},
     "output_type": "display_data"
    },
    {
     "name": "stdout",
     "output_type": "stream",
     "text": [
      "Epoch 1: train_loss: 0.0809 train_rmse: 3.9345 | val_loss: 0.0834 val_rmse: 4.1290\n"
     ]
    },
    {
     "data": {
      "application/vnd.jupyter.widget-view+json": {
       "model_id": "",
       "version_major": 2,
       "version_minor": 0
      },
      "text/plain": [
       "HBox(children=(IntProgress(value=0, max=2840), HTML(value='')))"
      ]
     },
     "metadata": {},
     "output_type": "display_data"
    },
    {
     "data": {
      "application/vnd.jupyter.widget-view+json": {
       "model_id": "",
       "version_major": 2,
       "version_minor": 0
      },
      "text/plain": [
       "HBox(children=(IntProgress(value=0, max=947), HTML(value='')))"
      ]
     },
     "metadata": {},
     "output_type": "display_data"
    },
    {
     "name": "stdout",
     "output_type": "stream",
     "text": [
      "Epoch 2: train_loss: 0.0797 train_rmse: 3.9126 | val_loss: 0.0816 val_rmse: 4.0031\n"
     ]
    },
    {
     "data": {
      "application/vnd.jupyter.widget-view+json": {
       "model_id": "",
       "version_major": 2,
       "version_minor": 0
      },
      "text/plain": [
       "HBox(children=(IntProgress(value=0, max=2840), HTML(value='')))"
      ]
     },
     "metadata": {},
     "output_type": "display_data"
    },
    {
     "data": {
      "application/vnd.jupyter.widget-view+json": {
       "model_id": "",
       "version_major": 2,
       "version_minor": 0
      },
      "text/plain": [
       "HBox(children=(IntProgress(value=0, max=947), HTML(value='')))"
      ]
     },
     "metadata": {},
     "output_type": "display_data"
    },
    {
     "name": "stdout",
     "output_type": "stream",
     "text": [
      "Epoch 3: train_loss: 0.0757 train_rmse: 3.8032 | val_loss: 0.0722 val_rmse: 3.6962\n"
     ]
    },
    {
     "data": {
      "application/vnd.jupyter.widget-view+json": {
       "model_id": "",
       "version_major": 2,
       "version_minor": 0
      },
      "text/plain": [
       "HBox(children=(IntProgress(value=0, max=2840), HTML(value='')))"
      ]
     },
     "metadata": {},
     "output_type": "display_data"
    },
    {
     "data": {
      "application/vnd.jupyter.widget-view+json": {
       "model_id": "",
       "version_major": 2,
       "version_minor": 0
      },
      "text/plain": [
       "HBox(children=(IntProgress(value=0, max=947), HTML(value='')))"
      ]
     },
     "metadata": {},
     "output_type": "display_data"
    },
    {
     "name": "stdout",
     "output_type": "stream",
     "text": [
      "Epoch 4: train_loss: 0.0773 train_rmse: 3.8475 | val_loss: 0.0759 val_rmse: 3.8195\n"
     ]
    },
    {
     "data": {
      "application/vnd.jupyter.widget-view+json": {
       "model_id": "",
       "version_major": 2,
       "version_minor": 0
      },
      "text/plain": [
       "HBox(children=(IntProgress(value=0, max=2840), HTML(value='')))"
      ]
     },
     "metadata": {},
     "output_type": "display_data"
    },
    {
     "data": {
      "application/vnd.jupyter.widget-view+json": {
       "model_id": "",
       "version_major": 2,
       "version_minor": 0
      },
      "text/plain": [
       "HBox(children=(IntProgress(value=0, max=947), HTML(value='')))"
      ]
     },
     "metadata": {},
     "output_type": "display_data"
    },
    {
     "name": "stdout",
     "output_type": "stream",
     "text": [
      "Epoch 5: train_loss: 0.0756 train_rmse: 3.7964 | val_loss: 0.0725 val_rmse: 3.6824\n"
     ]
    },
    {
     "data": {
      "application/vnd.jupyter.widget-view+json": {
       "model_id": "",
       "version_major": 2,
       "version_minor": 0
      },
      "text/plain": [
       "HBox(children=(IntProgress(value=0, max=2840), HTML(value='')))"
      ]
     },
     "metadata": {},
     "output_type": "display_data"
    },
    {
     "data": {
      "application/vnd.jupyter.widget-view+json": {
       "model_id": "",
       "version_major": 2,
       "version_minor": 0
      },
      "text/plain": [
       "HBox(children=(IntProgress(value=0, max=947), HTML(value='')))"
      ]
     },
     "metadata": {},
     "output_type": "display_data"
    },
    {
     "name": "stdout",
     "output_type": "stream",
     "text": [
      "Epoch 6: train_loss: 0.0742 train_rmse: 3.7527 | val_loss: 0.0761 val_rmse: 3.8546\n"
     ]
    },
    {
     "data": {
      "application/vnd.jupyter.widget-view+json": {
       "model_id": "",
       "version_major": 2,
       "version_minor": 0
      },
      "text/plain": [
       "HBox(children=(IntProgress(value=0, max=2840), HTML(value='')))"
      ]
     },
     "metadata": {},
     "output_type": "display_data"
    },
    {
     "data": {
      "application/vnd.jupyter.widget-view+json": {
       "model_id": "",
       "version_major": 2,
       "version_minor": 0
      },
      "text/plain": [
       "HBox(children=(IntProgress(value=0, max=947), HTML(value='')))"
      ]
     },
     "metadata": {},
     "output_type": "display_data"
    },
    {
     "name": "stdout",
     "output_type": "stream",
     "text": [
      "Epoch 7: train_loss: 0.0732 train_rmse: 3.7344 | val_loss: 0.0697 val_rmse: 3.6318\n"
     ]
    },
    {
     "data": {
      "application/vnd.jupyter.widget-view+json": {
       "model_id": "",
       "version_major": 2,
       "version_minor": 0
      },
      "text/plain": [
       "HBox(children=(IntProgress(value=0, max=2840), HTML(value='')))"
      ]
     },
     "metadata": {},
     "output_type": "display_data"
    },
    {
     "data": {
      "application/vnd.jupyter.widget-view+json": {
       "model_id": "",
       "version_major": 2,
       "version_minor": 0
      },
      "text/plain": [
       "HBox(children=(IntProgress(value=0, max=947), HTML(value='')))"
      ]
     },
     "metadata": {},
     "output_type": "display_data"
    },
    {
     "name": "stdout",
     "output_type": "stream",
     "text": [
      "Epoch 8: train_loss: 0.0723 train_rmse: 3.7142 | val_loss: 0.0722 val_rmse: 3.7007\n"
     ]
    },
    {
     "data": {
      "application/vnd.jupyter.widget-view+json": {
       "model_id": "",
       "version_major": 2,
       "version_minor": 0
      },
      "text/plain": [
       "HBox(children=(IntProgress(value=0, max=2840), HTML(value='')))"
      ]
     },
     "metadata": {},
     "output_type": "display_data"
    },
    {
     "data": {
      "application/vnd.jupyter.widget-view+json": {
       "model_id": "",
       "version_major": 2,
       "version_minor": 0
      },
      "text/plain": [
       "HBox(children=(IntProgress(value=0, max=947), HTML(value='')))"
      ]
     },
     "metadata": {},
     "output_type": "display_data"
    },
    {
     "name": "stdout",
     "output_type": "stream",
     "text": [
      "Epoch 9: train_loss: 0.0747 train_rmse: 3.7806 | val_loss: 0.0737 val_rmse: 3.7287\n",
      "\n"
     ]
    }
   ],
   "source": [
    "lr, tloss, vloss = fit(model=m, train_dl=traindl, val_dl=valdl, loss_fn=F.mse_loss, opt=opt, scheduler=lr_cosine, epochs=10)"
   ]
  },
  {
   "cell_type": "code",
   "execution_count": 105,
   "metadata": {},
   "outputs": [
    {
     "data": {
      "image/png": "[encoded data removed]",
      "text/plain": [
       "<Figure size 576x432 with 1 Axes>"
      ]
     },
     "metadata": {},
     "output_type": "display_data"
    }
   ],
   "source": [
    "_ = plt.plot(lr[0])\n",
    "_ = plt.title('Learning Rate Cosine Annealing over Train Batches Iterations (Epoch 0)')"
   ]
  },
  {
   "cell_type": "code",
   "execution_count": 107,
   "metadata": {},
   "outputs": [
    {
     "data": {
      "image/png": "[encoded data removed]",
      "text/plain": [
       "<Figure size 576x432 with 1 Axes>"
      ]
     },
     "metadata": {},
     "output_type": "display_data"
    }
   ],
   "source": [
    "t = [np.mean(tloss[el]) for el in tloss]\n",
    "v = [np.mean(vloss[el]) for el in vloss]\n",
    "p = pd.DataFrame({'Train Loss': t, 'Validation Loss': v, 'Epochs': range(10)})\n",
    "\n",
    "_ = p.plot(x='Epochs', y=['Train Loss', 'Validation Loss'], \n",
    "           title='Train and Validation Loss over Epochs')"
   ]
  }
 ],
 "metadata": {
  "kernelspec": {
   "display_name": "Python 3",
   "language": "python",
   "name": "python3"
  },
  "language_info": {
   "codemirror_mode": {
    "name": "ipython",
    "version": 3
   },
   "file_extension": ".py",
   "mimetype": "text/x-python",
   "name": "python",
   "nbconvert_exporter": "python",
   "pygments_lexer": "ipython3",
   "version": "3.6.6"
  }
 },
 "nbformat": 4,
 "nbformat_minor": 2
}
