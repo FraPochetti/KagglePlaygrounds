{
 "cells": [
  {
   "cell_type": "markdown",
   "metadata": {},
   "source": [
    "## ROC AUC calculation in sklearn: the trick is to one-hot encode the targets"
   ]
  },
  {
   "cell_type": "code",
   "execution_count": 3,
   "metadata": {
    "ExecuteTime": {
     "end_time": "2020-05-05T06:15:19.602419Z",
     "start_time": "2020-05-05T06:15:19.597318Z"
    }
   },
   "outputs": [],
   "source": [
    "import numpy as np\n",
    "np.random.seed(0)\n",
    "\n",
    "from sklearn import datasets\n",
    "from sklearn.ensemble import RandomForestClassifier\n",
    "from sklearn import metrics as skm"
   ]
  },
  {
   "cell_type": "code",
   "execution_count": 57,
   "metadata": {
    "ExecuteTime": {
     "end_time": "2020-05-05T06:29:12.401263Z",
     "start_time": "2020-05-05T06:29:12.395267Z"
    }
   },
   "outputs": [],
   "source": [
    "def sklearn_one_hot(a):\n",
    "    b = np.zeros((a.size, a.max()+1))\n",
    "    b[np.arange(a.size),a] = 1\n",
    "    return b\n",
    "\n",
    "def make_multi_label():\n",
    "    _, y1 = datasets.make_classification(n_classes=5, n_samples=10000, n_features=20, n_informative=5, n_redundant=2)\n",
    "    X, y2 = datasets.make_classification(n_classes=5, n_samples=10000, n_features=20, n_informative=5, n_redundant=2)\n",
    "    return X, (sklearn_one_hot(y1) + sklearn_one_hot(y2)).clip(max=1.)"
   ]
  },
  {
   "cell_type": "markdown",
   "metadata": {},
   "source": [
    "### Binary case"
   ]
  },
  {
   "cell_type": "code",
   "execution_count": 17,
   "metadata": {
    "ExecuteTime": {
     "end_time": "2020-05-05T06:18:26.234491Z",
     "start_time": "2020-05-05T06:18:26.203004Z"
    }
   },
   "outputs": [
    {
     "data": {
      "text/plain": [
       "((10000, 20), (10000,))"
      ]
     },
     "execution_count": 17,
     "metadata": {},
     "output_type": "execute_result"
    }
   ],
   "source": [
    "X, y = datasets.make_classification(n_classes=2, n_samples=10000, n_features=20, n_informative=2, n_redundant=2)\n",
    "X.shape, y.shape"
   ]
  },
  {
   "cell_type": "code",
   "execution_count": 26,
   "metadata": {
    "ExecuteTime": {
     "end_time": "2020-05-05T06:18:58.186771Z",
     "start_time": "2020-05-05T06:18:56.441420Z"
    }
   },
   "outputs": [],
   "source": [
    "clf = RandomForestClassifier(min_samples_leaf=100)\n",
    "clf.fit(X, y);"
   ]
  },
  {
   "cell_type": "code",
   "execution_count": 27,
   "metadata": {
    "ExecuteTime": {
     "end_time": "2020-05-05T06:18:58.277526Z",
     "start_time": "2020-05-05T06:18:58.188526Z"
    }
   },
   "outputs": [
    {
     "data": {
      "text/plain": [
       "((10000, 2), (10000,), (10000, 2))"
      ]
     },
     "execution_count": 27,
     "metadata": {},
     "output_type": "execute_result"
    }
   ],
   "source": [
    "probas, targets = clf.predict_proba(X), y\n",
    "probas.shape, targets.shape, sklearn_one_hot(targets).shape"
   ]
  },
  {
   "cell_type": "code",
   "execution_count": 28,
   "metadata": {
    "ExecuteTime": {
     "end_time": "2020-05-05T06:18:58.286554Z",
     "start_time": "2020-05-05T06:18:58.278554Z"
    }
   },
   "outputs": [
    {
     "data": {
      "text/plain": [
       "(array([[0., 1.],\n",
       "        [1., 0.],\n",
       "        [1., 0.],\n",
       "        [0., 1.],\n",
       "        [1., 0.]]),\n",
       " array([1, 0, 0, 1, 0]))"
      ]
     },
     "execution_count": 28,
     "metadata": {},
     "output_type": "execute_result"
    }
   ],
   "source": [
    "sklearn_one_hot(targets)[:5], targets[:5]"
   ]
  },
  {
   "cell_type": "code",
   "execution_count": 29,
   "metadata": {
    "ExecuteTime": {
     "end_time": "2020-05-05T06:18:58.388834Z",
     "start_time": "2020-05-05T06:18:58.377794Z"
    }
   },
   "outputs": [
    {
     "data": {
      "text/plain": [
       "0.9850665050665051"
      ]
     },
     "execution_count": 29,
     "metadata": {},
     "output_type": "execute_result"
    }
   ],
   "source": [
    "skm.roc_auc_score(sklearn_one_hot(targets), probas)"
   ]
  },
  {
   "cell_type": "markdown",
   "metadata": {},
   "source": [
    "### Multi-class case"
   ]
  },
  {
   "cell_type": "code",
   "execution_count": 88,
   "metadata": {
    "ExecuteTime": {
     "end_time": "2020-05-05T08:44:27.954913Z",
     "start_time": "2020-05-05T08:44:27.910871Z"
    }
   },
   "outputs": [
    {
     "data": {
      "text/plain": [
       "((10000, 20), (10000,))"
      ]
     },
     "execution_count": 88,
     "metadata": {},
     "output_type": "execute_result"
    }
   ],
   "source": [
    "X, y = datasets.make_classification(n_classes=5, n_samples=10000, n_features=20, n_informative=5, n_redundant=2)\n",
    "X.shape, y.shape"
   ]
  },
  {
   "cell_type": "code",
   "execution_count": 89,
   "metadata": {
    "ExecuteTime": {
     "end_time": "2020-05-05T08:44:31.135535Z",
     "start_time": "2020-05-05T08:44:29.558349Z"
    }
   },
   "outputs": [],
   "source": [
    "clf = RandomForestClassifier(min_samples_leaf=100)\n",
    "clf.fit(X, y);"
   ]
  },
  {
   "cell_type": "code",
   "execution_count": 90,
   "metadata": {
    "ExecuteTime": {
     "end_time": "2020-05-05T08:44:36.492017Z",
     "start_time": "2020-05-05T08:44:36.388028Z"
    }
   },
   "outputs": [
    {
     "data": {
      "text/plain": [
       "((10000, 5), (10000,), (10000, 5))"
      ]
     },
     "execution_count": 90,
     "metadata": {},
     "output_type": "execute_result"
    }
   ],
   "source": [
    "probas, targets = clf.predict_proba(X), y\n",
    "probas.shape, targets.shape, sklearn_one_hot(targets).shape"
   ]
  },
  {
   "cell_type": "code",
   "execution_count": 91,
   "metadata": {
    "ExecuteTime": {
     "end_time": "2020-05-05T08:44:37.522178Z",
     "start_time": "2020-05-05T08:44:37.512186Z"
    }
   },
   "outputs": [
    {
     "data": {
      "text/plain": [
       "(array([[0., 0., 0., 0., 1.],\n",
       "        [0., 0., 1., 0., 0.],\n",
       "        [0., 1., 0., 0., 0.],\n",
       "        [0., 0., 0., 1., 0.],\n",
       "        [0., 0., 1., 0., 0.]]),\n",
       " array([4, 2, 1, 3, 2]))"
      ]
     },
     "execution_count": 91,
     "metadata": {},
     "output_type": "execute_result"
    }
   ],
   "source": [
    "sklearn_one_hot(targets)[:5], targets[:5]"
   ]
  },
  {
   "cell_type": "code",
   "execution_count": 97,
   "metadata": {
    "ExecuteTime": {
     "end_time": "2020-05-05T08:45:32.182521Z",
     "start_time": "2020-05-05T08:45:32.155491Z"
    }
   },
   "outputs": [
    {
     "data": {
      "text/plain": [
       "0.9290266500562648"
      ]
     },
     "execution_count": 97,
     "metadata": {},
     "output_type": "execute_result"
    }
   ],
   "source": [
    "skm.roc_auc_score(sklearn_one_hot(targets), probas)"
   ]
  },
  {
   "cell_type": "code",
   "execution_count": 98,
   "metadata": {
    "ExecuteTime": {
     "end_time": "2020-05-05T08:45:32.753894Z",
     "start_time": "2020-05-05T08:45:32.729902Z"
    }
   },
   "outputs": [
    {
     "data": {
      "text/plain": [
       "0.9290266500562648"
      ]
     },
     "execution_count": 98,
     "metadata": {},
     "output_type": "execute_result"
    }
   ],
   "source": [
    "skm.roc_auc_score(targets, probas, multi_class='ovr')"
   ]
  },
  {
   "cell_type": "code",
   "execution_count": 100,
   "metadata": {
    "ExecuteTime": {
     "end_time": "2020-05-05T08:45:59.703080Z",
     "start_time": "2020-05-05T08:45:59.670082Z"
    }
   },
   "outputs": [
    {
     "data": {
      "text/plain": [
       "0.9290257127202818"
      ]
     },
     "execution_count": 100,
     "metadata": {},
     "output_type": "execute_result"
    }
   ],
   "source": [
    "skm.roc_auc_score(targets, probas, multi_class='ovo')"
   ]
  },
  {
   "cell_type": "markdown",
   "metadata": {},
   "source": [
    "### Multi-label multi-class case"
   ]
  },
  {
   "cell_type": "code",
   "execution_count": 58,
   "metadata": {
    "ExecuteTime": {
     "end_time": "2020-05-05T06:29:26.101361Z",
     "start_time": "2020-05-05T06:29:26.071300Z"
    }
   },
   "outputs": [
    {
     "data": {
      "text/plain": [
       "((10000, 20), (10000, 5))"
      ]
     },
     "execution_count": 58,
     "metadata": {},
     "output_type": "execute_result"
    }
   ],
   "source": [
    "X, y = make_multi_label()\n",
    "X.shape, y.shape"
   ]
  },
  {
   "cell_type": "code",
   "execution_count": 59,
   "metadata": {
    "ExecuteTime": {
     "end_time": "2020-05-05T06:29:45.497760Z",
     "start_time": "2020-05-05T06:29:43.306573Z"
    }
   },
   "outputs": [],
   "source": [
    "clf = RandomForestClassifier(min_samples_leaf=100)\n",
    "clf.fit(X, y);"
   ]
  },
  {
   "cell_type": "code",
   "execution_count": 83,
   "metadata": {
    "ExecuteTime": {
     "end_time": "2020-05-05T06:38:34.547944Z",
     "start_time": "2020-05-05T06:38:34.289954Z"
    }
   },
   "outputs": [
    {
     "data": {
      "text/plain": [
       "((10000, 5), (10000, 5))"
      ]
     },
     "execution_count": 83,
     "metadata": {},
     "output_type": "execute_result"
    }
   ],
   "source": [
    "probas, targets = clf.predict_proba(X), y\n",
    "\n",
    "probas = [proba[:,1] for proba in probas]\n",
    "probas = np.vstack(p_).T\n",
    "\n",
    "probas.shape, targets.shape"
   ]
  },
  {
   "cell_type": "code",
   "execution_count": 86,
   "metadata": {
    "ExecuteTime": {
     "end_time": "2020-05-05T06:39:15.539252Z",
     "start_time": "2020-05-05T06:39:15.535253Z"
    }
   },
   "outputs": [
    {
     "data": {
      "text/plain": [
       "array([[0., 1., 1., 0., 0.],\n",
       "       [0., 1., 0., 0., 1.],\n",
       "       [0., 0., 1., 0., 1.],\n",
       "       [0., 1., 0., 1., 0.],\n",
       "       [0., 1., 0., 1., 0.]])"
      ]
     },
     "execution_count": 86,
     "metadata": {},
     "output_type": "execute_result"
    }
   ],
   "source": [
    "targets[:5]"
   ]
  },
  {
   "cell_type": "code",
   "execution_count": 87,
   "metadata": {
    "ExecuteTime": {
     "end_time": "2020-05-05T06:39:34.536411Z",
     "start_time": "2020-05-05T06:39:34.513412Z"
    }
   },
   "outputs": [
    {
     "data": {
      "text/plain": [
       "0.7556312398744894"
      ]
     },
     "execution_count": 87,
     "metadata": {},
     "output_type": "execute_result"
    }
   ],
   "source": [
    "skm.roc_auc_score(targets, probas)"
   ]
  },
  {
   "cell_type": "markdown",
   "metadata": {},
   "source": [
    "## Proposal to fix [RocAuc](http://dev.fast.ai/metrics#RocAuc) in fast.ai "
   ]
  },
  {
   "cell_type": "markdown",
   "metadata": {},
   "source": [
    "* **Binary case**:\n",
    "    * `targets`: one-hot-encode, shape = `(n_samples, 2)` \n",
    "    * `preds`: pass through **sigmoid**, shape = `(n_samples, 2)`\n",
    "    \n",
    "    \n",
    "* **Multi-class case**:\n",
    "    * `targets`: one-hot-encode, shape = `(n_samples, n_classes)` \n",
    "    * `preds`: pass through **softmax**, shape = `(n_samples, n_classes)`\n",
    "    \n",
    "    \n",
    "* **Multi-label Multi-class case**:\n",
    "    * `targets`: one-hot-encode, shape = `(n_samples, n_classes)` \n",
    "    * `preds`: pass through **sigmoid**, shape = `(n_samples, n_classes)`"
   ]
  }
 ],
 "metadata": {
  "_draft": {
   "nbviewer_url": "https://gist.github.com/442a92c9e85344d70b8b881a63ca2698"
  },
  "gist": {
   "data": {
    "description": "sklearn_roc_fastai.ipynb",
    "public": true
   },
   "id": "442a92c9e85344d70b8b881a63ca2698"
  },
  "kernelspec": {
   "display_name": "Python 3.7.7 64-bit ('fastai2': conda)",
   "language": "python",
   "name": "python37764bitfastai2condac60b01d20a1a4dae88d7c55032c27b88"
  },
  "language_info": {
   "codemirror_mode": {
    "name": "ipython",
    "version": 3
   },
   "file_extension": ".py",
   "mimetype": "text/x-python",
   "name": "python",
   "nbconvert_exporter": "python",
   "pygments_lexer": "ipython3",
   "version": "3.7.7"
  }
 },
 "nbformat": 4,
 "nbformat_minor": 2
}
